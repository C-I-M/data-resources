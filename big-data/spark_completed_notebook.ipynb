{
 "cells": [
  {
   "cell_type": "markdown",
   "metadata": {},
   "source": [
    "# Introduction to Spark\n",
    "Spark is a computing framework for handling and analysing big data -- like Hadoop. However whilst with Hadoop, all MapReduce operations are done to and from disk, Spark does everything in-memory. This makes Hadoop great for (slow) batch processing, and Spark more optimised for faster, or even real-time analyisis.\n",
    "\n",
    "More than anything else, the goal from this notebook is to understand how we would use Spark if we so wished to, be it in a professional or personal context. Since it's a massive framework with a multitude of functionalities, this will only cover the building blocks of Spark, the basics of reading and transforming data, and making predictions (and evaluating those predictions) using the PySpark ML module.\n",
    "\n",
    "<br>\n",
    "\n",
    "<u>**Note**</u> <i>Spark itself, and therefore coding in Spark is above and beyond the BCS and EMC curricula. To reiterate the above, this is all extra material that only serves to give us a flavour of how Spark (in Python) would work if we wished to apply it.</i> "
   ]
  },
  {
   "cell_type": "markdown",
   "metadata": {},
   "source": [
    "### Business problem\n",
    "We will attempt to go through the data pipeline by addressing a churn prediction problem: we've been asked by a marketing agency to predict their customer churn so they could pre-empt with appropriate action. "
   ]
  },
  {
   "cell_type": "markdown",
   "metadata": {},
   "source": [
    "## Libraries\n",
    "First, let's import the necessary libraries. Today, all we'll really be needing is `pyspark`, which is Spark's API in python. We also import pandas though in case we want at any point to convert our Spark dataframe into the more familiar pandas equivalent. "
   ]
  },
  {
   "cell_type": "code",
   "execution_count": 1,
   "metadata": {},
   "outputs": [],
   "source": [
    "# Pandas for manipulation, transformation, and conversion from Spark dataframe to pandas if we so wish\n",
    "import pandas as pd \n",
    "\n",
    "# Spark API -- can be used for data reading, transformation, machine learning, SQL and streaming at scale.  \n",
    "import pyspark"
   ]
  },
  {
   "cell_type": "markdown",
   "metadata": {},
   "source": [
    "## Initiating SparkSession\n",
    "\n",
    "In order to use Spark -- in pyton or otherwise -- we need to first set up a 'session' or a connection. "
   ]
  },
  {
   "cell_type": "code",
   "execution_count": 2,
   "metadata": {
    "scrolled": true
   },
   "outputs": [],
   "source": [
    "# Initiating a 'sparksession' or a connection to our spark cluster\n",
    "spark = pyspark.sql.SparkSession.builder.master('local[*]').appName('customer_churn').getOrCreate()\n",
    "\n",
    "# Conventionally, we'd call the connection, 'spark'"
   ]
  },
  {
   "cell_type": "markdown",
   "metadata": {},
   "source": [
    "Notes from the above line:\n",
    "\n",
    "- We build the SparkSession from the `sql` module from Pyspark.\n",
    "- In `master()` we specify the cluster we're connecting to -- could be a URL for example for a remote cluster. In this case, however, we'll stick to running Spark locally. To do this we specify _local_, and we then put __*__ within square brackets to tell it that we want to use all the cores in our computer. We could have instead said _local[2]_ for instance to tell it to use only 2 cores.\n",
    "- With `appName()` we give our Spark App an arbitrary name in case we need to call on it later. \n",
    "- Finally with `getOrCreate()` we tell Pyspark to create this app with the minimal configurations we've set (there are many more parameters we could have tweaked, but for now, we're happy with the above). "
   ]
  },
  {
   "cell_type": "code",
   "execution_count": 3,
   "metadata": {},
   "outputs": [
    {
     "data": {
      "text/html": [
       "\n",
       "            <div>\n",
       "                <p><b>SparkSession - in-memory</b></p>\n",
       "                \n",
       "        <div>\n",
       "            <p><b>SparkContext</b></p>\n",
       "\n",
       "            <p><a href=\"http://10.52.130.244:4040\">Spark UI</a></p>\n",
       "\n",
       "            <dl>\n",
       "              <dt>Version</dt>\n",
       "                <dd><code>v2.4.4</code></dd>\n",
       "              <dt>Master</dt>\n",
       "                <dd><code>local[*]</code></dd>\n",
       "              <dt>AppName</dt>\n",
       "                <dd><code>customer_churn</code></dd>\n",
       "            </dl>\n",
       "        </div>\n",
       "        \n",
       "            </div>\n",
       "        "
      ],
      "text/plain": [
       "<pyspark.sql.session.SparkSession at 0x113886668>"
      ]
     },
     "execution_count": 3,
     "metadata": {},
     "output_type": "execute_result"
    }
   ],
   "source": [
    "# Let's see what this looks like:\n",
    "spark"
   ]
  },
  {
   "cell_type": "markdown",
   "metadata": {},
   "source": [
    "Note that it simply returns the configurations we've specified -- e.g. AppName, and Master. We also see that it returned to us the version of Spark we're using, and confirmed that this SparkSession is running in-memory. \n",
    "\n",
    "\n",
    "Also note that clicking on the `Spark UI` link takes us to a 'job' tracker page. Feel free to explore the other tabs as well to get a better understanding of what's under the hood!"
   ]
  },
  {
   "cell_type": "markdown",
   "metadata": {},
   "source": [
    "## Resilient Distributed Datasets (RDDs)\n",
    "\n",
    "Before Spark Dataframes, which we'll look at in a minute, there were RDDs. In fact RDDs are the building blocks of Spark. They have the following features: \n",
    "\n",
    "- **Resilient** -- they are resilient because they're immutable, i.e. they cannot be changed, only new RDDs can be created from old ones. <br> <br>\n",
    "- **Distributed** -- Spark handles data somewhat like HDFS and MapReduce (but not exactly) in that it also stores and processes data in a distributed manner. RDDs are partitions of bigger datasets -- and by virtues of being partitions, they are distributed. <br> <br>\n",
    "- **Datasets** -- because they hold data! <br><br>\n",
    "\n",
    "__________\n",
    "#### **Important Note**:    <i>'Lazy loading'</i>\n",
    "Spark is fast in general because it executes operations in-memory, as mentioned. However, it's actually even faster because of a feature embedded in it called 'lazy loading.'\n",
    "\n",
    "All this means is, Spark will not actually execute operations in-memory all the time, just when we tell it to return a value/result. When we tell it to return a result, in Spark terminology, that's called an **`action`** -- includes things like counting the number of rows, showing the dataframe, or writing it to a file system. In contrast, a **`transformation`** is also a function, but it doesn't actually trigger any computation, it just 'acknowledges' a task in a sense. \n",
    "\n",
    "For instance, whenever you create a new dataset from the original one by transforming it using say, a groupBy, or if you take a sample, that will be a transformation, and won't actually run in-memory. However, if you tell it ro return that output, only then will that operation (and every operation leading to the output) will actually run in-memory. This distinction that Spark makes between transformations and actions make it run even quicker.  \n",
    "\n",
    "For a more comprehensive list of examples of transformations vs. actions, check out [this documentation for RDDs](http://spark.apache.org/docs/latest/rdd-programming-guide.html#actions) and [this documentation](https://spark.apache.org/docs/2.0.0/api/java/org/apache/spark/sql/Dataset.html) for dataframes (explained below!).\n",
    "__________\n",
    "\n",
    "\n",
    "\n",
    "Now, let's see if we can load in our data as an RDD first!"
   ]
  },
  {
   "cell_type": "code",
   "execution_count": 4,
   "metadata": {},
   "outputs": [],
   "source": [
    "# To do this, we load up a SparContext\n",
    "sc = spark.sparkContext"
   ]
  },
  {
   "cell_type": "code",
   "execution_count": 5,
   "metadata": {},
   "outputs": [
    {
     "data": {
      "text/html": [
       "\n",
       "        <div>\n",
       "            <p><b>SparkContext</b></p>\n",
       "\n",
       "            <p><a href=\"http://10.52.130.244:4040\">Spark UI</a></p>\n",
       "\n",
       "            <dl>\n",
       "              <dt>Version</dt>\n",
       "                <dd><code>v2.4.4</code></dd>\n",
       "              <dt>Master</dt>\n",
       "                <dd><code>local[*]</code></dd>\n",
       "              <dt>AppName</dt>\n",
       "                <dd><code>customer_churn</code></dd>\n",
       "            </dl>\n",
       "        </div>\n",
       "        "
      ],
      "text/plain": [
       "<SparkContext master=local[*] appName=customer_churn>"
      ]
     },
     "execution_count": 5,
     "metadata": {},
     "output_type": "execute_result"
    }
   ],
   "source": [
    "# Let's see what this looks like\n",
    "sc"
   ]
  },
  {
   "cell_type": "markdown",
   "metadata": {},
   "source": [
    "Note the only difference between this and our SparkSession above is that here we're missing the top bit that says `SparkSession - in-memory`. \n",
    "\n",
    "**Note**: Before Spark 2.0, we would have had set up SparkContexts for using Spark syntax, SqlContexts for using any SQL queries, StreamingContexts for streaming etc. After 2.0, Spark developers added in SparkSessions, which serve as an 'umbrella' context for all other contexts -- so we don't need to worry about creating separate contexts for separate Spark features anymore!"
   ]
  },
  {
   "cell_type": "code",
   "execution_count": 6,
   "metadata": {},
   "outputs": [],
   "source": [
    "# We read in the CSV file using 'textFile'\n",
    "rdd = sc.textFile('agency_churn.csv')\n",
    "\n",
    "\n",
    "# Note: of course we didn't need to call it rdd, it's just a variable name!"
   ]
  },
  {
   "cell_type": "code",
   "execution_count": 7,
   "metadata": {},
   "outputs": [
    {
     "data": {
      "text/plain": [
       "pyspark.rdd.RDD"
      ]
     },
     "execution_count": 7,
     "metadata": {},
     "output_type": "execute_result"
    }
   ],
   "source": [
    "# Check the type of the object:\n",
    "type(rdd)"
   ]
  },
  {
   "cell_type": "code",
   "execution_count": 8,
   "metadata": {
    "scrolled": true
   },
   "outputs": [
    {
     "data": {
      "text/plain": [
       "'Names,Age,Total_Purchase,Account_Manager,Years,Onboard_date,Location,Company,Churn'"
      ]
     },
     "execution_count": 8,
     "metadata": {},
     "output_type": "execute_result"
    }
   ],
   "source": [
    "# Return the first row/element in this RDD\n",
    "rdd.first()\n",
    "\n",
    "# Note: First() is an action"
   ]
  },
  {
   "cell_type": "code",
   "execution_count": 9,
   "metadata": {},
   "outputs": [
    {
     "data": {
      "text/plain": [
       "['Names,Age,Total_Purchase,Account_Manager,Years,Onboard_date,Location,Company,Churn',\n",
       " 'Cameron Williams,42,11066.8,0,7.22,2013-08-30 7:00:40,\"10265 Elizabeth Mission Barkerburgh, AK 89518\",Harvey LLC,1',\n",
       " 'Kevin Mueller,41,11916.22,0,6.5,2013-08-13 0:38:46,\"6157 Frank Gardens Suite 019 Carloshaven, RI 17756\",Wilson PLC,1',\n",
       " 'Eric Lozano,38,12884.75,0,6.67,2016-06-29 6:20:07,\"1331 Keith Court Alyssahaven, DE 90114\",\"Miller, Johnson and Wallace\",1']"
      ]
     },
     "execution_count": 9,
     "metadata": {},
     "output_type": "execute_result"
    }
   ],
   "source": [
    "# More generalised form of first() -- i.e. will show more than the first row, in this case the first 4 rows \n",
    "rdd.take(4)\n",
    "\n",
    "# Note: Take() is an action"
   ]
  },
  {
   "cell_type": "code",
   "execution_count": 12,
   "metadata": {},
   "outputs": [
    {
     "data": {
      "text/plain": [
       "['Names,Age,Total_Purchase,Account_Manager,Years,Onboard_date,Location,Company,Churn',\n",
       " 'Cameron Williams,42,11066.8,0,7.22,2013-08-30 7:00:40,\"10265 Elizabeth Mission Barkerburgh, AK 89518\",Harvey LLC,1',\n",
       " 'Kevin Mueller,41,11916.22,0,6.5,2013-08-13 0:38:46,\"6157 Frank Gardens Suite 019 Carloshaven, RI 17756\",Wilson PLC,1',\n",
       " 'Eric Lozano,38,12884.75,0,6.67,2016-06-29 6:20:07,\"1331 Keith Court Alyssahaven, DE 90114\",\"Miller, Johnson and Wallace\",1',\n",
       " 'Phillip White,42,8010.76,0,6.71,2014-04-22 12:43:12,\"13120 Daniel Mount Angelabury, WY 30645-4695\",Smith Inc,1',\n",
       " 'Cynthia Norton,37,9191.58,0,5.56,2016-01-19 15:31:15,\"765 Tricia Row Karenshire, MH 71730\",Love-Jones,1',\n",
       " 'Jessica Williams,48,10356.02,0,5.12,2009-03-03 23:13:37,\"6187 Olson Mountains East Vincentborough, PR 74359\",Kelly-Warren,1',\n",
       " 'Eric Butler,,11331.58,,5.23,2016-12-05 3:35:43,\"4846 Savannah Road West Justin, IA 87713-3460\",Reynolds-Sheppard,1',\n",
       " 'Zachary Walsh,32,9885.12,1,6.92,2006-03-09 14:50:20,\"25271 Roy Expressway Suite 147 Brownport, FM 59852-6150\",Singh-Cole,1',\n",
       " 'Ashlee Carr,43,14062.6,1,5.46,2011-09-29 5:47:23,\"3725 Caroline Stravenue South Christineview, MA 82059\",Lopez PLC,1',\n",
       " 'Jennifer Lynch,40,8066.94,1,7.11,2006-03-28 15:42:45,\"363 Sandra Lodge Suite 144 South Ann, WI 51655-7561\",Reed-Martinez,1',\n",
       " 'Paula Harris,30,11575.37,,5.22,,Unit 8120 Box 9160 DPO AA 43432,\"Briggs, Lamb and Mathews\",1',\n",
       " 'Bruce Phillips,45,8771.02,1,6.64,2015-05-28 12:14:03,Unit 1895 Box 0949 DPO AA 40249,Figueroa-Maynard,1',\n",
       " 'Craig Garner,45,8988.67,1,4.84,2011-02-16 8:10:47,\"897 Kelley Overpass Suite 349 West Rebekahport, AZ 44793\",Abbott-Thompson,1',\n",
       " 'Nicole Olson,40,8283.32,1,5.1,2012-11-22 5:35:03,\"11488 Weaver Cape Hernandezberg, WI 63417-8544\",\"Smith, Kim and Marshall\",1',\n",
       " 'Harold Griffin,41,6569.87,1,4.3,2015-03-28 2:13:44,\"1774 Peter Row Apt. 712 New Autumn, MT 18782\",\"Snyder, Lee and Morris\",1',\n",
       " 'James Wright,38,10494.82,1,6.81,2015-07-22 8:38:40,\"45408 David Path East Kimberlyshire, HI 54903-6698\",Sanders-Pierce,1',\n",
       " 'Doris Wilkins,,8213.41,1,7.35,2006-09-03 6:13:55,\"28216 Wright Mount Apt. 356 Alichester, DE 40999-2369\",,1',\n",
       " 'Katherine Carpenter,43,11226.88,0,8.08,2006-10-22 4:42:38,Unit 4948 Box 4814 DPO AP 42669,\"Morgan, Phillips and Harrell\",1',\n",
       " 'Lindsay Martin,53,5515.09,0,6.85,2015-10-07 0:27:10,\"69203 Crosby Divide Apt. 878 Parkerview, CO 87064\",Villanueva LLC,1',\n",
       " 'Kathy Curry,46,8046.4,1,5.69,2014-11-06 23:47:14,\"9569 Caldwell Crescent Tanyaborough, RI 30637\",\"Berry, Orr and Cabrera\",1',\n",
       " 'Dean Miller,41,9771.22,0,5.81,2013-05-30 0:42:13,\"803 Kelli Crossing Apt. 169 Jimenezberg, WV 56530-4240\",Parks-Bradley,1',\n",
       " 'Kevin Ramos,56,12217.95,1,5.79,2016-11-17 14:37:01,\"5775 Jared Stream Apt. 881 Port Jenniferfort, CO 63506-4063\",Olsen LLC,1',\n",
       " 'Jennifer Wood,35,9381.12,1,6.78,2006-03-27 20:52:42,\"1493 Phillips Haven Lake William, FM 00995-2870\",\"Clark, Campbell and Armstrong\",1',\n",
       " 'Paul Walker,41,10474.94,0,6.4,2012-01-02 5:08:52,\"73006 Patty Avenue Apt. 646 New Sarahburgh, NV 24826\",Dalton LLC,1',\n",
       " 'Lindsey Day,55,11158.5,1,4.86,2007-01-07 1:21:47,\"85934 Dakota Mall Timothyville, MI 72421\",\"Thompson, Hansen and Sanchez\",1',\n",
       " 'Steven Hernandez,54,,0,4.26,2015-04-05 15:57:24,\"14609 Perez Turnpike Bradleyberg, DE 99755\",\"Yates, Martinez and Cox\",1',\n",
       " 'Danielle Kirk,35,12403.81,0,4.42,2007-07-31 6:39:54,\"20117 Johnson Ports Apt. 914 Jenniferfort, DC 40595\",Reeves-Curtis,1',\n",
       " 'Troy Oliver,40,10041.13,0,7.61,2006-07-30 15:27:23,USCGC Blake FPO AA 66377-6894,Gates Ltd,1',\n",
       " 'Darlene Evans,44,12721.55,0,5.18,2011-04-25 2:53:25,\"950 Christina Viaduct Anastad, IL 03324-2274\",Dunlap and Sons,1',\n",
       " 'Mrs. Sarah Morales,37,8284.89,1,5.6,2009-03-25 6:10:01,\"8807 Young Village Joneston, AR 56462\",\"Taylor, Allen and Gardner\",1',\n",
       " 'Laura Pierce,54,10661.48,1,5.16,2011-12-26 22:06:03,\"PSC 3912, Box 7208 APO AA 23623\",Charles-Branch,1',\n",
       " 'Carla Ball,45,10793.11,1,4.65,2016-12-28 4:07:38,\"754 Shannon Mall South Shawn, AS 29886-0448\",Barton Inc,1',\n",
       " 'Robert Hill,46,9322.44,1,2.69,2010-11-16 13:22:18,\"2088 Kelli Way Millertown, MT 37058\",\"Stevens, Harris and Greene\",1',\n",
       " 'Joseph Harrell,44,9814.22,1,5.45,2010-01-23 7:15:58,USCGC Bell FPO AE 94532,\"Fitzgerald, Sherman and Lowe\",1',\n",
       " 'Tammy Shepherd,48,11740,1,4.97,2011-03-06 1:34:58,\"234 Gonzalez Terrace Santiagohaven, CO 28918-5500\",Martin Ltd,1',\n",
       " 'Kelly Carroll,37,14383.36,0,7.84,2011-04-05 0:21:51,\"8268 Baker Rapid Suite 712 Alexiston, TN 05207-2057\",\"Juarez, Pugh and Vargas\",1',\n",
       " 'Heidi Munoz,38,11887.39,0,5.83,2009-10-15 17:14:01,USCGC Mason FPO AA 96632-5067,Mckinney-Rogers,1',\n",
       " 'Thomas Sawyer,48,10367.08,1,6.45,2008-10-06 17:15:00,\"8113 Rodriguez Court Sheribury, SC 88474\",\"Lopez, Kelly and Armstrong\",1',\n",
       " 'Erin Rivera,37,8198.06,1,5.04,2016-11-06 1:13:12,\"34727 Randy Prairie Apt. 275 South Pamelashire, AS 63214-4216\",\"Wilkins, White and Martin\",1',\n",
       " 'Raymond Berry,41,7777.37,0,4.81,2014-01-20 8:53:20,\"75210 Mark Mill Apt. 397 Donnamouth, MA 40404-7466\",\"Evans, Logan and Wilson\",1',\n",
       " 'Patrick Bell,41,11699.26,0,6.99,2010-03-31 14:45:01,\"93345 Monique Tunnel Apt. 431 North Chase, NJ 30518\",Clark-Kramer,1',\n",
       " 'Jason Jones MD,55,16838.94,1,6.66,2007-10-05 15:48:38,\"52454 Jessica Passage Apt. 097 Mitchellburgh, AS 30584-9004\",Brown-Richardson,1',\n",
       " 'Jermaine Johnson,36,10484.33,1,8.84,2008-04-29 9:07:51,\"4102 Griffin Courts Middletonton, FM 48608\",\"Dunlap, Hughes and Taylor\",1',\n",
       " 'George Archer,37,8736.06,1,5.51,2014-12-23 19:38:52,\"5645 Henderson Streets Brandystad, CA 92343\",Smith Inc,1',\n",
       " 'Richard Fields,50,10850.78,1,5.63,2010-06-18 7:10:58,\"451 Flynn Streets Morenobury, NE 64722-7132\",Brown-Bishop,1',\n",
       " 'Amanda Roberts,43,8601.01,0,5.65,2007-02-03 17:52:51,\"PSC 9561, Box 4071 APO AA 92200-5783\",Evans LLC,1',\n",
       " 'David Kennedy,45,11170.06,1,7.76,2011-01-26 19:05:24,\"56990 Laurie Gardens Suite 145 West Tara, OH 24389\",Williams-Hoffman,1',\n",
       " 'Adam Waters,40,11185.62,0,6.26,2006-03-06 18:36:47,\"6040 Juan Forge Parrishville, NJ 27948\",Reed Ltd,1',\n",
       " 'Patricia Elliott,36,9793.42,0,5.98,2007-11-27 12:24:48,\"9072 Martinez Squares Suite 404 New Emilystad, NH 26441-4895\",Ortiz Ltd,1',\n",
       " 'Summer Haley,43,12524.68,0,5.98,2010-05-27 4:46:05,\"312 Wilson Oval Suite 872 East Michaeltown, MN 40127-6212\",\"White, Vargas and Moore\",1',\n",
       " 'Brittany Jackson,50,12682.9,0,4.58,2006-09-11 7:07:17,\"082 Roth Island Daniellefurt, DE 69027-7185\",Mcdonald-Cooper,1',\n",
       " 'Shawn Chavez,44,14036.28,1,7.25,2009-01-30 1:58:56,\"42028 Hampton Flat Apt. 206 North Samuelburgh, ME 73072\",\"Carter, Murphy and Valenzuela\",1',\n",
       " 'Laura Fleming,41,10179.92,1,5.97,2010-02-25 0:17:52,\"7023 Courtney Lodge Suite 935 Coxtown, NE 89508\",\"Knight, Hammond and Mccoy\",1',\n",
       " 'Marcus Garza,46,12772.72,1,6.46,2010-07-03 18:56:05,\"06806 Lyons Drive Apt. 864 Port Michaelview, MH 56506\",\"Holland, Jones and Schmidt\",1',\n",
       " 'Heather Murphy,46,12122.19,0,7.53,2015-12-30 18:49:35,\"1264 Williams Views Suite 114 Port Isaac, VI 31105-1539\",\"Petersen, Howard and Bowen\",1',\n",
       " 'Jeffrey Hill,40,9922.3,1,5.07,2006-09-22 20:58:51,\"97907 Jensen Forge Brianmouth, MH 69993-8000\",\"Williams, Bautista and Carr\",1',\n",
       " 'Amy Griffin,48,4771.65,0,3.77,2007-06-19 4:30:13,\"062 Trevor Falls Suite 665 North Mathewchester, MH 93744\",Larson-Hall,1',\n",
       " 'Michelle Hill,42,10827.96,1,4.2,2008-11-10 19:35:05,\"45946 Day Springs Mendozastad, NJ 46404\",\"Pierce, Peterson and Maldonado\",1',\n",
       " 'David Rodriguez,38,8642.01,1,4.76,2014-08-13 17:14:07,\"7318 Graham Ville Apt. 633 Gibsonview, MI 04337-6720\",Walker-Baker,1',\n",
       " 'Daniel Bartlett,45,6749.49,0,5.88,2006-08-19 17:13:19,\"353 Gregory Spur Mariaburgh, KY 66125\",Owens Group,1',\n",
       " 'Cheyenne Rogers,36,6447.99,1,5.52,2009-05-07 22:19:35,\"58379 Amber Knoll Blackburgh, MH 69646-4368\",Evans LLC,1',\n",
       " 'Seth Lopez,44,11091.21,0,5.9,2007-07-10 15:33:56,Unit 2311 Box 4695 DPO AA 98374,Hodges LLC,1',\n",
       " 'Brittany Hopkins,55,5024.52,0,8.11,2010-02-10 10:22:37,\"2529 King Knoll Apt. 210 Michelleshire, NH 14266\",Dixon-Love,1',\n",
       " 'Carla Patterson,58,12376.37,0,6.01,2007-12-08 8:05:11,\"350 Gregory Isle South Tinaland, WI 44398\",\"Pittman, Watts and Fitzgerald\",1',\n",
       " 'Michelle Holloway,49,12458.8,0,5.04,2013-01-21 13:44:09,\"6431 Kimberly Harbors South Dylan, MS 05388-2846\",\"Martinez, Clark and Jackson\",1',\n",
       " 'Kenneth Bryant,47,7222.35,0,6.41,2015-06-27 10:57:19,\"274 Randy Ports Apt. 228 Gomezside, KY 96667-1028\",Davis and Sons,1',\n",
       " 'Cody Williams,38,11758.69,0,6.97,2016-08-14 18:04:40,USNS Lewis FPO AE 38853,\"Farley, Clark and Peterson\",1',\n",
       " 'Lori Ross,55,8772,1,6.43,2006-03-01 20:57:16,\"65806 Dean Plaza Apt. 089 West Jacobfort, AR 83049\",\"Butler, Harrison and Hall\",1',\n",
       " 'David Montes,45,7351.38,0,5.76,2016-10-06 23:11:34,\"666 Julie Ports Apt. 094 South Johntown, MO 10168-2804\",Watson-Hall,1',\n",
       " 'Robin Rowe,30,7960.64,1,2.72,2016-04-15 12:08:15,\"87953 Fuller Turnpike Apt. 510 Russellstad, MH 32784-9434\",\"Bradley, Mejia and Williams\",1',\n",
       " 'Amber Spears,41,13365.66,1,8.36,2008-07-26 3:00:31,\"455 Garcia Via Suite 177 Lake Jefferyside, MN 81187\",Gray Inc,1',\n",
       " 'Kathy Johnson,32,8617.98,1,6.2,2008-05-14 16:07:30,\"570 Smith Mountains Hunterview, OK 46533\",Jordan-Murphy,1',\n",
       " 'Thomas Rose,52,11849.13,0,6.8,2012-08-18 9:16:47,\"9928 Lawson Court Andersonborough, KS 54353-7605\",\"Lynch, Padilla and Myers\",1',\n",
       " 'Sandra Williams,37,11145.95,1,5.87,2013-01-10 10:11:44,\"0728 Melton Avenue Robertville, KY 71675-3667\",Baker Ltd,1',\n",
       " 'Nathan Murphy,42,9577.42,0,5.86,2012-01-18 0:52:28,\"34489 Andrew Wells North Charlesport, RI 48537\",Deleon Ltd,1',\n",
       " 'Ryan Weaver,39,10110.4,1,5.78,2009-03-10 21:58:42,\"8306 Nicole Lane Moranmouth, PR 36299\",\"Keith, Richardson and Thomas\",1',\n",
       " 'Jennifer King,43,8024.08,0,4.08,2016-02-20 7:00:09,\"44850 Dennis Meadows Suite 044 Dariusland, IL 05918\",\"Hunter, Reyes and Rivera\",1',\n",
       " 'Theresa Berry,52,8563.24,0,5.29,2010-03-24 16:20:07,\"1733 Theresa Port North Jason, WY 15864\",Jones LLC,1',\n",
       " 'Robin Burke,40,9403.58,1,6.01,2014-07-31 1:07:38,\"7225 James Corners Christopherville, OH 19625-4299\",Patel PLC,1',\n",
       " 'Todd Thompson,38,12520.53,1,6.3,2008-10-19 9:18:12,\"2779 Dalton Ports New James, AS 59322-0419\",\"Guzman, Johnson and Berry\",1',\n",
       " 'John Thomas,53,13655.59,1,2.05,2013-12-24 14:28:20,\"342 Jensen Dam West Kylehaven, PW 89702-0398\",\"Sanchez, Carter and Gross\",1',\n",
       " 'Timothy Johnston,41,12680.46,0,5.92,2010-03-29 17:41:53,\"44906 Walker Plaza Sanchezshire, AK 41013-8944\",\"Cole, Shelton and Atkinson\",1',\n",
       " 'Sarah Holloway,45,8429.65,1,7.1,2006-08-26 16:40:13,\"099 Lopez Crescent Jamesport, OK 31273\",Harrison-Ferrell,1',\n",
       " 'Scott Chambers,44,11424,1,5.98,2011-11-16 6:51:37,\"9525 Allen Camp Apt. 362 West Dawnmouth, GA 04347\",\"Davis, Cole and Thompson\",1',\n",
       " 'Kathryn Ponce,46,13725.55,0,5.09,2006-03-04 0:11:53,\"43798 Jones Garden Apt. 027 Monicashire, ND 82344\",\"Cochran, Molina and Higgins\",1',\n",
       " 'Patrick Robinson,47,7396.1,0,4.11,2014-03-10 6:51:20,\"753 Sara Fall Lake Erinmouth, OK 02340-4525\",Tran-Rodriguez,1',\n",
       " 'Laurie Green,51,8100.43,1,4.92,2006-01-14 1:47:07,\"74631 Kyle Mountain Apt. 268 Andrewmouth, MI 55255\",\"Callahan, Hinton and Murray\",1',\n",
       " 'Amber Hobbs,43,10400.88,0,5.84,2013-03-28 20:04:50,\"8044 Bates Spring Jonesborough, LA 63728\",\"Nelson, Ray and Johnson\",1',\n",
       " 'Tina King,40,8625.96,1,6.27,2008-08-07 1:50:30,\"80203 Brandon Hill Apt. 353 New Luisport, VA 65076\",Franco-Jones,1',\n",
       " 'David Hess,41,5192.38,1,4.86,2015-11-06 3:12:21,\"PSC 1062, Box 1827 APO AA 46087-7414\",Johnson-Walker,1',\n",
       " 'Jose Lee,45,12455.38,0,3.26,2015-02-24 14:54:33,\"036 Hunter Heights Suite 701 New Rickey, HI 95539-9622\",Nelson LLC,1',\n",
       " 'Brian Young,49,10522.21,0,7.25,2014-11-08 0:40:36,Unit 6711 Box 7964 DPO AA 27820,Munoz Ltd,1',\n",
       " 'Erica Flores,38,9624.18,0,5.53,2008-12-22 6:09:17,\"421 Kevin Shoal Grahamport, RI 11504\",Carey Ltd,1',\n",
       " 'Brenda Hall,37,11628.1,1,6.83,2010-02-20 16:08:12,\"1877 Tara Streets West Sarah, MN 39500\",Rosales Inc,1',\n",
       " 'Dakota Williams,41,13190.3,1,7.38,2012-09-12 14:15:03,\"22194 Hernandez Roads Hubbardville, MH 97331-5191\",\"Hughes, Evans and Richardson\",1',\n",
       " 'Tammy Reed,49,13173.8,1,6.36,2007-10-09 18:07:48,\"3067 Lindsay Road Apt. 683 Port Jonathan, NY 84626-8850\",Russo-Rivas,1',\n",
       " 'Devin Cook,29,8688.17,1,5.7,2015-02-05 11:35:45,\"237 Antonio Lock Lake Christianville, IN 42022\",Fleming LLC,1',\n",
       " 'Joseph Mitchell,40,11434.61,1,8.51,2009-11-17 23:38:40,\"3422 Zhang View Estradabury, SC 66970-2923\",Lee LLC,1',\n",
       " 'Brett Allen MD,45,12309.39,1,4.57,2008-02-07 15:42:36,\"03559 Rodriguez Prairie Apt. 826 Rachelfurt, ND 85441\",Brown-Rangel,1',\n",
       " 'Daniel Bates,30,10744.14,1,7.16,2008-09-13 11:53:42,\"488 Lewis Village Crawfordborough, WY 43563\",Hunt PLC,1',\n",
       " 'Chelsea Ward,43,12104.25,0,5.86,2009-09-27 4:12:53,\"5279 Grace Mountain Loriland, IL 83900\",\"Hatfield, Johnson and George\",1',\n",
       " 'Ryan Richardson,45,11599.27,1,4.78,2006-11-22 21:46:31,\"31574 Sarah Pine Apt. 359 Harryside, NJ 02405-8870\",Cross-Jones,1',\n",
       " 'Stephen Callahan,42,6635.19,0,6.68,2006-07-24 18:29:33,USS Booth FPO AP 73462,Shaw-Rivera,1',\n",
       " 'Mrs. Melinda Davila,51,10978.16,1,6.95,2013-08-10 2:49:37,\"5843 Byrd Corner Monicaport, SC 44357\",Perry and Sons,1',\n",
       " 'Carla Howell,44,13743.27,0,7.8,2011-06-11 0:48:58,\"55353 Barker Burg East Willietown, HI 30805\",\"Edwards, Webster and Gross\",1',\n",
       " 'Eric Kelley,43,10271.19,1,5.31,2011-07-19 10:28:53,\"98472 Meghan Mall Port Lauren, LA 49472\",\"Santos, Hoffman and Harper\",1',\n",
       " 'Randy Hayes,43,6715.23,0,4.16,2007-02-17 15:33:59,\"PSC 1001, Box 5072 APO AP 43490\",Taylor-Vaughn,1',\n",
       " 'Jeffrey Glenn,50,10199.44,0,5.79,2012-10-09 17:29:23,\"6431 Caldwell Spring Port Gregorymouth, VI 76545-9829\",Medina-Dominguez,1',\n",
       " 'Megan Tucker,38,11386.56,0,8.82,2011-11-20 17:11:17,\"63080 Christopher Fork Suite 353 Jacobshire, TN 98279-1399\",Taylor-Guerrero,1',\n",
       " 'Michael Acosta,49,12112.53,0,7.31,2012-03-03 18:57:24,\"73511 James Skyway Apt. 750 Port Scott, FM 96780\",Ward-Bennett,1',\n",
       " 'Eileen Reyes,34,9228.84,1,5.29,2006-11-25 12:38:21,\"0235 Taylor Lakes Suite 365 East Michaelfort, AL 61409-7098\",Curtis PLC,1',\n",
       " 'Mr. Jerome Dawson,36,6330.43,1,5.43,2010-08-24 0:52:55,\"675 Jones Viaduct Samanthastad, MT 88716-7510\",Oconnell LLC,1',\n",
       " 'Katie Sutton,40,11611.51,1,5.64,2010-06-19 16:02:16,\"564 Amanda Park Apt. 388 Watsonport, NJ 61471-7559\",Patrick Inc,1',\n",
       " 'Dr. Kylie Mccann,37,8397.41,0,5.59,2008-06-07 21:35:55,\"150 Steven Center Port Randallshire, SC 42333-2817\",Shepherd LLC,1',\n",
       " 'Jose Kelly,49,9714.47,0,5.7,2014-11-04 4:05:34,\"205 Lewis Ports Suite 146 New Lukehaven, NE 61616\",\"Fisher, Torres and Ramsey\",1',\n",
       " 'Nicholas Levy,51,11602.11,1,5.3,2012-04-06 10:12:15,\"668 Walker Trace Apt. 580 Samanthaside, FL 56884\",Pruitt-Thompson,1',\n",
       " 'Jennifer Carrillo,35,12871.79,0,4.64,2006-03-25 1:04:53,\"659 Robertson Lake Lake Peggy, CT 28993\",Ingram-Swanson,1',\n",
       " 'April Freeman,41,9923.79,1,4.75,2011-08-28 3:41:36,\"16914 Oconnell Forge Apt. 477 Atkinsonmouth, MD 32666\",\"Larson, Ross and Ward\",1',\n",
       " 'Hunter Rivera,26,8787.39,1,5.42,2014-12-18 19:58:36,\"233 Mark Vista New Russellbury, FL 08810\",\"Tate, Hall and Moreno\",1',\n",
       " 'Travis Ellis,46,12200.31,0,6.62,2010-10-20 0:12:32,\"730 Doris Drive Suite 569 Port Adam, KY 42352\",Ramirez-Mendoza,1',\n",
       " 'Tommy Frey,38,8825.87,1,8.97,2008-01-06 9:57:34,\"200 Craig Spur Suite 465 Wadeton, NC 47363\",Garcia-Owens,1',\n",
       " 'Nicole Friedman,44,8615.52,0,7.39,2006-10-19 23:02:34,\"77755 John River Kendrafurt, MP 02175-9994\",\"Miranda, Summers and Moran\",1',\n",
       " 'James Newman,35,9766.95,1,4.59,2008-02-29 14:17:57,\"1317 Dillon Gardens Michaelville, ME 91569-7889\",\"Griffin, Tucker and Lee\",1',\n",
       " 'Stephanie Gonzales,36,11550.29,0,6.46,2014-01-13 5:18:56,\"437 Alex Glens Melindaburgh, ID 78010-8240\",Young-Dunn,1',\n",
       " 'Mary Aguilar,50,6244.75,0,4.64,2015-12-18 13:28:17,Unit 6345 Box 0137 DPO AP 41134-6292,Lee-Aguilar,1',\n",
       " 'Jordan Owens,45,9459.52,0,5.72,2015-07-30 2:34:43,\"018 Kristy Mountain Lindseymouth, LA 51400\",Reyes PLC,1',\n",
       " 'Devin Wilson,46,11222.48,0,4.92,2011-02-18 18:11:37,\"97426 Carrie Stravenue East Cassandrafort, WV 23196\",Cooke Ltd,1',\n",
       " 'Samantha Fisher,38,14693.45,1,7.01,2011-11-02 16:47:54,\"961 Wright Plains Kimberlyborough, AL 59809\",\"Morris, Owens and Sullivan\",1',\n",
       " 'Monique Medina,49,15005.43,1,5.27,2012-07-27 0:30:18,\"22013 Matthew Square Johnsonland, LA 27505-9242\",Martin-Harris,1',\n",
       " 'Nathan Gross,42,10276.33,1,6.54,2007-07-01 5:53:17,\"1136 Beasley Mountains Apt. 622 Smithton, UT 09411-9465\",\"Robinson, Brown and Stephens\",1',\n",
       " 'Douglas Joseph,44,8474.11,0,6.61,2012-10-01 8:10:23,Unit 9630 Box 8710 DPO AP 69319,Clark PLC,1',\n",
       " 'Elizabeth Moore,47,8235.74,1,6.2,2007-10-23 5:18:02,\"582 Kimberly Lodge Apt. 082 East Victoriastad, NH 73555\",\"Young, Porter and Hill\",1',\n",
       " 'Adam Gomez,48,6495.01,1,5.57,2013-02-06 5:15:06,\"2889 Coffey Parks Browningmouth, VT 14924-9744\",Thompson Group,1',\n",
       " 'Timothy Harvey,45,8099.29,1,5.66,2008-06-10 14:07:44,\"6596 Ronald Union West Courtney, ND 47185\",\"Scott, Ward and Brown\",1',\n",
       " 'Adam Strong,50,11775.75,1,4.83,2011-02-06 15:02:27,\"33071 Melody Isle East Matthew, WV 08980-8853\",Harvey-Mcdowell,1',\n",
       " 'Charles Whitney,39,8667.02,0,6.82,2009-10-23 10:27:41,\"8006 Erin Pass Apt. 415 South Karen, LA 27331-0907\",Christensen-Mccann,1',\n",
       " 'Lisa Davis,55,9000.31,1,6.78,2008-05-23 1:04:13,\"PSC 5306, Box 1682 APO AP 03229\",Obrien PLC,1',\n",
       " 'Jacob Escobar,50,14398.89,1,5.54,2007-11-13 17:10:55,\"4182 Mercer Plains Apt. 624 New Lindsey, WA 84468\",White-Dennis,1',\n",
       " 'Douglas Padilla,38,10863.05,1,5.59,2008-04-28 1:11:37,\"063 Andrew Harbor New Kathleenbury, AR 48898\",Martinez Ltd,1',\n",
       " 'Russell Bauer,38,7287.57,1,7.39,2007-04-22 6:22:27,\"83221 Hendricks Highway Garciastad, OR 20046-4343\",Chambers-Simmons,1',\n",
       " 'Jessica Horton,43,6992.09,1,6.84,2010-04-21 18:41:43,Unit 7652 Box 7117 DPO AP 06955-1878,Jackson Group,1',\n",
       " 'Alexis Hill,39,6351.79,0,5.86,2012-03-24 16:13:42,\"335 Dyer Shoals Port Patricia, PR 84461-1647\",Campbell and Sons,1',\n",
       " 'Heather Hickman,31,11297.57,1,6.23,2015-03-17 22:32:58,\"7259 Brown Street Apt. 385 Monicaport, GU 05916-8374\",Moore LLC,1',\n",
       " 'Steven Stevenson,52,7460.05,0,5.39,2013-10-17 21:48:30,\"61756 Walls Ridges East James, IA 34568\",George Inc,1',\n",
       " 'Hailey Sanchez,41,14429.41,1,5.51,2007-09-29 0:43:03,\"78018 Ariana Crest Suite 467 North Tamara, IA 84527\",Evans-Wagner,1',\n",
       " 'Randall Weber,34,12983.26,1,6.53,2007-10-14 20:54:33,\"447 Lane Street Apt. 689 East Christopher, MI 80796\",\"Torres, Villanueva and Velasquez\",1',\n",
       " 'Anna Bryant,39,8801.86,1,4.43,2007-03-18 11:14:44,\"30668 Isabella Freeway Suite 428 Lake Kellyhaven, MP 89074-5017\",Bennett Inc,1',\n",
       " 'Robert Russo,58,9703.93,0,5.16,2010-03-02 16:11:39,\"976 Thomas Garden Lake Chad, DC 12638-0139\",Hanna-Leonard,1',\n",
       " 'Tara Burton,49,11177.08,0,4.44,2008-01-07 5:11:46,\"713 William Loaf New Christopher, DC 71560-8742\",Reed-Fields,1',\n",
       " 'Yvette Perry,41,8560.76,1,3.99,2015-05-09 18:48:03,\"83457 Davis Flats Morachester, GU 52752\",Moore and Sons,1',\n",
       " 'Michael Williams,35,15571.26,0,6.45,2011-12-02 20:13:49,\"5728 Michael Rue Riosland, NY 38804-1415\",Petty and Sons,0',\n",
       " 'Connie Golden,39,10268.87,1,3.68,2009-08-19 18:52:21,\"3324 Gomez Knolls Suite 591 Farmerchester, LA 37647\",Brown-Wagner,0',\n",
       " 'Seth Griffin,44,12328.03,1,4.6,2006-08-29 2:24:37,\"9436 Warner Mill Suite 265 Port Kenneth, OH 00175-5756\",Williams PLC,0',\n",
       " 'Rachel Cherry,52,9782.83,0,3.96,2012-04-17 10:47:29,\"3479 Stewart Way Sandersside, ID 69317-8759\",\"Bishop, Tran and Pope\",0',\n",
       " 'Robert Sanders,29,9378.24,0,4.93,2015-08-06 22:29:28,\"8199 Christopher Tunnel Suite 537 Warnerside, IN 29023-3624\",\"White, Jones and Nelson\",0',\n",
       " 'Chris Sutton,37,10314.67,1,5.86,2016-06-22 19:20:04,\"858 Booth Points South Davidside, AZ 92136-1145\",Collins Ltd,0',\n",
       " 'Kenneth Alexander,30,8403.78,1,4.13,2006-06-28 9:26:57,\"032 Jorge Trail Apt. 091 Brianmouth, ID 23964\",Torres Inc,0',\n",
       " 'Jason Taylor,46,5570.45,0,2.23,2012-05-01 6:20:54,\"693 Kevin Groves Apt. 158 Debramouth, NV 73809\",\"Moore, Nichols and Miller\",0',\n",
       " 'Dennis Morgan,43,8042.76,0,4.95,2006-04-29 20:25:59,\"00103 Jeffrey Crest Apt. 205 Padillaville, IA 90755\",\"Barry, Jordan and Hall\",0',\n",
       " 'Penny Perez,44,10309.15,1,6.35,2006-01-10 18:04:20,\"725 Stephanie Springs Apt. 350 South Brianbury, MP 98006\",Davis-Travis,0',\n",
       " 'Erin Gilbert,35,12357.31,0,5.03,2014-08-06 19:11:10,\"7098 Vicki Lane Suite 339 South Dominic, NM 43022-5425\",\"Ware, Williams and Hill\",0',\n",
       " 'Sean Macias,47,11306.1,0,6.01,2006-07-02 23:47:33,\"911 Kent Point Anthonytown, KS 47499\",Jimenez Group,0',\n",
       " 'Christina Lewis,32,13630.93,0,4.38,2014-01-03 0:55:23,\"273 Alexander Burg Suite 754 New Alexandrachester, DE 41261-1457\",\"Thompson, Shelton and Pena\",0',\n",
       " 'Lori Jackson,36,12284.58,1,5.7,2015-12-07 10:18:24,\"19131 Robinson Mission Apt. 384 Smithview, AS 99303\",Webb PLC,0',\n",
       " 'Mark Murray,39,8930.49,1,5.71,2014-12-10 9:22:09,\"3444 Delgado Squares Apt. 967 Pageville, MI 59677\",Lawson Inc,0',\n",
       " 'Dana Lewis,43,10578.14,0,1.87,2008-05-28 8:06:43,USNV Soto FPO AA 90235-3866,\"Murphy, Park and Boyer\",0',\n",
       " 'Dr. Michael Contreras,45,10364.82,0,5.93,2016-08-22 5:47:48,\"53891 Paula Corners Apt. 946 West Michael, ME 42796-1668\",Holt-Rogers,0',\n",
       " 'Rebecca Rasmussen,33,7750.54,1,4.57,2012-07-19 13:34:46,\"PSC 2978, Box 1358 APO AP 49912-3876\",Rodriguez-Flynn,0',\n",
       " 'Melanie Turner,48,10963.5,1,5.89,2008-03-07 10:48:28,\"3987 Douglas Garden South Amanda, LA 99160-1676\",Gates Ltd,0',\n",
       " 'Jeffery Ferguson,32,12547.91,0,7.78,2011-12-22 17:51:38,\"1599 Rush Crescent Apt. 982 Bowmanchester, TX 33118-6129\",Watts Ltd,0',\n",
       " 'Brenda Haley,41,14069.41,1,1.62,2010-10-14 7:46:45,USS Barr FPO AE 09092,Forbes LLC,0',\n",
       " 'William Taylor,44,9723.71,0,4.34,2012-06-30 10:01:56,\"499 Contreras Estates Suite 640 Tylertown, NY 97261\",Stewart Inc,0',\n",
       " 'William Lyons,43,6298.75,1,4.51,2015-03-26 0:41:27,\"2758 Williams Heights Apt. 571 Colleenton, AK 36124-5765\",\"Brown, Conner and Torres\",0',\n",
       " 'Bobby Christian,35,12107.03,0,5.82,2011-03-12 7:37:55,\"PSC 8568, Box 1611 APO AA 56585-0874\",\"Freeman, Lam and Jenkins\",0',\n",
       " 'Victoria Medina,43,11674.12,0,2.88,2012-10-24 2:46:36,\"816 Jeremy Bridge Apt. 543 New Michelleville, VI 50678\",Walters-Sanders,0',\n",
       " 'William Haney,56,12502.81,0,5.47,2007-08-09 17:54:53,\"143 Andrea Flat Lake Michael, ID 33149\",\"Powell, Erickson and Rush\",0',\n",
       " 'Alan Gray,29,9617.59,0,5.49,2013-02-19 3:23:16,\"9278 Jenna Ways Apt. 628 West Ryan, AZ 06819-5978\",Mendoza Inc,0',\n",
       " 'Jessica Johnson,36,13472.79,1,4.77,2006-02-14 22:16:21,\"PSC 8132, Box 3379 APO AA 45232-2030\",Young and Sons,0',\n",
       " 'Joshua Tran,49,9805.7,0,4.86,2011-04-29 16:53:13,\"7774 Gonzalez Camp Suite 326 Lake Nathan, CA 46393-3674\",Harris Group,0',\n",
       " 'Lisa Harmon,31,11743.24,0,5.3,2010-06-06 5:12:39,\"2190 Fox Mountains North Jennifer, WV 75027-6097\",Le LLC,0',\n",
       " 'Stephen Jenkins,30,12788.37,0,4.31,2009-08-22 20:21:57,USNV Perry FPO AE 07826-0914,Everett-Taylor,0',\n",
       " 'Misty Tate,40,5218.49,0,3.8,2006-11-16 4:13:27,\"12915 Jeffrey Canyon Blackshire, AS 18084\",Soto PLC,0',\n",
       " 'Isaiah Noble,44,10526.18,0,7.67,2009-09-21 12:50:42,\"08820 Foster Via Suite 564 Barkerview, ME 82495-3527\",Taylor-Bradley,0',\n",
       " 'Jeff Davis,43,8583.5,1,4.39,2014-08-23 3:44:26,\"115 Andrews Vista South Kristinchester, SD 82774-5194\",\"Klein, Dalton and Doyle\",0',\n",
       " 'Stacey Harding,39,11008,0,4.42,2007-12-22 13:07:46,\"454 Sara Ways New Brandistad, AL 82361\",Robinson-Koch,0',\n",
       " 'William Perkins,42,9625.89,1,5.84,2014-02-03 0:37:05,\"54740 Jeffrey Place Apt. 914 Amandaland, MI 87447\",Mills-Howe,0',\n",
       " 'James Contreras,46,11119.11,1,3.51,2008-12-08 9:23:02,\"10454 David Greens South Jenniferbury, FM 87283-5336\",Taylor-Robbins,0',\n",
       " 'Brian Morse,46,9982.55,1,4.75,2009-05-05 4:56:19,\"7865 Gutierrez Expressway Suite 948 Tiffanyside, AR 59662-2367\",Robinson Inc,0',\n",
       " 'Jennifer Hernandez,39,11159.46,0,3.95,2010-08-23 13:43:19,\"1526 Jessica Corner Suite 592 Lindsayshire, OH 56989-0550\",\"Howe, Carpenter and Washington\",0',\n",
       " 'Heather Figueroa,36,12668.26,0,4.54,2007-06-27 2:09:55,\"945 Blankenship Plain Suite 062 East Christopherville, MI 15647-1190\",Martin and Sons,0',\n",
       " 'Russell Marks,38,9087.9,0,2.7,2015-02-10 10:17:54,\"310 Taylor Walks Apt. 649 Lake Shane, MD 23982\",Mcknight and Sons,0',\n",
       " 'Riley Gill,41,9091.21,0,4.55,2007-10-20 8:11:50,\"30353 Amber Extension Apt. 202 Austinberg, VA 89084\",\"Robertson, Young and Mcfarland\",0',\n",
       " 'Brian Love,44,8755.02,1,5.71,2010-06-15 2:58:42,\"43677 Smith Mission Meganview, VA 54055\",Quinn and Sons,0',\n",
       " 'Lauren Walker,37,6362.93,1,6.8,2007-08-02 2:34:57,\"599 Graham Courts North Katherine, WI 92642\",Young-Newman,0',\n",
       " 'Melanie Bender,48,13189.35,0,3.25,2006-01-18 3:29:38,\"007 Shaw Trafficway Patrickstad, PA 29094-0827\",Richardson-Keller,0',\n",
       " 'Samuel Castillo,47,10584.71,0,6.05,2006-04-14 4:20:32,\"63139 Kristin Locks Suite 522 Lambton, WI 60723-5177\",Jimenez-Thompson,0',\n",
       " 'Ashley Soto,49,9853.64,1,6.95,2012-01-01 21:48:50,\"275 Thompson Street Lake Nathan, AS 67338-1025\",Brown Inc,0',\n",
       " 'Adriana James,36,10448.09,0,4.13,2016-04-09 9:02:14,USNV Ferguson FPO AP 58507,\"Doyle, Butler and Coleman\",0',\n",
       " 'Andrea Salas,42,11473.38,1,2.87,2015-03-19 22:32:48,\"308 Graham Corners Valeriehaven, SC 12062\",Blackwell PLC,0',\n",
       " 'Erik Johnson,39,8986.28,0,4.36,2007-12-12 11:10:13,\"6987 Weiss Flats Apt. 770 North Maria, MS 98836-9686\",Lewis Group,0',\n",
       " 'Christopher Whitehead,33,13314.19,0,5.45,2007-01-10 1:47:23,\"323 Farmer Cape Apt. 744 Jonathanfort, NJ 29387-2732\",Harvey-Mckay,0',\n",
       " 'Casey Mcdaniel,41,9918.77,0,4.02,2016-03-04 4:04:37,Unit 5523 Box 7609 DPO AA 77484-6339,Bishop and Sons,0',\n",
       " 'Jeremiah Lee,45,12783.21,1,4.47,2015-12-02 8:14:08,\"03538 Gonzalez Forges Hamiltonbury, CA 87284\",Snyder PLC,0',\n",
       " 'Jennifer Patterson,46,7026.18,0,6.3,2012-01-31 23:08:54,\"01546 Jared Key Justinview, OR 04118-6027\",\"Carlson, King and Murray\",0',\n",
       " 'Lawrence Morton,48,9706.88,0,6.45,2006-08-24 18:32:46,\"0434 Douglas Ridge Suite 884 Raychester, DE 82008\",Clark LLC,0',\n",
       " 'Jeffrey Hunt,42,10236.95,1,5.71,2013-12-11 11:20:57,\"479 Samantha Groves Suite 505 Morrowshire, CA 94582-2855\",Garcia Group,0',\n",
       " 'Gina Richardson,33,13157.08,1,5.04,2006-08-14 9:24:11,\"44577 John Keys Robertview, FL 73433-8410\",Murphy Inc,0',\n",
       " 'Richard Farmer,44,8588.46,1,7.77,2012-05-07 9:58:33,\"115 Courtney Springs Suite 396 Jenniferland, IL 43853-4718\",\"Schroeder, Hines and Thompson\",0',\n",
       " 'Brian White,48,7778.73,1,4.18,2013-01-09 6:06:37,\"PSC 1209, Box 3739 APO AE 03896\",\"Martinez, Ochoa and Jennings\",0',\n",
       " 'Richard Meadows,42,10268,0,5.33,2007-09-14 4:40:41,\"64425 Brittany Common Joycechester, NE 85166-7648\",\"Thompson, Rojas and Moore\",0',\n",
       " 'Omar Moore,34,9845.35,0,4.82,2008-12-04 20:34:33,\"960 Joseph Landing South Philip, MH 88524-5021\",Ortiz-Nixon,0',\n",
       " 'Tasha Reed,37,11912.13,0,5.67,2011-02-19 18:04:28,\"575 Kara Shores Anthonyburgh, VT 30056\",Price Group,0',\n",
       " 'Albert Clayton,33,12115.91,1,5.5,2010-08-09 0:14:20,Unit 6274 Box 5329 DPO AA 54598,\"Mann, Roberts and Hoffman\",0',\n",
       " 'John Mejia,35,10801.37,1,5.64,2014-12-04 7:09:16,\"1159 Charles Mountain Elainechester, ND 45109\",Adams-Crawford,0',\n",
       " 'Diane Terry,53,13173.82,0,5.26,2007-10-15 3:45:59,\"543 Bell Ranch Apt. 002 Kevinfurt, ID 14051-9447\",\"Walton, Barnes and Simon\",0',\n",
       " 'Christina Maldonado,49,9940.76,0,5.72,2006-08-28 11:16:01,\"483 Douglas Club Apt. 632 Port Valerie, PW 88649-6413\",\"Moreno, Green and Moreno\",0',\n",
       " 'Kathryn Malone,46,12261.79,1,3.72,2010-02-17 15:02:40,\"52750 Roberts Via Stephenstad, ME 82199-5372\",Stewart-Nichols,0',\n",
       " 'Cynthia Burns,47,12987.28,0,5.86,2007-08-30 7:15:35,USCGC Gould FPO AP 18053-9165,\"Perez, Miller and Mcdowell\",0',\n",
       " 'Christina Reed,51,4523.91,0,3.98,2013-03-06 1:02:20,\"53000 Mary Bypass New Markbury, IL 60012-4197\",Atkins Group,0',\n",
       " 'Brittney Stokes,41,6172.23,0,4.28,2013-11-11 4:06:44,\"1045 Kimberly Avenue South John, AR 19601\",Hood-Webb,0',\n",
       " 'Mary Griffin,49,6283.67,0,6.35,2007-01-07 4:15:59,\"91062 Michelle Underpass Lloydmouth, ND 88737\",Mathews-Clark,0',\n",
       " 'Carla Wolfe,48,7232.06,1,4.9,2009-11-21 12:47:28,\"67507 Brittany Prairie Apt. 279 Solisborough, VA 81388-7017\",Ross Group,0',\n",
       " 'Emily Little,35,6683.82,1,7.82,2015-05-06 23:55:35,\"1779 Jessica Glen West Tylerport, VT 62988-2923\",Moore PLC,0',\n",
       " 'Jason Santana,39,9408.96,1,3.83,2011-09-30 6:15:01,\"8072 Kathy Harbors Apt. 845 Normanburgh, MA 46572-1532\",Gonzalez LLC,0',\n",
       " 'Willie Proctor,47,8291.93,0,4.47,2012-04-28 20:15:34,\"62726 Tracey Passage Apt. 685 South Brittany, RI 28461\",Schmidt Group,0',\n",
       " 'Todd Harris,41,10017.82,0,6,2012-09-10 22:22:18,\"28501 Shawn Village Apt. 894 New Jasonhaven, WY 35010-3731\",\"Henry, Warren and Lyons\",0',\n",
       " 'Kimberly Nichols,38,7320.49,0,1.58,2008-01-16 23:56:07,\"4920 Byrd Ford Danielbury, VI 04457\",King-Rodriguez,0',\n",
       " 'Derek Russell,43,8817.29,0,3.19,2010-05-28 12:49:08,\"2445 Jean Row Vasquezbury, RI 25867-8317\",Hartman-Smith,0',\n",
       " 'Robert Huff,36,8948.86,0,7.37,2010-12-05 10:46:23,\"36802 Wallace Parkways Jacquelineland, IL 81451\",\"Carlson, Guerra and Daniel\",0',\n",
       " 'Kelly Terry,45,3689.95,1,5.01,2014-10-09 10:05:06,\"3798 Johnson Gardens Hughesside, PR 65467\",\"Ellis, Johnston and Sullivan\",0',\n",
       " 'Francisco Martinez,52,8185.22,1,5.76,2016-10-12 21:52:56,\"842 Hebert Wells Suite 823 North Tina, WI 75284-1996\",\"Washington, Watson and Jarvis\",0',\n",
       " 'Jason Garcia,43,9347.89,1,4.17,2009-01-19 11:50:29,\"751 Robert Lock Suite 515 Smithmouth, KS 83199-2220\",Reid and Sons,0',\n",
       " 'Daniel Johnson,42,12888.85,1,4.79,2010-03-30 4:37:57,\"01614 Parker Garden New Patricia, SD 99014\",Turner and Sons,0',\n",
       " 'Gregory Blake,41,5387.41,1,4.17,2013-03-26 16:02:49,\"25024 Rasmussen Haven Port Brendantown, UT 25626-9953\",\"Brooks, Sutton and Castro\",0',\n",
       " 'Richard Odonnell,38,7605.49,0,6.99,2014-03-13 19:27:04,\"0297 Mendoza Motorway Lisastad, IN 31184-3807\",\"Lewis, West and Snyder\",0',\n",
       " 'Monica Espinoza,45,8480.93,0,4.57,2009-06-26 10:22:40,\"602 Jennifer Brook Suite 753 North Alison, NJ 24477\",\"Pratt, Carter and Lopez\",0',\n",
       " 'David Hansen,29,11274.46,1,4.43,2014-03-31 7:43:29,\"742 Ortiz Street Apt. 568 Robertland, AS 94732-7050\",\"Crawford, Scott and Smith\",0',\n",
       " 'Elizabeth Chandler,43,13116.73,0,3.57,2006-04-15 3:59:33,USNS Garcia FPO AA 23264-4875,Morris Inc,0',\n",
       " 'Michael White,32,7896.65,0,7.12,2015-10-17 17:47:44,\"48465 Susan Summit Suite 561 Hawkinston, WY 60818\",Hawkins-Mckay,0',\n",
       " 'William Pacheco,36,12086.92,1,5.52,2008-03-11 20:48:20,\"PSC 6149, Box 2267 APO AA 69767-2977\",Wilkerson-Miller,0',\n",
       " 'Dr. Brandon Adams,42,10500.77,0,5.68,2013-06-22 6:20:23,\"93971 Jacob Flats Port Shannonton, IN 95823-2039\",Friedman-Carroll,0',\n",
       " 'William Burns,38,7673,1,7.42,2006-02-25 19:40:22,\"432 Allen Station North Rebecca, MA 78424-2850\",\"Santos, Hughes and Miller\",0',\n",
       " 'Jack Ortega,42,14242.7,0,5.79,2009-06-09 7:44:13,\"49625 Joseph Mountain West Brandon, AL 19037-8797\",Anderson-Evans,0',\n",
       " 'Jonathan Cooley,40,6590.63,1,4.52,2012-03-12 14:56:55,\"3012 Kimberly Lights West Teresa, CA 83239\",Larsen-Johnson,0',\n",
       " 'Erin Norris,37,15070.32,0,6.91,2016-01-02 16:43:22,\"081 Randy Crest Apt. 821 South James, LA 27688-1775\",Garcia LLC,0',\n",
       " 'Michael Grant,37,13717.41,1,6.5,2014-03-31 8:16:48,\"2978 Luke Cape Tracyfort, NJ 87595-8510\",\"Flores, Davis and Duncan\",0',\n",
       " 'Connor Knapp,41,9219.95,1,5.21,2015-09-21 16:18:10,\"7805 Kerri Route Marystad, UT 08020\",\"Smith, Simpson and Wolf\",0',\n",
       " 'Megan Jenkins,65,10430.5,0,6.5,2013-03-10 14:36:47,\"3462 Teresa Falls Apt. 035 Charlesview, MS 09689-7606\",Bates-Ramos,0',\n",
       " 'Sarah Hall,45,5200.06,1,6.33,2014-05-05 13:36:19,\"3930 Baker Square North Michaelside, PR 98680\",Sanchez-Brown,0',\n",
       " 'Tony Schneider,43,11197.42,1,3.48,2009-04-30 13:55:51,\"329 Pierce Place Apt. 176 North Tammybury, WV 17594\",Harper-Noble,0',\n",
       " 'Karen Peterson,45,13650.64,0,4.96,2010-04-05 2:15:49,\"1721 Diana Canyon Suite 811 Dukemouth, NC 04129-3149\",\"Moore, Donaldson and Stevens\",0',\n",
       " 'Tiffany Case,42,7351.72,0,5.26,2015-09-26 1:05:29,\"0792 Denise Lodge Apt. 903 Jenniferchester, HI 96154-9657\",Clark Inc,0',\n",
       " 'Mary Sanchez,33,10306.21,1,6.36,2011-12-20 17:01:00,\"073 Joseph Knolls Apt. 112 West Mary, NV 59877\",\"Smith, Wright and Price\",0',\n",
       " 'David Moran,37,10147.22,0,6.63,2014-07-02 6:46:25,\"278 Barbara Divide Suite 780 North Elizabeth, SC 44587-8722\",\"Harris, Mcdonald and Johnson\",0',\n",
       " 'David Lopez,48,10528.71,0,5,2007-09-17 5:36:30,\"1630 Robert Points Apt. 793 East Jonathonberg, NH 78592-4122\",Good Inc,0',\n",
       " 'Cynthia Nguyen,41,10054.6,1,4.93,2015-04-28 16:20:32,\"PSC 5666, Box 1288 APO AE 26505\",Sullivan-Weaver,0',\n",
       " 'Brittany Smith,45,8595.24,0,6.4,2012-11-08 6:43:24,\"151 Sara Springs Lake Davidside, AK 46384-8806\",Patrick-Walker,0',\n",
       " 'Laura Smith,45,6681.61,1,5.6,2010-06-16 21:05:45,\"1723 Galloway Groves Apt. 026 Timothystad, PR 36052-9128\",\"West, Gonzales and Shields\",0',\n",
       " 'Michael Dominguez,29,10203.18,1,5.82,2014-01-03 23:18:09,\"3043 Walters Loaf Suite 575 Christophermouth, TN 25692\",Guzman-Hunter,0',\n",
       " 'Paul Wagner,42,10427.12,0,6.64,2011-06-04 23:57:31,\"49936 Colleen Stream Port Elizabeth, MN 80287-5385\",\"Santos, Jackson and Guerrero\",0',\n",
       " 'Calvin Coleman,39,10388.38,0,5.1,2013-07-09 16:29:09,Unit 9127 Box 5819 DPO AE 24161,Stark-Clarke,0',\n",
       " 'Lisa Burton,39,9353.38,0,4.06,2014-02-04 2:19:31,Unit 9800 Box 2878 DPO AA 75157,Smith-Alexander,0',\n",
       " 'John Gonzales,42,11756.06,0,4.88,2014-07-31 14:15:33,\"3880 Denise Curve South Christopher, NC 79432\",\"Martin, White and Hernandez\",0',\n",
       " 'Linda Hubbard,40,12295.95,1,5.69,2010-01-08 23:22:21,\"8983 Benjamin Run South Kelseytown, AZ 03915\",Vincent Group,0',\n",
       " 'Rachel Hull,40,7819.46,1,4.77,2014-07-03 11:47:51,\"02794 Edward Summit Suite 660 Victoriahaven, TN 44165\",Taylor LLC,0',\n",
       " 'Tracy Ray,34,10674.92,1,3.09,2006-08-15 20:48:58,Unit 3715 Box 1153 DPO AA 36768-7501,Wise Inc,0',\n",
       " 'Sarah Bailey,37,10989.43,0,6.62,2013-07-14 15:25:42,\"56493 Becker Stravenue Suite 006 West Anna, MS 49275\",Spencer and Sons,0',\n",
       " 'Aaron King,46,7504.79,0,5.98,2007-05-13 20:42:11,\"38346 Smith Prairie Arnoldside, MD 33861-4885\",Hernandez PLC,0',\n",
       " 'Bradley Washington,46,9306.05,0,5.35,2016-01-01 18:31:30,\"149 Paula Divide Vazquezfurt, MN 57597-1890\",Smith and Sons,0',\n",
       " 'Holly Caldwell,37,11523.63,1,3.56,2014-10-29 11:21:21,\"020 Amy Groves Suite 845 Phillipsport, AL 40594\",\"Spencer, Young and Shaw\",0',\n",
       " 'Cheryl Bruce,44,9613.84,1,4.38,2014-06-18 19:25:33,\"PSC 5054, Box 2004 APO AP 20629\",\"Oconnor, Hernandez and Bailey\",0',\n",
       " 'Megan Flynn,48,13298.38,0,2.99,2015-12-06 16:55:18,\"86354 Brenda Manor Port Stevenmouth, NC 39915\",\"Smith, Shelton and Williams\",0',\n",
       " 'Amanda Williams,37,8614.75,0,5.03,2011-07-07 15:43:46,\"79676 Johnson Villages Apt. 089 Reyesstad, DC 78510\",Jones-Fisher,0',\n",
       " 'Amy Morris,45,9951.97,1,4.4,2015-04-01 19:58:01,\"017 Gutierrez Fork New Benjamin, VA 99400\",\"Patel, Smith and Campos\",0',\n",
       " 'Teresa Garcia,46,11343.33,1,3.69,2012-09-20 5:52:41,\"2374 Jackson Walks Larryberg, PW 89438-7588\",Ibarra and Sons,0',\n",
       " 'Thomas Mcintosh,38,10026.44,1,6.85,2014-01-12 2:04:27,\"510 Alexander Pike New Scottfort, NV 46217-8559\",Garrett Ltd,0',\n",
       " 'Justin Friedman,38,8473.65,1,4.78,2010-11-29 19:37:15,\"9195 Erin Terrace Suite 818 Lake Feliciaberg, NV 64016-8747\",Garcia-Johnson,0',\n",
       " 'Whitney Beasley,42,12989.06,0,5,2010-03-15 16:50:19,\"PSC 3448, Box 5424 APO AE 92778-0504\",Knight Inc,0',\n",
       " 'Beverly Perry,38,12893.47,1,5.69,2012-11-20 5:53:31,\"3145 Cruz Mill North Deborahstad, AR 02085\",Mathis Ltd,0',\n",
       " 'David Sweeney,34,7324.32,0,6.69,2014-12-16 2:23:49,\"755 Ashley Motorway Suite 227 West Rachel, NH 67933-7552\",\"Adams, Dominguez and Vasquez\",0',\n",
       " 'Amber Williams,40,8530.23,1,3.66,2012-03-02 18:33:21,\"2896 Diana Spur Suite 985 New Tami, IN 56915\",\"Lee, Daniels and Ryan\",0',\n",
       " 'Lisa Murray,46,10675.86,0,3.33,2014-12-06 22:07:07,\"943 Briana Circles Lake Joseph, UT 22842-6913\",\"Herring, Lee and Taylor\",0',\n",
       " 'Jose Hoffman,43,10300.24,0,6.44,2008-06-15 13:51:40,\"244 Johnson Court Lake Justin, MD 66889-8251\",Rice PLC,0',\n",
       " 'Regina Kirby,41,10921.54,0,5.07,2015-09-04 11:32:49,\"310 Amy Underpass Suite 089 Lake Kevin, DC 23138-4553\",Schaefer-Berry,0',\n",
       " 'Shawn Ramirez,42,10527.52,1,8.42,2008-02-03 2:07:40,\"7873 Trevino Tunnel Angelamouth, AZ 84280\",\"Gilbert, Bennett and Lindsey\",0',\n",
       " 'Ruben Thomas,44,8338.05,0,6.57,2008-02-15 18:36:24,\"919 Bennett Gateway Russochester, SC 57606\",Cohen-Rodriguez,0',\n",
       " 'Austin Palmer,36,9593.71,0,3.98,2009-03-21 0:05:24,\"85112 Raymond Ridge Suite 934 East Christinachester, CO 33248\",Lynch-Davies,0',\n",
       " 'Anthony Hall,46,11537.69,1,6.37,2011-01-24 7:40:18,\"0910 Bell Mount West Lindseyview, MS 35802\",Kelly Group,0',\n",
       " 'Richard Gardner,35,12936.64,1,3.73,2010-07-31 2:11:17,\"617 Diane River Lake Jillianton, TX 91296-2338\",Alexander-Reed,0',\n",
       " 'Destiny Morales,40,8815.24,0,5.63,2012-11-15 4:23:07,\"108 Oscar Rapids Port Vanessa, KY 23348-6290\",\"Martin, Flores and Graham\",0',\n",
       " 'Brittany Murphy,42,12300.94,1,6.89,2007-06-19 9:53:56,\"892 Elizabeth Mission Apt. 511 West Leslieville, WA 98000-6023\",\"Schmidt, Johnston and Kaufman\",0',\n",
       " 'Tony Soto,35,11830.36,1,4.41,2006-10-01 16:57:42,\"227 Jennifer Park Smithbury, TN 22659-9788\",Nichols-Wade,0',\n",
       " 'Sharon Torres,36,14715.53,1,5.73,2014-01-31 0:05:00,\"983 Carl Run Apt. 446 West Christina, NM 45895\",\"Blanchard, Hawkins and Torres\",0',\n",
       " 'Brenda Fuentes,44,9214.98,1,6.44,2016-03-04 14:24:53,\"443 Shari Plains Apt. 479 Tiffanyside, TN 88122\",\"Boyd, Jennings and Gutierrez\",0',\n",
       " 'Rodney Evans,49,8092.13,0,6.32,2011-10-22 19:12:36,\"025 Ricky Ford East John, AS 71101-1423\",Simmons Inc,0',\n",
       " 'Robin Woods,41,12008.34,1,4.94,2009-12-24 12:36:10,\"404 Joshua Estate Apt. 074 Jacobsonside, CT 88758-3164\",Bright PLC,0',\n",
       " 'Jennifer Anderson,38,11803.58,1,6.97,2015-12-15 11:48:35,\"521 Charles Lakes Lake Michaelland, NE 42708\",\"Stewart, Sanchez and Valentine\",0',\n",
       " 'Tabitha Love,37,13498.28,1,7.06,2007-11-23 13:38:04,\"8308 Rhodes Crest Apt. 745 Beckyfurt, KS 20974-1928\",Stein PLC,0',\n",
       " 'Diana Carroll,46,9601.95,0,5.9,2011-08-10 4:56:18,\"3270 Barnes Station Suite 780 Lake Blake, TN 43554-9146\",Rubio-Humphrey,0',\n",
       " 'Matthew Jacobs,54,13184.51,0,6.04,2013-03-20 17:57:42,\"507 Harris Summit East Kevin, WY 06036-0197\",\"Nichols, Carter and Goodman\",0',\n",
       " 'Rebecca Prince,36,4690.57,1,5.41,2012-01-25 0:45:38,\"209 Daniel Springs Suite 388 Port Courtneybury, PW 27640-7474\",Sandoval-Mcgrath,0',\n",
       " 'Eric Smith,37,11416.56,0,6.06,2006-04-03 4:29:08,\"166 Julie Vista Apt. 132 Lake Sarahborough, HI 29875\",Thomas-Curtis,0',\n",
       " 'Jeffrey Hernandez,56,9940.54,1,6.57,2014-03-04 7:00:57,\"2739 Jackson Mission Rojashaven, WI 86960\",Thompson-Elliott,0',\n",
       " 'William Newman,35,13680.25,1,5.79,2011-10-07 15:43:59,\"3785 Duran Lodge Port Nicholashaven, MH 08892-1815\",Williams-Charles,0',\n",
       " 'Ashley Smith,29,5900.78,1,5.56,2007-09-19 6:55:51,\"663 White Tunnel Suite 995 Port Joseph, PR 93959-2444\",\"Jones, Reyes and Cross\",0',\n",
       " 'Sandra Mcintyre,36,10339.05,1,6.88,2010-08-02 9:34:35,\"10676 Ferguson Ranch Suite 380 Lake Parker, OH 23498\",Cowan Inc,0',\n",
       " 'Robert Joseph,46,11538.57,1,7.93,2015-04-03 16:15:00,\"95222 Lisa Turnpike South Laurenburgh, NC 33273-8443\",Cortez Inc,0',\n",
       " 'George Chavez,43,7178.92,1,5.32,2007-12-15 0:13:30,\"63837 Jessica Valleys Apt. 645 East Jasmine, WV 26260-6871\",\"Rodriguez, Moore and Cunningham\",0',\n",
       " 'Joshua Walters,51,8840.51,0,2.7,2012-08-28 14:56:34,USS Mcdonald FPO AA 93590,Bennett Ltd,0',\n",
       " 'John Howard,47,14154.26,0,4.73,2012-08-19 15:56:39,\"PSC 9026, Box 5801 APO AE 43474\",Cantu Inc,0',\n",
       " 'Deborah Howell,42,10583.76,0,6.51,2006-08-18 5:47:20,\"9609 Harper Dale New Danieltown, AR 80238-4616\",Ortiz Ltd,0',\n",
       " 'Terry Diaz,46,11401.63,0,6.13,2014-06-30 15:46:07,USNV Rose FPO AP 67907-1654,\"Charles, Cruz and Marshall\",0',\n",
       " 'Roberto Gonzales,41,7495.6,1,6.57,2009-11-29 8:47:17,\"13697 Hale Burgs Apt. 574 Jamesfort, UT 03958-6187\",Davis and Sons,0',\n",
       " 'Jesse Mitchell,36,8878.96,1,4.66,2016-06-24 8:32:37,\"4563 Rebecca Rest Lisaville, GA 03268\",\"Dunn, Hopkins and Adams\",0',\n",
       " 'Linda Allen,37,11111.59,1,6,2013-11-01 0:22:56,\"9111 Harris Throughway Roblesfurt, MA 91589\",Butler-Alexander,0',\n",
       " 'Heather Hernandez,42,8519.64,0,3.99,2006-03-01 7:20:00,\"6815 Andrea Isle Lindseyborough, OR 26077-2763\",\"Carr, Esparza and Flores\",0',\n",
       " 'Ryan Chapman,44,12361.42,1,3.7,2014-11-13 21:11:21,\"PSC 3188, Box 1421 APO AA 49368-5290\",Williams Ltd,0',\n",
       " 'Anthony Mooney,41,9014.9,1,4.45,2010-11-19 4:30:56,\"9131 Russell Court Suite 160 South Michellefurt, PW 79597\",Knight-Price,0',\n",
       " 'Timothy Henry,42,6081.5,0,3.73,2011-04-22 16:14:18,\"73765 Crystal Terrace Apt. 641 Ramirezfort, GU 82626-0948\",\"Norris, Chavez and Martinez\",0',\n",
       " 'Vanessa Hayes,43,10944.65,1,2.62,2010-06-24 21:15:32,\"820 Kristin Lock Suite 348 Emilyhaven, WI 45502-8866\",Casey-Stevens,0',\n",
       " 'Timothy Jacobs,40,11764.35,1,5.54,2006-09-16 5:57:02,\"835 Potter Field Apt. 413 Port Kristina, IL 58467\",Lawson-Jones,0',\n",
       " 'Austin Melendez,44,12155.91,1,4.11,2009-07-30 18:11:19,\"697 Mcdowell Pike Lake Phillip, LA 32009-7853\",\"Carlson, Ramos and Johnson\",0',\n",
       " 'Brittany Green,41,11971.75,1,5.38,2011-02-13 18:26:31,\"1241 Wiley Motorway Prattchester, TN 32961-5246\",\"Smith, Stein and Mueller\",0',\n",
       " 'Michael Perry,41,14080.95,1,4.61,2015-06-09 20:51:48,Unit 2093 Box 1530 DPO AA 53596-7800,Stone PLC,0',\n",
       " 'Theresa Martinez,41,6204.86,1,6.08,2016-05-12 17:50:46,\"21267 Nixon Coves Moorestad, NH 93322-8817\",Howell-Valdez,0',\n",
       " 'Jessica Gutierrez,39,4994.48,0,5.02,2016-07-29 12:56:50,\"0347 Glenn Springs Kellyview, GU 58381-4038\",Moreno-Sharp,0',\n",
       " 'James Franklin,36,11047.43,0,5.98,2006-04-11 5:00:15,\"399 Herbert Key Port Thomas, PR 14265\",\"Wright, Myers and Garcia\",0',\n",
       " 'Julie Francis,40,12925.64,0,4.04,2013-03-16 6:25:16,\"6656 Edward Manors Apt. 704 Flynnshire, GA 70372\",\"Frank, Knox and Robinson\",0',\n",
       " 'Marissa Nguyen,36,8233.25,1,4.35,2013-08-24 22:54:43,\"8541 King Spur Suite 184 Aliciafurt, AZ 39457\",Mueller LLC,0',\n",
       " 'Marie Bauer,39,9282.33,0,4.52,2009-04-08 21:56:15,\"8923 Nunez Cove Apt. 302 New Allisonmouth, MP 01493\",Bell-Kelly,0',\n",
       " 'Thomas Brown,46,13383.25,1,5.27,2010-04-06 23:18:17,\"5098 Daniel Village Apt. 434 North Josephmouth, NJ 26103-2939\",Brown-Estrada,0',\n",
       " 'Julie Moore,40,8911.91,0,6.99,2014-11-20 15:27:54,\"67368 Karen Ford Suite 722 Gonzalezfort, MH 57379-8391\",Huynh Inc,0',\n",
       " 'Nicole Jacobson,41,8783.13,1,6.2,2009-10-08 16:00:31,\"029 Bill Alley Apt. 087 West Kenneth, UT 32896\",\"Hoffman, Leach and Smith\",0',\n",
       " 'John Davis,35,12654.35,0,1.66,2011-11-01 14:43:46,\"88854 Sarah Lake Suite 435 Lake Steven, MD 39080\",Gordon-Pruitt,0',\n",
       " 'Crystal Mccullough,40,6773.23,1,4.29,2006-10-17 12:23:47,\"323 Adams Circles Andersonmouth, VI 05122-6749\",Hall-Branch,0',\n",
       " 'Michael Patterson,31,9574.89,0,7.34,2009-01-27 11:02:57,\"8392 Heather Camp Mackenziefurt, NE 44919-3028\",\"Anderson, Brown and Montes\",0',\n",
       " 'Brianna White,45,9722.92,1,3.35,2006-01-07 19:04:44,\"087 Kimberly Ridges Thomasbury, MA 73601\",Alexander LLC,0',\n",
       " 'Austin Hays,41,9516.87,0,4.94,2008-06-15 3:31:07,\"55004 Schmidt Fort Apt. 448 North Samanthaland, AR 63822\",Austin Ltd,0',\n",
       " 'Tammy Kelley,38,6638.87,1,5.61,2014-07-20 9:42:45,\"41822 Wright Loop Apt. 718 West Kendrabury, CO 10948-4798\",Smith and Sons,0',\n",
       " 'Monique Delgado,30,10960.52,1,5.96,2007-03-04 2:41:15,\"781 Cassie Flat Austinville, AS 10515-8328\",Silva-Guerra,0',\n",
       " 'Timothy Mcdonald,52,11093.87,0,4.38,2016-09-30 14:28:53,\"6685 Marie Unions Suite 385 West Kevinfort, MS 77092-9463\",Smith-Hawkins,0',\n",
       " 'Donald Barrett,51,10323.07,1,7.03,2014-01-14 10:48:37,\"107 Melissa Manors Suite 419 East Teresashire, ME 40421-3419\",Zhang-Brown,0',\n",
       " 'Darin Alexander,43,15858.91,1,4.51,2008-08-11 2:19:38,\"82216 Garrison Coves Apt. 482 Heathertown, MS 60762\",Anderson Group,0',\n",
       " 'Joseph Taylor,40,11309.18,0,4.91,2008-08-07 15:34:43,\"170 Kenneth Flats South James, AL 78065\",Robertson-Nelson,0',\n",
       " 'Catherine Martin,32,12142.99,0,5.01,2013-07-04 23:28:04,\"75224 Powell Point Apt. 653 Lake Norma, AZ 05753\",Lee Inc,0',\n",
       " 'Amber Carr,44,10965.95,1,4.11,2012-07-03 18:49:25,\"95266 Mary Fort West Kennethmouth, WV 43523\",\"Davis, Mccormick and Carson\",0',\n",
       " 'Brenda Walls,51,10877.81,1,8.35,2006-05-10 4:40:16,\"078 Nunez Haven Suite 032 East Bradley, SC 36621-1197\",\"Jones, Black and Schneider\",0',\n",
       " 'Carol Young,38,7491.55,0,5.66,2015-07-28 21:21:12,\"31037 Gregory Creek Brooksmouth, FL 10099\",Dunn LLC,0',\n",
       " 'James Shah,47,9324.49,1,4.91,2007-11-28 21:26:52,\"66256 Danielle Ford New Maureen, MS 47550\",\"Wilson, Collins and Lee\",0',\n",
       " 'Julie Mitchell,45,9034.21,0,6.89,2011-06-20 1:07:56,\"8195 Alan Junctions Lake Angela, SC 48151-1612\",Jenkins-Johnson,0',\n",
       " 'Martha Green,54,11856.28,0,6.19,2014-03-14 17:28:59,USCGC Patrick FPO AP 72386,\"Anderson, Webb and Gordon\",0',\n",
       " 'John Long,41,9191.02,1,5.89,2013-06-10 16:50:14,\"3142 Michael Shores Apt. 648 Port Kyleview, MA 08135-5259\",\"Hernandez, Peck and Martin\",0',\n",
       " 'Ricky Stewart,41,10617.16,0,6.26,2006-04-28 11:11:54,\"927 Joseph Lights Lake Anthonyborough, ID 34724\",\"Sutton, Black and Tate\",0',\n",
       " 'Cassandra Proctor,49,11321.2,0,4.89,2006-03-07 0:11:21,\"1780 Sherry Circle Ruizbury, WI 73815-9062\",\"Smith, Moran and Gonzales\",0',\n",
       " 'Kenneth James,41,15516.52,0,3.53,2016-01-07 7:31:58,Unit 7222 Box 4339 DPO AP 13281,Wright Group,0',\n",
       " 'Shawn Hughes,52,5647.92,0,5.08,2009-03-16 0:10:13,\"89503 Hurley Wells Suite 603 Port Garrettmouth, MI 00879\",Powell-Medina,0',\n",
       " 'Kim Adams,30,8677.28,1,7.31,2006-10-13 13:08:25,\"766 Vanessa Villages West Michelle, VA 51730\",\"Wiley, Macdonald and Lewis\",0',\n",
       " 'Katie Wagner,43,15423.03,1,2.41,2007-05-26 3:19:15,\"4331 Tyler Fall Williamfurt, NC 10542-4839\",\"Galloway, Thornton and Diaz\",0',\n",
       " 'Joshua Cole,38,8097.01,0,4.32,2011-12-15 7:22:56,\"65431 Elizabeth Rest Apt. 912 Lake Stephanie, SD 65477-1657\",Miller LLC,0',\n",
       " 'Tony Mathews,47,9148.74,1,6.38,2012-03-26 6:23:51,\"8471 Jason Spur Jasminemouth, AL 19070\",\"Navarro, Williams and Escobar\",0',\n",
       " 'Andrew Kent,45,12374.97,0,4.66,2011-12-24 17:00:01,\"79904 Jacobson Wells Apt. 852 Josephfort, NV 94414\",\"Briggs, Cross and Norris\",0',\n",
       " 'Nancy Riley,36,8646.72,0,6.33,2007-04-23 20:03:58,\"65795 Shepard Flats New Sheila, NJ 22914-4957\",\"Thompson, Mendez and Morales\",0',\n",
       " 'Dr. Tina Le,53,10338.09,1,5.07,2007-04-07 9:21:14,\"94016 Hill Village Suite 984 New Kristyfort, TN 68508-8351\",Steele LLC,0',\n",
       " 'Jonathan Brown,38,13019.89,1,6.65,2011-01-24 12:28:51,\"073 Ryan Haven Suite 323 New Jonathan, DC 25812-0853\",Munoz-Pearson,0',\n",
       " 'Amy Baldwin,41,13743.42,0,3.92,2009-11-01 10:37:02,\"596 Erica Route Apt. 258 New Janice, IN 57273\",Morgan-Garcia,0',\n",
       " 'Gary Bryant,39,8646.2,0,2.94,2010-07-21 16:56:35,\"636 John Road Suite 304 Morrisonshire, MN 04090-3035\",Newman-Phillips,0',\n",
       " 'Jeffrey Thompson,42,6523.74,0,2.71,2013-06-06 3:51:01,\"7280 Douglas River Apt. 701 Suzanneport, KS 56534\",\"Peters, Rodriguez and Smith\",0',\n",
       " 'Johnny Watts,56,8626.48,1,5.07,2011-06-13 5:25:22,\"62761 Edwin Overpass Joshuabury, PA 98754-4095\",\"Jacobs, Martinez and Bond\",0',\n",
       " 'Stephanie Juarez,41,5191.08,0,6.29,2016-12-07 2:57:32,\"026 Brown Springs Suite 306 Lindsayville, MD 06840\",\"Gonzalez, Willis and Moody\",0',\n",
       " 'James Velazquez,38,7097.52,1,4.68,2009-08-11 9:43:19,\"91449 Warren Land Hallberg, SD 39520-2416\",\"Williams, Wilcox and Mitchell\",0',\n",
       " 'Erin Hall,41,13277.82,0,4.84,2009-02-21 5:30:35,\"43775 Michael Curve Apt. 937 South Patricia, MN 13454-1801\",Lawson-Carter,0',\n",
       " 'Justin Campos,53,3263,1,2.77,2013-11-11 22:49:58,\"3483 Davis Viaduct Guzmanmouth, RI 60858\",Hall-Butler,0',\n",
       " 'Jessica Flores,52,14669.61,0,6.28,2012-08-30 14:53:07,\"38975 Jennifer Harbor Apt. 491 West Cody, WA 38692-1960\",Wright Ltd,0',\n",
       " 'Richard Bell,47,13359.2,1,4.55,2016-07-29 8:39:49,\"007 Davis Squares Flynnchester, SC 79849\",Anderson Group,0',\n",
       " 'Betty Bowers,43,12078.39,1,6.06,2014-10-31 16:00:04,\"79062 Henson Expressway Williamsview, PR 54326-7935\",Davis Ltd,0',\n",
       " 'Rebekah Burns,48,8513.75,1,8.24,2009-11-19 11:01:38,\"81006 Armstrong Falls Suite 944 New Kellyborough, SD 34820-7157\",\"Bruce, Craig and Fletcher\",0',\n",
       " 'James Rivas,38,9557.2,0,4.47,2007-01-10 7:29:46,\"90866 Harmon Radial North Jennifermouth, MI 55389\",\"Allen, Hernandez and Bryant\",0',\n",
       " 'Robert Terry,44,6517.22,0,4.55,2010-04-23 0:50:01,\"3480 Joseph Hollow South Stanley, ME 17014-2360\",Cole-Hartman,0',\n",
       " 'Christian Mann,40,4762.81,1,5.12,2008-03-10 1:30:38,\"53545 Susan Views Suite 594 New Pamela, OK 73980-0288\",Gallagher-Foster,0',\n",
       " 'Christopher Yates,45,6452.83,1,4.41,2012-08-20 15:56:22,\"PSC 7127, Box 3035 APO AP 88800-1111\",\"Hernandez, Middleton and Brewer\",0',\n",
       " 'Cynthia Daniels,31,8688.21,0,3.58,2007-09-06 18:15:23,\"496 Klein Ports Quinnstad, NE 67656\",Jackson-Terry,0',\n",
       " 'Kellie Ryan,32,12254.75,1,5.32,2014-05-26 11:13:57,\"275 Patricia Hills Ronnieborough, AK 71437-9508\",\"Reeves, Flores and Bauer\",0',\n",
       " 'David Payne,39,5914.3,1,2.3,2008-03-30 6:50:39,\"882 Schneider Inlet Paigeburgh, NJ 33304\",Aguirre LLC,0',\n",
       " 'Henry Cook,45,11486.53,1,5.5,2009-12-08 0:18:10,\"071 Michelle Green New Jasonview, AL 90525-9261\",\"Newton, Shepard and Berg\",0',\n",
       " 'Jamie Moore,51,6114.85,1,4.7,2013-11-10 1:54:40,\"435 Hernandez Inlet Apt. 727 Josephfort, RI 51403\",Herrera-Dodson,0',\n",
       " 'Kimberly Lewis,52,11828.78,0,5.95,2013-09-17 17:17:24,Unit 6752 Box 0928 DPO AA 53116-2490,Fischer-Garrison,0',\n",
       " 'Darren Chavez,35,10166.67,0,4.65,2009-11-17 17:45:03,\"PSC 5667, Box 8312 APO AP 00654\",\"Hatfield, Lane and Solomon\",0',\n",
       " 'Andrea George,43,12691.45,0,4.45,2014-09-19 8:46:46,\"9089 Jennifer Brooks Suite 571 New Lisa, WA 53342-5359\",\"Johnson, Fields and Anderson\",0',\n",
       " 'Luis Evans,45,9903.78,1,5.31,2009-05-19 7:17:00,\"9273 Scott Springs Suite 665 Mcintyreland, DC 54306\",\"Coffey, Lopez and Taylor\",0',\n",
       " 'Jonathan Collier,46,10363.63,0,5.84,2016-08-10 20:11:33,Unit 2672 Box 5909 DPO AE 56165-8636,\"Turner, Hodges and Turner\",0',\n",
       " 'James Adkins,35,8475.8,0,3.37,2013-09-10 12:56:26,\"2311 Henderson Centers Conniehaven, MP 16886-3947\",\"Taylor, Reynolds and Hoffman\",0',\n",
       " 'Tamara Keith,39,13091.92,1,4.74,2014-01-13 13:54:31,\"82367 Austin Square Suite 115 New Cheyenne, UT 08356-0301\",Mueller Ltd,0',\n",
       " 'Teresa Thompson,37,13036.52,1,3.83,2009-02-26 12:56:01,\"762 Donald Field Suite 361 South Ronald, ME 08806\",\"Snow, Martin and Fowler\",0',\n",
       " 'Andrea Ortiz,40,9521.35,0,5.8,2009-01-12 14:37:14,\"7645 Huff Lights Suite 209 Stephenmouth, GA 01888\",\"Barron, Tapia and Black\",0',\n",
       " 'Stefanie Miranda,37,5039.46,0,4.08,2007-09-12 16:27:24,\"002 Gutierrez Mountains Hayesburgh, GU 73502-4691\",Morrison-Pennington,0',\n",
       " 'Becky Cardenas,51,13762.79,0,7.52,2006-09-11 4:55:09,\"9103 David Drives Wilsonport, PA 79287\",Lewis LLC,0',\n",
       " 'Maria Stanley,46,8941.92,1,5.43,2010-01-15 17:22:51,\"17836 Julie Drives North Thomas, MI 27198\",\"Conner, Munoz and Wilson\",0',\n",
       " 'Judy Montes,32,12479.72,0,4.67,2015-03-20 2:09:45,\"405 Amanda Junctions West Dustinshire, MH 84757-2573\",Fischer PLC,0',\n",
       " 'Nicole Williams,41,9139.73,1,5.15,2011-08-21 1:38:14,\"05077 Richard Lane Apt. 002 New Tracy, FM 56599-7849\",\"Bautista, Strong and Campbell\",0',\n",
       " 'Dalton Sexton,46,10406.58,0,7.24,2015-10-24 15:49:39,\"91864 Tommy Manor Suite 933 East Tyrone, MN 86821\",\"Hall, Taylor and Charles\",0',\n",
       " 'Michael Payne,44,11768.65,0,5.54,2006-03-06 0:42:56,\"59672 Nash Cove Apt. 855 Jeremyshire, GU 93725\",Campbell-Davenport,0',\n",
       " 'Keith Bowman,46,14664,0,6.54,2012-09-30 2:34:16,\"36569 Richard Run Jacksonmouth, MN 02512\",Garrett-Turner,0',\n",
       " 'Jason Phillips,46,8418.81,1,7.19,2014-09-29 0:31:41,\"8928 Benjamin Summit Suite 264 North Samanthabury, AR 01364-7776\",Davis-Bass,0',\n",
       " 'Christopher Daniels,34,6461.86,1,4.61,2008-10-15 13:31:12,\"88563 Jeffery Manor North Mathew, OK 19970-2973\",Schultz-Newman,0',\n",
       " 'Lindsey Moreno,39,14317.2,0,5.03,2014-12-02 15:56:37,\"38769 Zachary Road Apt. 706 Port Michaelview, MA 73304-2019\",Davies-Braun,0',\n",
       " 'James Evans,42,4492.44,1,6.43,2013-01-16 16:29:49,\"17140 Andrea Motorway Apt. 798 Amychester, WV 88972-7283\",Hughes Ltd,0',\n",
       " 'Kristine Moreno,29,13240.01,1,4.58,2012-08-09 16:07:08,\"541 Mills Rest Lake Cynthia, PR 71752\",Garcia Ltd,0',\n",
       " 'Stefanie Whitaker,35,7814.68,1,5.99,2013-08-27 0:56:45,\"7967 Waters Way Suite 678 New Ericport, HI 48528\",King-Frye,0',\n",
       " 'Monica Todd,35,11255.38,0,6.28,2007-04-04 8:32:31,\"104 Ruben Rapid Apt. 107 New Andrea, FM 58602\",Peterson PLC,0',\n",
       " 'Matthew Beck,49,13165.68,0,5.49,2010-02-10 17:43:27,\"29322 Linda Via Martinside, IA 14495\",Taylor-Cain,0',\n",
       " 'Donna Good,37,12713.9,0,9.15,2009-11-23 17:54:49,USNV Hill FPO AE 43418,\"Alexander, Goodwin and Johnson\",0',\n",
       " 'Sarah Flores,40,11527.08,1,5.04,2007-11-17 9:06:40,USNV Morgan FPO AE 62096-4614,\"Cervantes, Rice and Strickland\",0',\n",
       " 'Joshua Kirby,54,8375.73,1,4.42,2007-10-24 3:45:18,\"5079 Cole Circle New Patriciaton, CT 49306-7555\",Moore-Johnson,0',\n",
       " 'Keith Robertson,41,11968.78,0,5.08,2010-11-21 12:52:01,\"52601 Burns Lane West Courtney, TN 00410-3545\",Spencer Group,0',\n",
       " 'Dustin Dodson,48,7761.2,0,7.02,2011-01-12 13:52:07,USNV Villanueva FPO AE 89160-6979,\"Serrano, Moss and Bass\",0',\n",
       " 'Frances Jenkins,32,6367.22,1,2.84,2015-01-03 18:57:56,\"80428 Harris Islands Ethanfurt, CT 42032-8161\",Boyd-King,0',\n",
       " 'Deborah Meyer,44,7599.36,1,6.41,2008-01-10 11:48:03,\"47051 Luna Mission North Susanchester, MH 55279-4332\",Smith Group,0',\n",
       " 'Latasha Schwartz,40,7642.2,0,5.04,2007-11-11 17:05:06,\"90098 Lloyd Drive North Johnside, AR 39045-5361\",Chambers-Wyatt,0',\n",
       " 'Ashley Jacobs,38,11621.67,1,6.11,2013-07-06 19:20:40,\"018 Mark Centers Suite 973 Mckinneyland, VT 26361-8406\",Williamson-Walker,0',\n",
       " 'Michael Brown,47,9365.92,1,4.37,2013-06-10 21:51:47,\"4972 Michael Village Suite 788 West Rachelstad, NH 04946-6243\",\"Smith, Diaz and Warren\",0',\n",
       " 'Darlene Cain,29,12711.15,0,5.74,2011-08-10 21:19:55,\"33852 Susan Pine Apt. 606 Lake Spencer, KY 80977\",Velasquez PLC,0',\n",
       " 'Abigail Gonzalez,55,8243.28,0,3.54,2014-01-09 19:52:37,\"325 Lawrence Crossing Suite 269 South Josephhaven, OK 53193-5178\",Nelson PLC,0',\n",
       " 'Christina Martin,51,10269.97,1,4.85,2007-08-09 12:55:22,\"43807 Barnes Bridge Lake Richardport, AR 10206-6207\",\"Carroll, Green and Jones\",0',\n",
       " 'Robert Adams,38,13366.66,1,5.64,2008-06-10 21:06:16,\"675 David Bypass Suite 331 West Andrea, VA 63193\",Powers Ltd,0',\n",
       " 'Megan Avila,40,12401.58,1,5.75,2013-11-18 16:25:52,Unit 6546 Box 3116 DPO AE 29548,\"Roberts, Edwards and Young\",0',\n",
       " 'Ann White,43,8950.33,0,6.76,2008-06-25 0:45:14,\"91968 Pena Stream Apt. 094 New Justin, GU 24101\",Hancock LLC,0',\n",
       " 'Dr. Lauren Brown,41,10806.13,1,4,2010-01-27 13:34:33,\"964 Long Road Suite 539 New Sharonmouth, ID 56171-3878\",Morales PLC,0',\n",
       " 'Shane Jones,38,7713.12,1,5.41,2016-02-15 15:45:14,\"PSC 2239, Box 8378 APO AA 67843\",Wise Inc,0',\n",
       " 'Amanda Moore,40,12455.75,1,6.64,2010-01-03 6:33:40,\"356 Vickie Vista North Michaelstad, WA 26856\",\"Green, Jackson and Green\",0',\n",
       " 'Daniel Thompson,33,7492.9,0,6.71,2009-10-13 17:35:31,\"243 Laura Gateway Mitchellport, FL 53705-6256\",Maldonado-Goodwin,0',\n",
       " 'Andrew Moreno,43,12068.39,1,3.59,2008-03-28 21:32:43,\"60669 Rivera Lights Suite 982 Michaelside, AK 96751\",Williams Group,0',\n",
       " 'Catherine Lucas,40,7837.67,1,5.66,2009-05-18 15:10:36,\"979 Joel Run Suite 561 Darlenetown, WA 27272\",Andrade-Cook,0',\n",
       " 'Natalie Williams,45,9721.59,0,3.43,2006-07-24 16:11:01,\"5605 Dunn Union Suite 923 Shanefort, IL 28178-4110\",Nguyen Ltd,0',\n",
       " 'Mark Gordon,41,10028.23,1,5.52,2007-11-25 17:41:30,\"56171 Hunt Fall Herreratown, OR 59549\",Cole-Johnson,0',\n",
       " 'Mrs. Ashley Guerra,34,10466.56,0,5.34,2016-11-07 8:01:15,\"3314 Lisa Row Suite 484 Port Stephanieview, KY 15941-8359\",Garza PLC,0',\n",
       " 'Emily Roberson,36,12879.7,0,4.7,2013-07-08 19:24:53,\"41199 Welch Stravenue Apt. 518 South Crystalshire, IA 58998-2407\",Clements-Summers,0',\n",
       " 'Matthew Lane,49,13078.28,1,4.06,2008-02-22 10:20:36,\"59446 Kaufman Trace East Josephburgh, HI 36514\",\"Carter, Brown and Richards\",0',\n",
       " 'Darren Brown,49,11584.59,1,4.84,2010-05-28 21:29:01,\"080 Amber Village Apt. 472 Schroederbury, AZ 32357\",Hall PLC,0',\n",
       " 'Alyssa Harper DDS,45,9874.69,1,2.41,2006-09-04 7:20:52,\"63593 Hector Mission South Williambury, IA 79862-2416\",Garza-Alexander,0',\n",
       " 'Jennifer Wood,48,11585.16,0,4.61,2012-03-13 3:24:04,Unit 5568 Box 1967 DPO AE 15638,\"Gray, Campbell and Chandler\",0',\n",
       " 'Taylor Grant,39,10643.67,0,5.54,2015-05-16 14:20:40,Unit 2836 Box 5288 DPO AP 28958-4427,Barnett-Herrera,0',\n",
       " 'Ryan Brown,34,12397.49,0,4.93,2016-01-24 10:04:25,\"91641 Wright Views Stephenstad, MT 83238-3650\",\"Gutierrez, Garcia and Miller\",0',\n",
       " 'Peggy Allison,40,10780.71,1,5.33,2016-03-12 23:44:45,\"913 David Mall Hooperburgh, MT 76387\",Nelson-Murray,0',\n",
       " 'Douglas Acosta,40,8801.13,0,7.52,2016-05-26 20:27:02,\"81459 Sarah Brook Suite 370 Lake Michael, MA 20035-7310\",\"Clayton, Ferrell and Gaines\",0',\n",
       " 'Victoria Hughes,45,7325.93,1,6,2009-05-16 11:03:26,\"0918 Taylor Trail Apt. 385 West Caleb, ND 20637-7455\",\"Douglas, Briggs and Sawyer\",0',\n",
       " 'Michael Knox,36,7342.14,0,5.51,2015-10-08 18:55:05,\"0115 Carter Camp Suite 403 New Andreashire, OK 92778\",Scott and Sons,0',\n",
       " 'Laura Wright,37,12154.25,1,5.15,2015-06-17 23:25:47,\"9534 Dodson Streets North James, TX 66878\",\"Cunningham, Jackson and Schultz\",0',\n",
       " 'Alexandra Phillips,32,9472.72,1,1,2009-03-26 5:25:30,\"078 Ortega Vista Lake Gabriella, OK 18890-5973\",\"Smith, Harris and Black\",0',\n",
       " 'Lori Medina,39,3676.68,1,3.52,2008-07-16 11:36:45,\"PSC 1874, Box 9238 APO AP 68299\",\"Garcia, Hansen and Austin\",0',\n",
       " 'Kristin Davis,50,6857.29,0,4.69,2014-07-08 19:50:15,\"090 Sara Track Apt. 195 Mooremouth, MP 50670\",\"Gonzalez, Castro and Martinez\",0',\n",
       " 'John Richardson,52,10133.36,0,4.6,2014-02-24 17:27:19,\"77435 Christopher Union Apt. 871 New Christophermouth, MA 95513-2675\",Martinez Inc,0',\n",
       " 'Daniel Brown,51,4992.6,0,3.85,2016-02-12 22:38:03,\"701 Alan Corners Port George, KY 15579-3799\",Mosley Ltd,0',\n",
       " 'Eugene Rowe,50,12941.12,1,5.51,2015-06-23 9:54:27,\"45548 Henderson Islands Bakerside, WV 92882-7688\",Powell-Parker,0',\n",
       " 'Cody Middleton,36,11040.16,0,4.52,2010-04-14 22:03:19,\"86871 Jimenez Crest Suite 849 East Bruce, MO 68426-6342\",Lawrence and Sons,0',\n",
       " 'Kevin Chapman,35,8058.73,0,6.88,2016-02-29 18:23:40,\"40094 Manning Pass Travisburgh, MT 80542\",Ortega Group,0',\n",
       " 'Margaret Moore,44,10638.65,0,5.54,2010-06-04 3:04:12,\"2556 Grant Points New Christopherton, CA 76121-6565\",Wright PLC,0',\n",
       " 'Edwin Young,49,10226.43,0,6.02,2014-02-27 10:46:12,\"6467 Brett Dam Houstonchester, DE 13162\",\"Graham, Jones and Gonzalez\",0',\n",
       " 'Teresa Bean,38,12020.62,0,4.41,2007-02-14 0:56:53,\"4962 Christian Squares North Belinda, OK 98156-7957\",Garza LLC,0',\n",
       " 'Justin Moore,51,12780.22,0,6.06,2015-04-04 11:06:11,\"7790 Paul Street Sandraside, AR 55085\",\"Callahan, Miller and Wallace\",0',\n",
       " 'Sarah Morgan,51,6662.59,1,5.27,2009-10-03 9:42:47,\"2458 Tyler Flats Suite 696 Rebeccaburgh, VA 79274\",Braun-Cook,0',\n",
       " 'Amanda Hernandez,38,10298.29,1,5.07,2015-05-31 21:15:18,\"4792 Amy Wall Apt. 296 Olsenchester, VA 69141-5857\",\"Barry, Brown and Smith\",0',\n",
       " 'Tammy Williams,52,9065.28,0,3.99,2009-12-13 18:17:02,\"6720 Barbara Square Christopherchester, UT 54226\",Lawrence-Johnson,0',\n",
       " 'Lawrence Gordon,44,8817.22,1,6.53,2009-09-23 9:35:38,\"4041 Wise River Suite 828 West Todd, AR 08725-4767\",\"Austin, Roberts and Cox\",0',\n",
       " 'Jodi Thompson,35,11391.46,1,7.59,2011-12-28 11:02:25,\"4379 Sandoval Stravenue Suite 998 New Ryanberg, NM 05443-2529\",Soto PLC,0',\n",
       " 'Michelle Roberts,43,12531.39,0,3.97,2013-04-28 5:02:18,\"5351 Ford Pike Apt. 399 Ericshire, IA 72849-0011\",Marshall-Ho,0',\n",
       " 'Colton Foster,43,9200.69,1,2.6,2012-12-25 6:18:00,\"01690 Andrews Park Wrightville, IN 00886\",\"Jennings, Stout and Spencer\",0',\n",
       " 'John Gardner,52,13368.21,1,4.09,2006-12-23 18:35:26,\"16214 Henry Mission Pearsonside, PR 88434\",\"Sherman, Lopez and Moran\",0',\n",
       " 'Holly Flores,47,15878.11,1,2.05,2012-05-21 12:56:15,\"37362 Anthony Corner Suite 462 Port Saraton, ND 49109-1547\",Reyes-Crawford,0',\n",
       " 'William Branch,33,7720.61,1,4.97,2012-04-16 7:05:14,\"90937 Andres Springs Apt. 164 Lindaland, TX 51026-5011\",Mullen and Sons,0',\n",
       " 'Patricia Mckinney,34,9270.9,0,6.19,2007-04-29 18:47:02,\"04146 Ronnie Mission Suite 310 Nicoleshire, CT 39413-3387\",\"Lewis, Green and Garcia\",0',\n",
       " 'Brandon Compton,44,8274.32,0,5.7,2016-07-21 2:39:27,\"202 Richard Extensions Apt. 994 Pamelachester, IL 73985-9604\",Sanchez-Cardenas,0',\n",
       " 'Monica Hernandez,38,9347.47,0,8.47,2006-01-23 16:23:17,\"8151 Ross Gardens Apt. 699 Randallton, NM 53386-6929\",Finley-Moore,0',\n",
       " 'Kathryn Petersen,40,12453.72,1,4.83,2006-10-03 9:45:00,\"4030 Sullivan Viaduct Apt. 877 Lake Anthony, VT 89429\",Nguyen-Wright,0',\n",
       " 'Shelia Phillips,39,8644.07,1,4.48,2016-05-14 14:37:08,\"451 David Vista Apt. 799 Danielsview, ND 69312\",Norman-Holloway,0',\n",
       " 'Sally Smith,45,11575.84,0,5.51,2012-08-02 9:18:11,\"75262 Robert Centers Apt. 728 Vanessaside, TX 96244-2416\",Webb PLC,0',\n",
       " 'Joshua Huff,49,8268.74,1,5.21,2009-01-19 4:53:55,\"064 Laurie Manor Suite 944 East Jimmy, IN 53776\",\"Rivera, Perkins and Brown\",0',\n",
       " 'Daniel Washington,54,12147.83,1,4.17,2013-05-14 16:58:55,\"1537 Mccullough Canyon Rodriguezview, AZ 74625-8762\",Reeves-Scott,0',\n",
       " 'Joseph Anderson,48,8093.03,1,4.26,2016-10-12 23:20:12,\"1317 Mcdaniel Plaza Suite 219 Colleenview, TX 81040-7425\",Ingram LLC,0',\n",
       " 'Kylie Reynolds,28,9090.43,1,5.74,2014-06-18 0:45:51,\"118 Natalie Islands Apt. 040 Lake Elizabeth, CO 60710\",Cruz and Sons,0',\n",
       " 'Chelsea Marsh,41,9552.57,0,3.81,2015-02-05 6:36:19,\"854 James Ranch Smithfort, WA 12954\",Wright-Olson,0',\n",
       " 'Carlos Miller,47,9004.44,0,3.79,2015-03-08 8:03:14,\"506 Arnold Greens Apt. 335 South Kyleton, DC 78683\",Weaver Inc,0',\n",
       " 'Lindsey Adams,46,14361.38,0,4.52,2008-07-20 8:40:26,\"283 Mccarthy Fork Hubbardfort, PW 58105-7552\",Morris-Williams,0',\n",
       " 'Jerry Nguyen,36,8972.54,0,5.23,2009-06-16 4:20:31,\"059 Angela Manor Latashaburgh, ID 26923-6555\",Glenn-Nguyen,0',\n",
       " 'Mark Ingram,44,11611.28,0,5.8,2007-12-01 21:35:58,\"5035 Donald Points Suite 375 West Shirleyhaven, TN 41021\",Smith-Lewis,0',\n",
       " 'Casey Hess,43,9399.92,1,4.98,2014-08-07 7:57:26,\"132 Angela Station Suite 770 Hillfort, LA 66223-8625\",David-Woods,0',\n",
       " 'Gary Odom,37,7982.38,1,4.29,2009-01-15 17:39:15,\"0349 Kimberly Ridges Michaelburgh, AK 08955\",Moran Inc,0',\n",
       " 'John Snyder,36,6930.95,0,5.19,2013-06-01 17:31:57,\"271 Rachel Village Westport, MT 33566-5694\",Hardin Group,0',\n",
       " 'Karen Wade,38,11667.01,0,3.8,2015-10-21 23:30:18,\"726 Jackson Lakes Apt. 693 Kennethshire, NM 58470-9850\",Mitchell-Clark,0',\n",
       " 'Kathleen Salazar,31,5387.75,0,6.83,2008-02-07 9:54:03,\"226 Zimmerman Haven Suite 223 Lake Jennifer, IN 39817\",Morales-Miles,0',\n",
       " 'Mary Frank,33,10709.39,1,5.22,2006-02-02 12:29:48,\"11007 Tara Plains Apt. 842 South Amy, AK 31218\",\"Ellison, Pace and Vaughan\",0',\n",
       " 'Lisa Reid,41,11623.42,1,4.18,2009-12-29 17:39:03,\"499 Joshua Ramp Blankenshipmouth, AL 61436\",Acosta PLC,0',\n",
       " 'Nathan Hammond,53,9683.85,0,5.89,2006-09-07 18:40:40,\"731 Danielle Roads Suite 482 Lisaburgh, ME 92139\",\"Smith, Burke and Gonzales\",0',\n",
       " 'Theresa Terry,44,8819.13,1,4.38,2010-05-21 4:43:55,\"2927 Butler Keys Suite 851 West Christophermouth, MS 35752-5027\",\"Campbell, Moore and Garrett\",0',\n",
       " 'John Jones,44,7736.13,1,4.48,2013-06-06 9:25:02,\"2297 Jackson Island Robertsfort, NH 79212-4023\",Day LLC,0',\n",
       " 'Teresa Smith,45,7158.66,1,6.25,2006-07-24 22:52:02,USCGC Fleming FPO AA 06534-5672,Villarreal-Ellis,0',\n",
       " 'Heather Thompson,50,9248.87,0,4.56,2014-01-30 10:39:34,\"896 Lewis Wells Martinezstad, MO 12686\",\"Jacobs, Arnold and Schwartz\",0',\n",
       " 'Melanie Cain,40,11916.26,0,4.51,2015-01-10 0:21:48,\"3046 Harrison Plains Montgomeryberg, ID 86180\",Sims and Sons,0',\n",
       " 'Kenneth Graham,50,9641.61,0,3.09,2010-06-09 21:23:11,\"43996 Parks Spring Hooperland, TX 05090-6018\",King-Atkinson,0',\n",
       " 'Abigail Jennings,36,12309.23,1,4.76,2012-03-11 17:10:26,USS Mcgrath FPO AP 33786-7308,\"Simpson, Byrd and Miller\",0',\n",
       " 'Andrea Ford,40,11362.95,0,4.37,2010-10-08 22:11:05,\"2519 Martin Ports Suite 635 Martinport, AL 55438\",Patton Group,0',\n",
       " 'Johnathan Gonzalez,56,10074.4,1,5.17,2009-10-30 2:30:39,Unit 2030 Box 0281 DPO AE 67952-0118,Dixon PLC,0',\n",
       " 'Katie Khan,40,10762.29,0,5.02,2015-02-08 22:43:00,\"05418 Smith Brooks Richardfurt, DE 40166-1384\",\"Gutierrez, Jones and Winters\",0',\n",
       " 'Michelle Johnson,30,8874.83,0,5.56,2006-10-11 7:09:44,\"844 Charles Circles Suite 483 Davisborough, MH 73164-8781\",\"Anderson, Miller and Wilson\",0',\n",
       " 'Hannah Best,51,5830.99,0,6.93,2011-09-21 20:54:11,\"PSC 5882, Box 7573 APO AA 41758-4009\",Cantrell-Paul,0',\n",
       " 'David Morrison,35,8297.87,0,5.42,2009-11-30 6:01:06,\"7000 Jack Lights Suite 115 Owensfurt, TN 18961-6571\",\"Carpenter, Johnson and Krueger\",0',\n",
       " 'Cindy Olson,33,5738.82,0,7.66,2014-08-02 9:05:53,\"423 Victoria Plain Suite 444 Brennanland, AL 79485-6882\",Mann Ltd,0',\n",
       " 'John Jackson,41,11655.82,1,7.92,2007-08-30 11:59:32,\"5026 Susan Extension Apt. 261 South Thomas, UT 52610\",\"Clark, Reid and Gardner\",0',\n",
       " 'Christine Livingston,47,7362.18,0,6.57,2012-09-20 8:19:58,\"2871 Campbell Ports Davenportmouth, MN 38485\",\"Sellers, Hendrix and Gonzales\",0',\n",
       " 'Mrs. Brittany Lopez,43,10938.11,0,3.21,2006-01-26 3:15:34,\"2493 Robert Road South Denise, IA 86444\",Brown-Weaver,0',\n",
       " 'Paula Willis,36,8514.8,1,4.01,2010-08-14 10:50:22,\"8191 Lopez Prairie Apt. 038 Cookefurt, DE 64637-6065\",Flores-Ochoa,0',\n",
       " 'Ryan Martin,34,8772.26,0,5.78,2014-02-14 14:40:14,\"930 Carrie Harbor Suite 044 New Adamtown, MP 74903\",Jones Inc,0',\n",
       " 'Roy Case,40,7656.02,1,5.62,2012-01-17 14:47:42,\"PSC 1326, Box 7408 APO AA 41399-9709\",\"Jennings, Gates and Villarreal\",0',\n",
       " 'Henry Krueger,41,10375.39,0,5.54,2007-08-30 15:27:50,USNS Conway FPO AE 45887,Berg PLC,0',\n",
       " 'Jaime Padilla,46,7684.02,1,6.24,2011-04-26 19:04:22,\"48403 Anderson Fields Apt. 103 New Jasonshire, NM 49852-3578\",Richardson LLC,0',\n",
       " 'Barry Gallagher,52,6805.48,1,6.05,2010-06-04 12:28:32,\"35333 Carla Keys Robinsonchester, CA 02095\",Butler PLC,0',\n",
       " 'Andrew Young,30,6744.87,0,5.14,2014-04-10 3:33:41,\"30316 Melissa Hills Apt. 368 Cynthiaborough, MN 06736\",Morris LLC,0',\n",
       " 'Amy Henderson,31,10058.87,1,6.54,2011-02-07 17:54:22,\"85837 Thomas Dam Nicholasview, MT 98793-4972\",Knox-Davis,0',\n",
       " 'Theresa Ford,40,9133.36,0,4.21,2015-01-19 23:48:25,\"9885 Mills Dale Suite 830 West Wendyton, WA 46448\",Thornton Inc,0',\n",
       " 'Donald Flores,46,11580.56,1,3.43,2014-05-09 4:48:30,\"30890 Gloria Oval Friedmanshire, OK 78837-9606\",Harris-Pratt,0',\n",
       " 'Sarah Schmidt,41,10631.84,1,3.47,2008-04-12 10:56:35,\"461 Alexandria Station Kennethton, WY 83953\",\"Thomas, Powers and Price\",0',\n",
       " 'Melissa Hall,32,10716.75,0,5.12,2006-09-27 19:54:44,\"550 Lindsay Bypass Suite 011 South Jamietown, MH 27730-3707\",\"Bates, Montgomery and Rodriguez\",0',\n",
       " 'Annette Taylor,41,10919.81,0,4.63,2013-04-07 23:27:11,\"27767 Amy Curve Lake Daniel, NM 73021-5259\",Zimmerman Group,0',\n",
       " 'Robert Allen,48,10241.32,1,7.25,2014-10-29 10:48:54,\"510 Nicholas Island Suite 493 Buckchester, MO 58572-4430\",Williams Ltd,0',\n",
       " 'Jessica Howard,46,9171.56,1,5.02,2011-11-07 15:05:12,\"8486 Brandon Fall Apt. 024 Matthewberg, SC 32892-2661\",Mullins Ltd,0',\n",
       " 'Michael Lam,40,7675.52,1,4.31,2012-05-27 0:16:23,\"63714 Sawyer Glens New Tonimouth, FL 73286-2490\",Olson-Davis,0',\n",
       " 'Nancy Thompson,36,13308.01,0,5.07,2009-01-20 0:52:46,\"847 Holly Loaf Apt. 839 East Nancyberg, DC 64194-2557\",Garcia-Mckinney,0',\n",
       " 'Steve Lewis,37,7961.21,0,2.91,2014-06-12 12:47:15,\"865 Mitchell Causeway Suite 183 Meredithshire, AR 80502-3040\",Clarke-Gonzalez,0',\n",
       " 'Amanda Brown,32,12403.6,0,4.99,2008-05-30 3:35:34,\"48681 Jensen Vista South Kevin, ND 80285\",Hoffman Ltd,0',\n",
       " 'Danielle Morris,46,10814.59,0,4.91,2010-05-09 12:25:07,\"773 Brenda Vista Jensenshire, CO 78345\",\"Cooper, Cohen and Knight\",0',\n",
       " 'Jessica Hernandez,31,8829.83,1,4.52,2006-02-02 21:26:07,\"6113 Jerome Locks North Trevormouth, GA 25773\",Hunt-Whitaker,0',\n",
       " 'Nicole Richards,52,7170.66,1,4.53,2014-05-11 16:14:02,\"0667 Bennett Forge Ingramchester, VI 46819-7446\",Fisher-Hamilton,0',\n",
       " 'Lauren Johnson,47,10332.16,1,4.89,2016-08-06 0:18:54,\"2959 Amanda Plain Suite 180 Webbside, NY 47046\",\"Davenport, Miller and Murphy\",0',\n",
       " 'Wendy Moore,41,14722.35,0,6.98,2011-05-28 8:09:09,\"8202 Jade Unions Suite 557 South Wesley, MS 12025\",Walker-Harris,0',\n",
       " 'Destiny Steele,39,13532.85,1,5.63,2010-11-13 11:16:01,\"0784 Arnold Mountains Apt. 356 Thompsonview, IL 54999-9574\",Hall LLC,0',\n",
       " 'Dakota Porter,41,7683.97,1,6.17,2007-08-23 19:38:19,\"1005 Butler Manors Richardland, KS 45645-6252\",Nguyen PLC,0',\n",
       " 'Sara Campbell,47,6398.91,1,5,2013-02-16 16:40:14,\"931 Soto Bridge Apt. 205 Michelleland, NM 64707-3332\",Conner LLC,0',\n",
       " 'Manuel Hill,37,14595.51,1,3.83,2007-01-02 22:09:08,\"7589 Munoz Mountain Port Gina, VI 08937-6155\",\"Hill, Abbott and Wu\",0',\n",
       " 'Douglas Lee,48,6783.99,1,3.89,2012-03-29 2:43:19,\"088 Ayala Crossroad Lindafurt, MI 82946-5835\",\"Jensen, Morton and Edwards\",0',\n",
       " 'Charles Doyle,35,8190.27,0,6.28,2012-03-07 17:36:31,Unit 1897 Box 1607 DPO AE 86804,Smith-Carroll,0',\n",
       " 'Rebecca Hamilton,45,9317.12,1,6.93,2013-12-16 7:56:06,\"75047 Jones Ports Apt. 238 Port Zacharymouth, HI 02693\",Lee-Roman,0',\n",
       " 'Dominique Kemp,40,10370.72,1,4.35,2016-03-28 2:06:48,\"478 James Spurs North Thomas, MT 77158-1870\",Richardson Inc,0',\n",
       " 'Thomas Parker,42,12277.9,1,5.1,2009-01-20 7:54:43,\"10575 Jacob Manors Apt. 623 Port Jonathanview, WV 63831-0620\",Cook LLC,0',\n",
       " 'Aaron West,55,10056.55,0,4.98,2006-09-01 6:11:47,\"071 Schmidt Locks Apt. 070 West Jessica, OK 60879-6593\",\"Cruz, Russell and Boyd\",0',\n",
       " 'Samantha Clark,35,12398.62,1,5.6,2016-11-17 9:21:44,\"0385 Smith Spring West Douglasmouth, CA 33773-7684\",Grimes Inc,0',\n",
       " 'Patrick Campos,40,10290.14,0,4.6,2013-10-23 1:16:36,\"53895 Michael Ways Port Michael, FM 10805\",\"Fernandez, Rodgers and Miller\",0',\n",
       " 'Kevin Hicks DDS,49,9957.26,0,4.76,2009-09-01 11:37:22,\"096 Dunn Street Jasonshire, NC 06461-2275\",\"Cooper, Mcguire and Nguyen\",0',\n",
       " 'Joseph Hall,35,13480.91,1,4.41,2008-06-19 23:34:20,\"6926 Martin Ramp Thomastown, AZ 58814\",Anderson PLC,0',\n",
       " 'Samantha Flores,39,11670.73,0,6.45,2006-06-24 0:46:18,\"793 Powell Fort Amandaview, GA 95747-4560\",Williams PLC,0',\n",
       " 'John Castillo,31,7073.61,0,5.73,2010-12-10 11:20:20,\"9831 Amy Square Holmesberg, RI 14826-3752\",\"Richmond, Daniels and Lee\",0',\n",
       " 'Christy Hamilton,45,9852.25,1,4.55,2009-08-14 22:27:57,\"41390 Vazquez Mall Billystad, VI 57475-0791\",\"Richard, Flores and Walsh\",0',\n",
       " 'Jay Mosley,40,6402.3,0,4.28,2015-05-05 10:00:10,\"885 Samantha Estates Apt. 694 Michaelland, NC 35223\",\"Martinez, Gonzales and Williams\",0',\n",
       " 'Sonya Lewis,48,9282.99,0,4.32,2015-09-19 12:58:19,\"191 Timothy Villages Suite 755 New Jamestown, NY 42120-2598\",\"Bowman, White and Shepherd\",0',\n",
       " 'Pamela Bell,37,8884.39,0,6.16,2016-02-27 17:13:08,\"9249 Bradford Parkways Suite 173 Amandaside, AK 12919-8330\",Jacobson PLC,0',\n",
       " 'Evan Davis,46,13296.89,1,4.81,2011-09-14 19:09:29,\"63845 Bell Mission Browninghaven, VA 72168\",Willis-Bradshaw,0',\n",
       " 'Jonathan Jones,35,7361.92,1,4.97,2014-03-11 15:01:22,USNS Ward FPO AP 80938,French and Sons,0',\n",
       " 'Richard Rojas,54,8092.55,1,4.55,2013-04-30 5:34:23,\"01175 Soto Place Lake Brittany, KY 33704-2728\",Dominguez-Fischer,0',\n",
       " 'Jerome Pitts,39,9528.99,0,5.97,2010-01-02 19:57:09,\"4909 Mcdonald Mews Johnsonmouth, CT 20707\",Brock-Lee,0',\n",
       " 'Yolanda Jackson,53,8122.34,0,3.51,2009-07-30 7:28:06,\"7248 Wheeler Forks South Wendyport, KY 21877-0885\",Smith Group,0',\n",
       " 'Jessica Wells,41,14738.09,1,6.5,2008-06-08 1:08:27,\"57837 Tammy Bridge Apt. 904 Lake Lindsey, NM 53078-4180\",Sullivan-Ramsey,0',\n",
       " 'Mark Choi,34,11687.29,0,4.54,2013-12-09 1:38:04,\"688 Tiffany Fork Wallacemouth, ND 74929-3917\",Estrada-Golden,0',\n",
       " 'Megan Wilson,43,7948.18,0,3.88,2006-03-29 0:55:50,\"871 Campbell Fall Allenville, NY 42045-5154\",Montgomery-Edwards,0',\n",
       " 'Kathleen Reid,42,7915.44,1,6.17,2013-07-15 10:20:14,Unit 7599 Box 9818 DPO AP 02154,Williams PLC,0',\n",
       " 'Walter Bates,40,10180.59,1,6.5,2012-08-10 9:19:49,\"58605 Wiley Manor Apt. 796 Atkinstown, TX 41691\",Jones LLC,0',\n",
       " 'Rita Young,44,8748.36,1,6.32,2015-10-06 18:31:32,\"4331 Quinn Fords Suite 546 Traceyfort, CO 47194-7606\",\"Butler, Riggs and Brown\",0',\n",
       " 'David Sanders,41,8021.05,1,3.16,2016-10-05 16:14:32,Unit 6283 Box 6735 DPO AP 09454-8286,Wilson PLC,0',\n",
       " 'Thomas Richardson,44,10445.76,0,7.02,2014-10-11 14:08:10,\"8204 Leach Point Suite 900 Port Melissafort, TN 80024\",Schmidt-Schroeder,0',\n",
       " 'Victoria Shaffer,34,9919.38,0,4.43,2015-08-06 2:01:43,\"2776 Maxwell Falls Lake Brian, MP 68585-6704\",Green LLC,0',\n",
       " 'Dwayne Ryan,39,10741.9,0,5.48,2013-03-09 0:30:34,\"676 Carlos Port Apt. 925 Anitamouth, VA 05134-0836\",Williams and Sons,0',\n",
       " 'David Moore,40,7380.48,1,6.45,2007-09-04 21:22:10,Unit 8071 Box 5003 DPO AE 63421-4620,\"Harris, Carter and Brown\",0',\n",
       " 'Matthew Huffman,45,9649.26,1,3.77,2016-05-09 0:40:38,\"1651 Amber Court Lake Robert, ND 52826\",\"Johnson, Brown and Frazier\",0',\n",
       " 'Mary Kent,42,9349.99,1,4.38,2011-12-09 19:21:29,Unit 0590 Box 7532 DPO AE 12062-5301,Houston-Cuevas,0',\n",
       " 'Molly Young,46,12849.1,0,4.97,2014-08-03 18:34:21,\"54656 Grant Junctions Suite 070 New Toni, NM 42346\",\"Silva, Wolfe and Ross\",0',\n",
       " 'Eric Castro,38,10770.82,0,4.99,2016-06-19 1:23:45,\"80338 Scott Trail New Sandraview, WV 30882\",Campbell-Willis,0',\n",
       " 'Tammy Johnson,35,8828.59,0,6.77,2008-07-23 6:09:07,\"653 Smith Avenue South David, GA 19037\",\"Carr, Mills and Wilson\",0',\n",
       " 'Mallory Powell,48,9921.89,0,3.73,2013-09-15 19:40:50,\"6312 Stuart Stravenue Port Wesleychester, MN 71667-5670\",Carter-Novak,0',\n",
       " 'Michael Nichols,45,6977.56,0,6.94,2007-02-24 23:32:47,\"13664 Brandon Trail Robertshire, AK 53957\",Rogers-Davis,0',\n",
       " 'Jason Stevenson,44,8580.85,0,5.52,2011-07-25 18:58:34,\"605 Stephen Glens Lake Juan, SD 28552\",\"Cruz, Moore and Olsen\",0',\n",
       " 'Andrea Warner,46,10469.5,0,6.54,2011-03-24 17:01:00,\"753 Hernandez Pines Apt. 505 North Manuelstad, MI 14141-9782\",Bailey LLC,0',\n",
       " 'Susan Casey,55,8907.17,1,7.6,2016-01-07 23:17:56,\"8392 Jose Islands Apt. 208 Davisbury, MA 60135-6097\",Jenkins and Sons,0',\n",
       " 'Billy Garner,46,10050.61,0,4.99,2009-11-06 13:24:18,\"68569 Sharon Centers Apt. 331 West Ryanport, FM 66389-2936\",Brooks Inc,0',\n",
       " 'Matthew Dixon,38,10522.6,1,5.46,2007-12-27 12:11:14,\"498 Oliver Station Suite 474 Lake Traceyberg, NV 37689-1762\",Mata LLC,0',\n",
       " 'Jessica Sharp,34,9265.59,0,5.77,2013-06-24 6:57:13,\"597 Jones Passage Apt. 958 Fischerbury, AK 60046\",Pittman Inc,0',\n",
       " 'Elizabeth Drake,40,10930.16,1,6.63,2014-05-28 16:08:41,\"540 Benjamin Villages East Ashley, TN 27044-8930\",Francis-Powers,0',\n",
       " 'Tina Schmidt,45,10668.91,0,7.21,2011-09-21 5:53:13,\"253 Megan Drive Apt. 447 Berryport, AL 03400-5942\",Hall Ltd,0',\n",
       " 'Elizabeth Kennedy,47,11335.97,0,6.84,2014-06-26 2:50:21,\"07770 Henry Ways Suite 523 Larsonchester, NE 05818\",\"Davis, Curry and Wallace\",0',\n",
       " 'Brandy Martinez,41,12247.91,0,5.08,2006-06-30 11:15:49,USNV Mcgee FPO AA 17726-1322,Smith Ltd,0',\n",
       " 'Trevor Henderson,47,9303.43,0,5.5,2010-04-14 20:39:00,USCGC Bailey FPO AA 06202-5064,Johnson-Rodriguez,0',\n",
       " 'Brandi Bryan,38,9826.29,0,4.93,2010-01-09 8:46:37,\"502 Kenneth Trace Apt. 355 Huntshire, HI 51078\",\"Graham, Wilson and Rios\",0',\n",
       " 'Curtis Robinson,37,10565.59,0,4.76,2006-01-28 1:22:53,\"59027 Andrea Neck Apt. 438 North Makaylaside, OR 67470-1233\",Pearson-Gonzales,0',\n",
       " 'Daniel Barton,44,9855.18,0,6.94,2011-06-10 20:04:28,\"551 Davis Crescent New Aliciaport, TX 94552-1600\",Davidson Group,0',\n",
       " 'Carolyn Cabrera,51,7810.06,0,5.99,2012-08-09 19:53:53,\"728 Sanders Centers Suite 047 Codyview, VI 66568\",Friedman-Smith,0',\n",
       " 'Mary Marshall,39,11144.51,0,4.25,2008-03-07 11:04:14,\"57559 Kelli Stream Apt. 332 Dunlapburgh, CA 43743-8629\",Chavez-Patterson,0',\n",
       " 'Thomas Campbell,36,8931.09,1,7.55,2006-09-13 4:18:55,\"PSC 9216, Box 6338 APO AP 73140\",Williams LLC,0',\n",
       " 'Christopher Clark,50,8929.88,0,5.63,2012-04-22 17:32:15,\"69666 Christian Forges Lake Noah, IL 14397\",Thompson-Mcdonald,0',\n",
       " 'Rose White,35,9435.2,1,6.23,2006-03-29 18:27:06,\"715 Ellis Squares New Kathleenland, NY 05913\",Vang-Stewart,0',\n",
       " 'Derek Martinez,40,11553.65,1,4.43,2011-08-29 6:35:54,\"3004 Nash Freeway North Craigville, CT 24488\",Kramer PLC,0',\n",
       " 'Wendy Key,60,9621.04,1,7.65,2013-03-06 7:43:23,\"98190 Gonzalez Drives Apt. 592 Lake Oliviachester, VT 54602-1656\",\"Taylor, Johnson and George\",0',\n",
       " 'Lisa Fisher,43,11401.42,0,3.63,2014-08-23 17:03:38,\"7234 Amy Forge Suite 123 East Sarah, DC 50257-3728\",Davis Inc,0',\n",
       " 'Kyle Hinton,43,10491.4,1,4.23,2014-09-14 6:55:15,\"7029 Fowler Pike Heathermouth, OK 59658-7247\",\"Woods, Herrera and Fritz\",0',\n",
       " 'Travis Howell,44,10585.86,0,5.54,2006-03-23 14:01:51,\"946 Glass Cliffs Suite 105 Ashleemouth, GU 89701-5653\",Schroeder-Phillips,0',\n",
       " 'Vanessa Donaldson,52,10697.72,0,8.35,2013-05-14 23:24:10,\"08605 Scott Stream Apt. 968 New Andrea, DC 08316-2838\",Davis Group,0',\n",
       " 'Kathy Robertson,37,11430.75,0,5.99,2015-01-02 20:11:15,\"7260 Boyd Shoal Thomasshire, MI 49243\",Graham LLC,0',\n",
       " 'Katie Nichols,48,8465.53,1,4.98,2008-09-06 15:15:27,\"PSC 5066, Box 5675 APO AP 96072-8914\",Murray Inc,0',\n",
       " 'Shannon Miller,35,7759.15,1,6.06,2013-07-18 22:25:07,\"826 Ross Causeway Wardshire, ME 25891\",Nelson LLC,0',\n",
       " 'Stacy Marshall,42,13081.64,0,4.66,2012-05-12 13:03:25,\"896 Kevin Orchard Apt. 755 West Rogerchester, KY 62941\",Daniels LLC,0',\n",
       " 'Heather Little,33,4711.89,0,4.97,2009-09-24 1:06:30,\"158 Aaron Station Apt. 788 Millsport, VA 88018\",Vaughan Group,0',\n",
       " 'Jose Rowland,36,12252.57,0,5.13,2014-02-11 19:43:34,\"186 Macdonald Causeway Woodstown, KY 52059-9294\",\"Ross, Martinez and Dawson\",0',\n",
       " 'Brittany Martinez,39,13029.61,1,4.83,2015-11-09 2:41:26,\"4019 James Street Apt. 731 North Carmen, OK 01929\",\"Ryan, Mcdonald and Garcia\",0',\n",
       " 'Charles Ellison,43,10746.69,0,8.62,2011-08-30 12:50:46,\"7082 Paul Divide Suite 132 New Nicolas, WI 35732\",Mills Group,0',\n",
       " 'Dr. Kathleen Wiley,45,8665.79,0,5.09,2008-08-31 5:40:54,\"1615 Angela Valley Henryfurt, ID 45145-3704\",Clark Group,0',\n",
       " 'Justin Roman PhD,34,5447.16,1,4.13,2014-01-13 16:11:54,\"489 Daniel Way Suite 895 West Yeseniamouth, ME 71475\",\"Horton, Byrd and Hernandez\",0',\n",
       " 'Daniel Todd,37,9772.95,1,3.81,2013-06-19 11:25:41,\"7960 Ryan Circles Wilcoxhaven, ME 98912\",Vega-Moss,0',\n",
       " 'Eugene Robertson,41,7464.08,0,3.74,2008-03-10 0:42:38,\"87999 Knight Pine Apt. 281 Morenoland, ID 20602-9996\",Miller-Wagner,0',\n",
       " 'Frank Chase,39,6168.66,1,4.71,2006-01-05 11:26:28,USNS Potts FPO AA 56275,\"Harvey, Thompson and Moss\",0',\n",
       " 'Nancy Martin,34,12567.53,0,3.36,2009-04-02 10:00:51,\"512 Wesley Stream West Scottborough, ND 44332-3438\",Diaz-Osborne,0',\n",
       " 'Duane Mcdonald,55,8280.03,0,6.33,2013-07-31 3:51:53,USNV Nielsen FPO AA 31326,Armstrong-Hicks,0',\n",
       " 'Heather Daniel,36,11274.98,0,4.12,2015-03-24 15:09:50,\"25793 Phillips Cliff Travisview, WV 48402-6882\",\"Martin, Dickerson and Roberson\",0',\n",
       " 'Michelle Berry,42,9635.87,1,2.43,2013-12-10 16:06:29,\"091 Mark Drive Suite 656 East Mirandaton, LA 67137-0061\",Clark and Sons,0',\n",
       " 'Claire Rivera,48,13743.12,1,4.83,2016-05-24 4:02:24,\"35166 Roberta Skyway Coreyfort, MO 59637-8470\",\"Wade, Rowland and Jenkins\",0',\n",
       " 'Benjamin Huff,45,8871.53,0,3.76,2007-03-06 12:55:46,\"205 Hall Mission Apt. 211 South Matthew, HI 81737-8521\",\"Hurley, Moody and Gomez\",0',\n",
       " 'Bradley Chambers,37,8818.03,1,2.89,2014-05-04 18:26:39,\"PSC 6159, Box 4526 APO AA 00585\",Wilson LLC,0',\n",
       " 'Terry Kelley,37,9788.78,0,5.24,2013-02-25 23:36:03,USCGC Lee FPO AE 62096-3283,Long-Williams,0',\n",
       " 'Kenneth Fuller,34,6131.92,0,4.17,2013-02-13 3:34:18,\"12801 Mcdowell Meadows Suite 614 Port Susanshire, OH 89980\",\"Campbell, Williams and Mccarty\",0',\n",
       " 'Stephen Reed,40,12043.27,1,5.04,2013-02-14 3:05:33,\"486 Washington Fields Josephhaven, VI 31007\",Todd LLC,0',\n",
       " 'Angela Holloway,40,12919.92,0,4.23,2009-10-29 16:25:56,\"7488 Dana Mountain Suite 133 Lake Desireeport, MD 40139-0534\",Ray-Rodriguez,0',\n",
       " 'David Carter,38,10367.14,0,5.92,2014-02-11 20:45:38,\"478 Wilson Gateway Apt. 606 New Tanyafort, WA 18702\",White Group,0',\n",
       " 'Nancy Bartlett,44,9063.16,1,4.76,2012-12-17 4:57:51,\"862 Parks Center Apt. 794 Barrfort, NV 83967-0913\",Porter-Dunn,0',\n",
       " 'Jason Hebert,40,10606.97,1,4.11,2013-03-19 10:44:41,\"26996 Nicole Ridge Suite 342 Lake Robertside, OK 04293\",Hawkins-Escobar,0',\n",
       " 'Gerald Mullins,42,8558.52,0,5.36,2009-06-04 17:54:25,\"10282 Megan Island Port Carla, FM 85303-6406\",Hamilton PLC,0',\n",
       " 'James Smith,43,11375.25,1,5.09,2013-04-29 23:11:25,\"6510 Debra Estates Port Lucasberg, NY 90239-6448\",\"Cooper, Martin and Reid\",0',\n",
       " 'Samantha Munoz,48,8514.24,0,4.61,2007-09-21 20:21:59,\"68861 Clarke Trail Apt. 668 Bakerchester, OK 24227\",Garza Inc,0',\n",
       " 'Megan Smith,39,12019.93,0,4.87,2010-09-26 3:46:36,\"733 Sophia Springs Suite 169 East Shawn, MO 90668-3810\",Stanley and Sons,0',\n",
       " 'Gregory Chandler,38,9419.66,1,5.24,2006-03-26 0:38:02,\"863 Marquez Brooks West Tommychester, MT 16982-2044\",Gomez-Petersen,0',\n",
       " 'Crystal Smith,33,10309.71,1,2.96,2014-01-28 7:38:46,\"893 Carla Trace Suite 132 Lake Aliciaport, AR 87567\",\"Chan, Patterson and Smith\",0',\n",
       " 'Juan Simmons PhD,47,10313.06,0,5.44,2010-11-08 2:42:38,\"496 Watts Roads East Alejandro, NC 70921-5585\",Martinez PLC,0',\n",
       " 'Monica Downs,34,13460.92,1,3.67,2007-05-25 8:54:55,\"53283 Collins Walk Suite 363 South Shawnfort, MS 76289\",Green PLC,0',\n",
       " 'Paul Wilson,54,10216.59,0,2.77,2008-01-17 16:01:24,\"8764 Wilson Plaza New Sharonview, MT 83968\",\"Williams, Mcintyre and Burns\",0',\n",
       " 'Sandra Hogan,37,12766.24,0,3.72,2010-06-14 20:59:29,\"12928 Heather Island Apt. 889 East Michelle, KY 96712-4016\",Yu-Murillo,0',\n",
       " 'Anna Wood,38,11360.99,0,4.5,2008-08-06 5:26:39,\"33021 Cody Falls Apt. 693 Bellfort, NM 76335-9037\",Miranda-Sloan,0',\n",
       " 'Patrick Edwards,47,9166.22,0,3.51,2015-03-19 5:04:02,\"215 Gardner Islands Apt. 747 East Jonathanmouth, AL 62844-5315\",Pierce and Sons,0',\n",
       " 'Matthew Clayton,41,8996.04,1,6.19,2011-04-20 6:33:42,\"866 Huffman Ports Suite 795 South Stacyport, KS 32492\",Morgan and Sons,0',\n",
       " 'Mark Marquez,55,9743.57,0,5.89,2009-07-11 5:41:15,\"631 Christopher Mount South Abigailport, LA 19480\",Martin-Cobb,0',\n",
       " 'Alexis Allen,43,7686.13,1,7.17,2016-09-27 7:00:35,\"7448 Jason Ridges Heatherfort, GU 92916-6774\",Jones and Sons,0',\n",
       " 'Melissa Coleman,29,13255.05,1,4.89,2016-02-21 14:20:41,\"9334 Colleen Passage Apt. 344 Michelleberg, MD 31481\",\"Gonzalez, Abbott and Lane\",0',\n",
       " 'Terry Curtis MD,48,8403.02,0,3.61,2016-03-13 7:22:59,\"080 Jamie Way Cartermouth, MA 05582\",Blackburn-Bush,0',\n",
       " 'Jessica Campbell,43,7277.27,1,5.98,2014-09-20 3:34:14,\"510 Armstrong Square Davisshire, SC 57672-9166\",Bates and Sons,0',\n",
       " 'Brandon Wilson,32,8575.71,0,4.26,2006-11-15 14:58:19,Unit 6545 Box 5723 DPO AP 79461,\"Parker, Hoffman and Pugh\",0',\n",
       " 'Meghan Jackson,46,9844.79,0,3.57,2010-01-03 10:44:43,\"6574 Travis Extensions New Casey, RI 40982\",Phillips-Peters,0',\n",
       " 'Jeffrey Simpson,42,7529.23,1,5.86,2006-02-15 12:09:15,\"913 Thomas Dale Harristown, OR 05449-4141\",\"Thompson, Vaughan and House\",0',\n",
       " 'Cheryl Hernandez,46,4111.4,0,3.93,2010-02-18 18:40:00,\"7772 Elizabeth Ridge North Chloe, AL 79941\",Beltran Group,0',\n",
       " 'Amy Riddle,45,8389.84,1,6.81,2009-08-19 8:06:04,\"4964 Page Estate East Richardmouth, OK 43652\",Parker PLC,0',\n",
       " 'Linda Moore,40,7864.63,0,4.56,2008-09-11 19:53:58,\"2736 Sharon Spring South Joshuafort, FM 69643\",Wilson PLC,0',\n",
       " 'Carol Bush,39,8677.62,0,5.2,2007-02-26 18:24:44,\"210 Ray Estates East Debbie, SD 40157-2687\",Miller-Morgan,0',\n",
       " 'Gail Lopez,25,9672.03,0,5.49,2006-01-02 4:16:13,Unit 8122 Box 5528 DPO AP 49927,\"Chapman, Howard and Campos\",0',\n",
       " 'Joseph Bauer,33,11370.28,1,4.4,2010-03-08 19:38:23,\"580 Beasley Junctions Apt. 927 Woodston, AZ 17941\",Patterson LLC,0',\n",
       " 'Kayla Foley,44,13915.9,0,4.61,2008-04-04 4:04:53,\"636 Dana Spurs Apt. 334 West Amytown, NC 29641\",\"Campbell, Velasquez and Porter\",0',\n",
       " 'Teresa Reyes,35,10999.05,0,4.76,2009-02-08 13:41:53,\"831 Heidi Stream Apt. 991 West Taylorstad, ID 48825-5453\",\"Mendez, Harris and Gordon\",0',\n",
       " 'Shannon Potter,39,7636.98,0,5.56,2013-02-20 7:41:36,\"741 Nicole Via Apt. 202 Lake Darrellberg, WI 22772\",\"Riddle, Baldwin and Brown\",0',\n",
       " 'Barbara Singleton,38,9461.83,0,4.9,2012-08-02 14:55:41,\"176 Cheryl Plains Suite 253 Harrisonmouth, PW 17373-8223\",Kennedy and Sons,0',\n",
       " 'Kayla Reeves,38,100,0,5.27,2006-10-03 9:01:48,\"1511 Porter Drive Amberberg, NC 44608\",Stewart-Lopez,0',\n",
       " 'Tami Smith,53,9655.25,0,4.44,2006-10-19 1:12:04,\"30920 Bell Passage Suite 036 Annafort, PR 57518-0173\",Neal and Sons,0',\n",
       " 'Brandon Hunter,45,15188.65,0,6.17,2010-07-07 22:11:21,\"285 Rhonda Harbors Trevinochester, TX 18888-5407\",Ramos PLC,0',\n",
       " 'Lisa Rodriguez,49,14124,1,3.02,2014-12-17 2:27:36,\"567 Ian Loop Lambertberg, MA 68810-6480\",\"Rocha, Wagner and Chandler\",0',\n",
       " 'Eric Martin,44,14155.97,1,6.99,2006-05-31 9:24:41,\"162 Paul Freeway Apt. 301 New Jessicaton, SC 29138\",Warner-Welch,0',\n",
       " 'Sharon Hull,37,11294.26,0,4.95,2007-11-09 16:04:00,USCGC Collier FPO AE 40469-8677,Bradley-White,0',\n",
       " 'Allison Clark DDS,43,14241.75,0,3.73,2006-07-11 11:32:51,\"PSC 9202, Box 1991 APO AA 75619\",Robinson-Perez,0',\n",
       " 'Nicholas Williams,43,11334.3,0,3.47,2014-01-21 22:14:47,\"600 Rachel Manor Port Mary, SD 03631-0936\",Haley Inc,0',\n",
       " 'Wanda Hess,34,7818.13,0,6.11,2006-03-02 1:45:25,\"3334 Alvarez Streets Apt. 358 Joyceton, MH 42340-8249\",Mccarty-Stevens,0',\n",
       " 'Fernando Ramsey,47,11520.18,1,5.07,2014-12-04 9:09:43,\"73285 Norman Ramp Apt. 829 Tommyport, ID 38974-8331\",Anderson-Palmer,0',\n",
       " 'Sylvia Crawford,47,7996.78,1,5.45,2009-07-23 6:05:22,\"032 Craig Lane Robertstown, AK 35233\",Nguyen-Grant,0',\n",
       " 'Trevor Burns,27,8628.8,1,5.3,2016-04-11 8:58:24,\"2786 Collins Loaf Susanchester, CT 84620-3615\",King LLC,0',\n",
       " 'Kristen Terry,39,10292.19,0,4.99,2015-11-12 3:06:28,\"2091 Antonio Tunnel Apt. 841 Gibsonburgh, GU 98706\",Rodriguez Group,0',\n",
       " 'Mr. Joseph Garcia,32,11540.86,0,3,2008-12-30 8:28:26,\"3028 Robles Road South Megan, CT 13834-0339\",\"Zuniga, Clark and Shaffer\",0',\n",
       " 'Lauren Nelson,40,7490.92,0,4.75,2013-08-05 20:26:59,\"341 Benjamin Knolls Robertview, ND 28469-9018\",Hall Inc,0',\n",
       " 'Frank Coleman,39,4316.73,1,4.79,2006-06-16 14:31:30,\"686 Bonnie Locks Suite 704 Hayesburgh, SD 23695-5265\",Pollard-Lambert,0',\n",
       " 'Faith Sanchez,41,11738.88,0,7.27,2009-06-26 18:06:47,\"390 Johnson Glen Apt. 475 East Dawnbury, ME 42067\",Frazier and Sons,0',\n",
       " 'Catherine Johnston,38,15509.97,0,4.65,2006-07-06 2:38:21,\"590 Ware Mission East Markhaven, PR 46489\",\"Thomas, Marks and Hurst\",0',\n",
       " 'Anthony Green,52,12010.74,0,5.09,2010-02-26 16:33:36,\"824 Ryan Orchard Rebeccabury, FL 02869\",\"Miller, Gardner and Harris\",0',\n",
       " 'Justin Brady,43,5907.07,0,5.89,2011-02-12 1:22:55,\"9462 Samuel Place Lake Jamie, WV 34853\",Hunter LLC,0',\n",
       " 'Hector Anderson,39,10510.95,0,2.87,2009-06-28 11:42:32,\"321 Perez Village Ericaview, GU 17997\",Rodriguez Inc,0',\n",
       " 'Jessica Hudson,43,8914.46,0,6.49,2008-04-21 23:26:57,\"7255 Weber Port Davischester, ND 95345-7872\",\"Smith, Marshall and Conway\",0',\n",
       " 'Brittney Nichols,38,5353.97,0,6.25,2012-01-17 0:39:22,\"85040 Denise Mills West Lynn, TN 21871\",\"Johnson, Mills and Murphy\",0',\n",
       " 'Mary Davis,36,12495.15,0,4.86,2016-06-08 11:44:18,\"5304 Richards Run Apt. 960 Lake Emilyville, VA 21428\",\"Jordan, Guerrero and Hoffman\",0',\n",
       " 'Paula Rivera,45,13118.56,0,4.89,2010-05-16 9:00:45,\"2518 Vargas Highway Suite 437 Port Briannaburgh, PA 26077\",\"Rodriguez, Mcguire and Johnson\",0',\n",
       " 'Lisa Munoz,39,5846.65,1,6.65,2007-03-27 15:23:44,\"504 Knight Lodge Apt. 985 Annastad, NV 86484\",Anderson Group,0',\n",
       " 'Kimberly Carrillo,37,7239.49,1,5.01,2013-04-18 6:03:00,\"513 Bullock Alley New Diane, NM 39999\",Rodriguez PLC,0',\n",
       " 'Charles Thompson,36,14003.88,1,3.54,2007-03-25 22:58:58,\"066 Jenkins Walks Barbaramouth, LA 76409\",Sawyer and Sons,0',\n",
       " 'Jasmin Sullivan,43,9891.3,0,5.75,2015-03-29 18:43:13,\"22500 Paul Port Apt. 531 Nolanmouth, LA 85060-3073\",Bailey-Rose,0',\n",
       " 'Christopher Martin,39,9655.42,1,5.5,2011-09-01 16:47:27,\"2910 Deborah Haven Apt. 221 Gomezstad, PW 18580-1005\",\"Wise, Nichols and Allen\",0',\n",
       " 'Richard Gonzalez,49,7904.67,0,5.58,2008-11-05 6:32:13,\"PSC 2039, Box 7808 APO AP 35117\",Lee and Sons,0',\n",
       " 'Christopher Price,43,10598.35,1,6.72,2006-01-14 22:09:05,\"PSC 8020, Box 7594 APO AE 50638\",Porter-Johnson,0',\n",
       " 'Jeremy Garcia,31,10182.6,1,3.77,2012-10-19 2:30:29,\"0414 Ellis Creek Apt. 971 Gailberg, WV 99255-4310\",King LLC,0',\n",
       " 'Kevin Hebert,41,11316.69,0,6.23,2007-04-14 21:21:11,\"281 Phyllis Port West Jessica, VT 75528-7229\",Castro-Kline,0',\n",
       " 'Jessica Morris,43,6065.64,1,4.86,2011-01-26 13:35:32,\"69465 Murphy Harbor Bishopchester, MP 09567\",Hernandez Ltd,0',\n",
       " 'Wendy Wells,41,8907.76,0,6.99,2016-09-09 3:56:57,\"81421 Joseph Canyon Apt. 100 Josephton, MT 11927-8464\",\"Sanchez, Ferguson and Ramos\",0',\n",
       " 'Amanda Barnett,45,9773.22,1,3.79,2009-06-04 9:14:47,\"205 Campbell Highway Port Wyatt, AK 84887-4000\",Lee Ltd,0',\n",
       " 'Willie George II,32,9036.27,0,7.14,2010-06-29 7:19:00,Unit 5118 Box 3795 DPO AA 27599,\"Murphy, Davis and Zimmerman\",0',\n",
       " 'Troy Burke,50,8193.77,0,5.13,2011-09-30 21:43:15,\"2819 Wright Summit Nicholasmouth, CT 05051-3807\",Austin LLC,0',\n",
       " 'Kyle Mcguire,30,10183.98,1,5.14,2009-02-13 23:12:29,\"1005 Kevin Mews Bennettmouth, VI 93240-6963\",\"Smith, Salazar and Ward\",0',\n",
       " 'Adam Harris,44,9815.03,1,4.9,2016-05-29 6:00:09,\"40488 Michael Forge Lake Heatherbury, OK 21867\",\"Smith, Oconnor and Brown\",0',\n",
       " 'Roy Marshall,43,6098.15,0,3.74,2014-02-19 4:42:17,\"55334 William Square Kaylaland, TN 06847-1171\",\"Harrison, Cox and Russell\",0',\n",
       " 'Lisa Lee,45,13100.75,1,7.79,2010-05-08 1:45:27,\"04983 Johnson Park Elizabethfurt, MT 88532\",Clark-Dawson,0',\n",
       " 'Marc Price,40,10638.66,0,4.35,2008-07-26 11:52:14,\"9411 Robinson Corners Apt. 595 North Samuelborough, GA 97735\",Hayes-Hill,0',\n",
       " 'James Griffin,52,9519.64,0,5.61,2015-12-05 19:35:08,Unit 5498 Box 5539 DPO AP 33602,Walker Ltd,0',\n",
       " 'Leslie Lopez,50,10358.08,0,5.41,2014-07-31 11:31:11,\"7364 Jessica Way New Jeremyside, ND 50029\",Copeland Inc,0',\n",
       " 'Richard Jackson,46,7638.13,1,4.91,2007-03-15 5:45:30,\"8169 Catherine Dam Grantville, MN 89963\",Riley Group,0',\n",
       " 'Kevin Gordon MD,42,10807.46,1,6.74,2007-10-10 17:28:55,\"66383 Williams Brooks Lake Richardside, NJ 36694\",\"Dougherty, Guzman and Martin\",0',\n",
       " 'Dean Spears,37,11945.5,1,5.37,2008-03-07 6:37:54,\"25364 Snyder Bridge Cookton, WI 66968\",Watkins-Gill,0',\n",
       " 'Kara Barnett,48,13597.5,0,6.45,2013-05-02 22:34:09,\"5248 Cameron Ridges Suite 289 East Jeffreyport, MP 00728\",Roberson Group,0',\n",
       " 'Kelly White,47,7364.12,1,3.65,2012-01-05 20:06:26,\"77842 Jeffrey Common North Johnnytown, ND 76045\",Allen LLC,0',\n",
       " 'Laura Turner,42,8934.99,1,6.21,2010-10-26 19:01:20,\"46278 Austin Views Apt. 675 Port Paulfurt, KS 08809-6244\",\"Johnson, Myers and Martinez\",0',\n",
       " 'Hannah Mack,34,13672.54,0,6.05,2016-03-05 13:19:04,\"412 Martin Village Apt. 913 Debbieside, NH 82863\",\"Phillips, Shepherd and Davis\",0',\n",
       " 'Christina Farmer,44,9446.84,0,4.59,2008-11-26 23:15:26,\"95806 Fuller Crossroad Suite 269 Lake Denise, VA 86649\",Gutierrez-Doyle,0',\n",
       " 'Patricia Deleon,36,11082.13,0,4.84,2012-04-05 16:54:43,\"6857 Sean Heights New Caitlin, OR 57302\",Cannon-Blevins,0',\n",
       " 'Peggy Rodriguez,38,10005.91,1,5.44,2009-03-31 19:37:44,\"21549 Williams Ways Suite 186 East Crystalville, NV 65321\",Brown LLC,0',\n",
       " 'Steven Price,38,11227.39,1,5.71,2011-04-05 7:23:43,\"586 Gregory Gateway Suite 935 Port Deborah, OK 46332\",Tran-Morris,0',\n",
       " 'Linda Mason,34,13574.25,0,5.2,2010-01-30 19:50:16,Unit 7583 Box 3011 DPO AP 05481,\"Ballard, Underwood and Brown\",0',\n",
       " 'Edward Rhodes,46,7876.84,1,6.41,2015-02-08 10:45:13,\"56573 Emily Falls Apt. 917 Simpsontown, VA 11466-4489\",Walker and Sons,0',\n",
       " 'Martin Williams MD,39,10413.93,0,3.75,2009-09-17 13:18:33,\"9373 Carpenter Spur Michellebury, UT 07973\",Valdez Group,0',\n",
       " 'Molly Perez,36,11079.61,1,4.12,2011-09-16 1:39:35,\"236 Smith Lake Suite 670 West Charles, OK 98173\",Allen PLC,0',\n",
       " 'David Hernandez,36,12192.94,1,6.46,2015-03-02 20:54:14,\"719 Kenneth Port Suite 911 New Micheal, GU 32134\",Lane and Sons,0',\n",
       " 'Brendan Garcia,47,9101.71,0,4.11,2013-07-20 0:18:40,USS Reed FPO AE 89292-3816,\"Arnold, Skinner and Strickland\",0',\n",
       " 'Curtis Phillips,38,12978.81,0,7.94,2011-07-21 16:04:43,Unit 6530 Box 3626 DPO AA 16636-7105,Sweeney-Hall,0',\n",
       " 'Frank Mann MD,43,8007.18,1,5.45,2009-04-13 22:54:21,\"40205 Sellers Ville Apt. 983 Melanieview, DC 06529\",\"Carter, Johnson and Franklin\",0',\n",
       " 'Wayne Clark,43,6471.68,0,4.93,2008-06-19 1:29:54,\"72663 John Turnpike West Ryan, NY 72119-1924\",Brown-Coleman,0',\n",
       " 'Carol Johnston,33,14160.05,1,4.61,2015-11-19 9:40:39,\"303 Brittany Landing Suite 749 Meghanmouth, TX 27021-4399\",Lewis-Wilson,0',\n",
       " 'Cameron Brown,39,11490.75,0,4.93,2014-12-23 2:56:42,\"783 Reyes Extension Suite 224 North Angela, IA 45864\",Shaw-Jackson,0',\n",
       " 'Jacob Gutierrez,40,11338.94,0,6.23,2007-08-17 9:17:57,\"8489 Christopher Circles Apt. 542 Sarahmouth, AL 61019-4480\",Parrish LLC,0',\n",
       " 'Caitlin Johnston,28,11245.38,0,6.72,2016-12-09 9:29:39,\"42425 John Estates Lake Jonathanshire, NJ 46554\",Yang Ltd,0',\n",
       " 'Monica Graham,40,13987.59,1,5.58,2016-02-29 7:42:15,\"3077 George Views Suite 883 Vangmouth, WI 86289\",Anderson Group,0',\n",
       " 'Andrew Gates,48,12810.16,0,2.21,2015-03-27 4:57:10,\"779 Jeremy Road Port Ryan, CO 89095-3953\",\"Conner, Brown and Johnson\",0',\n",
       " 'Alyssa Pitts,45,10976.03,0,4.5,2014-07-13 21:28:58,\"881 Neal Mill Apt. 098 West Alexandra, RI 98586-9878\",\"Smith, Anderson and Reyes\",0',\n",
       " 'Robert Rowe,48,7737.57,1,4.19,2009-05-29 14:47:18,\"16913 Robyn Overpass Apt. 119 Roweberg, MO 99456\",Woods-Durham,0',\n",
       " 'Keith Perez,45,7748.34,0,4.2,2008-10-29 16:46:06,\"467 Shannon Islands Apt. 468 Higginsville, GU 54051\",Jensen-Smith,0',\n",
       " 'Benjamin Davenport,55,8270.52,1,5.15,2014-02-27 17:24:46,\"7834 Day Garden Petersonburgh, ME 76865-5379\",Morris Group,0',\n",
       " 'Joshua Turner,32,11715.72,0,4.73,2010-01-11 4:57:14,\"8092 Travis Forge Suite 409 New Glenn, NH 92763\",Neal Inc,0',\n",
       " 'Mathew Rivera,48,9219.4,1,5.91,2011-08-04 2:52:44,\"05272 Angela Unions Suite 032 Lewischester, WV 61156-3281\",Zamora-Cherry,0',\n",
       " 'Richard Underwood,45,5347.74,1,5.62,2014-07-27 23:34:41,\"366 Jeremy Bypass North Kristin, NE 62364-9040\",Gamble Ltd,0',\n",
       " 'Cathy Carney,42,9261.41,0,3.92,2009-06-27 5:38:40,\"7816 Cynthia Unions Apt. 858 Elizabethhaven, KY 51905-4106\",Carr and Sons,0',\n",
       " 'John Harris,41,11789.33,0,4.61,2006-07-04 11:18:36,\"6339 Julie Canyon Apt. 275 Marshallchester, OK 68644\",Barrett-Carrillo,0',\n",
       " 'John Walter,44,14023.22,1,3.49,2015-07-16 5:42:31,\"80309 Davis Estate North Kelseyville, SC 01422-4929\",\"Kennedy, Flores and Morris\",0',\n",
       " 'Michael Lopez,36,9993.5,0,6.6,2014-02-25 2:59:02,\"6626 Samantha Port Apt. 143 West Jennifermouth, SC 62851\",\"May, King and Murray\",0',\n",
       " 'Erik Martinez,41,6535.91,0,4.83,2014-02-17 8:26:10,\"9780 Michelle Gateway Apt. 049 Lake Gabriellemouth, OK 06225\",Martinez-Roberts,0',\n",
       " 'Sally Velazquez,44,12835.19,1,5.44,2015-05-06 22:58:50,\"3227 Lin Port Ambermouth, WI 81808-7704\",\"Patterson, Clark and Garrison\",0',\n",
       " 'Thomas Spears,42,11654.34,0,5.06,2007-04-08 11:12:32,\"5651 Ryan Roads Apt. 091 New Jenniferstad, OR 83943-6211\",\"Chandler, Rivera and Fleming\",0',\n",
       " 'Robin Sanchez,45,12200.96,1,4.7,2007-04-07 7:12:42,\"2464 Cynthia Haven Apt. 333 Cynthiaport, FM 93220\",\"Arellano, Smith and Lang\",0',\n",
       " 'Janet Hayden,34,12813.91,0,2.41,2006-01-17 22:25:40,\"118 Linda Street Suite 025 Hunterberg, WA 50583\",\"Bishop, Edwards and Webb\",0',\n",
       " 'Francisco Moore,36,10345.19,1,4.84,2016-04-22 21:07:11,\"7433 Matthew Stream South Susan, NE 04017-0029\",Carrillo-Potts,0',\n",
       " 'Tony Boone,49,8232.11,0,6.84,2006-04-18 10:56:21,\"1484 Carter Court Stephentown, FL 02705-7717\",Lopez-Nelson,0',\n",
       " 'Phillip Spears,52,14838.84,0,5.12,2010-03-20 11:41:52,\"30813 Ponce Street Apt. 308 Nashville, MN 56455-2134\",Welch-Houston,0',\n",
       " 'Brandon Ballard,43,9541.45,0,6.05,2008-09-27 5:35:16,\"97254 Ward Stravenue North Melanie, DE 04764\",Graham-Allen,0',\n",
       " 'Christopher Johnson,46,7424.11,0,4.83,2006-10-26 0:50:30,\"2804 Joel Station New Jennifer, DC 36785\",Garcia-Moore,0',\n",
       " 'Brian Torres,37,7062.59,1,4.56,2007-12-11 4:16:54,\"4475 Stephanie Plaza Apt. 569 West Taylorchester, CT 29697-0584\",Johnson Group,0',\n",
       " 'Cheryl Hayes,51,10776.82,0,5.1,2007-01-05 20:48:18,\"667 Diaz Row Garnerview, IN 81368-5410\",\"Hill, Roberts and Melendez\",0',\n",
       " 'Steven Mendoza,50,13247.31,0,3.48,2010-06-25 21:01:36,\"6699 John Burg Suite 410 West Wendyview, PW 56120\",Caldwell-Vargas,0',\n",
       " 'Randy Hill,40,8610.43,1,5.08,2014-06-28 1:42:32,\"9446 Gregory Mountain New Elizabethberg, AL 36341\",Johnston Group,0',\n",
       " 'Beth Fitzgerald,48,8863.36,0,6.35,2008-03-24 13:32:50,\"63692 Lucas Neck Apt. 112 North Kevinshire, NH 24241-9525\",\"Gonzalez, Gilbert and Wall\",0',\n",
       " 'Angela Ross,39,13574.53,1,5.69,2014-04-23 10:59:55,\"1008 Ricky River Port Joshua, GA 42542\",Miller-Ramirez,0',\n",
       " 'Teresa Higgins,41,14216.37,1,1.81,2013-09-11 11:05:40,\"34494 Luke Gateway Apt. 508 East Jason, WV 91110\",Martin PLC,0',\n",
       " 'Andrew Hester,48,11555.21,1,4.45,2007-09-18 14:11:53,\"614 Wilson Extensions New Richardshire, AK 59247\",Woodward-Bruce,0',\n",
       " 'Laura Williams,55,5720.98,1,6.63,2013-01-30 1:58:46,\"147 Antonio Roads South Sara, KY 70646-6480\",Mcneil-Hayes,0',\n",
       " 'Vanessa Hodge,38,8370.15,0,8.6,2009-01-24 14:58:51,\"29252 Powell Brook Suite 931 Port Scottland, MT 15769-3539\",Li Ltd,0',\n",
       " 'Amy Stanley,43,9060.28,1,4.95,2010-10-15 11:16:01,\"906 Kelly Courts Suite 424 Lake Michaelborough, NV 63970\",Johnson-Nelson,0',\n",
       " 'Brenda Ruiz,44,7193.84,0,6.22,2016-11-07 8:00:39,\"34011 Montgomery Terrace Reynoldsmouth, MI 62031-7230\",Avery Inc,0',\n",
       " 'William Krause,42,11225.96,0,5.89,2013-05-31 14:29:06,USNV Perry FPO AP 32236-2293,\"Hall, Hernandez and Palmer\",0',\n",
       " 'David Bowers,49,12893.19,0,5.13,2009-04-09 0:38:23,\"5737 Bowman Throughway Suite 494 Port Austinbury, AK 56390-6671\",\"Anthony, Walter and Moore\",0',\n",
       " 'David Grant,45,13896.99,0,4.26,2009-11-11 23:33:43,\"2974 Melvin Fords Suite 760 East Jacob, PR 90451-9722\",\"Bryan, Small and Meyer\",0',\n",
       " 'Dominique Schneider,43,12378.57,1,4.04,2007-08-07 6:00:00,\"68378 Jeffrey Locks Apt. 678 Gibbsstad, OR 40474\",Ford LLC,0',\n",
       " 'Martin Avila,42,11768.71,1,6.24,2007-05-31 9:21:30,\"652 Yvette Forks Webbmouth, OH 61071-0774\",Arnold-Mitchell,0',\n",
       " 'Dean Beck,32,8011.38,0,5.35,2013-12-21 4:31:52,\"9161 Carmen Village Ernestfort, RI 88511-5609\",Wade-Parker,0',\n",
       " 'Kevin Powell,43,16955.76,0,7.04,2007-11-14 7:55:14,\"33165 Joshua Streets Suite 299 Josephchester, ID 54756\",Carroll Ltd,0',\n",
       " 'John Barber,43,10530.33,1,4.14,2014-02-16 4:04:23,\"74415 Maxwell Walks Apt. 242 North Brandonland, AR 13900-6164\",Taylor-Patel,0',\n",
       " 'Sylvia Sherman,42,11783.81,1,5.27,2010-09-27 5:53:21,\"451 Diaz Trafficway Mckinneymouth, AK 73479-7853\",Robinson PLC,0',\n",
       " 'Susan Lucero,48,8824.84,1,5.93,2014-01-15 2:11:40,\"043 Anne Radial Ryanside, MN 70005-6155\",\"Carpenter, Tran and Nelson\",0',\n",
       " 'George Parker,46,9737.34,1,5.17,2015-03-29 6:41:20,USCGC Walker FPO AA 31720,\"Chavez, Ross and Howard\",0',\n",
       " 'Zachary Sanchez,49,8131.64,1,7.1,2011-04-27 0:14:40,\"39704 Troy Pines Suite 887 South Amber, WI 13510\",Dawson-Porter,0',\n",
       " 'Tamara Williams,31,12264.68,1,5.88,2014-01-14 14:18:04,\"524 Taylor Lights Garrettfort, IA 35266\",Tucker PLC,0',\n",
       " 'Kathleen Marquez,35,3825.7,0,4.28,2006-05-15 18:02:51,\"984 Gallagher Circle Port Gregorytown, MD 59029\",\"Steele, Nguyen and Lewis\",0',\n",
       " 'Carrie Williams,44,11597.38,0,3.45,2006-07-03 22:29:58,\"895 Miller Key Suite 001 Port Craigport, TX 36874\",Tucker Inc,0',\n",
       " 'Joel Johnson,55,5977.46,1,5.02,2010-04-03 5:46:08,\"79373 Emily Parks Apt. 387 Greerfort, KS 65696-2400\",Jenkins Group,0',\n",
       " 'Joshua Cooper,41,9608.45,0,5.81,2008-10-26 14:34:31,\"097 Sherry Stream Apt. 739 North Annebury, ID 33014-7371\",Patel-Frederick,0',\n",
       " 'Amber Evans,37,10348.37,1,7.65,2006-04-20 0:24:51,\"1753 John Lights Suite 716 New Bradleyberg, TN 82631-5891\",Weiss-Kelly,0',\n",
       " 'John Hawkins,41,13135.26,1,5.27,2014-05-01 13:07:09,\"941 Alan Glens Suite 569 Shannonborough, NM 03091-2099\",Smith Ltd,0',\n",
       " 'Scott Ingram,34,12760.01,0,3.87,2007-02-02 12:44:23,\"574 Lee Corners Apt. 841 Russellborough, NV 32119\",Carlson-Johnson,0',\n",
       " 'Steven Blankenship,39,9848.4,1,6.73,2011-03-28 1:58:13,\"2165 Williams Vista Apt. 849 South Colleen, GU 38418-9285\",Baker-Rios,0',\n",
       " 'Bailey Carroll,37,11517.19,1,8.34,2009-08-16 5:26:52,\"3738 Kiara Rue Suite 215 South Connor, VA 29347\",Lutz Inc,0',\n",
       " 'Barbara Watkins,37,8316.89,0,3.6,2014-09-17 10:05:20,\"86043 Michael Ridge Lindseyland, SD 36903-4426\",\"Benitez, Durham and Lee\",0',\n",
       " 'James Wallace,40,7762.73,1,4.66,2008-07-26 3:12:54,\"0613 Kidd Springs Apt. 467 Nicholasville, VI 42395\",\"Williams, Huffman and Gibson\",0',\n",
       " 'Joshua Brown DVM,49,13510.96,1,6.39,2006-09-24 2:31:26,\"4708 Walker Underpass Apt. 264 West David, NE 49246-4362\",\"Shaw, Williams and Andrade\",0',\n",
       " 'Whitney Kennedy,42,10442.37,0,5.58,2006-05-04 12:31:49,\"6414 Jesus Knoll Apt. 139 Downsshire, VT 78464\",Bates-Underwood,0',\n",
       " 'David Allen,35,10550.87,1,5.72,2010-04-21 15:26:30,\"2900 Daniel Extension South Theodorefurt, OH 44883\",Smith PLC,0',\n",
       " 'Joshua Brown,31,5304.6,0,5.29,2008-04-13 2:54:26,\"0495 Jessica Forge Toddfort, VT 54080-8512\",Wang and Sons,0',\n",
       " 'Cristian Sanchez,44,10157.21,0,6.14,2006-05-10 17:23:08,\"78444 Carla Ports Suite 763 Savagechester, IL 62536\",Thornton and Sons,0',\n",
       " 'Stephanie Martinez,42,12975.35,1,4.47,2006-09-19 17:17:11,\"533 Smith Hills South Antonioview, WA 32566-3457\",\"Nash, Grant and Chen\",0',\n",
       " 'Christine Jenkins,38,6574.25,0,6.18,2008-12-15 20:01:27,\"3542 Dawn Lane Williamchester, UT 01039\",\"English, King and Green\",0',\n",
       " 'Michelle Davis,33,12638.51,1,5.01,2006-08-11 6:36:15,\"9180 Amanda Prairie Apt. 887 Grayborough, WA 18335\",Watts-Kennedy,0',\n",
       " 'Adam Porter,48,10746.37,1,4.22,2006-02-18 1:22:53,\"92600 Kevin Cape South Sandraberg, NH 47456-5208\",Anthony-Wood,0',\n",
       " 'David Murray,46,12873.63,1,5.73,2006-10-19 6:20:10,\"8008 Steven Shore North Richard, PW 07747\",\"Lawson, Lee and Robertson\",0',\n",
       " 'Cynthia Wood,49,12681.35,0,3.68,2014-05-24 5:29:40,\"589 Mary Vista Lake Craig, CO 88641\",\"Washington, Mcdaniel and Lambert\",0',\n",
       " 'Kenneth Johns,46,7730.53,1,5.3,2008-10-30 12:58:22,\"226 Riley Neck Suite 180 Kristopherbury, LA 76071\",Campbell-Moore,0',\n",
       " 'Jason Dickson,46,8603.6,0,6.44,2012-03-19 22:07:11,\"645 Jasmine Brook Cesarbury, AZ 68978-8729\",Ayers Ltd,0',\n",
       " 'Johnny Jones,42,8218.63,0,5.9,2007-12-27 6:36:33,\"275 Mitchell Stravenue Barnesmouth, AZ 23615\",Taylor Group,0',\n",
       " 'Rodney Miller,34,9401.99,1,8.25,2012-06-30 0:44:45,\"10592 Kimberly Fields Suite 700 New Ericchester, GA 52658-8666\",\"Leonard, Martinez and Bush\",0',\n",
       " 'Tracy Jones,39,6127.84,0,4.22,2011-08-01 1:56:09,\"417 Eric Overpass Williamfurt, MT 69664\",\"Thompson, Bailey and Hernandez\",0',\n",
       " 'Greg Swanson,44,11794.91,0,6.32,2013-02-20 19:36:40,\"446 Rodney Ridge Suite 282 West Williamside, MA 83236\",Jackson-Garcia,0',\n",
       " 'Bradley Bennett,41,8143.38,1,2.64,2008-11-11 18:59:37,\"04046 Shelby Rapid Blackport, KS 68644\",\"Fisher, Moore and Miles\",0',\n",
       " 'Michael Anderson,40,11873.76,1,6.5,2011-08-22 14:22:42,\"92927 Chavez Fork Brownhaven, WV 20848-9320\",\"Matthews, Burns and Miller\",0',\n",
       " 'Katherine Sandoval,22,11254.38,1,4.96,2012-06-23 8:40:29,\"3092 Theresa Neck Carrilloport, RI 12639-5926\",\"Monroe, Ferguson and White\",0',\n",
       " 'James Hensley,46,8951.42,0,4.13,2009-03-06 1:34:19,\"62940 Hill Alley Apt. 148 South Laurahaven, OR 94753-3273\",Leblanc-Torres,0',\n",
       " 'Christopher Beasley,43,8662.18,1,7.31,2010-04-17 8:59:35,\"3589 Ashley Crest Suite 345 North Jennifer, OH 77938\",Harris Inc,0',\n",
       " 'Kayla Lopez,41,8427.12,0,4.37,2012-01-15 12:01:37,USNS Mckenzie FPO AA 31440-7156,Castro PLC,0',\n",
       " 'Jonathan Ali,55,11555.42,0,4.86,2006-10-28 2:07:22,Unit 7484 Box 5607 DPO AP 65812,\"Osborne, Bailey and Lam\",0',\n",
       " 'Kenneth Wilkerson,42,11670.32,0,5.51,2014-05-08 21:37:57,Unit 8005 Box 5636 DPO AA 90315-7695,\"Aguilar, Kelly and Fuentes\",0',\n",
       " 'Alex Banks,36,8918.52,0,3.62,2016-09-18 16:37:16,\"2109 Moore Lights North Heatherberg, NY 99942\",Jones-Meyers,0',\n",
       " 'Brendan Higgins,34,13976.64,0,5.16,2010-12-24 13:44:30,\"10155 Alison Tunnel Suite 682 Gonzalesside, GA 06335\",Ballard-Allen,0',\n",
       " 'Monique Neal,44,6498.85,0,6.34,2008-03-19 7:19:33,\"059 Sara Lodge Suite 123 Moorefurt, HI 95162-5163\",Moreno-Jacobs,0',\n",
       " 'Kristen Bishop,39,9303.36,0,4.19,2013-01-20 8:27:05,\"91214 Samuel Hill Apt. 375 New Josephfurt, PA 94380\",Underwood-Alvarado,0',\n",
       " 'Amber Martin,40,8083.76,0,4.76,2009-02-24 20:56:56,\"5487 Rodriguez Fork Ballberg, MP 65143-5880\",Kelly-Greene,0',\n",
       " 'Eric Terry,42,16371.42,1,3.84,2014-12-18 16:51:16,\"2384 Lucero Trafficway Suite 201 Campbellchester, SD 24554-7364\",White-Thomas,0',\n",
       " 'Troy Ochoa,32,5756.12,0,5.9,2012-05-01 12:42:04,\"35985 Strong Islands South Kennethshire, LA 68247-0544\",Roberts-Schaefer,0',\n",
       " 'Michael Colon,41,9574.64,1,3.72,2016-07-04 20:08:46,\"1293 John Tunnel Apt. 730 Lake Tara, NH 26653-6543\",Guzman Group,0',\n",
       " 'Charles Mcgrath,42,6623.97,0,5.4,2015-11-06 23:41:45,\"324 Krista Springs South Antoniohaven, ME 39849\",Adams-Gibbs,0',\n",
       " 'Zachary Johnson,28,8670.98,0,3.99,2006-11-05 12:19:57,\"88565 Wright Loop East Kyle, AS 27859\",Johnson-Conley,0',\n",
       " 'Jennifer Bradley,48,10399.19,1,5.07,2015-03-01 14:16:08,\"PSC 4851, Box 1322 APO AP 39599\",\"Huff, Rowland and Taylor\",0',\n",
       " 'Kenneth Sanchez,40,12542.76,1,5.03,2016-11-21 11:16:13,\"832 Rachael Fort Suite 115 Lake Danielville, IL 18568-3278\",Kelly Ltd,0',\n",
       " 'Colleen Morgan,46,11832.86,1,6.01,2007-12-20 4:37:53,\"85111 Sims Tunnel New Davidton, NV 81446-6413\",\"Macias, Mcpherson and Rowe\",0',\n",
       " 'Jay Hunter,33,12249.96,0,2.96,2014-08-09 3:31:31,\"1294 Greer Run Apt. 108 South Justin, FM 28734\",Ayers-White,0',\n",
       " 'Joshua Lang,49,11695.04,1,5.64,2007-10-12 1:48:51,\"126 Mooney Corners Port Anthonyborough, SD 31819\",Simmons and Sons,0',\n",
       " 'Krista Ashley,41,9000.05,0,5.59,2013-10-02 8:18:44,\"50771 Miller Mall East Lauraburgh, TX 75798-7004\",Evans and Sons,0',\n",
       " 'James Stevens,44,12400.33,1,5.18,2007-07-18 7:06:46,USNV Johnson FPO AA 53865-7362,Sims-Cole,0',\n",
       " 'Megan Edwards,30,13473.35,0,3.84,2010-11-05 9:22:13,USNS Hill FPO AA 50331,Sanchez LLC,0',\n",
       " 'Vanessa Romero,44,12227.39,0,6.46,2009-10-12 23:22:40,\"6571 Barbara Junctions Buckleychester, PA 35917-7024\",\"Smith, Wilson and Reeves\",0',\n",
       " 'Austin Branch,38,10788.67,0,4.98,2006-05-08 3:13:35,\"29954 Burns Lake Apt. 491 Lake Dana, KY 85990\",Daniels PLC,0',\n",
       " 'Taylor Brown,37,10076.71,0,6.5,2013-01-17 12:39:52,\"996 Lopez Place Davidfurt, SD 52712-6329\",\"Villanueva, Woods and Johnson\",0',\n",
       " 'William Pearson,28,11204.23,0,3.67,2012-10-25 20:54:44,\"01565 Wilson Shoals Apt. 795 Port Eduardoview, ND 57078\",Hernandez-Montgomery,0',\n",
       " 'Heidi Butler,39,14425.74,0,5.91,2009-05-03 10:23:56,\"939 Elizabeth Tunnel Suite 840 Jamestown, MO 38646-5669\",Gardner PLC,0',\n",
       " 'John Williams,46,9988.68,1,5.44,2015-01-27 17:01:19,\"99930 Ferrell Estate Suite 343 Kempberg, UT 24672-0591\",\"Parker, Salas and Martinez\",0',\n",
       " 'Gina Johnson,43,8261.89,0,7.36,2008-03-25 15:58:18,\"1975 Lawson Ford East Tylerchester, OK 01485\",Nguyen-Pratt,0',\n",
       " 'Brittany Walker,34,9779.12,0,5.89,2009-10-02 13:48:04,\"2835 Laura Cape West Sean, PR 08293\",Trevino LLC,0',\n",
       " 'Lauren Campos,51,10328.42,1,5.12,2015-05-14 11:28:50,\"123 Corey Divide Suite 626 New Hannahtown, KY 62519\",Cannon Inc,0',\n",
       " 'Jennifer Garcia,38,12913.55,1,4.73,2007-11-16 1:02:38,\"9071 Erickson Ridges Apt. 133 Glennberg, NE 87693\",Williams LLC,0',\n",
       " 'Mary Allen,37,7189.31,0,6.87,2016-01-02 20:36:49,\"421 Scott Prairie Christinaville, FM 11471-2940\",\"Alvarado, Davis and Johnson\",0',\n",
       " 'Ethan Cordova,39,18026.01,1,3.82,2016-02-28 7:42:24,\"482 Wells Mountain New Jason, AL 66002\",Scott PLC,0',\n",
       " 'Anthony Molina,26,8939.61,0,4.54,2007-09-22 9:46:47,\"255 Olson Mountain Maryshire, WA 83173-0377\",\"Brown, Johnson and Fowler\",0',\n",
       " 'David Compton,50,11294.45,1,2.17,2013-07-08 17:40:46,\"292 John Course Apt. 691 Avilaburgh, ME 94092-4006\",Larsen PLC,0',\n",
       " 'Garrett Walker,42,8271.02,0,4.24,2013-10-09 13:57:29,\"561 Michael Alley Robinsonmouth, WA 87560\",Hunt-Jarvis,0',\n",
       " 'Benjamin Richard,44,5002.58,0,4.57,2009-09-24 19:34:31,\"341 Horne Parks Apt. 964 Wallermouth, AZ 23035\",\"Johns, Ross and Harris\",0',\n",
       " 'Timothy Brown,45,11187.93,1,4.95,2015-09-27 20:20:08,\"7800 Riley Square Apt. 303 Jacquelineberg, HI 08954-7689\",\"Roberts, Delgado and Burch\",0',\n",
       " 'Beth Barnes,51,9764.39,1,6.03,2014-06-30 6:15:01,\"763 Jillian Vista Suite 240 East Kurt, VI 53651\",\"Allen, Parker and Washington\",0',\n",
       " 'Patricia Combs,44,8917.57,0,4.28,2006-07-19 10:37:21,Unit 1984 Box 6538 DPO AE 54529-1395,Mcintosh LLC,0',\n",
       " 'Brian Hill,37,9499.3,1,6.81,2015-03-09 18:14:17,\"357 Mcfarland Squares Apt. 356 West Elizabethmouth, DE 60392\",\"Lee, Valencia and Wood\",0',\n",
       " 'Nathaniel Sanchez,41,8502.52,0,6,2007-10-18 21:47:50,\"58383 Clark Bridge Suite 540 East Jordan, IL 77693\",\"Gutierrez, Gray and Morris\",0',\n",
       " 'Tammy Pope,45,9576.07,1,7.01,2007-06-07 6:17:08,\"9490 Kathryn Tunnel Suite 480 Shaneland, GA 26165-9694\",\"Hays, Henson and Shelton\",0',\n",
       " 'Denise Watkins,47,9451.03,0,5.11,2006-06-28 17:50:11,\"PSC 9819, Box 2842 APO AE 04352-2576\",Price-Webb,0',\n",
       " 'Mrs. Elizabeth Salas,48,9722.23,1,5.98,2013-12-21 22:15:12,\"393 Underwood Court Apt. 802 East Christopher, FM 75364\",Hall-Berger,0',\n",
       " 'Jessica Morales,49,11227.48,0,5.1,2011-08-16 8:46:53,\"1384 Wendy Ferry West Ryanburgh, ID 88650\",Barrera-Hamilton,0',\n",
       " 'Mark Murphy,47,10718.97,0,5.74,2014-05-24 14:54:13,\"64471 Joel Bypass Apt. 162 Lake Alyssabury, WA 71324-8954\",Moore-Rios,0',\n",
       " 'Deborah Morgan,40,11799.72,0,3,2016-10-02 23:17:33,\"773 Davis Ways Apt. 519 West Jamesbury, AR 35583\",\"Wright, Lambert and Mcknight\",0',\n",
       " 'Kiara Vasquez,38,13074.81,1,4.67,2011-05-07 4:27:00,\"79384 York Cliff Suite 810 Lake Kristen, SC 81231-6853\",\"Gonzales, Fuller and Cole\",0',\n",
       " 'Zachary Howard,49,9000.36,0,4.13,2013-03-23 9:19:02,\"PSC 9781, Box 0250 APO AP 24732\",\"Peterson, Morgan and Wilson\",0',\n",
       " 'Vanessa Myers,39,13731.45,1,8.15,2011-09-27 6:52:13,\"1150 Archer Point Suite 946 Marksfurt, MH 51860\",Welch-Larsen,0',\n",
       " 'Beverly Hall,33,8556.73,0,4.21,2007-02-23 10:47:06,\"145 Kelly Crest Apt. 419 Madelinehaven, OH 55835-0109\",\"Johnson, Ingram and Hart\",0',\n",
       " 'Kristin Williams,37,12410.67,0,6.12,2014-12-30 4:56:53,\"942 Becker Inlet West Cassandramouth, NH 64437-6741\",Warner Group,0',\n",
       " 'Mrs. Sherri Zhang,48,11316.41,1,4.74,2008-07-19 16:08:41,Unit 8716 Box 6865 DPO AE 33780,\"Rodriguez, Acosta and Guerra\",0',\n",
       " 'Charles Schultz,35,13035.91,1,5.51,2015-09-22 23:07:05,\"PSC 1774, Box 1074 APO AA 11178-4877\",Vargas and Sons,0',\n",
       " 'Manuel Williams,36,5695.21,0,4.1,2006-05-06 1:17:08,\"880 Teresa Harbors New Deborah, PA 97964-1536\",Jackson Ltd,0',\n",
       " 'Kevin Hardy,43,6411.25,0,2.82,2014-08-08 14:46:25,\"3070 Matthew Stream Suite 892 Mendozahaven, UT 47622\",Rice PLC,0',\n",
       " 'Ann Johnson,42,9091.99,0,5.85,2014-03-27 5:11:22,\"2091 Sims Ranch Lauraborough, KS 59292-0985\",Walker Ltd,0',\n",
       " 'David Anderson,39,11680.91,1,6.35,2008-07-04 2:41:59,\"63410 Mark Rapids North Christopherbury, NV 91856-5125\",Smith LLC,0',\n",
       " 'Nicholas Porter,44,8841.3,1,6.08,2008-02-04 15:07:40,Unit 8567 Box 8741 DPO AA 63221,Thompson-Savage,0',\n",
       " 'Jose Gutierrez,51,7985.76,1,3.48,2006-07-28 15:47:41,\"481 Andrews Freeway Apt. 222 Lake Alyssaburgh, TN 57832-1720\",\"Smith, Phillips and Smith\",0',\n",
       " 'Sarah Burns,35,11814.59,0,5.89,2013-06-28 13:22:40,\"01740 Cynthia Rest Apt. 545 Bassburgh, MN 95437-1761\",Frey-Burke,0',\n",
       " 'Dana Bailey,52,7077.34,1,5.6,2015-11-08 6:57:18,\"61381 Cassandra Cliffs Apt. 605 West Frederickberg, PW 73455-0264\",\"Gibson, Frost and Rivera\",0',\n",
       " 'Diana Jackson,51,9879.37,0,3.55,2008-02-11 7:28:11,USNS Burnett FPO AA 61045,Stephens-Chavez,0',\n",
       " 'Scott Love,28,11128.95,1,5.12,2009-04-13 23:47:15,Unit 7738 Box 0206 DPO AA 88767-0662,Williams-Johnson,0',\n",
       " 'Doris Zimmerman,40,11575.55,1,5.22,2015-03-10 20:16:40,\"3536 Rivera Springs Suite 771 New Marcusville, HI 22211-1439\",Mitchell-Adams,0',\n",
       " 'Jeffrey Trevino,37,13268.55,0,3.92,2016-03-08 21:48:29,\"0295 Mason Vista Suite 110 Ryanbury, IA 14087\",Price-Ramirez,0',\n",
       " 'Anthony Vega,44,9351.88,1,4.32,2011-08-16 19:16:12,\"PSC 9086, Box 2290 APO AP 24944-0330\",Hall Group,0',\n",
       " 'James Owen,43,9735.41,0,6.12,2010-10-27 18:11:23,\"802 Jeffrey Valleys Kevinbury, WV 86701-9336\",\"Olson, Ortega and Hester\",0',\n",
       " 'Aaron Meyer,45,9598.03,0,5,2010-07-17 3:30:38,\"35821 Bailey Skyway Alexisstad, NH 81472\",\"Steele, Bates and Lane\",0',\n",
       " 'Holly Hill,43,5805.53,0,5.44,2014-11-27 17:12:25,\"6985 Kevin Flat South Debra, CO 13171\",Shaw LLC,0',\n",
       " 'Andrew Leonard,41,14099.03,1,4.56,2016-03-02 16:50:06,Unit 6154 Box 5113 DPO AP 65306-0703,\"Cruz, Carter and Washington\",0',\n",
       " 'Jessica Leon,49,8523.04,1,4.15,2014-09-03 1:12:14,\"PSC 3040, Box 9946 APO AP 11064-1547\",Williams-Moreno,0',\n",
       " 'Amy Garcia,42,6406.38,0,3,2007-03-09 23:50:39,\"12223 Sean Valley Suite 960 Johnland, IA 33208\",Barker Ltd,0',\n",
       " 'John Nixon,48,5622.5,0,6.05,2012-07-11 4:58:33,\"7186 Justin Locks Apt. 232 Stevenmouth, CT 17609-9525\",French-Miller,0',\n",
       " 'Deanna Henry,47,6670.37,0,2.55,2010-03-29 20:16:38,\"62894 Summer Village Suite 944 Port Elizabeth, ID 67244-9988\",\"Jones, Collins and Adams\",0',\n",
       " 'Jeremy Singleton,46,13547.39,0,2.67,2012-04-20 23:59:35,\"067 Samuel Greens New Prestonchester, DC 50364-5698\",Mckinney-Thompson,0',\n",
       " 'Kara Anderson,47,9182.81,1,6.45,2012-04-14 2:53:19,\"19845 Hudson Mission Michaelmouth, GA 90290\",\"Douglas, Fleming and Munoz\",0',\n",
       " 'Kelly Braun,42,9741.19,1,3.85,2009-12-14 5:47:16,\"080 Brewer Ports Suite 299 Erinmouth, TX 28755\",\"Mosley, Tate and Blankenship\",0',\n",
       " 'Amanda Wade,39,8880.17,0,4,2011-03-05 6:46:38,\"869 Kathleen Dam Apt. 113 East Robertshire, SC 50012-1080\",\"Jordan, Beasley and Moore\",0',\n",
       " 'Jason West,45,13122.89,0,5.84,2016-04-03 12:55:26,\"6239 Timothy Overpass Carmenhaven, FM 05708-0772\",Santiago-Waller,0',\n",
       " 'Adam Moore,41,12659.88,0,4.55,2010-01-22 19:08:48,\"339 Jeffrey River Suite 638 Fergusonville, DC 25987\",\"Little, White and Davis\",0',\n",
       " 'Brandon Ortiz,37,8286.87,1,6.25,2007-12-13 12:23:32,\"276 Thompson Field Apt. 992 South Victoriaton, SC 12848-8182\",Ewing Group,0',\n",
       " 'Cindy Marshall,37,9229.96,0,3.65,2015-12-30 19:11:01,\"393 Stephens Field South Michelleside, MI 26930\",Gomez-Clarke,0',\n",
       " 'Matthew Barnes,45,4863.73,1,5.17,2011-07-19 18:41:42,\"00154 Ashley Course Shannonville, UT 52907\",Chavez-Howard,0',\n",
       " 'Paul Miller,42,12800.82,1,3.62,2007-12-01 13:29:34,\"9316 Julian Fort Suite 328 North Leslie, ME 43961\",Evans-Lucero,0',\n",
       " 'Natalie Hodges,52,9893.92,0,6.91,2008-12-28 15:23:58,\"8419 William Square Apt. 695 Martinville, RI 34133\",Perry and Sons,0',\n",
       " 'Ana Smith,45,12056.18,0,5.46,2014-06-20 5:10:09,Unit 8633 Box 8738 DPO AA 14126-5026,Schneider-Smith,0',\n",
       " 'Justin Leonard,51,6517.93,1,5.47,2012-05-30 0:15:43,\"49800 Torres Ways Suite 886 West Bradleybury, LA 05945-2648\",Robles-Abbott,0',\n",
       " 'Joseph Williams,39,9315.6,1,5.02,2010-09-25 12:16:08,\"27252 Olivia Burgs Rivasmouth, MN 80121-6348\",Davis Group,0']"
      ]
     },
     "execution_count": 12,
     "metadata": {},
     "output_type": "execute_result"
    }
   ],
   "source": [
    "# Return all row objects (an action)\n",
    "rdd.collect()"
   ]
  },
  {
   "cell_type": "markdown",
   "metadata": {},
   "source": [
    "**Important note on RDDs**<br>\n",
    "As we can see from the output above, any action that we apply on RDDs (like `first` or `collect`) returns a 'list' or what are called row objects. Each row object represents a row in our RDD. \n",
    "\n",
    "It's critical to note here, that RDDs do not have any columnar structure -- i.e. whilst we can output the first row object, we still have no schema. "
   ]
  },
  {
   "cell_type": "markdown",
   "metadata": {},
   "source": [
    "## Spark Dataframe\n",
    "Enter the Spark dataframe -- an object with the same features as RDDs but also has a schema! This makes it our data structure of choice. "
   ]
  },
  {
   "cell_type": "code",
   "execution_count": 13,
   "metadata": {},
   "outputs": [],
   "source": [
    "# We use the read.csv function that we can access from our SparkSession object, 'spark'\n",
    "df = spark.read.csv('agency_churn.csv', \n",
    "                     header = True, inferSchema = True)\n",
    "\n",
    "# Note: by default it wasn't reading the first row in as a header, so we specified it to be True. "
   ]
  },
  {
   "cell_type": "code",
   "execution_count": 14,
   "metadata": {},
   "outputs": [
    {
     "data": {
      "text/plain": [
       "pyspark.sql.dataframe.DataFrame"
      ]
     },
     "execution_count": 14,
     "metadata": {},
     "output_type": "execute_result"
    }
   ],
   "source": [
    "# Check the type of object we have\n",
    "type(df)"
   ]
  },
  {
   "cell_type": "code",
   "execution_count": 15,
   "metadata": {},
   "outputs": [
    {
     "data": {
      "text/plain": [
       "[Row(Names='Cameron Williams', Age=42, Total_Purchase=11066.8, Account_Manager=0, Years=7.22, Onboard_date=datetime.datetime(2013, 8, 30, 7, 0, 40), Location='10265 Elizabeth Mission Barkerburgh, AK 89518', Company='Harvey LLC', Churn=1),\n",
       " Row(Names='Kevin Mueller', Age=41, Total_Purchase=11916.22, Account_Manager=0, Years=6.5, Onboard_date=datetime.datetime(2013, 8, 13, 0, 38, 46), Location='6157 Frank Gardens Suite 019 Carloshaven, RI 17756', Company='Wilson PLC', Churn=1)]"
      ]
     },
     "execution_count": 15,
     "metadata": {},
     "output_type": "execute_result"
    }
   ],
   "source": [
    "# As with Pandas dataframes, we can use .head()\n",
    "df.head(2)\n",
    "\n",
    "# Note the output is still row objects"
   ]
  },
  {
   "cell_type": "code",
   "execution_count": 16,
   "metadata": {},
   "outputs": [
    {
     "data": {
      "text/plain": [
       "['Names',\n",
       " 'Age',\n",
       " 'Total_Purchase',\n",
       " 'Account_Manager',\n",
       " 'Years',\n",
       " 'Onboard_date',\n",
       " 'Location',\n",
       " 'Company',\n",
       " 'Churn']"
      ]
     },
     "execution_count": 16,
     "metadata": {},
     "output_type": "execute_result"
    }
   ],
   "source": [
    "# We can also check the columns using the columns attributes (like with Pandas)\n",
    "df.columns"
   ]
  },
  {
   "cell_type": "code",
   "execution_count": 17,
   "metadata": {
    "scrolled": true
   },
   "outputs": [
    {
     "name": "stdout",
     "output_type": "stream",
     "text": [
      "+----------------+---+--------------+---------------+-----+-------------------+--------------------+--------------------+-----+\n",
      "|           Names|Age|Total_Purchase|Account_Manager|Years|       Onboard_date|            Location|             Company|Churn|\n",
      "+----------------+---+--------------+---------------+-----+-------------------+--------------------+--------------------+-----+\n",
      "|Cameron Williams| 42|       11066.8|              0| 7.22|2013-08-30 07:00:40|10265 Elizabeth M...|          Harvey LLC|    1|\n",
      "|   Kevin Mueller| 41|      11916.22|              0|  6.5|2013-08-13 00:38:46|6157 Frank Garden...|          Wilson PLC|    1|\n",
      "|     Eric Lozano| 38|      12884.75|              0| 6.67|2016-06-29 06:20:07|1331 Keith Court ...|Miller, Johnson a...|    1|\n",
      "|   Phillip White| 42|       8010.76|              0| 6.71|2014-04-22 12:43:12|13120 Daniel Moun...|           Smith Inc|    1|\n",
      "+----------------+---+--------------+---------------+-----+-------------------+--------------------+--------------------+-----+\n",
      "only showing top 4 rows\n",
      "\n"
     ]
    }
   ],
   "source": [
    "# Show the first 4 rows\n",
    "df.show(4)\n",
    "\n",
    "# Note: show() is an action for dataframes"
   ]
  },
  {
   "cell_type": "markdown",
   "metadata": {},
   "source": [
    "### Select columns\n",
    "\n",
    "Notice that the output of the dataframe is far less visually appealing than that of pandas! We have two options here: \n",
    "- Forget that Spark (and distributed computing) exists! Let's just stick to pandas.\n",
    "- Select columns to display instead of all columns, until Spark fixes the display in the next iteration. \n",
    "\n",
    "We're going to go with the latter suggestion. To select columns of a Spark dataframe, we can use syntax we're familiar with from Pandas:"
   ]
  },
  {
   "cell_type": "code",
   "execution_count": 18,
   "metadata": {},
   "outputs": [
    {
     "name": "stdout",
     "output_type": "stream",
     "text": [
      "+----------------+---+--------------+---------------+-----+-------------------+--------------------+\n",
      "|           Names|Age|Total_Purchase|Account_Manager|Years|       Onboard_date|            Location|\n",
      "+----------------+---+--------------+---------------+-----+-------------------+--------------------+\n",
      "|Cameron Williams| 42|       11066.8|              0| 7.22|2013-08-30 07:00:40|10265 Elizabeth M...|\n",
      "|   Kevin Mueller| 41|      11916.22|              0|  6.5|2013-08-13 00:38:46|6157 Frank Garden...|\n",
      "+----------------+---+--------------+---------------+-----+-------------------+--------------------+\n",
      "only showing top 2 rows\n",
      "\n"
     ]
    }
   ],
   "source": [
    "# Select columns with [] as with the Pandas\n",
    "df[['Names',\n",
    " 'Age',\n",
    " 'Total_Purchase',\n",
    " 'Account_Manager',\n",
    " 'Years', \n",
    " 'Onboard_date',\n",
    " 'Location']].show(2)"
   ]
  },
  {
   "cell_type": "markdown",
   "metadata": {},
   "source": [
    "We can also select columns with SQL queries!"
   ]
  },
  {
   "cell_type": "code",
   "execution_count": 19,
   "metadata": {},
   "outputs": [],
   "source": [
    "# First we have egister the DataFrame as a SQL 'temporary view' i.e.\n",
    "df.createOrReplaceTempView(\"churn_table\")\n",
    "\n",
    "# We now have a table called 'churn_table' which we can query as we would a standard SQL database table"
   ]
  },
  {
   "cell_type": "code",
   "execution_count": 20,
   "metadata": {},
   "outputs": [
    {
     "name": "stdout",
     "output_type": "stream",
     "text": [
      "+----------------+---+--------------+\n",
      "|           Names|Age|Total_Purchase|\n",
      "+----------------+---+--------------+\n",
      "|Cameron Williams| 42|       11066.8|\n",
      "|   Kevin Mueller| 41|      11916.22|\n",
      "|     Eric Lozano| 38|      12884.75|\n",
      "|   Phillip White| 42|       8010.76|\n",
      "+----------------+---+--------------+\n",
      "\n"
     ]
    }
   ],
   "source": [
    "spark.sql(\"SELECT Names, Age, Total_Purchase FROM churn_table LIMIT 4\").show()"
   ]
  },
  {
   "cell_type": "markdown",
   "metadata": {},
   "source": [
    "Finally, we can use the standard Spark syntax as so:"
   ]
  },
  {
   "cell_type": "code",
   "execution_count": 21,
   "metadata": {},
   "outputs": [
    {
     "name": "stdout",
     "output_type": "stream",
     "text": [
      "+----------------+---+--------------+\n",
      "|           Names|Age|Total_Purchase|\n",
      "+----------------+---+--------------+\n",
      "|Cameron Williams| 42|       11066.8|\n",
      "|   Kevin Mueller| 41|      11916.22|\n",
      "|     Eric Lozano| 38|      12884.75|\n",
      "|   Phillip White| 42|       8010.76|\n",
      "+----------------+---+--------------+\n",
      "only showing top 4 rows\n",
      "\n"
     ]
    }
   ],
   "source": [
    "df.select('Names', 'Age', 'Total_Purchase').show(4)"
   ]
  },
  {
   "cell_type": "markdown",
   "metadata": {},
   "source": [
    "### Investigating dataframe schema and data types\n",
    "As mentioned, the difference between a Spark dataframe and an RDD is that the former has a schema or a column structure."
   ]
  },
  {
   "cell_type": "code",
   "execution_count": 22,
   "metadata": {},
   "outputs": [
    {
     "name": "stdout",
     "output_type": "stream",
     "text": [
      "root\n",
      " |-- Names: string (nullable = true)\n",
      " |-- Age: integer (nullable = true)\n",
      " |-- Total_Purchase: double (nullable = true)\n",
      " |-- Account_Manager: integer (nullable = true)\n",
      " |-- Years: double (nullable = true)\n",
      " |-- Onboard_date: timestamp (nullable = true)\n",
      " |-- Location: string (nullable = true)\n",
      " |-- Company: string (nullable = true)\n",
      " |-- Churn: integer (nullable = true)\n",
      "\n"
     ]
    }
   ],
   "source": [
    "# We can investigate our schema by using the printSchema() function\n",
    "df.printSchema()"
   ]
  },
  {
   "cell_type": "code",
   "execution_count": 23,
   "metadata": {},
   "outputs": [
    {
     "data": {
      "text/plain": [
       "[('Names', 'string'),\n",
       " ('Age', 'int'),\n",
       " ('Total_Purchase', 'double'),\n",
       " ('Account_Manager', 'int'),\n",
       " ('Years', 'double'),\n",
       " ('Onboard_date', 'timestamp'),\n",
       " ('Location', 'string'),\n",
       " ('Company', 'string'),\n",
       " ('Churn', 'int')]"
      ]
     },
     "execution_count": 23,
     "metadata": {},
     "output_type": "execute_result"
    }
   ],
   "source": [
    "# We can also just choose to look at data types\n",
    "df.dtypes"
   ]
  },
  {
   "cell_type": "markdown",
   "metadata": {},
   "source": [
    "**Note** They seem to all make sense, which is great! However, remember that we specified the `inferSchema = True` way back in the read.csv() function, which tells the function to estimate - or 'infer' - the data types in each of our columns. \n",
    "\n",
    "\n",
    "By default however, the _inferSchema_ parameter is set to False. This would have read in all columns as _strings_, and we would have had to change this manually. Hypothetically, if we did want to change the structure manually or if we were dealing with data from which it was difficult to infer a schema (correctly), we could do the following:"
   ]
  },
  {
   "cell_type": "code",
   "execution_count": 24,
   "metadata": {},
   "outputs": [],
   "source": [
    "# First import necessary functions from the 'types' submodule.\n",
    "from pyspark.sql.types import (StructField, StructType, \n",
    "                               IntegerType, StringType, \n",
    "                              FloatType, DateType)\n",
    "\n",
    "# Note, we imported the following data types here: IntegerType, StringType, FloatType, and DateType as that's all we\n",
    "# we need. The module has other functions as well though."
   ]
  },
  {
   "cell_type": "markdown",
   "metadata": {},
   "source": [
    "We create a new data schema for our data as a list of tuple objects, where each tuple, or element in the list represents a field (column) in our dataframe. To dissect each of those `StructField` objects: \n",
    "\n",
    "- <u>Name</u>: This is the name we'll give our column.\n",
    "- <u>dataType</u>: The data type of the column. This will take any one of the values from the functions imported above.\n",
    "- <u>nullable</u>: This specifies if the column can take Null values or not. \n",
    "\n",
    "Note how this is very similar to creating a database in SQL! Perhaps it's no big surprise though as after all, the work we're doing here is all within the SQL module of Pyspark."
   ]
  },
  {
   "cell_type": "code",
   "execution_count": null,
   "metadata": {},
   "outputs": [],
   "source": [
    "# We create a new schema - one StructField for each field.\n",
    "new_data_schema = [StructField(name = 'Names', dataType= StringType(), nullable= True), \n",
    "              StructField(name= 'Age', dataType= IntegerType(), nullable= True), \n",
    "              StructField(name= 'Total_purchase', dataType= FloatType(), nullable= True), \n",
    "              StructField(name= 'Account_manager', dataType= IntegerType(), nullable= True), \n",
    "              StructField(name= 'Years', dataType= FloatType(), nullable= True), \n",
    "              StructField(name= 'Num_sites', dataType= IntegerType(), nullable= True), \n",
    "              StructField(name= 'Onboard_date', dataType= DateType(), nullable= True),\n",
    "              StructField(name= 'Location', dataType= StringType(), nullable= True),\n",
    "              StructField(name= 'Company', dataType= StringType(), nullable= True), \n",
    "              StructField(name= 'Churn', dataType= IntegerType(), nullable= True)]\n",
    "\n",
    "\n",
    "# We create a StrucType object from the above.\n",
    "final_struc = StructType(fields= data_schema)\n",
    "\n",
    "# We re-read our CSV, this time assigning our StrucType object to the 'schema' parameter as so:\n",
    "new_df = spark.read.csv('customer_churn.csv.csv', header = True, schema = final_struc)"
   ]
  },
  {
   "cell_type": "markdown",
   "metadata": {},
   "source": [
    "### Other useful dataframe functions\n",
    "Namely:\n",
    "- Summary statistics\n",
    "- Finding unique values of a column\n",
    "- Getting the shape"
   ]
  },
  {
   "cell_type": "code",
   "execution_count": 25,
   "metadata": {},
   "outputs": [
    {
     "name": "stdout",
     "output_type": "stream",
     "text": [
      "+-------+-------------+-----------------+------------------+-------------------+-----------------+--------------------+--------------------+-------------------+\n",
      "|summary|        Names|              Age|    Total_Purchase|    Account_Manager|            Years|            Location|             Company|              Churn|\n",
      "+-------+-------------+-----------------+------------------+-------------------+-----------------+--------------------+--------------------+-------------------+\n",
      "|  count|          900|              898|               899|                898|              900|                 900|                 899|                900|\n",
      "|   mean|         null|41.81069042316258|10064.888242491663| 0.4799554565701559| 5.27315555555555|                null|                null|0.16666666666666666|\n",
      "| stddev|         null| 6.13303075073418| 2409.188637458988|0.49987645989755647|1.274449013194616|                null|                null| 0.3728852122772358|\n",
      "|    min|   Aaron King|               22|             100.0|                  0|              1.0|00103 Jeffrey Cre...|     Abbott-Thompson|                  0|\n",
      "|    max|Zachary Walsh|               65|          18026.01|                  1|             9.15|Unit 9800 Box 287...|Zuniga, Clark and...|                  1|\n",
      "+-------+-------------+-----------------+------------------+-------------------+-----------------+--------------------+--------------------+-------------------+\n",
      "\n"
     ]
    }
   ],
   "source": [
    "# To get summary stats, we can use the describe() function as with pandas \n",
    "df.describe().show()\n",
    "\n",
    "# again, you'll see a crowded output, so we can select a few columns for the sake of clarity."
   ]
  },
  {
   "cell_type": "code",
   "execution_count": 27,
   "metadata": {},
   "outputs": [
    {
     "name": "stdout",
     "output_type": "stream",
     "text": [
      "+-------+-------------+-----------------+------------------+-------------------+\n",
      "|summary|        Names|              Age|    Total_Purchase|              Churn|\n",
      "+-------+-------------+-----------------+------------------+-------------------+\n",
      "|  count|          900|              898|               899|                900|\n",
      "|   mean|         null|41.81069042316258|10064.888242491663|0.16666666666666666|\n",
      "| stddev|         null| 6.13303075073418| 2409.188637458988| 0.3728852122772358|\n",
      "|    min|   Aaron King|               22|             100.0|                  0|\n",
      "|    max|Zachary Walsh|               65|          18026.01|                  1|\n",
      "+-------+-------------+-----------------+------------------+-------------------+\n",
      "\n"
     ]
    }
   ],
   "source": [
    "# Let's instead pick a few columns\n",
    "df.select('Names', 'Age', 'Total_Purchase', 'Churn').describe().show()"
   ]
  },
  {
   "cell_type": "markdown",
   "metadata": {},
   "source": [
    "Note here that the describe() function in Spark dataframes is also including a string variable, Names. In fact it's calculating 'minimum' and 'maximum' values for it too. What is it doing here?"
   ]
  },
  {
   "cell_type": "code",
   "execution_count": 28,
   "metadata": {
    "scrolled": true
   },
   "outputs": [
    {
     "name": "stdout",
     "output_type": "stream",
     "text": [
      "+-----+\n",
      "|Churn|\n",
      "+-----+\n",
      "|    1|\n",
      "|    0|\n",
      "+-----+\n",
      "\n"
     ]
    }
   ],
   "source": [
    "# To get the unique values of a column, we use the distinct() method after selecting the column in question:\n",
    "df.select('Churn').distinct().show()"
   ]
  },
  {
   "cell_type": "code",
   "execution_count": 116,
   "metadata": {},
   "outputs": [
    {
     "name": "stdout",
     "output_type": "stream",
     "text": [
      "+---------------+\n",
      "|Account_Manager|\n",
      "+---------------+\n",
      "|           null|\n",
      "|              1|\n",
      "|              0|\n",
      "+---------------+\n",
      "\n"
     ]
    }
   ],
   "source": [
    "# And the same for the Account_Manager feature\n",
    "df.select('Account_Manager').distinct().show()"
   ]
  },
  {
   "cell_type": "code",
   "execution_count": 42,
   "metadata": {},
   "outputs": [
    {
     "data": {
      "text/plain": [
       "37"
      ]
     },
     "execution_count": 42,
     "metadata": {},
     "output_type": "execute_result"
    }
   ],
   "source": [
    "# To get the number of unique values -- i.e. nunique() in pandas -- we simply add the count() function at the end:\n",
    "df.select('Age').distinct().count()"
   ]
  },
  {
   "cell_type": "code",
   "execution_count": 43,
   "metadata": {},
   "outputs": [
    {
     "data": {
      "text/plain": [
       "900"
      ]
     },
     "execution_count": 43,
     "metadata": {},
     "output_type": "execute_result"
    }
   ],
   "source": [
    "# Finally, to get the shape, we need to apply the count() to get the number of rows:\n",
    "df.count()"
   ]
  },
  {
   "cell_type": "code",
   "execution_count": 44,
   "metadata": {},
   "outputs": [
    {
     "data": {
      "text/plain": [
       "9"
      ]
     },
     "execution_count": 44,
     "metadata": {},
     "output_type": "execute_result"
    }
   ],
   "source": [
    "# And to get the number of columns, we need to apply the in-built Python function, len() to the list of columns:\n",
    "len(df.columns)"
   ]
  },
  {
   "cell_type": "code",
   "execution_count": 47,
   "metadata": {},
   "outputs": [
    {
     "data": {
      "text/plain": [
       "(900, 9)"
      ]
     },
     "execution_count": 47,
     "metadata": {},
     "output_type": "execute_result"
    }
   ],
   "source": [
    "# Together = Shape!\n",
    "df.count(), len(df.columns)"
   ]
  },
  {
   "cell_type": "markdown",
   "metadata": {},
   "source": [
    "### Filtering\n",
    "In other words, 'selecting' by rows. To do this, we simply use the `filter()` function."
   ]
  },
  {
   "cell_type": "code",
   "execution_count": 48,
   "metadata": {
    "scrolled": true
   },
   "outputs": [
    {
     "name": "stdout",
     "output_type": "stream",
     "text": [
      "+----------------+---+--------------+---------------+-----+-------------------+--------------------+------------+-----+\n",
      "|           Names|Age|Total_Purchase|Account_Manager|Years|       Onboard_date|            Location|     Company|Churn|\n",
      "+----------------+---+--------------+---------------+-----+-------------------+--------------------+------------+-----+\n",
      "|Cameron Williams| 42|       11066.8|              0| 7.22|2013-08-30 07:00:40|10265 Elizabeth M...|  Harvey LLC|    1|\n",
      "|   Kevin Mueller| 41|      11916.22|              0|  6.5|2013-08-13 00:38:46|6157 Frank Garden...|  Wilson PLC|    1|\n",
      "|   Phillip White| 42|       8010.76|              0| 6.71|2014-04-22 12:43:12|13120 Daniel Moun...|   Smith Inc|    1|\n",
      "|Jessica Williams| 48|      10356.02|              0| 5.12|2009-03-03 23:13:37|6187 Olson Mounta...|Kelly-Warren|    1|\n",
      "+----------------+---+--------------+---------------+-----+-------------------+--------------------+------------+-----+\n",
      "only showing top 4 rows\n",
      "\n"
     ]
    }
   ],
   "source": [
    "# Let's check out all customers above the age of 40.\n",
    "\n",
    "# Syntax 1:\n",
    "df.filter('Age > 40').show(4)\n",
    "\n",
    "# (and only show us 4 rows for now)"
   ]
  },
  {
   "cell_type": "code",
   "execution_count": 50,
   "metadata": {},
   "outputs": [
    {
     "name": "stdout",
     "output_type": "stream",
     "text": [
      "+----------------+---+--------------+---------------+-----+-------------------+--------------------+------------+-----+\n",
      "|           Names|Age|Total_Purchase|Account_Manager|Years|       Onboard_date|            Location|     Company|Churn|\n",
      "+----------------+---+--------------+---------------+-----+-------------------+--------------------+------------+-----+\n",
      "|Cameron Williams| 42|       11066.8|              0| 7.22|2013-08-30 07:00:40|10265 Elizabeth M...|  Harvey LLC|    1|\n",
      "|   Kevin Mueller| 41|      11916.22|              0|  6.5|2013-08-13 00:38:46|6157 Frank Garden...|  Wilson PLC|    1|\n",
      "|   Phillip White| 42|       8010.76|              0| 6.71|2014-04-22 12:43:12|13120 Daniel Moun...|   Smith Inc|    1|\n",
      "|Jessica Williams| 48|      10356.02|              0| 5.12|2009-03-03 23:13:37|6187 Olson Mounta...|Kelly-Warren|    1|\n",
      "+----------------+---+--------------+---------------+-----+-------------------+--------------------+------------+-----+\n",
      "only showing top 4 rows\n",
      "\n"
     ]
    }
   ],
   "source": [
    "# Syntax 2: This is similar to pandas filtering\n",
    "df.filter(df['Age'] > 40).show(4)"
   ]
  },
  {
   "cell_type": "markdown",
   "metadata": {},
   "source": [
    "To create multiple conditions, it's best if we stick to syntax 2, as so:"
   ]
  },
  {
   "cell_type": "code",
   "execution_count": 51,
   "metadata": {},
   "outputs": [
    {
     "name": "stdout",
     "output_type": "stream",
     "text": [
      "+--------------+--------------+\n",
      "|         Names|Total_Purchase|\n",
      "+--------------+--------------+\n",
      "|   Ashlee Carr|       14062.6|\n",
      "|Bruce Phillips|       8771.02|\n",
      "|  Craig Garner|       8988.67|\n",
      "+--------------+--------------+\n",
      "only showing top 3 rows\n",
      "\n"
     ]
    }
   ],
   "source": [
    "# Filter for customers who are older than 40, and have an account manager assigned. \n",
    "\n",
    "# Only show Names, and Total Purchase, and for now only show 3 rows.\n",
    "df.select('Names', 'Total_Purchase').filter((df['Age'] > 40) & (df['Account_Manager'] == 1)).show(3)"
   ]
  },
  {
   "cell_type": "code",
   "execution_count": 52,
   "metadata": {},
   "outputs": [
    {
     "data": {
      "text/plain": [
       "247"
      ]
     },
     "execution_count": 52,
     "metadata": {},
     "output_type": "execute_result"
    }
   ],
   "source": [
    "# How big is this subset?\n",
    "df.select('Names', 'Total_Purchase').filter((df['Age'] > 40) & (df['Account_Manager'] == 1)).count()"
   ]
  },
  {
   "cell_type": "markdown",
   "metadata": {},
   "source": [
    "We can also filter string values quite easily, if we wanted to: "
   ]
  },
  {
   "cell_type": "code",
   "execution_count": 129,
   "metadata": {},
   "outputs": [
    {
     "name": "stdout",
     "output_type": "stream",
     "text": [
      "+------------+----+--------------+\n",
      "|       Names| Age|Total_Purchase|\n",
      "+------------+----+--------------+\n",
      "| Eric Lozano|  38|      12884.75|\n",
      "| Eric Butler|null|      11331.58|\n",
      "|Erica Flores|  38|       9624.18|\n",
      "| Eric Kelley|  43|      10271.19|\n",
      "|  Eric Smith|  37|      11416.56|\n",
      "| Eric Castro|  38|      10770.82|\n",
      "| Eric Martin|  44|      14155.97|\n",
      "|  Eric Terry|  42|      16371.42|\n",
      "+------------+----+--------------+\n",
      "\n"
     ]
    }
   ],
   "source": [
    "# Find all customers whose names start with Eric (i.e. their first name). \n",
    "\n",
    "# Show only the Names, Age, and Total_Purchase columns \n",
    "df.select('Names', 'Age', 'Total_Purchase').filter(df['Names'].startswith('Eric')).show()\n",
    "\n",
    "# Could also use .endswith('Eric') for last names for instance."
   ]
  },
  {
   "cell_type": "code",
   "execution_count": 53,
   "metadata": {},
   "outputs": [
    {
     "name": "stdout",
     "output_type": "stream",
     "text": [
      "+---------------+---+--------------+\n",
      "|          Names|Age|Total_Purchase|\n",
      "+---------------+---+--------------+\n",
      "|    Diane Terry| 53|      13173.82|\n",
      "|    Kelly Terry| 45|       3689.95|\n",
      "|     Terry Diaz| 46|      11401.63|\n",
      "|   Robert Terry| 44|       6517.22|\n",
      "|  Theresa Terry| 44|       8819.13|\n",
      "|   Terry Kelley| 37|       9788.78|\n",
      "|Terry Curtis MD| 48|       8403.02|\n",
      "|  Kristen Terry| 39|      10292.19|\n",
      "|     Eric Terry| 42|      16371.42|\n",
      "+---------------+---+--------------+\n",
      "\n"
     ]
    }
   ],
   "source": [
    "# What if we want to find any match regardless of whether the string starts or ends with the name in question?\n",
    "\n",
    "# Let's search for Terry in first, middle or last name:\n",
    "df.select('Names', 'Age', 'Total_Purchase').filter(df['Names'].contains('Terry')).show()"
   ]
  },
  {
   "cell_type": "markdown",
   "metadata": {},
   "source": [
    "We can also filter dates easily using the `between()` function. "
   ]
  },
  {
   "cell_type": "code",
   "execution_count": 55,
   "metadata": {
    "scrolled": true
   },
   "outputs": [
    {
     "data": {
      "text/plain": [
       "192"
      ]
     },
     "execution_count": 55,
     "metadata": {},
     "output_type": "execute_result"
    }
   ],
   "source": [
    "# Filter rows for those customers who were onboarded at any point between 2006 and the very beginning of 2008.\n",
    "df.select('Names','Age','Onboard_date', 'Churn') \\\n",
    ".filter(df['Onboard_date'].between('2006-01-01', '2008-01-01')) \\\n",
    ".count()\n",
    "\n",
    "# Note on syntax above: we can use the backslash \\ to continue our code on the line below for readability. "
   ]
  },
  {
   "cell_type": "code",
   "execution_count": 57,
   "metadata": {
    "scrolled": true
   },
   "outputs": [
    {
     "name": "stdout",
     "output_type": "stream",
     "text": [
      "+--------------+----+-------------------+-----+\n",
      "|         Names| Age|       Onboard_date|Churn|\n",
      "+--------------+----+-------------------+-----+\n",
      "| Zachary Walsh|  32|2006-03-09 14:50:20|    1|\n",
      "|Jennifer Lynch|  40|2006-03-28 15:42:45|    1|\n",
      "| Doris Wilkins|null|2006-09-03 06:13:55|    1|\n",
      "+--------------+----+-------------------+-----+\n",
      "only showing top 3 rows\n",
      "\n"
     ]
    }
   ],
   "source": [
    "# Show the result rather than count no. of rows\n",
    "df.select('Names','Age','Onboard_date', 'Churn') \\\n",
    ".filter(df['Onboard_date'].between('2006-01-01', '2008-01-01')) \\\n",
    ".show(3)"
   ]
  },
  {
   "cell_type": "markdown",
   "metadata": {},
   "source": [
    "## Cleaning data\n",
    "As we all know data is messy! Of course with data of large volumes, the problem of messy/incorrect data is amplified. We can deal with them however, in Spark dataframes. \n",
    "\n",
    "<u>Note:</u> As with filtering, lots of data cleaning functions are similar to their Pandas equivalents."
   ]
  },
  {
   "cell_type": "code",
   "execution_count": 29,
   "metadata": {},
   "outputs": [],
   "source": [
    "# To begin with, let's import the 'functions' submodule as 'f' in case we need any of the handy functions it brings.\n",
    "import pyspark.sql.functions as f\n",
    "\n",
    "# Try f.[PRESS TAB] to see what functions are included!"
   ]
  },
  {
   "cell_type": "code",
   "execution_count": 31,
   "metadata": {},
   "outputs": [
    {
     "name": "stdout",
     "output_type": "stream",
     "text": [
      "+-------------+----+--------------+---------------+-----+-------------------+--------------------+-----------------+-----+\n",
      "|        Names| Age|Total_Purchase|Account_Manager|Years|       Onboard_date|            Location|          Company|Churn|\n",
      "+-------------+----+--------------+---------------+-----+-------------------+--------------------+-----------------+-----+\n",
      "|  Eric Butler|null|      11331.58|           null| 5.23|2016-12-05 03:35:43|4846 Savannah Roa...|Reynolds-Sheppard|    1|\n",
      "|Doris Wilkins|null|       8213.41|              1| 7.35|2006-09-03 06:13:55|28216 Wright Moun...|             null|    1|\n",
      "+-------------+----+--------------+---------------+-----+-------------------+--------------------+-----------------+-----+\n",
      "\n"
     ]
    }
   ],
   "source": [
    "# Let's see where the Null values are in the Age column:\n",
    "df.filter(f.isnull(df.Age)).show()\n",
    "\n",
    "# We could also in this case use the following as there's Spark dataframe-specific function that checks for Nulls:\n",
    "# df.filter(df.Age.isNull()).show()"
   ]
  },
  {
   "cell_type": "markdown",
   "metadata": {},
   "source": [
    "To view the rows where there are any Null values in any of our columns, we could string several conditions together with the `&` logical operator between them -- i.e. \n",
    "\n",
    "`df.filter((f.isnull(df['Age'])) & (f.isnull(df['Total_Purchase'])) & ....)`\n",
    "\n",
    "However, we could just quickly check how many there actually are with the familiar `dropna()` function. "
   ]
  },
  {
   "cell_type": "code",
   "execution_count": 33,
   "metadata": {
    "scrolled": true
   },
   "outputs": [
    {
     "data": {
      "text/plain": [
       "896"
      ]
     },
     "execution_count": 33,
     "metadata": {},
     "output_type": "execute_result"
    }
   ],
   "source": [
    "# Count the rows where we have Null values \n",
    "df.dropna(how = 'any', subset= None).count()"
   ]
  },
  {
   "cell_type": "code",
   "execution_count": 135,
   "metadata": {},
   "outputs": [
    {
     "data": {
      "text/plain": [
       "900"
      ]
     },
     "execution_count": 135,
     "metadata": {},
     "output_type": "execute_result"
    }
   ],
   "source": [
    "# We can see that only 4 rows out of 900 have Null values.\n",
    "df.count()"
   ]
  },
  {
   "cell_type": "code",
   "execution_count": 34,
   "metadata": {},
   "outputs": [],
   "source": [
    "# Due to the small number, we'll just go ahead and drop all of them\n",
    "df2 = df.dropna(how = 'any', subset=None)"
   ]
  },
  {
   "cell_type": "markdown",
   "metadata": {},
   "source": [
    "Alternatively, if we had wanted to replace the Null values, we could have used .fillna() as follows:\n",
    "`df.fillna(value = ..., subset = 'Age')`"
   ]
  },
  {
   "cell_type": "code",
   "execution_count": 54,
   "metadata": {},
   "outputs": [
    {
     "data": {
      "text/plain": [
       "896"
      ]
     },
     "execution_count": 54,
     "metadata": {},
     "output_type": "execute_result"
    }
   ],
   "source": [
    "# Check the count after dropping NUll rows:\n",
    "df2.count()"
   ]
  },
  {
   "cell_type": "markdown",
   "metadata": {},
   "source": [
    "### Adding, removing, and extracting columns"
   ]
  },
  {
   "cell_type": "code",
   "execution_count": 55,
   "metadata": {},
   "outputs": [],
   "source": [
    "# We can easily add a column as follows:\n",
    "df2 = df2.withColumn(colName= 'Age_times_2', col= df2['Age']*2)\n",
    "\n",
    "## Parameters: \n",
    "# colName = the name of our new column\n",
    "# col = the values of this new column"
   ]
  },
  {
   "cell_type": "code",
   "execution_count": 56,
   "metadata": {},
   "outputs": [
    {
     "data": {
      "text/plain": [
       "['Names',\n",
       " 'Age',\n",
       " 'Total_Purchase',\n",
       " 'Account_Manager',\n",
       " 'Years',\n",
       " 'Onboard_date',\n",
       " 'Location',\n",
       " 'Company',\n",
       " 'Churn',\n",
       " 'Age_times_2']"
      ]
     },
     "execution_count": 56,
     "metadata": {},
     "output_type": "execute_result"
    }
   ],
   "source": [
    "# Now check columns\n",
    "df2.columns\n"
   ]
  },
  {
   "cell_type": "code",
   "execution_count": 57,
   "metadata": {},
   "outputs": [
    {
     "data": {
      "text/plain": [
       "['Names',\n",
       " 'Age',\n",
       " 'Total_Purchase',\n",
       " 'Account_Manager',\n",
       " 'Years',\n",
       " 'Onboard_date',\n",
       " 'Location',\n",
       " 'Company',\n",
       " 'Churn']"
      ]
     },
     "execution_count": 57,
     "metadata": {},
     "output_type": "execute_result"
    }
   ],
   "source": [
    "# This column adds no value here, so we can drop it:\n",
    "df2 = df2.drop('Age_times_2')\n",
    "\n",
    "df2.columns"
   ]
  },
  {
   "cell_type": "markdown",
   "metadata": {},
   "source": [
    "We can use this same functionality to extract Month and Year values from the __Onboard_date__ variable, using the the `month` and `year` functions respectively from the functions submodule we imported earlier. "
   ]
  },
  {
   "cell_type": "code",
   "execution_count": 58,
   "metadata": {},
   "outputs": [],
   "source": [
    "# Extract Month\n",
    "df2 = df2.withColumn('Month', f.month(df2['Onboard_date']))\n",
    "\n",
    "# Extract Year\n",
    "df2 = df2.withColumn('Year', f.year(df2['Onboard_date']))"
   ]
  },
  {
   "cell_type": "code",
   "execution_count": 59,
   "metadata": {},
   "outputs": [
    {
     "data": {
      "text/plain": [
       "['Names',\n",
       " 'Age',\n",
       " 'Total_Purchase',\n",
       " 'Account_Manager',\n",
       " 'Years',\n",
       " 'Onboard_date',\n",
       " 'Location',\n",
       " 'Company',\n",
       " 'Churn',\n",
       " 'Month',\n",
       " 'Year']"
      ]
     },
     "execution_count": 59,
     "metadata": {},
     "output_type": "execute_result"
    }
   ],
   "source": [
    "df2.columns"
   ]
  },
  {
   "cell_type": "markdown",
   "metadata": {},
   "source": [
    "### GroupBy \n",
    "As we've seen so far, Spark dataframes have lots of shared functions with standard SQL queries -- e.g. `select`, `distinct` -- and we can add GroupBy to this this list! Let's explore how we would do a groupBy in Spark. "
   ]
  },
  {
   "cell_type": "code",
   "execution_count": 72,
   "metadata": {},
   "outputs": [
    {
     "name": "stdout",
     "output_type": "stream",
     "text": [
      "+----+-------------------+--------------------+\n",
      "|Year|avg(Total_Purchase)|avg(Account_Manager)|\n",
      "+----+-------------------+--------------------+\n",
      "|2007| 10389.766777777775|                 0.5|\n",
      "|2015| 10043.000810810809|  0.5135135135135135|\n",
      "|2006| 10061.851584158412| 0.42574257425742573|\n",
      "|2013|  9588.432499999999|              0.4375|\n",
      "|2014|  9914.628543689323|  0.5048543689320388|\n",
      "|2012|  9656.126716417912|  0.4626865671641791|\n",
      "|2009|  9957.127857142857| 0.47619047619047616|\n",
      "|2016| 10188.949846153848| 0.47692307692307695|\n",
      "|2010|  10607.28940476191|  0.4642857142857143|\n",
      "|2011| 10514.843888888892|  0.5277777777777778|\n",
      "|2008|  9746.088289473686|                 0.5|\n",
      "+----+-------------------+--------------------+\n",
      "\n"
     ]
    }
   ],
   "source": [
    "# Let's try grouping by Year (of onboarding)\n",
    "\n",
    "df2.groupBy('Year').mean().select('Year', 'avg(Total_Purchase)', 'avg(Account_Manager)').show()\n",
    "\n",
    "# Note: We select a few columns here just to get neater output. "
   ]
  },
  {
   "cell_type": "code",
   "execution_count": 75,
   "metadata": {},
   "outputs": [
    {
     "name": "stdout",
     "output_type": "stream",
     "text": [
      "+----+-------------------+--------------------+\n",
      "|Year|avg(Total_Purchase)|avg(Account_Manager)|\n",
      "+----+-------------------+--------------------+\n",
      "|2016| 10188.949846153848| 0.47692307692307695|\n",
      "|2015| 10043.000810810809|  0.5135135135135135|\n",
      "|2014|  9914.628543689323|  0.5048543689320388|\n",
      "|2013|  9588.432499999999|              0.4375|\n",
      "|2012|  9656.126716417912|  0.4626865671641791|\n",
      "|2011| 10514.843888888892|  0.5277777777777778|\n",
      "|2010|  10607.28940476191|  0.4642857142857143|\n",
      "|2009|  9957.127857142857| 0.47619047619047616|\n",
      "|2008|  9746.088289473686|                 0.5|\n",
      "|2007| 10389.766777777775|                 0.5|\n",
      "|2006| 10061.851584158412| 0.42574257425742573|\n",
      "+----+-------------------+--------------------+\n",
      "\n"
     ]
    }
   ],
   "source": [
    "# Order in descending order of 'Year' value\n",
    "\n",
    "df2.groupBy('Year').mean() \\ \n",
    ".select('Year', 'avg(Total_Purchase)', 'avg(Account_Manager)') \\\n",
    ".orderBy('Year', ascending = False) \\\n",
    ".show()"
   ]
  },
  {
   "cell_type": "markdown",
   "metadata": {},
   "source": [
    "We can also groupby several columns in Spark dataframes, somewhat like complex pivot tables, or multi-indexing in Pandas dataframes."
   ]
  },
  {
   "cell_type": "code",
   "execution_count": 78,
   "metadata": {},
   "outputs": [
    {
     "name": "stdout",
     "output_type": "stream",
     "text": [
      "+----+-----+-------------------+--------------------+\n",
      "|Year|Month|avg(Total_Purchase)|avg(Account_Manager)|\n",
      "+----+-----+-------------------+--------------------+\n",
      "|2016|    1| 11082.634285714286| 0.14285714285714285|\n",
      "|2016|    2| 10367.696249999999|                 0.5|\n",
      "|2016|    3| 11216.039999999999|                 0.5|\n",
      "|2016|    4|          10101.122|                 0.6|\n",
      "|2016|    5|           9476.245|  0.8333333333333334|\n",
      "|2016|    6| 11068.869999999999|                 0.4|\n",
      "|2016|    7|            9050.66|                 0.5|\n",
      "|2016|    8|          10704.825|                0.25|\n",
      "|2016|    9|            9151.57|                0.25|\n",
      "|2016|   10|            8690.08|                 0.6|\n",
      "|2016|   11|          10502.965|  0.6666666666666666|\n",
      "|2016|   12|  9076.523333333333|  0.3333333333333333|\n",
      "|2015|    1|  9767.253999999999|                 0.4|\n",
      "|2015|    2|  9737.191666666666|  0.3333333333333333|\n",
      "|2015|    3|          10244.714|                 0.6|\n",
      "|2015|    4|           11081.34|                0.75|\n",
      "|2015|    5|         9315.43375|                0.75|\n",
      "|2015|    6| 11599.667500000001|                0.75|\n",
      "|2015|    7|         10367.2775|                 0.5|\n",
      "|2015|    8|            9648.81|                 0.0|\n",
      "+----+-----+-------------------+--------------------+\n",
      "only showing top 20 rows\n",
      "\n"
     ]
    }
   ],
   "source": [
    "# Let's groupby Year and Month \n",
    "\n",
    "df2.groupBy('Year', 'Month').mean() \\\n",
    ".select('Year', 'Month', 'avg(Total_Purchase)', 'avg(Account_Manager)') \\\n",
    ".orderBy(df2['Year'].desc(), 'Month') \\\n",
    ".show()\n",
    "\n",
    "# Note how you're able to order different variables in different orders -- in this case, we sort 'Year' in descending\n",
    "# order and Month by the default ascending order."
   ]
  },
  {
   "cell_type": "markdown",
   "metadata": {},
   "source": [
    "# Machine learning\n",
    "\n",
    "There are four or so parts to doing any machine learning project, which is the structure Pyspark ML also follows:\n",
    "- Feature engineering \n",
    "- Train/test split, as it's a supervised problem\n",
    "- Applying the algorithm (modelling)\n",
    "- Evaluation"
   ]
  },
  {
   "cell_type": "markdown",
   "metadata": {},
   "source": [
    "### Feature engineering\n",
    "\n",
    "Like with Sklearn models, we have to transform the categorical features before running them through an ML model. This can be done in two main ways: \n",
    "- <u>One-hot encoding:</u> Creating a column for each feature value that takes either a 1 or a 0 for each row. I.e. <i>Year = 2006</i> would be a column in and of its own right with rows being a 1 (Yes), or a 0 (No). This would be applied across the board for all features and all distinct values they can hold. \n",
    "- <u>Label encoding:</u> Labelling each distinct value in a column as a distinct number -- i.e. <i>Company X</i> might now be labelled 1, <i>Company Y</i> might be 2 etc. As numerical features, they would then be valid for input in an ML model for Pyspark ML. <br>\n",
    "\n",
    "However, solely for simplicity reasons, for this workshop we'll be sticking to numerical features."
   ]
  },
  {
   "cell_type": "code",
   "execution_count": 79,
   "metadata": {},
   "outputs": [
    {
     "name": "stdout",
     "output_type": "stream",
     "text": [
      "root\n",
      " |-- Names: string (nullable = true)\n",
      " |-- Age: integer (nullable = true)\n",
      " |-- Total_Purchase: double (nullable = true)\n",
      " |-- Account_Manager: integer (nullable = true)\n",
      " |-- Years: double (nullable = true)\n",
      " |-- Onboard_date: timestamp (nullable = true)\n",
      " |-- Location: string (nullable = true)\n",
      " |-- Company: string (nullable = true)\n",
      " |-- Churn: integer (nullable = true)\n",
      " |-- Month: integer (nullable = true)\n",
      " |-- Year: integer (nullable = true)\n",
      "\n"
     ]
    }
   ],
   "source": [
    "df2.printSchema()"
   ]
  },
  {
   "cell_type": "code",
   "execution_count": 84,
   "metadata": {},
   "outputs": [
    {
     "data": {
      "text/plain": [
       "['Age', 'Total_Purchase', 'Account_Manager', 'Years', 'Year', 'Month']"
      ]
     },
     "execution_count": 84,
     "metadata": {},
     "output_type": "execute_result"
    }
   ],
   "source": [
    "# We only want to model on numerical features for now - no need for one-hot encoding for now. We can specify a list\n",
    "# of column names:\n",
    "\n",
    "keep_cols = [\n",
    " 'Age',\n",
    " 'Total_Purchase',\n",
    " 'Account_Manager',\n",
    " 'Years', \n",
    "'Year', \n",
    "'Month']\n",
    "\n",
    "# Output\n",
    "keep_cols"
   ]
  },
  {
   "cell_type": "code",
   "execution_count": 85,
   "metadata": {},
   "outputs": [
    {
     "data": {
      "text/plain": [
       "[('Age', 'int'),\n",
       " ('Total_Purchase', 'double'),\n",
       " ('Account_Manager', 'int'),\n",
       " ('Years', 'double'),\n",
       " ('Year', 'int'),\n",
       " ('Month', 'int')]"
      ]
     },
     "execution_count": 85,
     "metadata": {},
     "output_type": "execute_result"
    }
   ],
   "source": [
    "# Check data types in our columns\n",
    "df2[keep_cols].dtypes"
   ]
  },
  {
   "cell_type": "markdown",
   "metadata": {},
   "source": [
    "Unlike Sklearn however, where a series of column would work, to do any ML with Pyspark we will need to first group the columns into one, as that is the only input it would accept. "
   ]
  },
  {
   "cell_type": "code",
   "execution_count": 83,
   "metadata": {},
   "outputs": [],
   "source": [
    "# To do this, we'll use the handy VectorAssembler function:\n",
    "from pyspark.ml.feature import VectorAssembler"
   ]
  },
  {
   "cell_type": "code",
   "execution_count": 86,
   "metadata": {},
   "outputs": [],
   "source": [
    "# It takes 2 main parameters: \n",
    "## 1) inputCols -- these are our input features.\n",
    "## 2) outputCol -- this is the name of our output vector that is a combination of the input features we specify.\n",
    "\n",
    "assembler = VectorAssembler(inputCols = keep_cols, outputCol = 'features')"
   ]
  },
  {
   "cell_type": "code",
   "execution_count": 87,
   "metadata": {},
   "outputs": [
    {
     "data": {
      "text/plain": [
       "VectorAssembler_aae4b179f702"
      ]
     },
     "execution_count": 87,
     "metadata": {},
     "output_type": "execute_result"
    }
   ],
   "source": [
    "# Just a VectorAssembler object. We haven't applied the transformation yet.\n",
    "assembler"
   ]
  },
  {
   "cell_type": "code",
   "execution_count": 88,
   "metadata": {},
   "outputs": [],
   "source": [
    "# We create the output dataframe:\n",
    "output_df = assembler.transform(df2)"
   ]
  },
  {
   "cell_type": "code",
   "execution_count": 89,
   "metadata": {},
   "outputs": [
    {
     "data": {
      "text/plain": [
       "['Names',\n",
       " 'Age',\n",
       " 'Total_Purchase',\n",
       " 'Account_Manager',\n",
       " 'Years',\n",
       " 'Onboard_date',\n",
       " 'Location',\n",
       " 'Company',\n",
       " 'Churn',\n",
       " 'Month',\n",
       " 'Year',\n",
       " 'features']"
      ]
     },
     "execution_count": 89,
     "metadata": {},
     "output_type": "execute_result"
    }
   ],
   "source": [
    "# let's see the output_dataframe columns\n",
    "output_df.columns"
   ]
  },
  {
   "cell_type": "markdown",
   "metadata": {},
   "source": [
    "We can see that it has just added a <i>features</i> column at the end."
   ]
  },
  {
   "cell_type": "code",
   "execution_count": 92,
   "metadata": {},
   "outputs": [
    {
     "name": "stdout",
     "output_type": "stream",
     "text": [
      "+---+--------------+---------------+--------------------+\n",
      "|Age|Total_Purchase|Account_Manager|            features|\n",
      "+---+--------------+---------------+--------------------+\n",
      "| 42|       11066.8|              0|[42.0,11066.8,0.0...|\n",
      "| 41|      11916.22|              0|[41.0,11916.22,0....|\n",
      "+---+--------------+---------------+--------------------+\n",
      "only showing top 2 rows\n",
      "\n"
     ]
    }
   ],
   "source": [
    "# Let's see what that actually looks like:\n",
    "output_df.select('Age', 'Total_Purchase', 'Account_Manager', 'features').show(2)\n",
    "\n",
    "# It's simply combined them together in a vector with a comma separating the values of the inputCols."
   ]
  },
  {
   "cell_type": "code",
   "execution_count": 94,
   "metadata": {},
   "outputs": [],
   "source": [
    "# As mentioned we only want to select the 'features' column for our modeling\n",
    "final_data = output_df.select('features', 'Churn')"
   ]
  },
  {
   "cell_type": "code",
   "execution_count": 95,
   "metadata": {
    "scrolled": true
   },
   "outputs": [
    {
     "name": "stdout",
     "output_type": "stream",
     "text": [
      "+--------------------+-----+\n",
      "|            features|Churn|\n",
      "+--------------------+-----+\n",
      "|[42.0,11066.8,0.0...|    1|\n",
      "|[41.0,11916.22,0....|    1|\n",
      "|[38.0,12884.75,0....|    1|\n",
      "+--------------------+-----+\n",
      "only showing top 3 rows\n",
      "\n"
     ]
    }
   ],
   "source": [
    "final_data.show(3)"
   ]
  },
  {
   "cell_type": "markdown",
   "metadata": {},
   "source": [
    "### Train/test split\n",
    "Since it's a supervised problem we first train our model on our training set and evaluate it by testing it on our test set. "
   ]
  },
  {
   "cell_type": "code",
   "execution_count": 97,
   "metadata": {},
   "outputs": [],
   "source": [
    "# Train/test split - 70% training, 30% testing\n",
    "train, test = final_data.randomSplit([0.7, 0.3], seed=123)"
   ]
  },
  {
   "cell_type": "markdown",
   "metadata": {},
   "source": [
    "<u>Notes:</u> \n",
    "- Unlike Sklearn's __train_test_split__ we don't need to pass 4 quadrants, x_train, x_test, y_train, y_test as input. Here, all we need to pass are the train and test, as we're only passing in two columns -- <i>features</i> and <i>Churn</i>.\n",
    "- We set a seed - here, the arbitrary '123' - to ensure reproducible results."
   ]
  },
  {
   "cell_type": "code",
   "execution_count": 98,
   "metadata": {
    "scrolled": true
   },
   "outputs": [
    {
     "name": "stdout",
     "output_type": "stream",
     "text": [
      "+--------------------+-----+\n",
      "|            features|Churn|\n",
      "+--------------------+-----+\n",
      "|[22.0,11254.38,1....|    0|\n",
      "|[27.0,8628.8,1.0,...|    0|\n",
      "|[28.0,8670.98,0.0...|    0|\n",
      "+--------------------+-----+\n",
      "only showing top 3 rows\n",
      "\n"
     ]
    }
   ],
   "source": [
    "train.show(3)"
   ]
  },
  {
   "cell_type": "code",
   "execution_count": 100,
   "metadata": {},
   "outputs": [
    {
     "data": {
      "text/plain": [
       "(629, 267)"
      ]
     },
     "execution_count": 100,
     "metadata": {},
     "output_type": "execute_result"
    }
   ],
   "source": [
    "train.count(), test.count()"
   ]
  },
  {
   "cell_type": "markdown",
   "metadata": {},
   "source": [
    "### Classification\n",
    "Now for the actual modelling! We'll try Decision trees, and Random Forests for now, but the module has many more algorithms that we can use -- albeit not as comprehensive as sklearn. You can read more on functionality in the [Pyspark ML documentation here](https://spark.apache.org/docs/2.2.0/api/python/pyspark.ml.html)."
   ]
  },
  {
   "cell_type": "code",
   "execution_count": 102,
   "metadata": {},
   "outputs": [],
   "source": [
    "# We import the functions from the classification submodule.\n",
    "from pyspark.ml.classification import RandomForestClassifier, DecisionTreeClassifier"
   ]
  },
  {
   "cell_type": "markdown",
   "metadata": {},
   "source": [
    "1) Decision Tree"
   ]
  },
  {
   "cell_type": "code",
   "execution_count": 103,
   "metadata": {},
   "outputs": [],
   "source": [
    "# We first assign the function to a variable, specifying the 'labelCol' or predicted column as Churn. We'll leave\n",
    "# model parameters to their default values for now, as we can always come back to tweak them.\n",
    "dt = DecisionTreeClassifier(labelCol = 'Churn')\n",
    "\n",
    "\n",
    "# We then fit the model to our training set\n",
    "fitted_tree = dt.fit(train)"
   ]
  },
  {
   "cell_type": "code",
   "execution_count": 104,
   "metadata": {},
   "outputs": [
    {
     "data": {
      "text/plain": [
       "DecisionTreeClassificationModel (uid=DecisionTreeClassifier_0309654a9410) of depth 5 with 35 nodes"
      ]
     },
     "execution_count": 104,
     "metadata": {},
     "output_type": "execute_result"
    }
   ],
   "source": [
    "# Just a model object\n",
    "fitted_tree"
   ]
  },
  {
   "cell_type": "markdown",
   "metadata": {},
   "source": [
    "2) Random Forest"
   ]
  },
  {
   "cell_type": "code",
   "execution_count": 105,
   "metadata": {},
   "outputs": [],
   "source": [
    "# We do the same with the random forest:\n",
    "rf = RandomForestClassifier(labelCol = 'Churn')\n",
    "\n",
    "# Again, we fit this model to our training set\n",
    "fitted_rf = rf.fit(train)"
   ]
  },
  {
   "cell_type": "markdown",
   "metadata": {},
   "source": [
    "## Evaluation\n",
    "To see how our model has done, we can use the handy `BinaryClassificationEvaluator` and `MulticlassClassificationEvaluator` functions."
   ]
  },
  {
   "cell_type": "code",
   "execution_count": 106,
   "metadata": {},
   "outputs": [],
   "source": [
    "# For binary class problems (like ours)\n",
    "from pyspark.ml.evaluation import BinaryClassificationEvaluator\n",
    "\n",
    "# For multiclass problems (not like ours, but we'll need it to calculate accuracy & F1)\n",
    "from pyspark.ml.evaluation import MulticlassClassificationEvaluator"
   ]
  },
  {
   "cell_type": "code",
   "execution_count": 108,
   "metadata": {
    "scrolled": true
   },
   "outputs": [
    {
     "name": "stdout",
     "output_type": "stream",
     "text": [
      "+--------------------+-----+-------------+--------------------+----------+\n",
      "|            features|Churn|rawPrediction|         probability|prediction|\n",
      "+--------------------+-----+-------------+--------------------+----------+\n",
      "|[25.0,9672.03,0.0...|    0| [134.0,27.0]|[0.83229813664596...|       0.0|\n",
      "|[26.0,8787.39,1.0...|    1| [134.0,27.0]|[0.83229813664596...|       0.0|\n",
      "|[26.0,8939.61,0.0...|    0|   [51.0,5.0]|[0.91071428571428...|       0.0|\n",
      "+--------------------+-----+-------------+--------------------+----------+\n",
      "only showing top 3 rows\n",
      "\n"
     ]
    }
   ],
   "source": [
    "# First, let's make predictions \n",
    "predictions_dt = fitted_tree.transform(test)\n",
    "\n",
    "# This returns a dataframe with our labels (Churn) and our prediction (prediction)\n",
    "predictions_dt.show(3)"
   ]
  },
  {
   "cell_type": "code",
   "execution_count": 110,
   "metadata": {},
   "outputs": [],
   "source": [
    "# We can do the same with the random forest:\n",
    "predictions_rf = fitted_rf.transform(test)\n",
    "\n",
    "#predictions_rf.show(3)"
   ]
  },
  {
   "cell_type": "code",
   "execution_count": 112,
   "metadata": {},
   "outputs": [],
   "source": [
    "# To evaluate using the BinaryClassificationEvaluator function, we pass through the label column and the default \n",
    "# metric name.\n",
    "binary_evaluator = BinaryClassificationEvaluator(labelCol = 'Churn', \n",
    "                                                    metricName = 'areaUnderROC')"
   ]
  },
  {
   "cell_type": "code",
   "execution_count": 113,
   "metadata": {},
   "outputs": [
    {
     "data": {
      "text/plain": [
       "0.5800529100529099"
      ]
     },
     "execution_count": 113,
     "metadata": {},
     "output_type": "execute_result"
    }
   ],
   "source": [
    "# We use the evaluate() method to actually do the calculation.\n",
    "binary_evaluator.evaluate(predictions_dt)"
   ]
  },
  {
   "cell_type": "code",
   "execution_count": 117,
   "metadata": {},
   "outputs": [
    {
     "data": {
      "text/plain": [
       "0.6467195767195761"
      ]
     },
     "execution_count": 117,
     "metadata": {},
     "output_type": "execute_result"
    }
   ],
   "source": [
    "# We also do the same with our random forest to compare.\n",
    "binary_evaluator.evaluate(predictions_rf)"
   ]
  },
  {
   "cell_type": "markdown",
   "metadata": {},
   "source": [
    "<u>Note:</u> Area Under the ROC (Receiver Operating Characteristic) curve essentially compares how well our model does when compared with randomness. An AUC score of 0.5 represent randomness. Therefore,\n",
    "- If our AUC > 0.5 - great!\n",
    "- If our AUC = 0.5 - just as good as random chance. \n",
    "- If our AUC < 0.5 - worse than randomness!\n",
    "\n",
    "The ROC curve is illustrated on a grid where the X-axis is the False Positive rate (FPR) and the Y-axis is the True Positive Rate (also called Recall). To read more into the AUC/ROC or on any other classification metric, check out this excellent [Wikipedia article on the subject](https://en.wikipedia.org/wiki/Receiver_operating_characteristic)."
   ]
  },
  {
   "cell_type": "code",
   "execution_count": 121,
   "metadata": {},
   "outputs": [],
   "source": [
    "# We do the same with the multiclassClassificationEvaluator function. \n",
    "churn_eval_multi = MulticlassClassificationEvaluator(predictionCol = 'prediction', labelCol = 'Churn', \n",
    "                                                    metricName = 'accuracy')\n",
    "\n",
    "# The metrics this function takes are more familiar - to name a few, 'accuracy' and 'F1'"
   ]
  },
  {
   "cell_type": "code",
   "execution_count": 118,
   "metadata": {},
   "outputs": [
    {
     "data": {
      "text/plain": [
       "0.8089887640449438"
      ]
     },
     "execution_count": 118,
     "metadata": {},
     "output_type": "execute_result"
    }
   ],
   "source": [
    "# Accuracy of the decision tree\n",
    "churn_eval_multi.evaluate(predictions_dt)"
   ]
  },
  {
   "cell_type": "code",
   "execution_count": 120,
   "metadata": {},
   "outputs": [
    {
     "data": {
      "text/plain": [
       "0.8352059925093633"
      ]
     },
     "execution_count": 120,
     "metadata": {},
     "output_type": "execute_result"
    }
   ],
   "source": [
    "# Accuracy of our random forest.\n",
    "churn_eval_multi.evaluate(predictions_rf)"
   ]
  },
  {
   "cell_type": "markdown",
   "metadata": {},
   "source": [
    "## End the session\n",
    "It's not the case here, but if we were connected to a cluster, it would most likely incur costs to keep it running and keep resources allocated for our session. \n",
    "\n",
    "We can end the session using the stop() function:"
   ]
  },
  {
   "cell_type": "code",
   "execution_count": 122,
   "metadata": {},
   "outputs": [],
   "source": [
    "spark.stop()"
   ]
  }
 ],
 "metadata": {
  "kernelspec": {
   "display_name": "Python 3",
   "language": "python",
   "name": "python3"
  },
  "language_info": {
   "codemirror_mode": {
    "name": "ipython",
    "version": 3
   },
   "file_extension": ".py",
   "mimetype": "text/x-python",
   "name": "python",
   "nbconvert_exporter": "python",
   "pygments_lexer": "ipython3",
   "version": "3.7.3"
  }
 },
 "nbformat": 4,
 "nbformat_minor": 2
}
