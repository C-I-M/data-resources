{
 "cells": [
  {
   "cell_type": "markdown",
   "metadata": {},
   "source": [
    "# Libraries"
   ]
  },
  {
   "cell_type": "code",
   "execution_count": null,
   "metadata": {},
   "outputs": [],
   "source": [
    "# For data and matrix manipulation\n",
    "import pandas as pd\n",
    "import numpy as np\n",
    "\n",
    "# For visualisation\n",
    "import seaborn as sns\n",
    "import matplotlib.pyplot as plt\n",
    "from wordcloud import WordCloud\n",
    "\n",
    "# For string manipulation\n",
    "import re \n",
    "import string\n",
    "\n",
    "# For text pre-processing\n",
    "import nltk\n",
    "from nltk.tokenize import word_tokenize, sent_tokenize\n",
    "from nltk.corpus import stopwords\n",
    "from nltk.stem import PorterStemmer, WordNetLemmatizer\n",
    "\n",
    "# For assigning sentiment polarity scores\n",
    "from textblob import TextBlob\n",
    "\n",
    "# For extracting features -- i.e. the document-term matrix\n",
    "from sklearn.feature_extraction.text import CountVectorizer"
   ]
  },
  {
   "cell_type": "markdown",
   "metadata": {},
   "source": [
    "# Visualisation"
   ]
  },
  {
   "cell_type": "code",
   "execution_count": null,
   "metadata": {},
   "outputs": [],
   "source": [
    "# Find the sum of occurences of each term\n",
    "sum_of_words = bag_of_words.sum(axis= 0)\n",
    "\n",
    "# Create a list of tuples where each element represents the term in question and how many times it occurs in our \n",
    "# corpus.\n",
    "words_freq = [(word, sum_of_words[0, idx]) for word, idx in vector.vocabulary_.items()]\n",
    "\n",
    "# Sort in decreasing order of frequency.\n",
    "words_freq = sorted(words_freq, key = lambda x: x[1], reverse=True)\n",
    "\n",
    "words_freq"
   ]
  },
  {
   "cell_type": "code",
   "execution_count": null,
   "metadata": {},
   "outputs": [],
   "source": [
    "# Ignoring top word (which is \"apple\" in this case)\n",
    "top_words = words_freq[1:30]\n",
    "\n",
    "word = []\n",
    "count = []\n",
    "\n",
    "for i, j in top_words: \n",
    "    word.append(i)\n",
    "    count.append(j)\n",
    "\n",
    "# Asjusting figure size\n",
    "plt.figure(figsize = (10,10))\n",
    "\n",
    "# Plotting a barplot of most frequent words using Seaborn\n",
    "sns.barplot(x = count, y = word)"
   ]
  },
  {
   "cell_type": "code",
   "execution_count": null,
   "metadata": {},
   "outputs": [],
   "source": [
    "# Another way to plot most frequent words is through use of Wordclouds\n",
    "words_dict = {}\n",
    "for k,v in top_words:\n",
    "    words_dict[k] = int(v)\n",
    "\n",
    "# Using the WordCloud library\n",
    "wordcloud = WordCloud(width=1000, height=500, background_color=\"white\").generate_from_frequencies(words_dict)\n",
    "\n",
    "plt.figure(figsize=(20, 10))\n",
    "plt.imshow(wordcloud, interpolation=\"bilinear\")\n",
    "plt.axis('off')\n",
    "plt.show()"
   ]
  },
  {
   "cell_type": "markdown",
   "metadata": {},
   "source": [
    "# TextBlob"
   ]
  },
  {
   "cell_type": "code",
   "execution_count": null,
   "metadata": {},
   "outputs": [],
   "source": [
    "# We create a list of sentiment scores on each of our tweets using Textblob\n",
    "sentiments = []\n",
    "\n",
    "for tweet in tweets:\n",
    "    analysis = TextBlob(tweet)\n",
    "    sentiments.append(analysis.sentiment.polarity)\n",
    "\n",
    "# We add that list to a new dataframe of our tweets\n",
    "tweets_df = pd.DataFrame(tweets)\n",
    "\n",
    "tweets_df['sentiments'] = sentiments\n",
    "\n",
    "tweets_df"
   ]
  }
 ],
 "metadata": {
  "kernelspec": {
   "display_name": "Python 3",
   "language": "python",
   "name": "python3"
  },
  "language_info": {
   "codemirror_mode": {
    "name": "ipython",
    "version": 3
   },
   "file_extension": ".py",
   "mimetype": "text/x-python",
   "name": "python",
   "nbconvert_exporter": "python",
   "pygments_lexer": "ipython3",
   "version": "3.7.3"
  }
 },
 "nbformat": 4,
 "nbformat_minor": 2
}
