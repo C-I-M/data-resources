{
 "cells": [
  {
   "cell_type": "markdown",
   "metadata": {},
   "source": [
    "## Text Analysis Workshop"
   ]
  },
  {
   "cell_type": "markdown",
   "metadata": {},
   "source": [
    "## 1. Install and Import Packages "
   ]
  },
  {
   "cell_type": "code",
   "execution_count": 1,
   "metadata": {},
   "outputs": [],
   "source": [
    "#import all the necessary packages for the workshop\n",
    "\n",
    "import numpy as np \n",
    "import matplotlib.pyplot as plt \n",
    "import pandas as pd\n",
    "import nltk \n",
    "\n",
    "# later in the workshop...\n",
    "from sklearn.feature_extraction.text import CountVectorizer # used to create a bag-of-words\n",
    "from nltk.corpus import stopwords as stopwords # allows us to remove stopwords \n",
    "from wordcloud import WordCloud # wordcloud visualisation library\n",
    "from textblob import TextBlob # used for sentiment analysis\n",
    "\n",
    "# allows us to run matplotlib inline \n",
    "%matplotlib inline"
   ]
  },
  {
   "cell_type": "code",
   "execution_count": null,
   "metadata": {},
   "outputs": [],
   "source": [
    "# instructions for installing packages\n",
    "\"\"\"\n",
    "to install nltk, in terminal run this:\n",
    "$ pip3 install nltk\n",
    "\n",
    "$ python3\n",
    "> import nltk\n",
    "> nltk.download(\"stopwords\")\n",
    "\n",
    "to install matplotlib:\n",
    "$ python3 -mpip install matplotlib\n",
    "\n",
    "to install textblob:\n",
    "$ sudo pip3 install textblob\n",
    "\"\"\"\n"
   ]
  },
  {
   "cell_type": "markdown",
   "metadata": {},
   "source": [
    "## 2. Load data "
   ]
  },
  {
   "cell_type": "code",
   "execution_count": 2,
   "metadata": {},
   "outputs": [],
   "source": [
    "tweets = pd.read_csv('./apple_tweets - apple_tweets.csv')"
   ]
  },
  {
   "cell_type": "markdown",
   "metadata": {},
   "source": [
    "Let's understand what the data looks like..."
   ]
  },
  {
   "cell_type": "code",
   "execution_count": null,
   "metadata": {},
   "outputs": [],
   "source": [
    "tweets.head()"
   ]
  },
  {
   "cell_type": "code",
   "execution_count": null,
   "metadata": {},
   "outputs": [],
   "source": [
    "tweets.shape"
   ]
  },
  {
   "cell_type": "markdown",
   "metadata": {},
   "source": [
    "## 3. Data Cleaning & Transformation"
   ]
  },
  {
   "cell_type": "markdown",
   "metadata": {},
   "source": [
    "First we create new column with the raw tweet so we can persist the original tweet."
   ]
  },
  {
   "cell_type": "code",
   "execution_count": 3,
   "metadata": {},
   "outputs": [],
   "source": [
    "tweets['raw'] = tweets['text']"
   ]
  },
  {
   "cell_type": "markdown",
   "metadata": {},
   "source": [
    "### Lower case all text "
   ]
  },
  {
   "cell_type": "code",
   "execution_count": null,
   "metadata": {},
   "outputs": [],
   "source": [
    "# before\n",
    "tweets['text'][0]"
   ]
  },
  {
   "cell_type": "code",
   "execution_count": null,
   "metadata": {},
   "outputs": [],
   "source": [
    "tweets['text'] = tweets['text'].str.lower()\n",
    "# after\n",
    "tweets['text'][0]\n"
   ]
  },
  {
   "cell_type": "markdown",
   "metadata": {},
   "source": [
    "### Remove URLs"
   ]
  },
  {
   "cell_type": "code",
   "execution_count": null,
   "metadata": {},
   "outputs": [],
   "source": [
    "# before:\n",
    "tweets['text'][54]"
   ]
  },
  {
   "cell_type": "code",
   "execution_count": null,
   "metadata": {},
   "outputs": [],
   "source": [
    "# googled \"python remove url from tweet\" -> https://stackoverflow.com/questions/24399820/expression-to-remove-url-links-from-twitter-tweet\n",
    "tweets['text'] = tweets['text'].str.replace('http\\S+', '')"
   ]
  },
  {
   "cell_type": "code",
   "execution_count": null,
   "metadata": {},
   "outputs": [],
   "source": [
    "# after:\n",
    "tweets['text'][54]"
   ]
  },
  {
   "cell_type": "markdown",
   "metadata": {},
   "source": [
    "### Remove punctuation"
   ]
  },
  {
   "cell_type": "code",
   "execution_count": null,
   "metadata": {},
   "outputs": [],
   "source": [
    "# before \n",
    "tweets['text'][0]"
   ]
  },
  {
   "cell_type": "code",
   "execution_count": null,
   "metadata": {},
   "outputs": [],
   "source": [
    "tweets['text'] = tweets['text'].str.replace('[^\\w\\s]','')\n",
    "# after \n",
    "tweets['text'][0]"
   ]
  },
  {
   "cell_type": "markdown",
   "metadata": {},
   "source": [
    "### Remove stop words"
   ]
  },
  {
   "cell_type": "code",
   "execution_count": null,
   "metadata": {},
   "outputs": [],
   "source": [
    "tweets['text'][0]"
   ]
  },
  {
   "cell_type": "code",
   "execution_count": null,
   "metadata": {},
   "outputs": [],
   "source": [
    "from nltk.corpus import stopwords as stopwords\n",
    "\n",
    "stop = stopwords.words('english')\n",
    "tweets['text'] = tweets['text'].apply(lambda x: \" \".join(x for x in x.split() if x not in stop))\n",
    "       \n",
    "tweets['text'][0]"
   ]
  },
  {
   "cell_type": "markdown",
   "metadata": {},
   "source": [
    "# 4. Bag-of-Words model\n",
    "\n",
    "There are many techniques we can use to model our corpus.  One of the most common, and easiest to implement,  is the bag-of-words.\n",
    "\n",
    "This in essence, involves turning our corpus into a matrix whereby the rows represent the tweets -- also called 'documents' -- and the columns represent our words, or terms. This is aptly called, a document-term matrix.\n"
   ]
  },
  {
   "cell_type": "code",
   "execution_count": null,
   "metadata": {},
   "outputs": [],
   "source": [
    "from sklearn.feature_extraction.text import CountVectorizer\n",
    "\n",
    "vec = CountVectorizer().fit(tweets['text'])\n",
    "bag_of_words = vec.transform(tweets['text'])\n",
    "sum_words = bag_of_words.sum(axis=0) \n",
    "words_freq = [(word, sum_words[0, idx]) for word, idx in vec.vocabulary_.items()]\n",
    "words_freq = sorted(words_freq, key = lambda x: x[1], reverse=True)\n",
    "\n",
    "# ignoring top word (which is \"apple\" in this case)\n",
    "top_words = words_freq[1:30]\n",
    "\n",
    "for word, freq in top_words:\n",
    "    print(word, freq)\n",
    "    "
   ]
  },
  {
   "cell_type": "markdown",
   "metadata": {},
   "source": [
    "# 5. Visualizing Data"
   ]
  },
  {
   "cell_type": "markdown",
   "metadata": {},
   "source": [
    "### Bar plot for the most common words"
   ]
  },
  {
   "cell_type": "code",
   "execution_count": null,
   "metadata": {},
   "outputs": [],
   "source": [
    "words_df = pd.DataFrame(top_words, columns=['word', 'count'])\n",
    "\n",
    "plt.figure(figsize=(30,20))\n",
    "words_df.plot(kind='bar', x='word', y='count')\n",
    "plt.xticks(rotation=90)\n",
    "plt.xlabel(\"Top words\")\n",
    "plt.ylabel(\"Word count\")\n",
    "plt.show()"
   ]
  },
  {
   "cell_type": "markdown",
   "metadata": {},
   "source": [
    "### Word cloud"
   ]
  },
  {
   "cell_type": "code",
   "execution_count": null,
   "metadata": {},
   "outputs": [],
   "source": [
    "from wordcloud import WordCloud\n",
    "\n",
    "# wordcloud requires a dict with { word : frequency }\n",
    "words_dict = {}\n",
    "for k,v in top_words:\n",
    "    words_dict[k] = int(v)\n",
    "\n",
    "wordcloud = WordCloud(width=1000, height=500, background_color=\"white\").generate_from_frequencies(words_dict)\n",
    "\n",
    "plt.figure(figsize=(20, 10))\n",
    "plt.imshow(wordcloud, interpolation=\"bilinear\")\n",
    "plt.axis('off')\n",
    "plt.show()"
   ]
  },
  {
   "cell_type": "markdown",
   "metadata": {},
   "source": [
    "# 6. Gauging Sentiment"
   ]
  },
  {
   "cell_type": "markdown",
   "metadata": {},
   "source": [
    "The sentiment function of textblob returns two properties, polarity, and subjectivity.\n",
    "Polarity is a float which lies in the range of [-1,1] where 1 means positive statement and -1 means a negative statement. \n",
    "Subjective sentences are generally personal opinion, emotion or judgment whereas objective sentences should focus on factual information. Subjectivity is also a float which lies in the range of [0,1].\n",
    "\n",
    "Good writeup for how sentiment is calculated: https://planspace.org/20150607-textblob_sentiment/ "
   ]
  },
  {
   "cell_type": "code",
   "execution_count": null,
   "metadata": {},
   "outputs": [],
   "source": [
    "from textblob import TextBlob\n",
    "\n",
    "sentiments = []\n",
    "\n",
    "for tweet in tweets['text']:\n",
    "    analysis = TextBlob(tweet)\n",
    "    sentiments.append(analysis.sentiment.polarity)\n",
    "\n",
    "tweets['sentiments'] = sentiments"
   ]
  },
  {
   "cell_type": "code",
   "execution_count": null,
   "metadata": {},
   "outputs": [],
   "source": [
    "# find most positive tweets\n",
    "positive = tweets.sort_values(by='sentiments', ascending=False)\n",
    "positive = positive.reset_index(drop=True)"
   ]
  },
  {
   "cell_type": "code",
   "execution_count": null,
   "metadata": {},
   "outputs": [],
   "source": [
    "for pos in positive['text'][0:20]:\n",
    "    print(pos)"
   ]
  },
  {
   "cell_type": "code",
   "execution_count": null,
   "metadata": {},
   "outputs": [],
   "source": [
    "# find most negative tweets\n",
    "negative = tweets.sort_values(by='sentiments', ascending=True)\n",
    "negative = negative.reset_index(drop=True)"
   ]
  },
  {
   "cell_type": "code",
   "execution_count": null,
   "metadata": {},
   "outputs": [],
   "source": [
    "for neg in negative['text'][0:20]:\n",
    "    print(neg)"
   ]
  },
  {
   "cell_type": "code",
   "execution_count": null,
   "metadata": {},
   "outputs": [],
   "source": []
  }
 ],
 "metadata": {
  "kernelspec": {
   "display_name": "Python 3",
   "language": "python",
   "name": "python3"
  },
  "language_info": {
   "codemirror_mode": {
    "name": "ipython",
    "version": 3
   },
   "file_extension": ".py",
   "mimetype": "text/x-python",
   "name": "python",
   "nbconvert_exporter": "python",
   "pygments_lexer": "ipython3",
   "version": "3.7.1"
  }
 },
 "nbformat": 4,
 "nbformat_minor": 2
}
