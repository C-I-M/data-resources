{
 "cells": [
  {
   "cell_type": "markdown",
   "metadata": {},
   "source": [
    "# Data Visualisation Overview\n",
    "In this notebook, we will practice data visualisation in Python using Kaggle survey data, asking people about their use of various machine learning tools in the workplace [here](https://www.kaggle.com/kaggle/kaggle-survey-2018). A great resource for general tips about making visualisations, [Google](https://material.io/design/communication/data-visualization.html) has their own in-house resource with lots of useful information. \n",
    "\n",
    "This notebook will be focusing on the following two packages: \n",
    "\n",
    "\n",
    "1. [**Seaborn**](https://seaborn.pydata.org/index.html) for making easy, visually appealing graphics \n",
    "    * Better default graphics, and a larger variety of graphs to enhance data communication \n",
    "    * More customiseable and visually appealing (e.g., [colour palettes](https://seaborn.pydata.org/tutorial/color_palettes.html) & [figure aesthetics](https://seaborn.pydata.org/tutorial/aesthetics.html))\n",
    "\n",
    "\n",
    "\n",
    "2. [**Plotly Express**](https://plot.ly/python/plotly-express/) for making interactive, publication-quality graphics \n",
    "    * Can make your visuals [interactive and animated](https://plot.ly/python/animations/)\n",
    "    * *Optional*: Plotly Dash to make dashboards for your plotly graphics\n",
    "\n",
    "\n",
    "\n",
    "*Optional:* These other packages that could be additional, beneficial tools. Take a look at them or use in on the online practice!\n",
    "3. [**Bokeh**](https://bokeh.pydata.org/en/latest/index.html), another package for making interactive plots\n",
    "4. [**ggplot**](https://github.com/hadley/ggplot) (a graphics package from R, made useable in Python)\n",
    "\n",
    "\n",
    "Throughout this practice, keep in mind which graphs work best with certain types of data (see the below list). \n",
    "A good visualisation resource is [data-to-viz](http://data-to-viz.com), a website that helps you choose the appropriate graphs based on the data you have."
   ]
  },
  {
   "cell_type": "markdown",
   "metadata": {},
   "source": [
    "# Load the libraries\n",
    "Start by loading the libraries that are needed for all the visualisation tools we will be using."
   ]
  },
  {
   "cell_type": "code",
   "execution_count": null,
   "metadata": {},
   "outputs": [],
   "source": [
    "import pandas as pd                        # basic data manipulation\n",
    "import numpy as  np                        # basic data manipulation\n",
    "\n",
    "import matplotlib.pyplot as plt            # for basic graphical settings\n",
    "import seaborn as sns                      # for seaborn visualisations\n",
    "%matplotlib inline \n",
    "      # this renders any figures inside your notebook (sometimes needed in some versions of jupyter notebook)\n",
    "\n",
    "import plotly as py                        # for exporting animations as html, and using other plotly-based tools\n",
    "import plotly.express as px                # for plotly express visualisations "
   ]
  },
  {
   "cell_type": "markdown",
   "metadata": {},
   "source": [
    "# Import & Clean the Data\n",
    "A smaller, cleaner version of the data has already been made available on [Google Sheets](https://decd.co/vis_data). Make sure to save it to the same folder as this notebook. Once loaded, take a look at the data. "
   ]
  },
  {
   "cell_type": "code",
   "execution_count": null,
   "metadata": {},
   "outputs": [],
   "source": [
    "# Import the data\n",
    "df = pd.read_csv(\"/Users/maurissa/Documents/datasets/kaggle_survey_data.csv\") "
   ]
  },
  {
   "cell_type": "code",
   "execution_count": null,
   "metadata": {},
   "outputs": [],
   "source": [
    "# Check your data\n",
    "df.sample(15)\n",
    "\n",
    "# drop all missing row values for the entire dataframes (majority of data is dropped but that's alright)\n",
    "df.dropna(inplace=True)\n",
    "\n",
    "# get info on the data\n",
    "df.info()"
   ]
  },
  {
   "cell_type": "markdown",
   "metadata": {},
   "source": [
    "# Seaborn\n",
    "Seaborn is a powerful and easy-to-use graphing package to make some great visuals for data exploration, analysis, and communication. Take a look at the following websites for inspiration, codes, and tips & tricks: \n",
    "* [Seaborn Website](https://seaborn.pydata.org/examples/index.html)\n",
    "* [Python Graph Gallery: Seaborn](https://python-graph-gallery.com/seaborn)\n",
    "\n",
    "## 1. Colour \n",
    "In this section, we are going to use different graphs to practice various ways you can use colour. For instance, how to use built-in single colour names or colour palettes, how make your own palettes & emphasise one part to highlight importance, and appropriate colour combinations for your audience. \n",
    "\n",
    "A list of all the default colour names can be found [here](https://matplotlib.org/3.1.0/gallery/color/named_colors.html). You can also use hex colour codes, just rememeber to include the `#` before the 6-character code. [Here](https://htmlcolorcodes.com/) is a good website to generate hex codes. \n",
    "* [Python Graph Gallery](https://python-graph-gallery.com/33-control-colors-of-boxplot-seaborn/)\n",
    "* [Making Seaborn colour palettes](https://python-graph-gallery.com/101-make-a-color-palette-with-seaborn/)"
   ]
  },
  {
   "cell_type": "code",
   "execution_count": null,
   "metadata": {},
   "outputs": [],
   "source": [
    "# set the graph theme\n",
    "sns.set_style(\"\") \n",
    "\n",
    "# try using \"color=\" for a single colour or \"palette=\" for a colour palette\n",
    "sns.countplot(data=, x=\"\")\n",
    "\n",
    "# try adding \"hue=\" to make a grouped chart - how would you make it stacked instead of grouped?"
   ]
  },
  {
   "cell_type": "markdown",
   "metadata": {},
   "source": [
    "<br>***Making custom palettes (general)*** <br>\n",
    "Create a list of colours, and make sure the number of colours you select match the number of feature levels (e.g., if a feature has 5 groups, select 5 colours), and the colours will be used in the order you type them. Then use the name of the list above as the palette name. When you use this method, do not add `\"\"` around the palette name."
   ]
  },
  {
   "cell_type": "code",
   "execution_count": null,
   "metadata": {},
   "outputs": [],
   "source": [
    "# option 1 - using default colour names:\n",
    "my_pal1 = [\" \", \" \", \" \", \" \"]\n",
    "\n",
    "# option 2 - using hex colour codes:\n",
    "my_pal2=[\"#  \", \"#  \", \"#  \", \"# \"]\n",
    "\n",
    "sns.countplot(data=, x=, palette=)"
   ]
  },
  {
   "cell_type": "markdown",
   "metadata": {},
   "source": [
    "<br>***Assigning a custom colour for emphasis*** <br>\n",
    "It's fairly simple to highlight one particular category or level of data in your graphs, particularly bar charts. Then use the colour palette you named above in the function, using `palette=___`. You need to create a dictionary for which colour you want for each value of your categorical variable."
   ]
  },
  {
   "cell_type": "code",
   "execution_count": null,
   "metadata": {},
   "outputs": [],
   "source": [
    "# option 1 - single value as one colour, all over values are a different colour\n",
    "my_pal1={highest_edu: \"red\" if highest_edu == \"MSc/MA\" else \"black\" for highest_edu in df.highest_edu.unique()}\n",
    "\n",
    "# option 2 - defining different values as different colours\n",
    "my_pal2={\"MSc/MA\":\"red\", \"BSc/BA\":\"gold\", \"PhD\":\"black\", \"Some univ.\":\"black\", \"Profess. degree\":\"black\"}\n",
    "\n",
    "sns.countplot(data=, x=, palette=)"
   ]
  },
  {
   "cell_type": "markdown",
   "metadata": {},
   "source": [
    "## 2. Shapes\n",
    "\n",
    "### lineplot( ) vs. scatterplot( )\n",
    "Here we are going to see how line plots and scatter plots differ, and see if/when they are useful. For both `lineplot()` and `scatterplot()`, the x-axis does not technically need to be numeric. However, using variables that are either numeric, or categorical with many categories, are optimal. "
   ]
  },
  {
   "cell_type": "code",
   "execution_count": null,
   "metadata": {},
   "outputs": [],
   "source": [
    "# Basic lineplot\n",
    "sns.lineplot(data=, x=, y=)\n",
    "\n",
    "# What happens when you define a grouping variable using \"hue\"? \n",
    "\n",
    "# What happens if different numeric or categorical variables are used? Is the graph still useful?"
   ]
  },
  {
   "cell_type": "markdown",
   "metadata": {},
   "source": [
    "Compare the lineplot example above to the scatterplot below. Consider how the data types affect how the graphs look, and whether they make sense. Which ones work better as scatterplots? Which work better as lineplots? \n"
   ]
  },
  {
   "cell_type": "code",
   "execution_count": null,
   "metadata": {},
   "outputs": [],
   "source": [
    "# Basic scatterplot\n",
    "sns.scatterplot(data=, x=, y=)\n",
    "\n",
    "# What happens when you define a grouping variable using \"hue\"? \n",
    "\n",
    "# What happens if different numeric or categorical variables are used? How does it compare to the lineplots?"
   ]
  },
  {
   "cell_type": "markdown",
   "metadata": {},
   "source": [
    "### Options with catplot( )\n",
    "Other plots, like bar plots, are best for looking a particular continuous output for the different values in a categorical variable (e.g., height of men vs. women). Using `catplot()` allows you the freedom to choose different \"shapes\" for your graph. This is done by adding the parameter `kind=\" \"` to one of these values: `point`, `bar`, `strip`, `swarm`, `box`, `violin`, or `boxen`."
   ]
  },
  {
   "cell_type": "code",
   "execution_count": null,
   "metadata": {},
   "outputs": [],
   "source": [
    "# change the x-axis and y-axis to orient the graph to be horizontal or vertical for kind=box\n",
    "sns.catplot(data=, x=, y=,\n",
    "            height=7,      # to make the chart bigger \n",
    "            kind=)         # use kind= to pick the kind of catplot you want to use"
   ]
  },
  {
   "cell_type": "code",
   "execution_count": null,
   "metadata": {},
   "outputs": [],
   "source": [
    "# use \"col=\" to make separate plots for each value of a categorical variable assigned to col=\" \"\n",
    "sns.catplot(data=, x=, y=,  \n",
    "            kind=,\n",
    "            col=)"
   ]
  },
  {
   "cell_type": "markdown",
   "metadata": {},
   "source": [
    "## 3. Relation\n",
    "\n",
    "Sometimes it can be hard to see how different types of data relate to each other. This is where the use of shape and colour can help. Moreover, organising data in an order that makes sense can also enhance our understanding of the story trying to be told.\n",
    "\n",
    "### Reordering values in categorical variables\n",
    "The below examples demonstrate how to re-order the values in categorical variables on the x or y axis, and your grouping variable"
   ]
  },
  {
   "cell_type": "code",
   "execution_count": null,
   "metadata": {},
   "outputs": [],
   "source": [
    "# reordering values of your categorical variable using \"order=\" \n",
    "# for order, list the values of the variable you want to reorder in the order you want inside the []\n",
    "\n",
    "sns.catplot(data=, x=, y=, kind=, \n",
    "            order=[])"
   ]
  },
  {
   "cell_type": "code",
   "execution_count": null,
   "metadata": {},
   "outputs": [],
   "source": [
    "# Reorder values for a grouping variable hue=\"__\" by using hue_order=[] \n",
    "sns.catplot(data=, x=, y=, kind=, \n",
    "            hue=,\n",
    "            hue_order=[])"
   ]
  },
  {
   "cell_type": "markdown",
   "metadata": {},
   "source": [
    "### Bubble charts using scatterplot( )\n",
    "Using bubble charts to show relationships between many values in a simplified way. This is essentially a scatterplot, but with an added parameter `size`, which scales the dots (or bubbles) based on a number range that you define, or another continuous (or even categorical) variable. "
   ]
  },
  {
   "cell_type": "code",
   "execution_count": null,
   "metadata": {},
   "outputs": [],
   "source": [
    "# scatter plot: use the \"size=\" parameter to scale data point size based on a third variable of your choice\n",
    "# you can also make size a single value (an integer or float) to make all points the same size\n",
    "sns.scatterplot(data=, x=, y=, \n",
    "                size=, \n",
    "                size_order=[])"
   ]
  },
  {
   "cell_type": "markdown",
   "metadata": {},
   "source": [
    "## 4. Simplicity\n",
    "\n",
    "Seaborn is built on top of matplotlib. Therefore, both seaborn and matplotlib codes will work to make small fixes to your visualisations. This ranges from changing the size of your graph to be bigger to make it easier to read, to changing the look and position of labels, legends, and tick marks. "
   ]
  },
  {
   "cell_type": "markdown",
   "metadata": {},
   "source": [
    "### Resizing Figures and Removing Figure Frames\n",
    "To resize a figure, type `plt.figure(figsize=(x,y))` at the begging of your cell block. It will automatically resize any graph within the same code block to your specifications. The values `x` and `y` are floats, which represent the width (x) and height (y) of the figure in inches. \n",
    "\n",
    "*Note:* In some graphs like `catplot()`, you specify the `height` and `aspect` ratio within catplot() rather than using `figsize=` ."
   ]
  },
  {
   "cell_type": "code",
   "execution_count": null,
   "metadata": {},
   "outputs": [],
   "source": [
    "# Using figsize=() to change the size of the figure\n",
    "plt.figure(figsize=(18,7)) \n",
    "\n",
    "# basic plot\n",
    "sns.countplot(data=, x=)\n",
    "\n",
    "# Use this to remove the box around the graph\n",
    "plt.box(on=None)"
   ]
  },
  {
   "cell_type": "markdown",
   "metadata": {},
   "source": [
    "### Titles, Axis Labels, and Tick Marks\n",
    "These are useful parameters for changing the titles and axis labels, as seaborn uses the feature name as the default label. However, not all graphs might need labels or titles, therefore sometimes it is best to remove them. "
   ]
  },
  {
   "cell_type": "code",
   "execution_count": null,
   "metadata": {},
   "outputs": [],
   "source": [
    "# basic plot\n",
    "graph = sns.countplot(data=, hue=, x=)\n",
    "\n",
    "# change the title and axis names and settings: these can all be applied to set_title, set_ylabel, and set_xlabel\n",
    "graph.set_title(\"title goes here\", \n",
    "                pad=10,\n",
    "                fontsize=14, \n",
    "                fontdict={\"weight\": \"bold\", \"color\": \"maroon\", \"family\": \"sans-serif\"}) #examples you can change\n",
    "\n",
    "graph.set_ylabel(\"your y-axis label\")\n",
    "\n",
    "graph.set_xlabel(\"your x-axis label\")\n",
    "\n",
    "\n",
    "# if you want to remove the y-axis and x-axis labels, use this code below instead of the above\n",
    "graph.set_ylabel('')    \n",
    "\n",
    "graph.set_xlabel('')\n"
   ]
  },
  {
   "cell_type": "code",
   "execution_count": null,
   "metadata": {},
   "outputs": [],
   "source": [
    "# setting font size and type, and other graphical characteristics, for all graphs in the cell\n",
    "# default font scale is 1; it can be any float or interger greater than 1 - see what happens when you change the value\n",
    "sns.set(font_scale = , \n",
    "        font=\"serif\",   # font family - applies to the whole graph\n",
    "        style=)        # options are the same styles as in sns.set_style for the graph background\n",
    "\n",
    "# basic plot\n",
    "graph = sns.countplot(data=, hue=, x=)\n",
    "\n",
    "\n",
    "# set font aesthetics for x-axis tick labels (STRINGS only); can use with y-axis with \"set_yticklabels\"\n",
    "# for labels=[], type the values/categories of the categorical variable you want to change as a list inside []\n",
    "\n",
    "graph.set_xticklabels(labels=[], \n",
    "                      size=,      # font size (integer)\n",
    "                      rotation=)  # angle of rotation of the axis labels (integer)"
   ]
  },
  {
   "cell_type": "markdown",
   "metadata": {},
   "source": [
    "### Legend Positions\n",
    "\n",
    "Seaborn defaults to placing legends into what it deems the \"best\" location. However, as a person, it might not be the best for us (it covers up data points), or should be placed outside the graph completely. These are some useful tips on how to move the legend to your desired location."
   ]
  },
  {
   "cell_type": "code",
   "execution_count": null,
   "metadata": {},
   "outputs": [],
   "source": [
    "# basic graph\n",
    "graph = sns.countplot(data=, hue=, x=)\n",
    "\n",
    "\n",
    "# Change the legend location inside the graph using .legend(loc=__), value can range from 0-10\n",
    "graph.legend(loc=1,    \n",
    "            frameon=False,  # removes the box around the legend\n",
    "            fontsize=)    # font size of the legend   \n",
    "\n",
    "# you can use .legend(bbox_to_anchor=(x,y)) parameter to place the legend outside of the graph\n",
    "# bbox_to_anchor=(x,y) is used together with loc=__, the x and y coordinates can be positive or negative values\n",
    "\n",
    "graph.legend(bbox_to_anchor=(1, 0.6), loc=2)    "
   ]
  },
  {
   "cell_type": "markdown",
   "metadata": {},
   "source": [
    "# Plotly Express\n",
    "[Plotly express](https://plot.ly/python/plotly-express/) is another package that can take your visualisations to a whole other level. Aside from the same functionalities as seaborn, it has additional graphs, and the ability to make your graphs [animated](https://plot.ly/python/animations/) that you can save offline as html files. \n",
    "\n",
    "#### Making graphs interactive and animated\n",
    "You can show more information when hovering over a data point by using the `hover_name=\"__\"` parameter.\n",
    "\n",
    "Two main animation parameters you can add to your graphs:\n",
    "* Use `animation_frame=\"__\"` to move between \"frames\" (e.g., each frame might be a different year to show how the graph changes over time)\n",
    "* Use `animation_group=\"__\"` to group the data points by that change in each frame"
   ]
  },
  {
   "cell_type": "code",
   "execution_count": null,
   "metadata": {},
   "outputs": [],
   "source": [
    "# Make a scatter plot and adding animations. \n",
    "px.scatter(df, x=, y=,         \n",
    "           hover_name=\"variable_name1\"              # shows additional information of a categorical variable when hover\n",
    "           animation_frame=\"variable_name2\",\n",
    "           category_orders={\"variable_name2\":[] })   # same as \"order\" and \"hue_order\" in seaborn if labels are out of order\n",
    "\n",
    "# What happens if you use a different kind of plot for animations? Try using px.bar(), or px.line().\n",
    "\n",
    "# Try using other parameters. What does \"animation_group=\" do?"
   ]
  },
  {
   "cell_type": "markdown",
   "metadata": {},
   "source": [
    "#### Making 3-D graphs\n",
    "Another powerful tool in plotly express is the ability to make 3-D graphs. Under normal circumstances, these can be very confusing to understand, and ***should be used with caution***."
   ]
  },
  {
   "cell_type": "code",
   "execution_count": null,
   "metadata": {},
   "outputs": [],
   "source": [
    "# making a 3D scatter plot\n",
    "graph = px.scatter_3d(df, x=, y=, z=, \n",
    "              color=,     # categorical grouping variable (same as \"hue=\" in seaborn)\n",
    "              symbol= )   # changes symbol shape for each value of the categorical variable used in \"color=\""
   ]
  },
  {
   "cell_type": "code",
   "execution_count": null,
   "metadata": {},
   "outputs": [],
   "source": [
    "# making a 3D line chart - how does this differ from your 3D scatterplot? \n",
    "px.line_3d(df, df, x=, y=, z=)\n",
    "\n",
    "\n",
    "# Is this more or less useful than a 3D scatterplot? "
   ]
  },
  {
   "cell_type": "markdown",
   "metadata": {},
   "source": [
    "#### Saving your graphs \n",
    "**seaborn graphs as .png files**\n",
    "<br> To save your seaborn graph, use the following code, typing the name of your graph in place of `___` :\n",
    "\n",
    "`___.get_figure().savefig(\"desired_filename_here.png\")` \n",
    "\n",
    "\n",
    "\n",
    "\n",
    "<br>**plotly express graphs as .html files**\n",
    "<br>\n",
    "To save your interactive and animated graphs offline as html files, use the following code, typing the name of your graph in place of `___` :\n",
    "\n",
    "`py.offline.plot(____, filename=\"desired_filename_here.html\")`  "
   ]
  }
 ],
 "metadata": {
  "kernelspec": {
   "display_name": "Python 3",
   "language": "python",
   "name": "python3"
  },
  "language_info": {
   "codemirror_mode": {
    "name": "ipython",
    "version": 3
   },
   "file_extension": ".py",
   "mimetype": "text/x-python",
   "name": "python",
   "nbconvert_exporter": "python",
   "pygments_lexer": "ipython3",
   "version": "3.7.3"
  }
 },
 "nbformat": 4,
 "nbformat_minor": 2
}
