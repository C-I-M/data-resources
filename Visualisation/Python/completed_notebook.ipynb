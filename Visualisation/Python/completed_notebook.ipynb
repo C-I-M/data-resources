{
 "cells": [
  {
   "cell_type": "markdown",
   "metadata": {},
   "source": [
    "# Data Visualisation Overview\n",
    "In this notebook, we will practice data visualisation in Python using Kaggle survey data, asking people about their use of various machine learning tools in the workplace [here](https://www.kaggle.com/kaggle/kaggle-survey-2018). A great resource for general tips about making visualisations, [Google](https://material.io/design/communication/data-visualization.html) has their own in-house resource with lots of useful information. \n",
    "\n",
    "This notebook will be focusing on the following two packages: \n",
    "\n",
    "\n",
    "1. [**Seaborn**](https://seaborn.pydata.org/index.html) for making easy, visually appealing graphics \n",
    "    * Better default graphics, and a larger variety of graphs to enhance data communication \n",
    "    * More customiseable and visually appealing (e.g., [colour palettes](https://seaborn.pydata.org/tutorial/color_palettes.html) & [figure aesthetics](https://seaborn.pydata.org/tutorial/aesthetics.html))\n",
    "\n",
    "\n",
    "\n",
    "2. [**Plotly Express**](https://plot.ly/python/plotly-express/) for making interactive, publication-quality graphics \n",
    "    * Can make your visuals [interactive and animated](https://plot.ly/python/animations/)\n",
    "    * *Optional*: Plotly Dash to make dashboards for your plotly graphics\n",
    "\n",
    "\n",
    "\n",
    "*Optional:* These other packages that could be additional, beneficial tools. Take a look at them or use in on the online practice!\n",
    "3. [**Bokeh**](https://bokeh.pydata.org/en/latest/index.html), another package for making interactive plots\n",
    "4. [**ggplot**](https://github.com/hadley/ggplot) (a graphics package from R, made useable in Python)\n",
    "\n",
    "\n",
    "Throughout this practice, keep in mind which graphs work best with certain types of data (see the below list). \n",
    "A good visualisation resource is [data-to-viz](http://data-to-viz.com), a website that helps you choose the appropriate graphs based on the data you have."
   ]
  },
  {
   "cell_type": "markdown",
   "metadata": {},
   "source": [
    "# Load the libraries\n",
    "Start by loading the libraries that are needed for all the visualisation tools we will be using."
   ]
  },
  {
   "cell_type": "code",
   "execution_count": null,
   "metadata": {},
   "outputs": [],
   "source": [
    "import pandas as pd                        # basic data manipulation\n",
    "import numpy as  np                        # basic data manipulation\n",
    "\n",
    "import matplotlib.pyplot as plt            # for basic graphical settings\n",
    "import seaborn as sns                      # for seaborn visualisations\n",
    "%matplotlib inline \n",
    "      # this renders any figures inside your notebook (sometimes needed in some versions of jupyter notebook)\n",
    "\n",
    "import plotly as py                        # for exporting animations as html, and using other plotly-based tools\n",
    "import plotly.express as px                # for plotly express visualisations\n",
    "\n",
    "\n",
    "# if any of these libraries are not already installed on your computer, type the following in the command line: \n",
    "    #(for seaborn):           pip install seaborn \n",
    "    #(for plotly):            pip install plotly\n",
    "    #(for plotly express):    pip install plotly_express      "
   ]
  },
  {
   "cell_type": "markdown",
   "metadata": {},
   "source": [
    "# Import & Clean the Data\n",
    "A smaller, cleaner version of the data has already been made available on [Google Sheets](https://decd.co/vis_data). Make sure to save it to the same folder as this notebook. Once loaded, take a look at the data. "
   ]
  },
  {
   "cell_type": "code",
   "execution_count": null,
   "metadata": {},
   "outputs": [],
   "source": [
    "# Import the data\n",
    "df = pd.read_csv(\"/Users/maurissa/Documents/datasets/kaggle_survey_data.csv\") "
   ]
  },
  {
   "cell_type": "code",
   "execution_count": null,
   "metadata": {},
   "outputs": [],
   "source": [
    "# Check your data\n",
    "df.sample(15)\n",
    "\n",
    "# drop all missing row values for the entire dataframes (majority of data is dropped but that's alright)\n",
    "df.dropna(inplace=True)\n",
    "\n",
    "# get info on the data\n",
    "df.info()"
   ]
  },
  {
   "cell_type": "markdown",
   "metadata": {},
   "source": [
    "# Seaborn\n",
    "Seaborn is a powerful and easy-to-use graphing package to make some great visuals for data exploration, analysis, and communication. Take a look at the following websites for inspiration, codes, and tips & tricks: \n",
    "* [Seaborn Website](https://seaborn.pydata.org/examples/index.html)\n",
    "* [Python Graph Gallery: Seaborn](https://python-graph-gallery.com/seaborn)\n",
    "\n",
    "## 1. Colour \n",
    "In this section, we are going to use different graphs to practice various ways you can use colour. For instance, how to use built-in colour palettes, how make your own palettes & emphasise one part to highlight importance, and appropriate colour combinations for your audience.\n",
    "\n",
    "### Colour Palettes & Themes**\n",
    "Python has several themes, color palettes and colour customisation. Themes are the overall look to the graphs - think backgrounds, tick marks, grid lines, and more. Colour palettes are the colours used for the data itself (the bars in bar plots, the bubbles in bubble charts, the lines in line graphs, etc.). \n",
    "\n",
    "**Default Themes:** \n",
    "There are [5 default themes](https://seaborn.pydata.org/tutorial/aesthetics.html) in Seaborn, which are changed by using `sns.set_style(\" \")` before your write the code for your graph. The 5 themes you choose from are `darkgrid`, `whitegrid`, `dark`, `white`, and `ticks`. Simply pick the one you want and place them inside the quotation marks. This will apply to all subsequent graphs you make. \n",
    "\n",
    "**Default & Custom Colours:**\n",
    "You can use built-in single colours using `color=\" \"`. For colour palettes use the parameter `palette=\" \"`. One tip to see the whole list of palette name options is to leave the quotations blank - you will get an error in the output listing all the palette names! Below are some additionall resources:\n",
    "* [Python Graph Gallery](https://python-graph-gallery.com/33-control-colors-of-boxplot-seaborn/)\n",
    "* [Making Seaborn colour palettes](https://python-graph-gallery.com/101-make-a-color-palette-with-seaborn/)"
   ]
  },
  {
   "cell_type": "code",
   "execution_count": null,
   "metadata": {},
   "outputs": [],
   "source": [
    "# setting the graph themes (once you do this, it will set ALL graphs)\n",
    "sns.set_style(\"dark\") \n",
    "\n",
    "# use \"color=\" for a single colour or \"palette=\" for a colour palette\n",
    "sns.countplot(data=df, \n",
    "              x=\"continent\", \n",
    "              # palette=\"inferno\",    # use palette= to set a palette choice \n",
    "              color=\"purple\")           # OR use color= to define a single colour "
   ]
  },
  {
   "cell_type": "code",
   "execution_count": null,
   "metadata": {},
   "outputs": [],
   "source": [
    "# grouped or stacked countplots (note how the palette use changes)\n",
    "sns.set_style(\"white\")\n",
    "\n",
    "sns.countplot(data=df, x=\"continent\", \n",
    "              palette=\"inferno\",\n",
    "              # dodge=False,       # using this parameter makes the bars stacked instead of grouped\n",
    "              hue=\"gender\")       # Hue is used to define your grouping variable"
   ]
  },
  {
   "cell_type": "markdown",
   "metadata": {},
   "source": [
    "<br>***Making custom palettes (general)*** <br>\n",
    "Create a list of colours, and make sure the number of colours you select match the number of feature levels (e.g., if a feature has 5 groups, select 5 colours), and the colours will be used in the order you type them. Then use the name of the list above as the palette name. When you use this method, do not add `\"\"` around the palette name.\n",
    "\n",
    "A list of all the default colour names can be found [here](https://matplotlib.org/3.1.0/gallery/color/named_colors.html). You can also use hex colour codes, just rememeber to include the `#` before the 6-character code. [Here](https://htmlcolorcodes.com/) is a good website to generate hex codes. "
   ]
  },
  {
   "cell_type": "code",
   "execution_count": null,
   "metadata": {},
   "outputs": [],
   "source": [
    "# option 1 - using default colour names:\n",
    "my_pal1 = [\"maroon\", \"darkorange\", \"gold\", \"darkblue\", \"grey\", \"green\"]\n",
    "\n",
    "# option 2 - using hex colour codes:\n",
    "my_pal2=[\"#808282\", \"#C2CD23\", \"#E56F3C\", \"#918BC3\", \"#EC84B2\", \"#7AB483\"]\n",
    "\n",
    "sns.countplot(data=df, \n",
    "              x=\"continent\", \n",
    "              palette=my_pal2)"
   ]
  },
  {
   "cell_type": "markdown",
   "metadata": {},
   "source": [
    "<br>***Assigning a custom colour for emphasis*** <br>\n",
    "It's fairly simple to highlight one particular category or level of data in your graphs, particularly bar charts. Then use the colour palette you named above in the function, using `palette=___`. You need to create a dictionary for which colour you want for each value of your categorical variable."
   ]
  },
  {
   "cell_type": "code",
   "execution_count": null,
   "metadata": {},
   "outputs": [],
   "source": [
    "# option 1 - single value as one colour, all over values are a different colour\n",
    "my_pal1={highest_edu: \"red\" if highest_edu == \"MSc/MA\" else \"black\" for highest_edu in df.highest_edu.unique()}\n",
    "\n",
    "# option 2 - defining different values as different colours\n",
    "my_pal2={\"MSc/MA\":\"red\", \"BSc/BA\":\"gold\", \"PhD\":\"black\", \"Some univ.\":\"black\", \"Profess. degree\":\"black\"}\n",
    "\n",
    "sns.countplot(data=df, \n",
    "              x=\"highest_edu\", \n",
    "              palette=my_pal2)"
   ]
  },
  {
   "cell_type": "markdown",
   "metadata": {},
   "source": [
    "## 2. Shapes\n",
    "Aside from colour, we need to make sure we choose the right kind of graph for our data. In a way, it is like choosing the right \"shape\" - do you use a bar chart or a pie chart? A scatterplot versus a line graph? Below, we will practice making a couple of graphs to determine which shape(s) of graphs are best for certain types of data. \n",
    "\n",
    "One key is to remember that graphs that work best for categorical data does not usually work for continuous data - and the reverse is also true. Also keep in mind that simpler graphs tend to work better for more generic presentations; save the detailed graphs for more technical audiences. \n",
    "\n",
    "\n",
    "### lineplot( ) vs. scatterplot( )\n",
    "Here we are going to see how line plots and scatter plots differ, and see if/when they are useful. For both `lineplot()` and `scatterplot()`, the x-axis does not technically need to be numeric. However, using variables that are either numeric, or categorical with many categories, are optimal. "
   ]
  },
  {
   "cell_type": "code",
   "execution_count": null,
   "metadata": {},
   "outputs": [],
   "source": [
    "# Basic lineplot\n",
    "sns.lineplot(data=df, \n",
    "             x=\"percent_time_cleaning\", \n",
    "             y=\"percent_time_model_build\", \n",
    "             color=\"red\")\n",
    "\n",
    "# What happens when you define a grouping variable using \"hue\"? \n",
    "\n",
    "# What happens if different numeric or categorical variables are used? Is the graph still useful?"
   ]
  },
  {
   "cell_type": "markdown",
   "metadata": {},
   "source": [
    "Compare the lineplot example above to the scatterplot below. Consider how the data types affect how the graphs look, and whether they make sense. Which ones work better as scatterplots? Which work better as lineplots? \n"
   ]
  },
  {
   "cell_type": "code",
   "execution_count": null,
   "metadata": {},
   "outputs": [],
   "source": [
    "# Basic scatterplot\n",
    "sns.scatterplot(data=df, \n",
    "                x=\"percent_time_cleaning\", \n",
    "                y=\"percent_time_model_build\", \n",
    "                color=\"green\")\n",
    "\n",
    "# What happens when you define a grouping variable using \"hue\"? \n",
    "\n",
    "# What happens if different numeric or categorical variables are used? How does it compare to the lineplots?"
   ]
  },
  {
   "cell_type": "markdown",
   "metadata": {},
   "source": [
    "### Options with catplot( )\n",
    "Other plots, like bar plots, are best for looking a particular continuous output for the different values in a categorical variable (e.g., height of men vs. women). Using `catplot()` allows you the freedom to choose different \"shapes\" for your graph. This is done by adding the parameter `kind=\" \"` to one of these values: `point`, `bar`, `strip`, `swarm`, `box`, `violin`, or `boxen`.\n",
    "\n",
    "Bar plots are great for data exploration, analysis, and general communmication, while box plots are generally best for data exploration and analysis only. While other plots like violin and boxen might appear nice, they are generally not appropriate for most audiences, or for analysis - err on the side of caution with these types of plots.\n",
    "\n",
    "Practice making different catplots by changing the `kind=` parameter. Which do you think are more technical? Which are more generic/user-friendly?"
   ]
  },
  {
   "cell_type": "code",
   "execution_count": null,
   "metadata": {},
   "outputs": [],
   "source": [
    "# change the x-axis and y-axis to orient the graph to be horizontal or vertical for kind=box\n",
    "sns.catplot(data=df, y=\"most_used_viz_tool\", x=\"percent_time_visualising\", \n",
    "            palette=\"rainbow\",\n",
    "            height=7,      # to make the chart bigger \n",
    "            kind=\"box\")     "
   ]
  },
  {
   "cell_type": "code",
   "execution_count": null,
   "metadata": {},
   "outputs": [],
   "source": [
    "# use \"col=\" to make separate plots for each value of a categorical variable assigned to col=\" \"\n",
    "sns.catplot(data=df, y=\"most_used_viz_tool\", x=\"percent_time_visualising\", \n",
    "            palette=\"rainbow\",\n",
    "            kind=\"bar\", \n",
    "            height=7,\n",
    "            col=\"gender\")"
   ]
  },
  {
   "cell_type": "code",
   "execution_count": null,
   "metadata": {},
   "outputs": [],
   "source": [
    "# Try using different settings for \"kind=\" in catplot(), and see how they all differ. "
   ]
  },
  {
   "cell_type": "markdown",
   "metadata": {},
   "source": [
    "## 3. Relation\n",
    "\n",
    "Sometimes it can be hard to see how different types of data relate to each other. This is where the use of shape and colour can help. Moreover, organising data in an order that makes sense can also enhance our understanding of the story trying to be told.\n",
    "\n",
    "### Reordering values in categorical variables\n",
    "The below examples demonstrate how to re-order the values in categorical variables on the x or y axis, and your grouping variable"
   ]
  },
  {
   "cell_type": "code",
   "execution_count": null,
   "metadata": {},
   "outputs": [],
   "source": [
    "# reordering values of your categorical variable using \"order=[]\" \n",
    "sns.catplot(data=df, ci=0,                \n",
    "            x=\"percent_time_model_build\",\n",
    "            y=\"data_scientist\",  \n",
    "            kind=\"bar\", \n",
    "            order=[\"Definitely yes\",\"Probably yes\", \"Maybe\", \"Probably not\", \"Definitely not\"],\n",
    "            palette=\"inferno\")"
   ]
  },
  {
   "cell_type": "code",
   "execution_count": null,
   "metadata": {},
   "outputs": [],
   "source": [
    "# Reorder values for grouping variable hue=\"__\" by using hue_order=[] \n",
    "sns.catplot(data=df, ci=0,\n",
    "            x=\"percent_time_model_build\", \n",
    "            y=\"data_scientist\", \n",
    "            kind=\"bar\", \n",
    "            palette=\"inferno\", \n",
    "            height=7,\n",
    "            hue=\"importance_reproducibility\",\n",
    "            hue_order=['No opinion; I do not know', 'Not at all important', 'Slightly important', 'Very important'],\n",
    "            order=[\"Definitely yes\", \"Probably yes\", \"Maybe\", \"Probably not\", \"Definitely not\"])"
   ]
  },
  {
   "cell_type": "markdown",
   "metadata": {},
   "source": [
    "### Bubble charts using scatterplot( )\n",
    "Using bubble charts to show relationships between many values in a simplified way. This is essentially a scatterplot, but with an added parameter `size`, which scales the dots (or bubbles) based on a number range that you define, or another continuous (or even categorical) variable. "
   ]
  },
  {
   "cell_type": "code",
   "execution_count": null,
   "metadata": {},
   "outputs": [],
   "source": [
    "# Basic scatter plot using the \"size=\" parameter to scale the size of data points based on a third variable\n",
    "sns.scatterplot(data=df, \n",
    "                x=\"percent_time_model_build\", \n",
    "                y=\"percent_time_communicating\", \n",
    "                size=\"annual_salary\", \n",
    "                size_order=['200,000+', '150-200,000', '125-150,000', '100-125,000', \n",
    "                            '80-100,000', '60-80,000', '40-60,000', '20-40,000', '<20,000'])\n"
   ]
  },
  {
   "cell_type": "markdown",
   "metadata": {},
   "source": [
    "## 4. Simplicity\n",
    "Simple and clean graphs are better than graphs that have lots of visual distractions, or clutter. Things like grid lines, labels or titles that are too big or wordy, or even the location of a legend can make it harder to interpet graphs. Below are different ways to make your graphs look more steamlined and finished. \n",
    "\n",
    "Because seaborn is built on top of matplotlib, both seaborn and matplotlib codes will work to make small fixes to your visualisations. This ranges from changing the size of your graph to be bigger to make it easier to read, to changing the look and position of labels, legends, and tick marks. "
   ]
  },
  {
   "cell_type": "markdown",
   "metadata": {},
   "source": [
    "### Resizing Figures and Removing Figure Frames\n",
    "To resize a figure, type `plt.figure(figsize=(x,y))` at the begging of your cell block. It will automatically resize any graph within the same code block to your specifications. The values `x` and `y` are floats, which represent the width (x) and height (y) of the figure in inches. \n",
    "\n",
    "*Note:* In some graphs like `catplot()`, you specify the `height` and `aspect` ratio within catplot() rather than using `figsize=` .\n",
    "\n",
    "To remove the frame around a figure, type `plt.box(on=None)`. "
   ]
  },
  {
   "cell_type": "code",
   "execution_count": null,
   "metadata": {},
   "outputs": [],
   "source": [
    "# Using figsize=() to change the size of the figure\n",
    "plt.figure(figsize=(18,7)) \n",
    "\n",
    "sns.countplot(data=df, palette=\"viridis_r\",\n",
    "              x=\"most_used_data\")\n",
    "\n",
    "# Use this to remove the box around the graph\n",
    "plt.box(on=None)"
   ]
  },
  {
   "cell_type": "markdown",
   "metadata": {},
   "source": [
    "### Titles, Axis Labels, and Tick Marks\n",
    "These are useful parameters for changing the titles and axis labels, as seaborn uses the feature name as the default label. However, not all graphs might need labels or titles, therefore sometimes it is best to remove them. \n",
    "\n",
    "Remember the ***data-ink ratio***: you want to convey the most amount of information possible, using the least amount of \"ink\" (or text / unnecessary items). Your graph should be able to speak for itself without needing much effort."
   ]
  },
  {
   "cell_type": "code",
   "execution_count": null,
   "metadata": {},
   "outputs": [],
   "source": [
    "# basic plot\n",
    "graph = sns.countplot(data=df, hue=\"gender\", x=\"data_scientist\", palette=\"nipy_spectral_r\")\n",
    "\n",
    "# change the title and axis names and settings: these can all be applied to set_title, set_ylabel, and set_xlabel\n",
    "graph.set_title(\"Do You Consider Yourself a Data Scientist?\", \n",
    "                pad=10,\n",
    "                fontsize=14, \n",
    "                fontdict={\"weight\": \"bold\", \"color\": \"maroon\", \"family\": \"sans-serif\"})\n",
    "graph.set_ylabel(\"Number of People\")\n",
    "graph.set_xlabel(\"Do You Consider Yourself a Data Scientist?\")\n",
    "\n",
    "# if you want to remove the y-axis and x-axis labels, do this instead\n",
    "# graph.set_ylabel('')    \n",
    "# graph.set_xlabel('')"
   ]
  },
  {
   "cell_type": "code",
   "execution_count": null,
   "metadata": {},
   "outputs": [],
   "source": [
    "# setting font size and type, and other graphical characteristics, for all graphs in the cell\n",
    "sns.set(font_scale = 1.5, font=\"serif\", style=\"white\")\n",
    "\n",
    "# basic plot\n",
    "graph = sns.countplot(data=df, hue=\"gender\", x=\"data_scientist\", palette=\"nipy_spectral_r\")\n",
    "\n",
    "# set font aesthetics for x-axis tick labels (STRINGS only); can use with y-axis with \"set_yticklabels\"\n",
    "graph.set_xticklabels(labels=[\"Definitely yes\",\"Probably yes\", \"Maybe\", \"Probably not\", \"Definitely not\"], \n",
    "                      size=14, # font size \n",
    "                      rotation=20)"
   ]
  },
  {
   "cell_type": "markdown",
   "metadata": {},
   "source": [
    "### Legend Positions\n",
    "\n",
    "Seaborn defaults to placing legends into what it deems the \"best\" location. However, as a person, it might not be the best for us (it covers up data points), or should be placed outside the graph completely. These are some useful tips on how to move the legend to your desired location."
   ]
  },
  {
   "cell_type": "code",
   "execution_count": null,
   "metadata": {},
   "outputs": [],
   "source": [
    "# Change the legend location inside the graph using .legend(loc=__), value can range from 0-10\n",
    "graph = sns.countplot(data=df, hue=\"gender\", x=\"data_scientist\", palette=\"nipy_spectral_r\")\n",
    "\n",
    "graph.legend(loc=1, \n",
    "            frameon=False,  # this removes the box around the legend\n",
    "            fontsize=12)    # this changes the font size of the legend   "
   ]
  },
  {
   "cell_type": "code",
   "execution_count": null,
   "metadata": {},
   "outputs": [],
   "source": [
    "# use .legend(bbox_to_anchor=(x,y)) parameter to place the legend outside of the graph\n",
    "# bbox_to_anchor=(x,y) is used together with loc=__, the x and y coordinates can be positive or negative values\n",
    "graph = sns.countplot(data=df, hue=\"gender\", x=\"data_scientist\", palette=\"nipy_spectral_r\")\n",
    "\n",
    "graph.legend(bbox_to_anchor=(1, 0.6), \n",
    "            loc=2, \n",
    "            frameon=False,  \n",
    "            fontsize=12)    "
   ]
  },
  {
   "cell_type": "markdown",
   "metadata": {},
   "source": [
    "# Plotly Express\n",
    "[Plotly express](https://plot.ly/python/plotly-express/) is another package that can take your visualisations to a whole other level. Aside from the same functionalities as seaborn, it has additional graphs, and the ability to make your graphs [animated](https://plot.ly/python/animations/) that you can save offline as html files. \n",
    "\n",
    "### Graphs in Plotly Express\n",
    "\n",
    "Most of these graphs work in a similar way to seaborn (more information [here](https://plot.ly/python-api-reference/plotly.express.html)). As a side note, to use a categorical variable as a \"grouping\" variable, you use `color=` (instead of `hue=` like in seaborn).\n",
    "\n",
    "#### Making graphs interactive and animated\n",
    "You can show more information when hovering over a data point by using the `hover_name=\"__\"` parameter. Simply type a categorical variable in the `\"\"`, and the information will appear when you hover over a specific data point.\n",
    "\n",
    "Two main animation parameters you can add to your graphs:\n",
    "* Use `animation_frame=\"__\"` to move between \"frames\" (e.g., each frame might be a different year to show how the graph changes over time)\n",
    "* Use `animation_group=\"__\"` to group the data points by that change in each frame\n",
    "\n",
    "Animations can be very powerful, but only in the right circumstances. This usually means it is only helpful (and should be used) when you are dealing with data that has some aspect of time to it."
   ]
  },
  {
   "cell_type": "code",
   "execution_count": null,
   "metadata": {},
   "outputs": [],
   "source": [
    "# making a scatter plot and adding animations. Is it helpful or no?\n",
    "px.scatter(df, x=\"percent_time_communicating\", y=\"percent_time_visualising\",  \n",
    "           color=\"gender\",          \n",
    "           hover_name=\"industry\",\n",
    "           animation_frame=\"age_range\",\n",
    "           category_orders={\"age_range\":[\"18-24\",\"25-29\",\"30-34\",\"35-39\",\"40-44\",\"45-49\",\"50-54\",\"55+\"]}) "
   ]
  },
  {
   "cell_type": "code",
   "execution_count": null,
   "metadata": {},
   "outputs": [],
   "source": [
    "# making a bar chart and adding animations. Is it helpful or no?\n",
    "px.bar(df, x=\"data_scientist\", y=\"percent_time_visualising\",  \n",
    "           color=\"gender\",         \n",
    "           hover_name=\"industry\",\n",
    "           animation_frame=\"age_range\",\n",
    "           category_orders={\"age_range\":[\"18-24\",\"25-29\",\"30-34\",\"35-39\",\"40-44\",\"45-49\",\"50-54\",\"55+\"]}) "
   ]
  },
  {
   "cell_type": "markdown",
   "metadata": {},
   "source": [
    "#### Making 3-D graphs\n",
    "Another powerful tool in plotly express is the ability to make 3-D graphs. Like animations, they are something that should only be used in very specific situations. Under normal circumstances, these can be very confusing to understand, and ***should be used with caution***."
   ]
  },
  {
   "cell_type": "code",
   "execution_count": null,
   "metadata": {},
   "outputs": [],
   "source": [
    "# making a 3D scatter plot\n",
    "graph = px.scatter_3d(df,\n",
    "              x=\"percent_time_visualising\", \n",
    "              y=\"percent_time_communicating\", \n",
    "              z=\"percent_time_model_build\",\n",
    "              color=\"gender\", \n",
    "              symbol=\"gender\", \n",
    "              size=\"percent_time_cleaning\")"
   ]
  },
  {
   "cell_type": "code",
   "execution_count": null,
   "metadata": {},
   "outputs": [],
   "source": [
    "# making a 3D line chart\n",
    "px.line_3d(df, x=\"percent_time_visualising\", \n",
    "           y=\"percent_time_communicating\", \n",
    "           z=\"percent_time_model_build\",\n",
    "           color=\"gender\")"
   ]
  },
  {
   "cell_type": "markdown",
   "metadata": {},
   "source": [
    "#### Saving your graphs \n",
    "**seaborn graphs as .png files**\n",
    "<br> To save your seaborn graph, use the following code, typing the name of your graph in place of `___` :\n",
    "\n",
    "`___.get_figure().savefig(\"desired_filename_here.png\")` \n",
    "\n",
    "\n",
    "\n",
    "\n",
    "<br>**plotly express graphs as .html files**\n",
    "<br>\n",
    "To save your interactive and animated graphs offline as html files, use the following code, typing the name of your graph in place of `___` :\n",
    "\n",
    "`py.offline.plot(____, filename=\"desired_filename_here.html\")`  "
   ]
  },
  {
   "cell_type": "markdown",
   "metadata": {},
   "source": [
    "# Tell A Story: Make Your Own Graph\n",
    "\n",
    "With the different seaborn and plotly express tools, try making a graph that tells a visual story with the data."
   ]
  },
  {
   "cell_type": "code",
   "execution_count": null,
   "metadata": {},
   "outputs": [],
   "source": [
    "# Write the code for your graph below:"
   ]
  }
 ],
 "metadata": {
  "kernelspec": {
   "display_name": "Python 3",
   "language": "python",
   "name": "python3"
  },
  "language_info": {
   "codemirror_mode": {
    "name": "ipython",
    "version": 3
   },
   "file_extension": ".py",
   "mimetype": "text/x-python",
   "name": "python",
   "nbconvert_exporter": "python",
   "pygments_lexer": "ipython3",
   "version": "3.7.3"
  }
 },
 "nbformat": 4,
 "nbformat_minor": 2
}
