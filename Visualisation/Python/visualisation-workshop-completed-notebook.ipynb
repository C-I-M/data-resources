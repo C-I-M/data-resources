{
 "cells": [
  {
   "cell_type": "markdown",
   "metadata": {},
   "source": [
    "# Overview of Visualisation\n",
    "In this notebook, we will practice data visualisation in Python using English Premier League data used for Fantasy football teams. Information on the dataset can be found [here](https://www.kaggle.com/mauryashubham/english-premier-league-players-dataset).\n",
    "\n",
    "This notebook will be focusing on the following visualisation packages: \n",
    "\n",
    "\n",
    "1. [**Seaborn**](https://seaborn.pydata.org/index.html) for making easy, visually appealing graphics \n",
    "    * Better default graphics, and a larger variety of graphs to enhance data communication \n",
    "    * More customiseable and visually appealing (e.g., [colour palettes](https://seaborn.pydata.org/tutorial/color_palettes.html) & [aesthetics](https://seaborn.pydata.org/tutorial/aesthetics.html))\n",
    "\n",
    "\n",
    "\n",
    "2. [**Plotly Express**](https://plot.ly/python/plotly-express/) for making interactive, publication-quality graphics \n",
    "    * Has more graphing options not typically found in other packages \n",
    "    * Can make your visuals [interactive and animated](https://plot.ly/python/animations/)\n",
    "    * *Optional*: Plotly Dash to make dashboards for your plotly graphics\n",
    "\n",
    "\n",
    "\n",
    "These other packages that could be useful. Take a look at them or use in on the online practice!\n",
    "3. [**Bokeh**](https://bokeh.pydata.org/en/latest/index.html), another package for making interactive plots\n",
    "4. [**ggplot**](https://github.com/hadley/ggplot) (a graphics package from R, made useable in Python)"
   ]
  },
  {
   "cell_type": "markdown",
   "metadata": {},
   "source": [
    "# Load the libraries\n",
    "Start by loading the libraries that are needed for all the visualisation tools we will be using."
   ]
  },
  {
   "cell_type": "code",
   "execution_count": 5,
   "metadata": {},
   "outputs": [],
   "source": [
    "import pandas as pd                        # basic data manipulation\n",
    "import numpy as  np                        # basic data manipulation\n",
    "\n",
    "import seaborn as sns                      # for seaborn visualisations\n",
    "%matplotlib inline \n",
    "      # inline is to render all figures inside the notebook (required for seaborn too)\n",
    "\n",
    "import plotly.express as px                # for plotly express visualisations\n",
    "# if it does not import, type one of the following in the command line: \n",
    "    #(in the terminal):    pip install plotly_express==0.4.0       \n",
    "    #(in anaconda prompt): conda install -c plotly plotly_express==0.4.0"
   ]
  },
  {
   "cell_type": "markdown",
   "metadata": {},
   "source": [
    "# Import & Clean the Data\n",
    "Next we need to import our data, which happens to be data about Fantasy English Premier League dataset. Let's start by downloading it from [Google Sheets](https://decd.co/epl-data). Make sure to save it to the same folder as this notebook. \n",
    "\n",
    "To import our data in Google Sheets or Excel, we might click the import button. In Python, we can use `pd.read_csv`.\n",
    "\n",
    "After you've loaded in the data, have a look at it, e.g., `head()`, `tail()`, `sample()`"
   ]
  },
  {
   "cell_type": "code",
   "execution_count": null,
   "metadata": {},
   "outputs": [],
   "source": [
    "# Import the data\n",
    "df = pd.read_csv(\"transformed_epl_data - transformed_epl_data.csv\", index_col=0) # change the file path as needed"
   ]
  },
  {
   "cell_type": "code",
   "execution_count": null,
   "metadata": {},
   "outputs": [],
   "source": [
    "# Check your data\n",
    "df.head(10)"
   ]
  },
  {
   "cell_type": "code",
   "execution_count": null,
   "metadata": {},
   "outputs": [],
   "source": [
    "# Drop any null values\n",
    "df = df.dropna()"
   ]
  },
  {
   "cell_type": "code",
   "execution_count": null,
   "metadata": {},
   "outputs": [],
   "source": [
    "# Check to see if there are any remaining null values\n",
    "df.isnull().sum()"
   ]
  },
  {
   "cell_type": "code",
   "execution_count": null,
   "metadata": {},
   "outputs": [],
   "source": [
    "# Remove '+' symbols from 'club' unique values and replace with a space \n",
    "df[\"club\"] = df[\"club\"].str.replace('+', ' ')"
   ]
  },
  {
   "cell_type": "code",
   "execution_count": null,
   "metadata": {},
   "outputs": [],
   "source": [
    "# Check the unique values of 'club' to make sure the replacement worked\n",
    "df[\"club\"].unique()"
   ]
  },
  {
   "cell_type": "markdown",
   "metadata": {},
   "source": [
    "# Types of Graphs for Exploratory Data Analysis\n",
    "\n",
    "Now that we're all set up, let's dive into some visualisations. Keep in mind which graphs work best with certain types of data. The `plot` method is built into the Pandas library and is great for quick plotting to get a feel for your data. Let's spend a few minutes using the built-in plots just to see what kind of data we have.\n",
    "\n",
    "**Categorical data** (objects) is best displayed using:\n",
    "* Bar Charts\n",
    "* Stacked Bar Charts\n",
    "* Grouped Bar Charts\n",
    "\n",
    "**Numeric data** (integers/floats) is best displayed using:\n",
    "* Histograms\n",
    "* Line graphs\n",
    "* Area plots\n",
    "* Scatter plots\n",
    "* Box plots\n",
    "\n",
    "**Consider the following**: \n",
    "* What if you have ***both*** numeric and categorical data? With what kinds of graphs could you graph both types of data?\n",
    "* Which types of graphs are best for visualising 1 feature? For 2 or more features?\n",
    "\n",
    "A good visualisation resource is [data-to-viz](data-to-viz.com), a website that helps you choose the appropriate graphs based on the data you have."
   ]
  },
  {
   "cell_type": "markdown",
   "metadata": {},
   "source": [
    "Try creating some quick plots (e.g., scatter plots, bar plots, histograms). What do you notice about them? Are they useful?"
   ]
  },
  {
   "cell_type": "code",
   "execution_count": null,
   "metadata": {},
   "outputs": [],
   "source": [
    "# Basic histogram \n",
    "df.plot(y=\"age\", kind=\"hist\")"
   ]
  },
  {
   "cell_type": "code",
   "execution_count": null,
   "metadata": {
    "scrolled": true
   },
   "outputs": [],
   "source": [
    "# Basic scatter plot\n",
    "df.plot.scatter(x='fpl_points', y='market_value')"
   ]
  },
  {
   "cell_type": "code",
   "execution_count": null,
   "metadata": {},
   "outputs": [],
   "source": [
    "# Other basic plots (e.g., bar plot, line graph)"
   ]
  },
  {
   "cell_type": "markdown",
   "metadata": {},
   "source": [
    "While the in-built plots are useful, they are not that visually appealing. They are useful for gleaning insights from your data, but they are likely not something you would want to present in a formal report.  \n",
    "\n",
    "This is where other visualisation packages like Seaborn and Plotly come into play."
   ]
  },
  {
   "cell_type": "markdown",
   "metadata": {},
   "source": [
    "# Seaborn: Communicating Information through Visuals\n",
    "Seaborn is a powerful and easy-to-use graphing package to make some great visuals. Use [this website](https://seaborn.pydata.org/examples/index.html) for inspiration on the many types of graphs you can do, with sample code. The following example codes below are graphs you will most likely use in your analysis. \n",
    "\n",
    "**Basic examples of seaborn graphs include:**\n",
    "* Scatter plots: `sns.relplot(data=, x=, y=, ...)`   \n",
    "* Line plots: `sns.lineplot(data=, x=, y=, ...)` \n",
    "* Histograms: `sns.displot(data.x, ...)`   \n",
    "* Bar plots (defined y-axis): `sns.catplot(data=, x=, y=, ...)` \n",
    "* Bar plots (default count y-axis) `sns.countplot(data=, x=, ...)`   \n",
    "* Box plots: `sns.boxplot(data=, x=, y=, ...)` \n",
    "\n",
    "\n",
    "#### Optional: Using Seaborn's colour palettes\n",
    "\n",
    "The default colours aren't the most pleasing, but you can use some built-in colour palettes to change them. Use `palette=\" \"` and enter the name the palette (either seaborn pre-made palette, or a custom one) inside the `\" \"` to change the colours to your liking. These can be used on many types of seaborn graphs, which can be seen below.\n",
    "\n",
    "\n",
    "***Built-in multicolor palettes:***\n",
    "Example: `palette=\"muted\"`. Other options: `deep`, `pastel`, `bright`, `dark`, `colorblind`, `hls`, `paired`, and `Set2`)\n",
    "\n",
    "***Built-in sequential, monochrome, and other colour palettes:***\n",
    "Example: `palette=\"GnBu\"`. But there are many color options for this. To make the palettes darker, add a `_d` after the name (example `GnBu_d`). To make the colors reverse order, add an `_r` after the name (example `GnBu_r`). \n",
    "* *Note: If you enter an incorrect palette=\" \", you will get an error, and will list all possible colour palette options in the warning.*\n",
    "\n",
    "***Custom palettes:***\n",
    "Create a list of colours and save it as a feature. Make sure the number of colours you select match the number of feature levels (e.g., if a feature has 5 groups, select 5 colours). Then use that as the name for the palette in your graph. Remember, when you use this method, do not add `\"\"` around your palette name. \n",
    "* Step 1. `yourcolours = [\"red\", \"orange\", \"yellow\", \"green\", \"blue\"]` \n",
    "* Step 2. `sns.catplot(....palette = yourcolours,...)`"
   ]
  },
  {
   "cell_type": "markdown",
   "metadata": {},
   "source": [
    "### Scatterplots"
   ]
  },
  {
   "cell_type": "code",
   "execution_count": null,
   "metadata": {
    "scrolled": true
   },
   "outputs": [],
   "source": [
    "# Basic scatter plot \n",
    "sns.relplot(data=df, x=\"fpl_points\", y=\"market_value\", \n",
    "            hue=\"region\",    # Add in a categorical feature by using 'hue=___' \n",
    "            size=\"fpl_sel\")  # Add in a scaling feature by using 'size=___' "
   ]
  },
  {
   "cell_type": "code",
   "execution_count": null,
   "metadata": {},
   "outputs": [],
   "source": [
    "# Add in a pre-made colour palette \n",
    "sns.relplot(data=df, x=\"fpl_points\", y=\"market_value\", \n",
    "            hue=\"region\", \n",
    "            size=\"fpl_sel\", \n",
    "            palette=\"seismic_r\")"
   ]
  },
  {
   "cell_type": "markdown",
   "metadata": {},
   "source": [
    "### Histograms"
   ]
  },
  {
   "cell_type": "code",
   "execution_count": null,
   "metadata": {},
   "outputs": [],
   "source": [
    "# The seaborn default histogram includes a normal distribution curve, and adds the x-axis feature name as the label \n",
    "sns.distplot(df.age, color=\"navy\",\n",
    "            bins=20)   # Change the number of bins (bars) to see what happens to the histogram"
   ]
  },
  {
   "cell_type": "code",
   "execution_count": null,
   "metadata": {},
   "outputs": [],
   "source": [
    "# Histogram with the frequency only  \n",
    "sns.distplot(df.age, color=\"navy\", \n",
    "             kde=False)  # Displays frequency rather than density on the y-axis "
   ]
  },
  {
   "cell_type": "code",
   "execution_count": null,
   "metadata": {},
   "outputs": [],
   "source": [
    "# Histogram with the density curve only\n",
    "sns.distplot(df.age, color=\"navy\", \n",
    "             hist=False) # Displays only the density curve without the histogram"
   ]
  },
  {
   "cell_type": "markdown",
   "metadata": {},
   "source": [
    "### Regressions / Line Graphs"
   ]
  },
  {
   "cell_type": "code",
   "execution_count": null,
   "metadata": {
    "scrolled": true
   },
   "outputs": [],
   "source": [
    "# basic regression plot \n",
    "sns.regplot(data=df, x=\"fpl_points\", y=\"market_value\", color=\"darkred\",\n",
    "            marker=\"p\",   # change the data point shapes with marker=\"__\",  See what letters work for you! \n",
    "            ci=100)       # change the confidence interval of the regression with 'ci=' a number"
   ]
  },
  {
   "cell_type": "code",
   "execution_count": null,
   "metadata": {},
   "outputs": [],
   "source": [
    "# Basic line plot\n",
    "sns.lineplot(data=df, x=\"age\", y=\"market_value\", color=\"seagreen\")"
   ]
  },
  {
   "cell_type": "code",
   "execution_count": null,
   "metadata": {},
   "outputs": [],
   "source": [
    "# Line plots with groups\n",
    "sns.lineplot(data=df, x=\"age\", y=\"market_value\", ci=50,\n",
    "             hue=\"position_cat\",    # adding a categorical feature to see line plots by group\n",
    "             palette=\"viridis\")      # adding a seaborn colour palette"
   ]
  },
  {
   "cell_type": "markdown",
   "metadata": {},
   "source": [
    "### Bar Plots"
   ]
  },
  {
   "cell_type": "code",
   "execution_count": null,
   "metadata": {},
   "outputs": [],
   "source": [
    "# Regular bar plot: use a continuous feature on the y-axis \n",
    "sns.catplot(data=df, x=\"region\", y=\"market_value\", \n",
    "            height=6, \n",
    "            kind=\"bar\", \n",
    "            palette=\"rocket\")"
   ]
  },
  {
   "cell_type": "code",
   "execution_count": null,
   "metadata": {},
   "outputs": [],
   "source": [
    "# Grouped bar plot: like the bar plot above, but adds an extra parameter \"hue=___\" (a categorical feature)\n",
    "sns.catplot(data=df, x=\"region\", y=\"market_value\", \n",
    "            hue=\"position_cat\", \n",
    "            height=6, \n",
    "            kind=\"bar\", \n",
    "            palette=\"rocket\")"
   ]
  },
  {
   "cell_type": "code",
   "execution_count": 2,
   "metadata": {},
   "outputs": [],
   "source": [
    "# What other types of carts can you do with catplots? \n",
    "# Try setting kind= to one or more of the following: \"point\", \"strip\", \"swarm\", \"box\", \"violin\", or \"boxen\""
   ]
  },
  {
   "cell_type": "markdown",
   "metadata": {},
   "source": [
    "### Count Plots"
   ]
  },
  {
   "cell_type": "code",
   "execution_count": null,
   "metadata": {},
   "outputs": [],
   "source": [
    "# Basic count plot: the y-axis is automatically a count value, so you do not include a feature on the y-axis\n",
    "sns.countplot(data=df, x=\"region\", \n",
    "              palette=\"seismic\")"
   ]
  },
  {
   "cell_type": "code",
   "execution_count": null,
   "metadata": {},
   "outputs": [],
   "source": [
    "# Add \"hue=___\" as another parameter to add a categorical feature\n",
    "sns.countplot(data=df, x=\"region\", \n",
    "              palette=\"seismic\", \n",
    "              hue=\"position_cat\")\n",
    "\n",
    "# What other parameters can you add (e.g., palette)? "
   ]
  },
  {
   "cell_type": "markdown",
   "metadata": {},
   "source": [
    "# Plotly Express: Enhancing your Visual Communication\n",
    "Now is the time you've probably been looking forward to the most - making graphs animated! [Plotly express](https://plot.ly/python/plotly-express/) can take your visualisations to a whole other level. Make them [animated](https://plot.ly/python/animations/), interactive, and you can save them as html files, or even host them on a web-app. \n",
    "\n",
    "\n",
    "**Basic examples of plotly express graphs include:**\n",
    "* Scatter plots: `px.scatter(df, x=, y=, ...)`\n",
    "* Line graphs: `px.line(df, x=, y=, ...)`\n",
    "* Area plots: `px.area(df, x=, y=, ...)`\n",
    "* Bar plots: `px.bar(df, x=, y=, barmode=, ...)`\n",
    "* Histograms: `px.histogram(df, x=, y=, barmode=, ...)`\n",
    "\n",
    "To include categories/group levels in your graphs, use `color = ___`, (as opposed to `hue = ___` with seaborn) to group data by a categorical feature.\n",
    "\n",
    "\n",
    "***When using scatter plots:***\n",
    "You can also include smaller graphs of a different variety on the outer margins of your scatter plot. You do this within the main `px.scatter(   )` by including `marginal_y=\"___\"` (for a graph on the y-axis), or `marginal_x=\"___\"` (for a graph on the x-axis), and including the type of graph (e.g., histogram, box, violin), inside the `\"___\"`. \n",
    "* *Note: while it might look good to have graphs outside of other graphs, use this with caution, as it can be too much information and detract from your main findings*\n"
   ]
  },
  {
   "cell_type": "markdown",
   "metadata": {},
   "source": [
    "## Below is an example of an animated bubble chart inspired by Hans Rosling's Gapminder:\n",
    "\n",
    "More information on bubble charts (scatter plots with an added third dimension of \"size\") can be found [here](https://plot.ly/python/bubble-charts/). "
   ]
  },
  {
   "cell_type": "code",
   "execution_count": null,
   "metadata": {},
   "outputs": [],
   "source": [
    "# This code is taken from the Plotly website. It is a great demonstration of using Plotly Express to tell a story.\n",
    "gapminder = px.data.gapminder()\n",
    "\n",
    "px.scatter(gapminder, x=\"gdpPercap\", y=\"lifeExp\", \n",
    "           animation_frame=\"year\", \n",
    "           animation_group=\"country\", \n",
    "           size=\"pop\",            # this scales/sizes the data points based on the value of a numeric feature\n",
    "           color=\"continent\",     # this is like \"hue\" in seaborn, to group by a categorical feature\n",
    "           hover_name=\"country\",  # adds labels from a categorical feature when hover over a data point\n",
    "           log_x=True,            # this re-scales the x-axis with log-transformation\n",
    "           size_max=55,           # this sets the maximum scaling size for size=\"pop\"\n",
    "           range_x=[100,100000],  # this sets the min and max values to show in the x-axis\n",
    "           range_y=[25,90],       # this sets the min and max values to show in the y-axis\n",
    "           title=\"GDP Per Capita vs. Life Expectancy from 1952-2007, by Country\",  # add a title \n",
    "           labels={\"gdpPercap\":\"GDP Per Capita\", \"lifeExp\": \"Life Expectancy (Years)\"})  # rename x-axis and y-axis \n"
   ]
  },
  {
   "cell_type": "markdown",
   "metadata": {},
   "source": [
    "## Now that we've seen what this package can do, let's try to tell a story with our own data by using these tools!\n",
    "\n",
    "Let's do this in steps, practicing with the different parameters along the way."
   ]
  },
  {
   "cell_type": "markdown",
   "metadata": {},
   "source": [
    "### First, make a plotly express graph of your choosing. \n",
    "Here are some examples below, but feel free try out other ones for yourself"
   ]
  },
  {
   "cell_type": "code",
   "execution_count": null,
   "metadata": {},
   "outputs": [],
   "source": [
    "# Basic bubble chart using scatterplot - what other parameters can you add, remove, or change?\n",
    "px.scatter(df, x=\"region\", y=\"market_value\", \n",
    "          color=\"region\", \n",
    "          size=\"page_views\",     \n",
    "          marginal_x=\"rug\")  # adds a 'rug plot' (shows tick marks for all x-axis values)"
   ]
  },
  {
   "cell_type": "code",
   "execution_count": null,
   "metadata": {},
   "outputs": [],
   "source": [
    "# Basic bar plot - what other parameters can you add, remove, or change?\n",
    "px.bar(df, x=\"region\", y=\"market_value\", \n",
    "       color=\"position_cat\",\n",
    "       barmode=\"group\",                    # barmode can equal group, overlay, or relative\n",
    "       color_discrete_sequence=px.colors.sequential.Plasma)  # plotly color palette parameter (for discrete scales)"
   ]
  },
  {
   "cell_type": "code",
   "execution_count": null,
   "metadata": {},
   "outputs": [],
   "source": [
    "# Here's an example of a heatmap, with darker colors having higher counts (or occurrences)\n",
    "px.density_heatmap(df, x=\"position\", y=\"club\", \n",
    "                   color_continuous_scale=\"Purples\")   # plotly color palette parameter (for continuous scales)"
   ]
  },
  {
   "cell_type": "code",
   "execution_count": null,
   "metadata": {},
   "outputs": [],
   "source": [
    "# Basic line graph - what other parameters can you add, remove, or change?\n",
    "px.line(df, x=\"fpl_points\", y=\"market_value\",\n",
    "       color=\"position_cat\")"
   ]
  },
  {
   "cell_type": "code",
   "execution_count": null,
   "metadata": {},
   "outputs": [],
   "source": [
    "# Basic histogram graph - what other parameters can you add, remove, or change?\n",
    "px.histogram(df, x=\"age\")"
   ]
  },
  {
   "cell_type": "markdown",
   "metadata": {},
   "source": [
    "Try out other graphs in Plotly Express! Refer back to the website link above for more graphing ideas. "
   ]
  },
  {
   "cell_type": "markdown",
   "metadata": {},
   "source": [
    "### Second, add animation functions to the graphics"
   ]
  },
  {
   "cell_type": "code",
   "execution_count": null,
   "metadata": {},
   "outputs": [],
   "source": [
    "# Let's animate the bubble charts we made above, using animation_frame=\"___\"\n",
    "px.scatter(df, x=\"fpl_points\", y=\"market_value\", \n",
    "           color=\"region\", \n",
    "           size=\"page_views\", \n",
    "           animation_frame=\"position\")  # moves between each group/value as a new frame"
   ]
  },
  {
   "cell_type": "code",
   "execution_count": null,
   "metadata": {},
   "outputs": [],
   "source": [
    "# What happens when you add animation_group too? How does it compare to the graph above? Is it more or less useful?\n",
    "px.scatter(df, x=\"fpl_points\", y=\"market_value\", \n",
    "           color=\"region\", \n",
    "           size=\"page_views\", \n",
    "           animation_frame=\"position\",  # moves between each group/value as a new frame\n",
    "           animation_group=\"age_cat\")   # displays grouped data per frame as opposed to individual data points"
   ]
  },
  {
   "cell_type": "code",
   "execution_count": null,
   "metadata": {},
   "outputs": [],
   "source": [
    "# Let's try animation with a bar chart. Do you think the animations improve your graphs, or no? What would you change?\n",
    "px.bar(df, x=\"region\", y=\"market_value\", \n",
    "       color=\"position_cat\",\n",
    "       barmode=\"group\", \n",
    "       animation_frame=\"age\") "
   ]
  },
  {
   "cell_type": "markdown",
   "metadata": {},
   "source": [
    "What other animations can you come up with? What types of graphs work best with animations?\n",
    "\n",
    "Also, try adding other parameters such as these:\n",
    "* `hover_name=___` to show labels for different data points\n",
    "* `size_max=___` (in scatter plots) to change the max scaling size for the data points (circles)\n",
    "* add a title and axis labels to your graphs"
   ]
  },
  {
   "cell_type": "code",
   "execution_count": 4,
   "metadata": {},
   "outputs": [],
   "source": [
    "# Try using the animation parameters with different types graphs "
   ]
  }
 ],
 "metadata": {
  "kernelspec": {
   "display_name": "Python 3",
   "language": "python",
   "name": "python3"
  },
  "language_info": {
   "codemirror_mode": {
    "name": "ipython",
    "version": 3
   },
   "file_extension": ".py",
   "mimetype": "text/x-python",
   "name": "python",
   "nbconvert_exporter": "python",
   "pygments_lexer": "ipython3",
   "version": "3.7.3"
  }
 },
 "nbformat": 4,
 "nbformat_minor": 2
}
