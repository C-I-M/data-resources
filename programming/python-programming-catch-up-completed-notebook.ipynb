{
 "cells": [
  {
   "cell_type": "markdown",
   "metadata": {},
   "source": [
    "# Fundamentals of Python\n",
    "\n",
    "This notebook is designed to help cement your knowledge of Python syntax and methods. As you complete each challenge, you will practise foundational programming skills and develop your computational thinking ability."
   ]
  },
  {
   "cell_type": "markdown",
   "metadata": {},
   "source": [
    "## The first program"
   ]
  },
  {
   "cell_type": "code",
   "execution_count": 1,
   "metadata": {},
   "outputs": [
    {
     "name": "stdout",
     "output_type": "stream",
     "text": [
      "Hello, World!\n"
     ]
    }
   ],
   "source": [
    "# Display \"Hello, World!\" to the user\n",
    "\n",
    "print(\"Hello, World!\")"
   ]
  },
  {
   "cell_type": "markdown",
   "metadata": {},
   "source": [
    "## Variables\n",
    "\n",
    "A variable is a **named** place to store a **value** that can **change**.\n",
    "\n",
    "Variables can have almost any name, as long as it is a single word (no spaces or punctuation), does not begin with a number, and is not a word that Python already knows."
   ]
  },
  {
   "cell_type": "code",
   "execution_count": null,
   "metadata": {},
   "outputs": [],
   "source": [
    "# Assigning a number to a variable\n",
    "num = 1\n",
    "\n",
    "# Adding 1 to a variable\n",
    "num = num + 1\n",
    "num += 1\n",
    "\n",
    "# Assigning a variable based on user input \n",
    "word = input(\"Enter a word: \")\n",
    "\n",
    "# Displaying a variable\n",
    "print(word)\n"
   ]
  },
  {
   "cell_type": "markdown",
   "metadata": {},
   "source": [
    "### Challenge 1\n",
    "\n",
    "- Assign numbers to two different variables\n",
    "- Multiply the numbers and assign the result to a third variable\n",
    "- Display the value of the third variable"
   ]
  },
  {
   "cell_type": "code",
   "execution_count": null,
   "metadata": {},
   "outputs": [],
   "source": [
    "num_a = 2\n",
    "num_b = 3\n",
    "num_c = num_a * num_b\n",
    "print(num_c)"
   ]
  },
  {
   "cell_type": "markdown",
   "metadata": {},
   "source": [
    "## Data types\n",
    "\n",
    "Different kinds of information are stored as different variable types. Python recognises several different data basic types:\n",
    "\n",
    "* String - \n",
    "* Integer - \n",
    "* Float -\n",
    "* Boolean - \n",
    "\n",
    "Certain operations - like addition - work differently on different data types, so it is important to be clear on what type of value you have."
   ]
  },
  {
   "cell_type": "code",
   "execution_count": null,
   "metadata": {},
   "outputs": [],
   "source": [
    "# Assigning a string to a variable\n",
    "word = \"cat\"\n",
    "\n",
    "# Converting an integer to a string and storing the string in a variable\n",
    "num_to_word = str(34)\n",
    "\n",
    "# Converting a string to an integer and storing the integer in a variable\n",
    "word_to_num = int(\"57\")\n"
   ]
  },
  {
   "cell_type": "markdown",
   "metadata": {},
   "source": [
    "### Challenge 2\n",
    "\n",
    "- Prompt the user to enter a number\n",
    "- Store the number as an integer in a variable\n",
    "- multiply the number by 7 and store the result in the same variable\n",
    "- Display a sentence about the number, including the number"
   ]
  },
  {
   "cell_type": "code",
   "execution_count": null,
   "metadata": {},
   "outputs": [],
   "source": [
    "# Option 1\n",
    "num = input(\"Please enter a number: \")\n",
    "num = int(num)\n",
    "num = num * 7\n",
    "num = str(num)\n",
    "print(\"Your new number is: \" + num)\n",
    "\n",
    "# Option 2 \n",
    "print(\"Your new number is: \" + str(int(input(\"Please enter a number: \")) * 7))\n",
    "\n",
    "# Both options do exactly the same thing, just at different levels of readability"
   ]
  },
  {
   "cell_type": "markdown",
   "metadata": {},
   "source": [
    "## Loops\n",
    "\n",
    "**Repeat** a **block** of code\n",
    "\n",
    "A FOR loop is used when you know how many times you need to loop.\n",
    "\n",
    "A WHILE loop is used when you are not sure how many times you will need to loop."
   ]
  },
  {
   "cell_type": "code",
   "execution_count": null,
   "metadata": {},
   "outputs": [],
   "source": [
    "# A FOR loop that counts from 1 to 10, printing out each number\n",
    "for i in range(1, 11):\n",
    "    print(i)\n",
    "    \n",
    "# A WHILE loop that runs until a number is greater than 1000\n",
    "count = 0\n",
    "\n",
    "while count <= 1000:\n",
    "    count += 1\n",
    "\n",
    "print(count)"
   ]
  },
  {
   "cell_type": "markdown",
   "metadata": {},
   "source": [
    "### Challenge 3\n",
    "\n",
    "- Create a loop that counts from a user-entered number to a higher user-entered number"
   ]
  },
  {
   "cell_type": "code",
   "execution_count": null,
   "metadata": {},
   "outputs": [],
   "source": [
    "start = int(input()) + 1\n",
    "stop = int(input()) + 1\n",
    "\n",
    "for i in range(start, stop):\n",
    "    print(i)"
   ]
  },
  {
   "cell_type": "markdown",
   "metadata": {},
   "source": [
    "### Challenge 4\n",
    "\n",
    "- Prompt the user to enter an integer\n",
    "- Keep prompting until the user enters a valid integer"
   ]
  },
  {
   "cell_type": "code",
   "execution_count": null,
   "metadata": {},
   "outputs": [],
   "source": [
    "valid = False\n",
    "\n",
    "while not valid:\n",
    "    num = input(\"Please enter an integer: \")\n",
    "    try:\n",
    "        int(num)\n",
    "        valid = True\n",
    "    except:\n",
    "        print(\"Did I stutter?\")"
   ]
  },
  {
   "cell_type": "markdown",
   "metadata": {},
   "source": [
    "## Conditionals\n",
    "\n",
    "**Direct** a process based on **logic**\n",
    "\n",
    "IF statements evaluate logical statements, and then do different things based on whether the statements are  `True` or `False`.\n",
    "\n",
    "Every IF statement begins with an `if`.\n",
    "\n",
    "You can have as many `elif` statements as you want.\n",
    "\n",
    "If you have an `else` in your statement, it has to come at the end. `else` does not have a condition."
   ]
  },
  {
   "cell_type": "code",
   "execution_count": null,
   "metadata": {},
   "outputs": [],
   "source": [
    "# An IF statement that prints out \"higher\" if a user-entered number is greater than 3\n",
    "num = int(input())\n",
    "\n",
    "if num > 3:\n",
    "    print(\"higher\")\n",
    "\n",
    "# An IF statement including both elif and else\n",
    "if num > 4:\n",
    "    print(\"large\")\n",
    "elif num > 0:\n",
    "    print(\"small\")\n",
    "else:\n",
    "    print(\"negative\")"
   ]
  },
  {
   "cell_type": "markdown",
   "metadata": {},
   "source": [
    "### Challenge 5\n",
    "\n",
    "- Prompt the user for an animal\n",
    "- If the animal is a cat, print \"meow\"\n",
    "- If the animal is a dog, print \"woof\"\n",
    "- In all other situations, print \"squawk\""
   ]
  },
  {
   "cell_type": "code",
   "execution_count": null,
   "metadata": {},
   "outputs": [],
   "source": [
    "animal = input(\"Enter an animal: \")\n",
    "\n",
    "if animal == \"cat\":\n",
    "    print(\"meow\")\n",
    "elif animal == \"dog\":\n",
    "    print(\"woof\")\n",
    "else:\n",
    "    print(\"squawk\")"
   ]
  },
  {
   "cell_type": "markdown",
   "metadata": {},
   "source": [
    "### Challenge 6\n",
    "\n",
    "- Prompt the user for an integer\n",
    "- If the number is less than 17 and greater than 4, print \"just right\"\n",
    "- If the number is greater than 17 or under 0, print \"wrong size\"\n",
    "- If the number is exactly 3, print \"too three\"\n",
    "- In all other cases, print the number as many times as the number"
   ]
  },
  {
   "cell_type": "code",
   "execution_count": null,
   "metadata": {},
   "outputs": [],
   "source": [
    "num = int(input())\n",
    "\n",
    "if num < 17 and num > 4:\n",
    "    print(\"just right\")\n",
    "elif num > 17 or num < 0:\n",
    "    print(\"wrong size\")\n",
    "elif num == 3:\n",
    "    print(\"too three\")\n",
    "else:\n",
    "    for i in range(num - 1):\n",
    "        print(num)"
   ]
  },
  {
   "cell_type": "markdown",
   "metadata": {},
   "source": [
    "## Functions\n",
    "\n",
    "A **named**, **repeatable** block of code.\n",
    "\n",
    "A function must be `def`ined before it can be **called**.\n",
    "\n",
    "A function can `return` a value.\n",
    "\n",
    "Some functions take **arguments** when they are called.\n"
   ]
  },
  {
   "cell_type": "code",
   "execution_count": 10,
   "metadata": {},
   "outputs": [],
   "source": [
    "# A function that takes a string as an argument and prints the string out 4 times\n",
    "def print_four(word):\n",
    "    print(word)\n",
    "    print(word)\n",
    "    print(word)\n",
    "    print(word)\n",
    "\n",
    "# A function that adds 2 to a given number and returns the new value\n",
    "def add_two(num):\n",
    "    return num + 2"
   ]
  },
  {
   "cell_type": "markdown",
   "metadata": {},
   "source": [
    "### Challenge 7\n",
    "\n",
    "- Create a function called `farewell` that takes one argument\n",
    "- The function should return the string \"Goodbye forever, \" concatenated with the argument"
   ]
  },
  {
   "cell_type": "code",
   "execution_count": 11,
   "metadata": {},
   "outputs": [],
   "source": [
    "def farewell(name):\n",
    "    return(\"Goodbye forever,\", name)"
   ]
  },
  {
   "cell_type": "markdown",
   "metadata": {},
   "source": [
    "### Challenge 8\n",
    "\n",
    "- Create a function `addNums` that takes two arguments\n",
    "- If the arguments are not numeric, the function should return 0\n",
    "- Otherwise, the function should return the two arguments added together"
   ]
  },
  {
   "cell_type": "code",
   "execution_count": 12,
   "metadata": {},
   "outputs": [],
   "source": [
    "def addNums(x, y):\n",
    "    if isnumeric(x) and isnumeric(y):\n",
    "        return x + y\n",
    "    else:\n",
    "        return 0"
   ]
  },
  {
   "cell_type": "markdown",
   "metadata": {},
   "source": [
    "## Importing\n",
    "\n",
    "Including **external** code in your programs"
   ]
  },
  {
   "cell_type": "code",
   "execution_count": null,
   "metadata": {},
   "outputs": [],
   "source": [
    "# Importing a whole module\n",
    "import random\n",
    "\n",
    "# Importing a module under a different name\n",
    "import random as rnd\n",
    "\n",
    "# Importing only part of a module\n",
    "from random import randint\n",
    "\n",
    "# Using an imported function\n",
    "randint(3)"
   ]
  },
  {
   "cell_type": "markdown",
   "metadata": {},
   "source": [
    "### Challenge 9\n",
    "\n",
    "* Import the `random` module\n",
    "* Create a function that returns a random integer between 0 and a user-entered value"
   ]
  },
  {
   "cell_type": "code",
   "execution_count": null,
   "metadata": {},
   "outputs": [],
   "source": [
    "import random\n",
    "\n",
    "def rand_upto():\n",
    "    num = input(\"Enter an upper limit: \")\n",
    "    return random.randint(0, num)"
   ]
  },
  {
   "cell_type": "markdown",
   "metadata": {},
   "source": [
    "## Reading stack traces\n",
    "\n",
    "Even the best programmers often encounter errors, and so the ability to understand error messages is a key skill for all coding. \n",
    "\n",
    "When you first see an error message, or \"stack trace\" (a list of errors in the order that they occurred, going back to the root error), it can be quite intimidating. However, there's actually only one place you normally need to look for information.\n",
    "\n",
    "The very last two lines of the error message will tell you the type, line location, and exact nature of any error. \n",
    "\n",
    "Run the code block below to see an error message."
   ]
  },
  {
   "cell_type": "code",
   "execution_count": null,
   "metadata": {},
   "outputs": [],
   "source": [
    "print(2 + \"2\")"
   ]
  },
  {
   "cell_type": "markdown",
   "metadata": {},
   "source": [
    "The error occurred on line 1, with the call `print(2 + \"2)`. It's a `TypeError`, which means that you attempt to do something with a data type (or types) that the computer did not understand. The specific message is `unsupported operand type(s) for +: 'int' and 'str'` - you attempted to add a string and an integer, which does not work. \n",
    "\n",
    "With the above information, you can work out how to solve the problem."
   ]
  },
  {
   "cell_type": "markdown",
   "metadata": {},
   "source": [
    "### Challenge 10\n",
    "\n",
    "Run the code blocks below, identify the errors based on the stack traces, and correct the code."
   ]
  },
  {
   "cell_type": "code",
   "execution_count": null,
   "metadata": {},
   "outputs": [],
   "source": [
    "def add(num1, num2)\n",
    "    num1 + num2"
   ]
  },
  {
   "cell_type": "code",
   "execution_count": null,
   "metadata": {},
   "outputs": [],
   "source": [
    "def multiply(num1, num2):\n",
    "    return num1 * num2\n",
    "\n",
    "multiply(3,4,5)"
   ]
  },
  {
   "cell_type": "markdown",
   "metadata": {},
   "source": [
    "## Lists, tuples, and dictionaries"
   ]
  },
  {
   "cell_type": "markdown",
   "metadata": {},
   "source": [
    "So far, we've used variables to store individual values. When programming, you'll often want to store many more values than that.\n",
    "\n",
    "List, tuples, and dictionaries are all example of **data structures** - places to store multiple pieces of information together. These three data structures are all quite similar, but they do have key differences.\n",
    "\n",
    "When thinking about these structures, it's important to bear three key terms in mind:\n",
    "\n",
    "1. **ordered** - the items in a structure are always in the same order\n",
    "2. **indexed** - any item in a structure is accessible directly if you know the **index value**.\n",
    "3. **mutable** - the items in a structure can be changed"
   ]
  },
  {
   "cell_type": "markdown",
   "metadata": {},
   "source": [
    "### Lists\n",
    "\n",
    "Lists can store values of any type. The values in a list are referred to as **elements** or **items**.\n",
    "\n",
    "Lists are ordered, *numerically*-indexed, and mutable.\n",
    "\n",
    "\n",
    "Lists are created using square brackets, and the elements are separated by commas.\n",
    "\n",
    "\n",
    "As lists are numerically indexed, you can access any time just by knowing its position in the list. In Python (and in many other programming languages), numerical indexes start at 0, so the first item in a list is found at index 0, the second at at index 1, and so on."
   ]
  },
  {
   "cell_type": "code",
   "execution_count": null,
   "metadata": {},
   "outputs": [],
   "source": [
    "# Creating a list\n",
    "my_list = [\"a\",\"b\",\"c\"]\n",
    "\n",
    "# Accessing a value by index in a list\n",
    "my_list[1]\n",
    "\n",
    "# Changing an item in a list\n",
    "my_list[2] = \"d\"\n",
    "\n",
    "# Appending an item to a list\n",
    "my_list.append(\"e\")\n"
   ]
  },
  {
   "cell_type": "markdown",
   "metadata": {},
   "source": [
    "### Tuples\n",
    "\n",
    "Tuples are very similar to lists, with two key differences. Firstly, tuples are created by using round brackets, instead of square.\n",
    "\n",
    "Secondly, while tuples are ordered and numerically indexed, they are **immutable** - once you have created a tuple, you cannot add or change any elements."
   ]
  },
  {
   "cell_type": "code",
   "execution_count": 13,
   "metadata": {},
   "outputs": [
    {
     "data": {
      "text/plain": [
       "4"
      ]
     },
     "execution_count": 13,
     "metadata": {},
     "output_type": "execute_result"
    }
   ],
   "source": [
    "# Creating a tuple\n",
    "my_tuple = (4,8,12)\n",
    "\n",
    "# Accessing a value by index in a tuple\n",
    "my_tuple[0]"
   ]
  },
  {
   "cell_type": "markdown",
   "metadata": {},
   "source": [
    "### Dictionaries\n",
    "\n",
    "Dictionaries are **un**ordered, indexed **non**-numerically, and mutable. \n",
    "\n",
    "Instead of storing values in ordered slots, each with a numeric index, dictionaries store sequences of key-value pairs. You can access a value in a dictionary if you know the key.\n",
    "\n",
    "Dictionaries are created using curly brackets. Each key is separated from the associated value by a colon, and key-value pairs are separated with commas. "
   ]
  },
  {
   "cell_type": "code",
   "execution_count": 14,
   "metadata": {},
   "outputs": [],
   "source": [
    "# Creating a dictionary\n",
    "my_dict = {\"a\": \"apple\", \"b\":\"bison\"}\n",
    "\n",
    "# Accessing a value by index in a dictionary\n",
    "my_dict['b']\n",
    "\n",
    "# Changing an item in a dictionary\n",
    "my_dict['a'] = \"aardvark\"\n",
    "\n",
    "# Appending an item to a dictionary\n",
    "my_dict['c'] = 'capybara' "
   ]
  },
  {
   "cell_type": "markdown",
   "metadata": {},
   "source": [
    "## Extra challenges"
   ]
  },
  {
   "cell_type": "markdown",
   "metadata": {},
   "source": [
    "Create a program in which:\n",
    "\n",
    "* The computer randomly generates a number\n",
    "* The user has five attempts to guess the number\n",
    "* After each guess, the computer outputs if the guess was too high or too low"
   ]
  },
  {
   "cell_type": "code",
   "execution_count": null,
   "metadata": {},
   "outputs": [],
   "source": []
  },
  {
   "cell_type": "markdown",
   "metadata": {},
   "source": [
    "Create a program in which:\n",
    "\n",
    "* The user enters two integers\n",
    "* The user enters a mathematical operation (addition, subtraction, etc.)\n",
    "* The program outputs the result of the operation on the two numbers\n",
    "* The program restarts"
   ]
  },
  {
   "cell_type": "code",
   "execution_count": null,
   "metadata": {},
   "outputs": [],
   "source": []
  }
 ],
 "metadata": {
  "kernelspec": {
   "display_name": "Python 3",
   "language": "python",
   "name": "python3"
  },
  "language_info": {
   "codemirror_mode": {
    "name": "ipython",
    "version": 3
   },
   "file_extension": ".py",
   "mimetype": "text/x-python",
   "name": "python",
   "nbconvert_exporter": "python",
   "pygments_lexer": "ipython3",
   "version": "3.7.1"
  }
 },
 "nbformat": 4,
 "nbformat_minor": 2
}
