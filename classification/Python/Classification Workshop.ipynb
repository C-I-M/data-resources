{
 "cells": [
  {
   "cell_type": "markdown",
   "metadata": {},
   "source": [
    "# Classification\n",
    "\n",
    "**Brief**: Predict which customers will buy a limited-edition jumper."
   ]
  },
  {
   "cell_type": "markdown",
   "metadata": {},
   "source": [
    "### 1. Import statements"
   ]
  },
  {
   "cell_type": "code",
   "execution_count": 1,
   "metadata": {},
   "outputs": [],
   "source": [
    "import pandas as pd # Data manipulation\n",
    "\n",
    "import seaborn as sns # Visualisation\n",
    "\n",
    "# Split data to allow testing\n",
    "\n",
    "from sklearn.model_selection import train_test_split\n",
    "\n",
    "# Build and visualise decision trees\n",
    "\n",
    "from sklearn.tree import DecisionTreeClassifier, export_graphviz\n",
    "\n",
    "# Evaluate decision trees\n",
    "\n",
    "from sklearn.metrics import (accuracy_score,\n",
    "                             classification_report,\n",
    "                             confusion_matrix)\n",
    "\n",
    "# Visualise decision trees\n",
    "\n",
    "import graphviz"
   ]
  },
  {
   "cell_type": "markdown",
   "metadata": {},
   "source": [
    "### 2. Loading the data"
   ]
  },
  {
   "cell_type": "code",
   "execution_count": 2,
   "metadata": {},
   "outputs": [],
   "source": [
    "# Load from .csv in same directory as notebook\n",
    "\n",
    "data = pd.read_csv(\"customer_data.csv\")"
   ]
  },
  {
   "cell_type": "markdown",
   "metadata": {},
   "source": [
    "### 3. Exploring the data"
   ]
  },
  {
   "cell_type": "code",
   "execution_count": 3,
   "metadata": {},
   "outputs": [
    {
     "data": {
      "text/plain": [
       "(701, 9)"
      ]
     },
     "execution_count": 3,
     "metadata": {},
     "output_type": "execute_result"
    }
   ],
   "source": [
    "# Number of rows and columns\n",
    "\n",
    "data.shape"
   ]
  },
  {
   "cell_type": "code",
   "execution_count": 4,
   "metadata": {},
   "outputs": [
    {
     "data": {
      "text/html": [
       "<div>\n",
       "<style scoped>\n",
       "    .dataframe tbody tr th:only-of-type {\n",
       "        vertical-align: middle;\n",
       "    }\n",
       "\n",
       "    .dataframe tbody tr th {\n",
       "        vertical-align: top;\n",
       "    }\n",
       "\n",
       "    .dataframe thead th {\n",
       "        text-align: right;\n",
       "    }\n",
       "</style>\n",
       "<table border=\"1\" class=\"dataframe\">\n",
       "  <thead>\n",
       "    <tr style=\"text-align: right;\">\n",
       "      <th></th>\n",
       "      <th>age</th>\n",
       "      <th>gender</th>\n",
       "      <th>No_jumpers_per_year</th>\n",
       "      <th>spent_today</th>\n",
       "      <th>spent</th>\n",
       "      <th>salaRy</th>\n",
       "      <th>Distance</th>\n",
       "      <th>Online</th>\n",
       "      <th>Decision</th>\n",
       "    </tr>\n",
       "  </thead>\n",
       "  <tbody>\n",
       "    <tr>\n",
       "      <th>239</th>\n",
       "      <td>25</td>\n",
       "      <td>Male</td>\n",
       "      <td>2</td>\n",
       "      <td>60</td>\n",
       "      <td>195</td>\n",
       "      <td>46533</td>\n",
       "      <td>3.131778</td>\n",
       "      <td>0</td>\n",
       "      <td>NaN</td>\n",
       "    </tr>\n",
       "    <tr>\n",
       "      <th>562</th>\n",
       "      <td>26</td>\n",
       "      <td>male</td>\n",
       "      <td>4</td>\n",
       "      <td>49</td>\n",
       "      <td>191</td>\n",
       "      <td>70712</td>\n",
       "      <td>8.731732</td>\n",
       "      <td>1</td>\n",
       "      <td>1.0</td>\n",
       "    </tr>\n",
       "    <tr>\n",
       "      <th>361</th>\n",
       "      <td>28</td>\n",
       "      <td>female</td>\n",
       "      <td>3</td>\n",
       "      <td>43</td>\n",
       "      <td>140</td>\n",
       "      <td>55089</td>\n",
       "      <td>2.464305</td>\n",
       "      <td>1</td>\n",
       "      <td>1.0</td>\n",
       "    </tr>\n",
       "    <tr>\n",
       "      <th>538</th>\n",
       "      <td>46</td>\n",
       "      <td>female</td>\n",
       "      <td>4</td>\n",
       "      <td>26</td>\n",
       "      <td>28</td>\n",
       "      <td>11387</td>\n",
       "      <td>5.922984</td>\n",
       "      <td>0</td>\n",
       "      <td>0.0</td>\n",
       "    </tr>\n",
       "    <tr>\n",
       "      <th>372</th>\n",
       "      <td>22</td>\n",
       "      <td>Male</td>\n",
       "      <td>3</td>\n",
       "      <td>39</td>\n",
       "      <td>130</td>\n",
       "      <td>71302</td>\n",
       "      <td>3.067975</td>\n",
       "      <td>0</td>\n",
       "      <td>NaN</td>\n",
       "    </tr>\n",
       "  </tbody>\n",
       "</table>\n",
       "</div>"
      ],
      "text/plain": [
       "     age  gender  No_jumpers_per_year  spent_today  spent  salaRy  Distance  \\\n",
       "239   25    Male                    2           60    195   46533  3.131778   \n",
       "562   26    male                    4           49    191   70712  8.731732   \n",
       "361   28  female                    3           43    140   55089  2.464305   \n",
       "538   46  female                    4           26     28   11387  5.922984   \n",
       "372   22    Male                    3           39    130   71302  3.067975   \n",
       "\n",
       "     Online  Decision  \n",
       "239       0       NaN  \n",
       "562       1       1.0  \n",
       "361       1       1.0  \n",
       "538       0       0.0  \n",
       "372       0       NaN  "
      ]
     },
     "execution_count": 4,
     "metadata": {},
     "output_type": "execute_result"
    }
   ],
   "source": [
    "# Random five rows\n",
    "\n",
    "data.sample(5)"
   ]
  },
  {
   "cell_type": "code",
   "execution_count": 5,
   "metadata": {},
   "outputs": [
    {
     "data": {
      "text/plain": [
       "Index(['age', 'gender', 'No_jumpers_per_year', 'spent_today', 'spent',\n",
       "       'salaRy', 'Distance', 'Online', 'Decision'],\n",
       "      dtype='object')"
      ]
     },
     "execution_count": 5,
     "metadata": {},
     "output_type": "execute_result"
    }
   ],
   "source": [
    "# Column names\n",
    "\n",
    "data.columns"
   ]
  },
  {
   "cell_type": "code",
   "execution_count": 6,
   "metadata": {},
   "outputs": [
    {
     "data": {
      "text/html": [
       "<div>\n",
       "<style scoped>\n",
       "    .dataframe tbody tr th:only-of-type {\n",
       "        vertical-align: middle;\n",
       "    }\n",
       "\n",
       "    .dataframe tbody tr th {\n",
       "        vertical-align: top;\n",
       "    }\n",
       "\n",
       "    .dataframe thead th {\n",
       "        text-align: right;\n",
       "    }\n",
       "</style>\n",
       "<table border=\"1\" class=\"dataframe\">\n",
       "  <thead>\n",
       "    <tr style=\"text-align: right;\">\n",
       "      <th></th>\n",
       "      <th>age</th>\n",
       "      <th>gender</th>\n",
       "      <th>No_jumpers_per_year</th>\n",
       "      <th>spent_today</th>\n",
       "      <th>spent</th>\n",
       "      <th>salaRy</th>\n",
       "      <th>Distance</th>\n",
       "      <th>Online</th>\n",
       "      <th>Decision</th>\n",
       "    </tr>\n",
       "  </thead>\n",
       "  <tbody>\n",
       "    <tr>\n",
       "      <th>count</th>\n",
       "      <td>701.000000</td>\n",
       "      <td>701</td>\n",
       "      <td>701.000000</td>\n",
       "      <td>701.000000</td>\n",
       "      <td>701.000000</td>\n",
       "      <td>701.000000</td>\n",
       "      <td>701.000000</td>\n",
       "      <td>701.000000</td>\n",
       "      <td>473.000000</td>\n",
       "    </tr>\n",
       "    <tr>\n",
       "      <th>unique</th>\n",
       "      <td>NaN</td>\n",
       "      <td>6</td>\n",
       "      <td>NaN</td>\n",
       "      <td>NaN</td>\n",
       "      <td>NaN</td>\n",
       "      <td>NaN</td>\n",
       "      <td>NaN</td>\n",
       "      <td>NaN</td>\n",
       "      <td>NaN</td>\n",
       "    </tr>\n",
       "    <tr>\n",
       "      <th>top</th>\n",
       "      <td>NaN</td>\n",
       "      <td>male</td>\n",
       "      <td>NaN</td>\n",
       "      <td>NaN</td>\n",
       "      <td>NaN</td>\n",
       "      <td>NaN</td>\n",
       "      <td>NaN</td>\n",
       "      <td>NaN</td>\n",
       "      <td>NaN</td>\n",
       "    </tr>\n",
       "    <tr>\n",
       "      <th>freq</th>\n",
       "      <td>NaN</td>\n",
       "      <td>266</td>\n",
       "      <td>NaN</td>\n",
       "      <td>NaN</td>\n",
       "      <td>NaN</td>\n",
       "      <td>NaN</td>\n",
       "      <td>NaN</td>\n",
       "      <td>NaN</td>\n",
       "      <td>NaN</td>\n",
       "    </tr>\n",
       "    <tr>\n",
       "      <th>mean</th>\n",
       "      <td>34.164051</td>\n",
       "      <td>NaN</td>\n",
       "      <td>2.707561</td>\n",
       "      <td>32.844508</td>\n",
       "      <td>107.834522</td>\n",
       "      <td>43860.815977</td>\n",
       "      <td>4.550152</td>\n",
       "      <td>0.532097</td>\n",
       "      <td>0.638478</td>\n",
       "    </tr>\n",
       "    <tr>\n",
       "      <th>std</th>\n",
       "      <td>13.777421</td>\n",
       "      <td>NaN</td>\n",
       "      <td>1.592415</td>\n",
       "      <td>15.741395</td>\n",
       "      <td>55.338217</td>\n",
       "      <td>26188.806959</td>\n",
       "      <td>3.109289</td>\n",
       "      <td>0.499325</td>\n",
       "      <td>0.480950</td>\n",
       "    </tr>\n",
       "    <tr>\n",
       "      <th>min</th>\n",
       "      <td>16.000000</td>\n",
       "      <td>NaN</td>\n",
       "      <td>0.000000</td>\n",
       "      <td>0.000000</td>\n",
       "      <td>0.000000</td>\n",
       "      <td>1617.000000</td>\n",
       "      <td>0.003168</td>\n",
       "      <td>0.000000</td>\n",
       "      <td>0.000000</td>\n",
       "    </tr>\n",
       "    <tr>\n",
       "      <th>25%</th>\n",
       "      <td>23.000000</td>\n",
       "      <td>NaN</td>\n",
       "      <td>1.000000</td>\n",
       "      <td>24.000000</td>\n",
       "      <td>62.000000</td>\n",
       "      <td>22819.000000</td>\n",
       "      <td>1.876145</td>\n",
       "      <td>0.000000</td>\n",
       "      <td>0.000000</td>\n",
       "    </tr>\n",
       "    <tr>\n",
       "      <th>50%</th>\n",
       "      <td>28.000000</td>\n",
       "      <td>NaN</td>\n",
       "      <td>3.000000</td>\n",
       "      <td>36.000000</td>\n",
       "      <td>113.000000</td>\n",
       "      <td>42027.000000</td>\n",
       "      <td>4.185417</td>\n",
       "      <td>1.000000</td>\n",
       "      <td>1.000000</td>\n",
       "    </tr>\n",
       "    <tr>\n",
       "      <th>75%</th>\n",
       "      <td>46.000000</td>\n",
       "      <td>NaN</td>\n",
       "      <td>4.000000</td>\n",
       "      <td>43.000000</td>\n",
       "      <td>150.000000</td>\n",
       "      <td>60228.000000</td>\n",
       "      <td>6.696573</td>\n",
       "      <td>1.000000</td>\n",
       "      <td>1.000000</td>\n",
       "    </tr>\n",
       "    <tr>\n",
       "      <th>max</th>\n",
       "      <td>67.000000</td>\n",
       "      <td>NaN</td>\n",
       "      <td>5.000000</td>\n",
       "      <td>62.000000</td>\n",
       "      <td>210.000000</td>\n",
       "      <td>182058.000000</td>\n",
       "      <td>10.986203</td>\n",
       "      <td>1.000000</td>\n",
       "      <td>1.000000</td>\n",
       "    </tr>\n",
       "  </tbody>\n",
       "</table>\n",
       "</div>"
      ],
      "text/plain": [
       "               age gender  No_jumpers_per_year  spent_today       spent  \\\n",
       "count   701.000000    701           701.000000   701.000000  701.000000   \n",
       "unique         NaN      6                  NaN          NaN         NaN   \n",
       "top            NaN   male                  NaN          NaN         NaN   \n",
       "freq           NaN    266                  NaN          NaN         NaN   \n",
       "mean     34.164051    NaN             2.707561    32.844508  107.834522   \n",
       "std      13.777421    NaN             1.592415    15.741395   55.338217   \n",
       "min      16.000000    NaN             0.000000     0.000000    0.000000   \n",
       "25%      23.000000    NaN             1.000000    24.000000   62.000000   \n",
       "50%      28.000000    NaN             3.000000    36.000000  113.000000   \n",
       "75%      46.000000    NaN             4.000000    43.000000  150.000000   \n",
       "max      67.000000    NaN             5.000000    62.000000  210.000000   \n",
       "\n",
       "               salaRy    Distance      Online    Decision  \n",
       "count      701.000000  701.000000  701.000000  473.000000  \n",
       "unique            NaN         NaN         NaN         NaN  \n",
       "top               NaN         NaN         NaN         NaN  \n",
       "freq              NaN         NaN         NaN         NaN  \n",
       "mean     43860.815977    4.550152    0.532097    0.638478  \n",
       "std      26188.806959    3.109289    0.499325    0.480950  \n",
       "min       1617.000000    0.003168    0.000000    0.000000  \n",
       "25%      22819.000000    1.876145    0.000000    0.000000  \n",
       "50%      42027.000000    4.185417    1.000000    1.000000  \n",
       "75%      60228.000000    6.696573    1.000000    1.000000  \n",
       "max     182058.000000   10.986203    1.000000    1.000000  "
      ]
     },
     "execution_count": 6,
     "metadata": {},
     "output_type": "execute_result"
    }
   ],
   "source": [
    "# Summary stats (including NaNs)\n",
    "\n",
    "data.describe(include=\"all\")"
   ]
  },
  {
   "cell_type": "code",
   "execution_count": 7,
   "metadata": {},
   "outputs": [
    {
     "data": {
      "text/plain": [
       "age                      int64\n",
       "gender                  object\n",
       "No_jumpers_per_year      int64\n",
       "spent_today              int64\n",
       "spent                    int64\n",
       "salaRy                   int64\n",
       "Distance               float64\n",
       "Online                   int64\n",
       "Decision               float64\n",
       "dtype: object"
      ]
     },
     "execution_count": 7,
     "metadata": {},
     "output_type": "execute_result"
    }
   ],
   "source": [
    "# Datatypes\n",
    "\n",
    "data.dtypes"
   ]
  },
  {
   "cell_type": "code",
   "execution_count": 8,
   "metadata": {},
   "outputs": [
    {
     "name": "stdout",
     "output_type": "stream",
     "text": [
      "<class 'pandas.core.frame.DataFrame'>\n",
      "RangeIndex: 701 entries, 0 to 700\n",
      "Data columns (total 9 columns):\n",
      "age                    701 non-null int64\n",
      "gender                 701 non-null object\n",
      "No_jumpers_per_year    701 non-null int64\n",
      "spent_today            701 non-null int64\n",
      "spent                  701 non-null int64\n",
      "salaRy                 701 non-null int64\n",
      "Distance               701 non-null float64\n",
      "Online                 701 non-null int64\n",
      "Decision               473 non-null float64\n",
      "dtypes: float64(2), int64(6), object(1)\n",
      "memory usage: 49.4+ KB\n"
     ]
    }
   ],
   "source": [
    "# General information\n",
    "\n",
    "data.info()"
   ]
  },
  {
   "cell_type": "code",
   "execution_count": 9,
   "metadata": {},
   "outputs": [
    {
     "data": {
      "text/plain": [
       "age                      0\n",
       "gender                   0\n",
       "No_jumpers_per_year      0\n",
       "spent_today              0\n",
       "spent                    0\n",
       "salaRy                   0\n",
       "Distance                 0\n",
       "Online                   0\n",
       "Decision               228\n",
       "dtype: int64"
      ]
     },
     "execution_count": 9,
     "metadata": {},
     "output_type": "execute_result"
    }
   ],
   "source": [
    "# Number of NAs per column\n",
    "\n",
    "data.isna().sum()"
   ]
  },
  {
   "cell_type": "markdown",
   "metadata": {},
   "source": [
    "### 4. Cleaning the data\n",
    "\n",
    "Our initial exploration has revealed several problems that need fixing: unclear/inconsistent column names, inconsistent strings in `Gender`, and many `NaN`s."
   ]
  },
  {
   "cell_type": "code",
   "execution_count": 10,
   "metadata": {},
   "outputs": [],
   "source": [
    "# Rename columns to be clear and consistent\n",
    "\n",
    "data.rename(columns={\"No_jumpers_per_year\":\"jumpers_per_year\",\n",
    "                     \"spent\":\"spent_month\", \"salaRy\":\"salary\",\n",
    "                     \"Distance\":\"distance\", \"online\":\"online\",\n",
    "                     \"Decision\":\"decision\"}, inplace=True)"
   ]
  },
  {
   "cell_type": "code",
   "execution_count": 11,
   "metadata": {},
   "outputs": [
    {
     "data": {
      "text/plain": [
       "array(['female', 'M', 'male', 'Female', 'Male', 'm'], dtype=object)"
      ]
     },
     "execution_count": 11,
     "metadata": {},
     "output_type": "execute_result"
    }
   ],
   "source": [
    "# Look at the unique values in \"gender\"\n",
    "\n",
    "data[\"gender\"].unique()"
   ]
  },
  {
   "cell_type": "code",
   "execution_count": 12,
   "metadata": {},
   "outputs": [],
   "source": [
    "# Replace all matching values with \"M\" and \"F\"\n",
    "\n",
    "data[\"gender\"] = data[\"gender\"].replace(to_replace=[\"Male\",\"male\",\"m\"],\n",
    "                                        value=\"M\")\n",
    "\n",
    "data[\"gender\"] = data[\"gender\"].replace(to_replace=[\"Female\",\"female\",\"f\"],\n",
    "                                        value=\"F\")"
   ]
  },
  {
   "cell_type": "code",
   "execution_count": 13,
   "metadata": {},
   "outputs": [],
   "source": [
    "# Replace all the 1.0 and 0.0 values in \"decision\" with \"Y\" and \"N\"\n",
    "\n",
    "data[\"decision\"] = data[\"decision\"].replace(0.0, \"N\")\n",
    "data[\"decision\"] = data[\"decision\"].replace(1.0, \"Y\")"
   ]
  },
  {
   "cell_type": "markdown",
   "metadata": {},
   "source": [
    "We do need to remove all the `NaN`s before building our model, but we don't want to drop them - the `NaN`s aren't bad data, they're just unlabelled data. \n",
    "\n",
    "As there are only `NaN` values in the column we are trying to predict, we can keep those rows to one side while building the model, and then actually run them through the model at the end - using our model (built using labelled data) to predict the unlabelled data."
   ]
  },
  {
   "cell_type": "code",
   "execution_count": 14,
   "metadata": {},
   "outputs": [],
   "source": [
    "# Split the data into labelled and unlabelled sets\n",
    "\n",
    "# Make a copy without any NaNs\n",
    "\n",
    "labelled = data.dropna()\n",
    "\n",
    "# Make a copy consisting only of rows where \"decision\" is NaN\n",
    "\n",
    "unlabelled = data[data[\"decision\"].isna()]"
   ]
  },
  {
   "cell_type": "markdown",
   "metadata": {},
   "source": [
    "### 5. Visualising the data"
   ]
  },
  {
   "cell_type": "code",
   "execution_count": 15,
   "metadata": {},
   "outputs": [
    {
     "data": {
      "text/plain": [
       "<matplotlib.axes._subplots.AxesSubplot at 0x115ded1d0>"
      ]
     },
     "execution_count": 15,
     "metadata": {},
     "output_type": "execute_result"
    },
    {
     "data": {
      "image/png": "[encoded data removed]",
      "text/plain": [
       "<Figure size 432x288 with 1 Axes>"
      ]
     },
     "metadata": {
      "needs_background": "light"
     },
     "output_type": "display_data"
    }
   ],
   "source": [
    "# Create a boxplot using age and decision\n",
    "\n",
    "sns.boxplot(y=\"age\", x=\"decision\", data=labelled)"
   ]
  },
  {
   "cell_type": "code",
   "execution_count": 16,
   "metadata": {
    "scrolled": false
   },
   "outputs": [
    {
     "data": {
      "text/plain": [
       "<matplotlib.axes._subplots.AxesSubplot at 0x115ded080>"
      ]
     },
     "execution_count": 16,
     "metadata": {},
     "output_type": "execute_result"
    },
    {
     "data": {
      "image/png": "[encoded data removed]",
      "text/plain": [
       "<Figure size 432x288 with 1 Axes>"
      ]
     },
     "metadata": {
      "needs_background": "light"
     },
     "output_type": "display_data"
    }
   ],
   "source": [
    "# Create a scatterplot using spent_month and distance, colouring data\n",
    "# points with decision\n",
    "\n",
    "sns.scatterplot(x=\"distance\",y=\"spent_month\", hue=\"decision\",data=labelled)"
   ]
  },
  {
   "cell_type": "markdown",
   "metadata": {},
   "source": [
    "### 6. Transforming the data\n",
    "\n",
    "In order to effectively build our model, we need to transform the cleaned data in three ways:\n",
    "\n",
    "1. split the predictors from the predictee\n",
    "\n",
    "2. Convert all non-numeric columns to numeric\n",
    "\n",
    "3. Split the data into train and test sets"
   ]
  },
  {
   "cell_type": "code",
   "execution_count": 17,
   "metadata": {},
   "outputs": [],
   "source": [
    "# Separate the column to be predicted (the class/target/dependent\n",
    "# variable) from the predicting columns (the feature/independent\n",
    "# variables)\n",
    "\n",
    "target = labelled[['decision']]\n",
    "predictors = labelled.drop(columns=['decision'], axis=1)"
   ]
  },
  {
   "cell_type": "code",
   "execution_count": 18,
   "metadata": {},
   "outputs": [],
   "source": [
    "# One-hot encode the predictors, converting all non-numeric columns\n",
    "# into sets of colums with binary values\n",
    "# \"gender\", with \"M\" and \"F\" values becomes \"gender_F\" and \"gender_M\"\n",
    "# Each new column only contains 0s and 1s.\n",
    "\n",
    "predictors = pd.get_dummies(predictors)"
   ]
  },
  {
   "cell_type": "code",
   "execution_count": 19,
   "metadata": {},
   "outputs": [
    {
     "data": {
      "text/html": [
       "<div>\n",
       "<style scoped>\n",
       "    .dataframe tbody tr th:only-of-type {\n",
       "        vertical-align: middle;\n",
       "    }\n",
       "\n",
       "    .dataframe tbody tr th {\n",
       "        vertical-align: top;\n",
       "    }\n",
       "\n",
       "    .dataframe thead th {\n",
       "        text-align: right;\n",
       "    }\n",
       "</style>\n",
       "<table border=\"1\" class=\"dataframe\">\n",
       "  <thead>\n",
       "    <tr style=\"text-align: right;\">\n",
       "      <th></th>\n",
       "      <th>age</th>\n",
       "      <th>jumpers_per_year</th>\n",
       "      <th>spent_today</th>\n",
       "      <th>spent_month</th>\n",
       "      <th>salary</th>\n",
       "      <th>distance</th>\n",
       "      <th>Online</th>\n",
       "      <th>gender_F</th>\n",
       "      <th>gender_M</th>\n",
       "    </tr>\n",
       "  </thead>\n",
       "  <tbody>\n",
       "    <tr>\n",
       "      <th>695</th>\n",
       "      <td>55</td>\n",
       "      <td>5</td>\n",
       "      <td>39</td>\n",
       "      <td>114</td>\n",
       "      <td>53585</td>\n",
       "      <td>10.355656</td>\n",
       "      <td>1</td>\n",
       "      <td>0</td>\n",
       "      <td>1</td>\n",
       "    </tr>\n",
       "    <tr>\n",
       "      <th>696</th>\n",
       "      <td>29</td>\n",
       "      <td>5</td>\n",
       "      <td>20</td>\n",
       "      <td>74</td>\n",
       "      <td>29799</td>\n",
       "      <td>10.455068</td>\n",
       "      <td>0</td>\n",
       "      <td>1</td>\n",
       "      <td>0</td>\n",
       "    </tr>\n",
       "    <tr>\n",
       "      <th>697</th>\n",
       "      <td>45</td>\n",
       "      <td>5</td>\n",
       "      <td>61</td>\n",
       "      <td>201</td>\n",
       "      <td>80260</td>\n",
       "      <td>10.476341</td>\n",
       "      <td>0</td>\n",
       "      <td>1</td>\n",
       "      <td>0</td>\n",
       "    </tr>\n",
       "    <tr>\n",
       "      <th>698</th>\n",
       "      <td>54</td>\n",
       "      <td>5</td>\n",
       "      <td>44</td>\n",
       "      <td>116</td>\n",
       "      <td>44077</td>\n",
       "      <td>10.693889</td>\n",
       "      <td>1</td>\n",
       "      <td>0</td>\n",
       "      <td>1</td>\n",
       "    </tr>\n",
       "    <tr>\n",
       "      <th>699</th>\n",
       "      <td>63</td>\n",
       "      <td>5</td>\n",
       "      <td>33</td>\n",
       "      <td>117</td>\n",
       "      <td>43081</td>\n",
       "      <td>10.755194</td>\n",
       "      <td>1</td>\n",
       "      <td>0</td>\n",
       "      <td>1</td>\n",
       "    </tr>\n",
       "  </tbody>\n",
       "</table>\n",
       "</div>"
      ],
      "text/plain": [
       "     age  jumpers_per_year  spent_today  spent_month  salary   distance  \\\n",
       "695   55                 5           39          114   53585  10.355656   \n",
       "696   29                 5           20           74   29799  10.455068   \n",
       "697   45                 5           61          201   80260  10.476341   \n",
       "698   54                 5           44          116   44077  10.693889   \n",
       "699   63                 5           33          117   43081  10.755194   \n",
       "\n",
       "     Online  gender_F  gender_M  \n",
       "695       1         0         1  \n",
       "696       0         1         0  \n",
       "697       0         1         0  \n",
       "698       1         0         1  \n",
       "699       1         0         1  "
      ]
     },
     "execution_count": 19,
     "metadata": {},
     "output_type": "execute_result"
    }
   ],
   "source": [
    "# Inspect the new predictors data frame, seeing how the columns have changed\n",
    "\n",
    "predictors.tail()"
   ]
  },
  {
   "cell_type": "code",
   "execution_count": 20,
   "metadata": {},
   "outputs": [],
   "source": [
    "# Split the data into training and testing sets\n",
    "\n",
    "X_train, X_test, y_train, y_test = train_test_split(predictors, target,\n",
    "                                                    test_size=0.2,\n",
    "                                                    random_state=42)"
   ]
  },
  {
   "cell_type": "markdown",
   "metadata": {},
   "source": [
    "### 7. Building the model"
   ]
  },
  {
   "cell_type": "code",
   "execution_count": 21,
   "metadata": {},
   "outputs": [
    {
     "data": {
      "text/plain": [
       "DecisionTreeClassifier(class_weight=None, criterion='gini', max_depth=None,\n",
       "            max_features=None, max_leaf_nodes=None,\n",
       "            min_impurity_decrease=0.0, min_impurity_split=None,\n",
       "            min_samples_leaf=1, min_samples_split=2,\n",
       "            min_weight_fraction_leaf=0.0, presort=False, random_state=None,\n",
       "            splitter='best')"
      ]
     },
     "execution_count": 21,
     "metadata": {},
     "output_type": "execute_result"
    }
   ],
   "source": [
    "# Create the model\n",
    "\n",
    "model = DecisionTreeClassifier()\n",
    "\n",
    "# Train the model on the training data, building the actual tree\n",
    "\n",
    "model.fit(X_train, y_train)"
   ]
  },
  {
   "cell_type": "markdown",
   "metadata": {},
   "source": [
    "### 8. Visualising the model"
   ]
  },
  {
   "cell_type": "code",
   "execution_count": 22,
   "metadata": {},
   "outputs": [
    {
     "data": {
      "image/svg+xml": [
       "<?xml version=\"1.0\" encoding=\"UTF-8\" standalone=\"no\"?>\n",
       "<!DOCTYPE svg PUBLIC \"-//W3C//DTD SVG 1.1//EN\"\n",
       " \"http://www.w3.org/Graphics/SVG/1.1/DTD/svg11.dtd\">\n",
       "<!-- Generated by graphviz version 2.40.1 (20161225.0304)\n",
       " -->\n",
       "<!-- Title: Tree Pages: 1 -->\n",
       "<svg width=\"791pt\" height=\"756pt\"\n",
       " viewBox=\"0.00 0.00 791.34 756.00\" xmlns=\"http://www.w3.org/2000/svg\" xmlns:xlink=\"http://www.w3.org/1999/xlink\">\n",
       "<g id=\"graph0\" class=\"graph\" transform=\"scale(1 1) rotate(0) translate(4 752)\">\n",
       "<title>Tree</title>\n",
       "<polygon fill=\"#ffffff\" stroke=\"transparent\" points=\"-4,4 -4,-752 787.3408,-752 787.3408,4 -4,4\"/>\n",
       "<!-- 0 -->\n",
       "<g id=\"node1\" class=\"node\">\n",
       "<title>0</title>\n",
       "<path fill=\"#399de5\" fill-opacity=\"0.462745\" stroke=\"#000000\" d=\"M449.2798,-748C449.2798,-748 317.061,-748 317.061,-748 311.061,-748 305.061,-742 305.061,-736 305.061,-736 305.061,-682 305.061,-682 305.061,-676 311.061,-670 317.061,-670 317.061,-670 449.2798,-670 449.2798,-670 455.2798,-670 461.2798,-676 461.2798,-682 461.2798,-682 461.2798,-736 461.2798,-736 461.2798,-742 455.2798,-748 449.2798,-748\"/>\n",
       "<text text-anchor=\"middle\" x=\"383.1704\" y=\"-732.8\" font-family=\"Helvetica,sans-Serif\" font-size=\"14.00\" fill=\"#000000\">spent_month &lt;= 100.5</text>\n",
       "<text text-anchor=\"middle\" x=\"383.1704\" y=\"-718.8\" font-family=\"Helvetica,sans-Serif\" font-size=\"14.00\" fill=\"#000000\">gini = 0.455</text>\n",
       "<text text-anchor=\"middle\" x=\"383.1704\" y=\"-704.8\" font-family=\"Helvetica,sans-Serif\" font-size=\"14.00\" fill=\"#000000\">samples = 378</text>\n",
       "<text text-anchor=\"middle\" x=\"383.1704\" y=\"-690.8\" font-family=\"Helvetica,sans-Serif\" font-size=\"14.00\" fill=\"#000000\">value = [132, 246]</text>\n",
       "<text text-anchor=\"middle\" x=\"383.1704\" y=\"-676.8\" font-family=\"Helvetica,sans-Serif\" font-size=\"14.00\" fill=\"#000000\">class = Y</text>\n",
       "</g>\n",
       "<!-- 1 -->\n",
       "<g id=\"node2\" class=\"node\">\n",
       "<title>1</title>\n",
       "<path fill=\"#e58139\" fill-opacity=\"0.490196\" stroke=\"#000000\" d=\"M362.9804,-634C362.9804,-634 259.3605,-634 259.3605,-634 253.3605,-634 247.3605,-628 247.3605,-622 247.3605,-622 247.3605,-568 247.3605,-568 247.3605,-562 253.3605,-556 259.3605,-556 259.3605,-556 362.9804,-556 362.9804,-556 368.9804,-556 374.9804,-562 374.9804,-568 374.9804,-568 374.9804,-622 374.9804,-622 374.9804,-628 368.9804,-634 362.9804,-634\"/>\n",
       "<text text-anchor=\"middle\" x=\"311.1704\" y=\"-618.8\" font-family=\"Helvetica,sans-Serif\" font-size=\"14.00\" fill=\"#000000\">distance &lt;= 4.165</text>\n",
       "<text text-anchor=\"middle\" x=\"311.1704\" y=\"-604.8\" font-family=\"Helvetica,sans-Serif\" font-size=\"14.00\" fill=\"#000000\">gini = 0.447</text>\n",
       "<text text-anchor=\"middle\" x=\"311.1704\" y=\"-590.8\" font-family=\"Helvetica,sans-Serif\" font-size=\"14.00\" fill=\"#000000\">samples = 160</text>\n",
       "<text text-anchor=\"middle\" x=\"311.1704\" y=\"-576.8\" font-family=\"Helvetica,sans-Serif\" font-size=\"14.00\" fill=\"#000000\">value = [106, 54]</text>\n",
       "<text text-anchor=\"middle\" x=\"311.1704\" y=\"-562.8\" font-family=\"Helvetica,sans-Serif\" font-size=\"14.00\" fill=\"#000000\">class = N</text>\n",
       "</g>\n",
       "<!-- 0&#45;&gt;1 -->\n",
       "<g id=\"edge1\" class=\"edge\">\n",
       "<title>0&#45;&gt;1</title>\n",
       "<path fill=\"none\" stroke=\"#000000\" d=\"M358.3921,-669.7677C352.905,-661.0798 347.0315,-651.7801 341.3561,-642.794\"/>\n",
       "<polygon fill=\"#000000\" stroke=\"#000000\" points=\"344.2936,-640.8906 335.9944,-634.3046 338.3752,-644.6285 344.2936,-640.8906\"/>\n",
       "<text text-anchor=\"middle\" x=\"330.4879\" y=\"-654.4907\" font-family=\"Helvetica,sans-Serif\" font-size=\"14.00\" fill=\"#000000\">True</text>\n",
       "</g>\n",
       "<!-- 12 -->\n",
       "<g id=\"node13\" class=\"node\">\n",
       "<title>12</title>\n",
       "<path fill=\"#399de5\" fill-opacity=\"0.862745\" stroke=\"#000000\" d=\"M507.9804,-634C507.9804,-634 404.3605,-634 404.3605,-634 398.3605,-634 392.3605,-628 392.3605,-622 392.3605,-622 392.3605,-568 392.3605,-568 392.3605,-562 398.3605,-556 404.3605,-556 404.3605,-556 507.9804,-556 507.9804,-556 513.9804,-556 519.9804,-562 519.9804,-568 519.9804,-568 519.9804,-622 519.9804,-622 519.9804,-628 513.9804,-634 507.9804,-634\"/>\n",
       "<text text-anchor=\"middle\" x=\"456.1704\" y=\"-618.8\" font-family=\"Helvetica,sans-Serif\" font-size=\"14.00\" fill=\"#000000\">distance &lt;= 9.163</text>\n",
       "<text text-anchor=\"middle\" x=\"456.1704\" y=\"-604.8\" font-family=\"Helvetica,sans-Serif\" font-size=\"14.00\" fill=\"#000000\">gini = 0.21</text>\n",
       "<text text-anchor=\"middle\" x=\"456.1704\" y=\"-590.8\" font-family=\"Helvetica,sans-Serif\" font-size=\"14.00\" fill=\"#000000\">samples = 218</text>\n",
       "<text text-anchor=\"middle\" x=\"456.1704\" y=\"-576.8\" font-family=\"Helvetica,sans-Serif\" font-size=\"14.00\" fill=\"#000000\">value = [26, 192]</text>\n",
       "<text text-anchor=\"middle\" x=\"456.1704\" y=\"-562.8\" font-family=\"Helvetica,sans-Serif\" font-size=\"14.00\" fill=\"#000000\">class = Y</text>\n",
       "</g>\n",
       "<!-- 0&#45;&gt;12 -->\n",
       "<g id=\"edge12\" class=\"edge\">\n",
       "<title>0&#45;&gt;12</title>\n",
       "<path fill=\"none\" stroke=\"#000000\" d=\"M408.2929,-669.7677C413.8561,-661.0798 419.8112,-651.7801 425.5655,-642.794\"/>\n",
       "<polygon fill=\"#000000\" stroke=\"#000000\" points=\"428.5565,-644.6135 431.0016,-634.3046 422.6615,-640.8386 428.5565,-644.6135\"/>\n",
       "<text text-anchor=\"middle\" x=\"436.3557\" y=\"-654.5246\" font-family=\"Helvetica,sans-Serif\" font-size=\"14.00\" fill=\"#000000\">False</text>\n",
       "</g>\n",
       "<!-- 2 -->\n",
       "<g id=\"node3\" class=\"node\">\n",
       "<title>2</title>\n",
       "<path fill=\"#399de5\" fill-opacity=\"0.760784\" stroke=\"#000000\" d=\"M232.494,-520C232.494,-520 107.8468,-520 107.8468,-520 101.8468,-520 95.8468,-514 95.8468,-508 95.8468,-508 95.8468,-454 95.8468,-454 95.8468,-448 101.8468,-442 107.8468,-442 107.8468,-442 232.494,-442 232.494,-442 238.494,-442 244.494,-448 244.494,-454 244.494,-454 244.494,-508 244.494,-508 244.494,-514 238.494,-520 232.494,-520\"/>\n",
       "<text text-anchor=\"middle\" x=\"170.1704\" y=\"-504.8\" font-family=\"Helvetica,sans-Serif\" font-size=\"14.00\" fill=\"#000000\">spent_month &lt;= 23.5</text>\n",
       "<text text-anchor=\"middle\" x=\"170.1704\" y=\"-490.8\" font-family=\"Helvetica,sans-Serif\" font-size=\"14.00\" fill=\"#000000\">gini = 0.313</text>\n",
       "<text text-anchor=\"middle\" x=\"170.1704\" y=\"-476.8\" font-family=\"Helvetica,sans-Serif\" font-size=\"14.00\" fill=\"#000000\">samples = 67</text>\n",
       "<text text-anchor=\"middle\" x=\"170.1704\" y=\"-462.8\" font-family=\"Helvetica,sans-Serif\" font-size=\"14.00\" fill=\"#000000\">value = [13, 54]</text>\n",
       "<text text-anchor=\"middle\" x=\"170.1704\" y=\"-448.8\" font-family=\"Helvetica,sans-Serif\" font-size=\"14.00\" fill=\"#000000\">class = Y</text>\n",
       "</g>\n",
       "<!-- 1&#45;&gt;2 -->\n",
       "<g id=\"edge2\" class=\"edge\">\n",
       "<title>1&#45;&gt;2</title>\n",
       "<path fill=\"none\" stroke=\"#000000\" d=\"M262.6462,-555.7677C251.1253,-546.4529 238.7344,-536.4347 226.8843,-526.8538\"/>\n",
       "<polygon fill=\"#000000\" stroke=\"#000000\" points=\"228.7609,-523.8702 218.7841,-520.3046 224.3598,-529.3136 228.7609,-523.8702\"/>\n",
       "</g>\n",
       "<!-- 11 -->\n",
       "<g id=\"node12\" class=\"node\">\n",
       "<title>11</title>\n",
       "<path fill=\"#e58139\" stroke=\"#000000\" d=\"M354.5118,-513C354.5118,-513 273.829,-513 273.829,-513 267.829,-513 261.829,-507 261.829,-501 261.829,-501 261.829,-461 261.829,-461 261.829,-455 267.829,-449 273.829,-449 273.829,-449 354.5118,-449 354.5118,-449 360.5118,-449 366.5118,-455 366.5118,-461 366.5118,-461 366.5118,-501 366.5118,-501 366.5118,-507 360.5118,-513 354.5118,-513\"/>\n",
       "<text text-anchor=\"middle\" x=\"314.1704\" y=\"-497.8\" font-family=\"Helvetica,sans-Serif\" font-size=\"14.00\" fill=\"#000000\">gini = 0.0</text>\n",
       "<text text-anchor=\"middle\" x=\"314.1704\" y=\"-483.8\" font-family=\"Helvetica,sans-Serif\" font-size=\"14.00\" fill=\"#000000\">samples = 93</text>\n",
       "<text text-anchor=\"middle\" x=\"314.1704\" y=\"-469.8\" font-family=\"Helvetica,sans-Serif\" font-size=\"14.00\" fill=\"#000000\">value = [93, 0]</text>\n",
       "<text text-anchor=\"middle\" x=\"314.1704\" y=\"-455.8\" font-family=\"Helvetica,sans-Serif\" font-size=\"14.00\" fill=\"#000000\">class = N</text>\n",
       "</g>\n",
       "<!-- 1&#45;&gt;11 -->\n",
       "<g id=\"edge11\" class=\"edge\">\n",
       "<title>1&#45;&gt;11</title>\n",
       "<path fill=\"none\" stroke=\"#000000\" d=\"M312.2028,-555.7677C312.4774,-545.3338 312.7752,-534.0174 313.0541,-523.4215\"/>\n",
       "<polygon fill=\"#000000\" stroke=\"#000000\" points=\"316.5606,-523.2138 313.325,-513.1252 309.5631,-523.0296 316.5606,-523.2138\"/>\n",
       "</g>\n",
       "<!-- 3 -->\n",
       "<g id=\"node4\" class=\"node\">\n",
       "<title>3</title>\n",
       "<path fill=\"#e58139\" stroke=\"#000000\" d=\"M92.5118,-399C92.5118,-399 11.829,-399 11.829,-399 5.829,-399 -.171,-393 -.171,-387 -.171,-387 -.171,-347 -.171,-347 -.171,-341 5.829,-335 11.829,-335 11.829,-335 92.5118,-335 92.5118,-335 98.5118,-335 104.5118,-341 104.5118,-347 104.5118,-347 104.5118,-387 104.5118,-387 104.5118,-393 98.5118,-399 92.5118,-399\"/>\n",
       "<text text-anchor=\"middle\" x=\"52.1704\" y=\"-383.8\" font-family=\"Helvetica,sans-Serif\" font-size=\"14.00\" fill=\"#000000\">gini = 0.0</text>\n",
       "<text text-anchor=\"middle\" x=\"52.1704\" y=\"-369.8\" font-family=\"Helvetica,sans-Serif\" font-size=\"14.00\" fill=\"#000000\">samples = 10</text>\n",
       "<text text-anchor=\"middle\" x=\"52.1704\" y=\"-355.8\" font-family=\"Helvetica,sans-Serif\" font-size=\"14.00\" fill=\"#000000\">value = [10, 0]</text>\n",
       "<text text-anchor=\"middle\" x=\"52.1704\" y=\"-341.8\" font-family=\"Helvetica,sans-Serif\" font-size=\"14.00\" fill=\"#000000\">class = N</text>\n",
       "</g>\n",
       "<!-- 2&#45;&gt;3 -->\n",
       "<g id=\"edge3\" class=\"edge\">\n",
       "<title>2&#45;&gt;3</title>\n",
       "<path fill=\"none\" stroke=\"#000000\" d=\"M129.5615,-441.7677C117.6366,-430.247 104.5979,-417.6503 92.6792,-406.1356\"/>\n",
       "<polygon fill=\"#000000\" stroke=\"#000000\" points=\"95.0466,-403.5562 85.4228,-399.1252 90.1829,-408.5905 95.0466,-403.5562\"/>\n",
       "</g>\n",
       "<!-- 4 -->\n",
       "<g id=\"node5\" class=\"node\">\n",
       "<title>4</title>\n",
       "<path fill=\"#399de5\" fill-opacity=\"0.945098\" stroke=\"#000000\" d=\"M214.5118,-406C214.5118,-406 133.829,-406 133.829,-406 127.829,-406 121.829,-400 121.829,-394 121.829,-394 121.829,-340 121.829,-340 121.829,-334 127.829,-328 133.829,-328 133.829,-328 214.5118,-328 214.5118,-328 220.5118,-328 226.5118,-334 226.5118,-340 226.5118,-340 226.5118,-394 226.5118,-394 226.5118,-400 220.5118,-406 214.5118,-406\"/>\n",
       "<text text-anchor=\"middle\" x=\"174.1704\" y=\"-390.8\" font-family=\"Helvetica,sans-Serif\" font-size=\"14.00\" fill=\"#000000\">age &lt;= 57.5</text>\n",
       "<text text-anchor=\"middle\" x=\"174.1704\" y=\"-376.8\" font-family=\"Helvetica,sans-Serif\" font-size=\"14.00\" fill=\"#000000\">gini = 0.1</text>\n",
       "<text text-anchor=\"middle\" x=\"174.1704\" y=\"-362.8\" font-family=\"Helvetica,sans-Serif\" font-size=\"14.00\" fill=\"#000000\">samples = 57</text>\n",
       "<text text-anchor=\"middle\" x=\"174.1704\" y=\"-348.8\" font-family=\"Helvetica,sans-Serif\" font-size=\"14.00\" fill=\"#000000\">value = [3, 54]</text>\n",
       "<text text-anchor=\"middle\" x=\"174.1704\" y=\"-334.8\" font-family=\"Helvetica,sans-Serif\" font-size=\"14.00\" fill=\"#000000\">class = Y</text>\n",
       "</g>\n",
       "<!-- 2&#45;&gt;4 -->\n",
       "<g id=\"edge4\" class=\"edge\">\n",
       "<title>2&#45;&gt;4</title>\n",
       "<path fill=\"none\" stroke=\"#000000\" d=\"M171.547,-441.7677C171.833,-433.6172 172.1378,-424.9283 172.4348,-416.4649\"/>\n",
       "<polygon fill=\"#000000\" stroke=\"#000000\" points=\"175.9384,-416.4213 172.7913,-406.3046 168.9427,-416.1757 175.9384,-416.4213\"/>\n",
       "</g>\n",
       "<!-- 5 -->\n",
       "<g id=\"node6\" class=\"node\">\n",
       "<title>5</title>\n",
       "<path fill=\"#399de5\" fill-opacity=\"0.980392\" stroke=\"#000000\" d=\"M179.9804,-292C179.9804,-292 76.3605,-292 76.3605,-292 70.3605,-292 64.3605,-286 64.3605,-280 64.3605,-280 64.3605,-226 64.3605,-226 64.3605,-220 70.3605,-214 76.3605,-214 76.3605,-214 179.9804,-214 179.9804,-214 185.9804,-214 191.9804,-220 191.9804,-226 191.9804,-226 191.9804,-280 191.9804,-280 191.9804,-286 185.9804,-292 179.9804,-292\"/>\n",
       "<text text-anchor=\"middle\" x=\"128.1704\" y=\"-276.8\" font-family=\"Helvetica,sans-Serif\" font-size=\"14.00\" fill=\"#000000\">distance &lt;= 3.038</text>\n",
       "<text text-anchor=\"middle\" x=\"128.1704\" y=\"-262.8\" font-family=\"Helvetica,sans-Serif\" font-size=\"14.00\" fill=\"#000000\">gini = 0.036</text>\n",
       "<text text-anchor=\"middle\" x=\"128.1704\" y=\"-248.8\" font-family=\"Helvetica,sans-Serif\" font-size=\"14.00\" fill=\"#000000\">samples = 55</text>\n",
       "<text text-anchor=\"middle\" x=\"128.1704\" y=\"-234.8\" font-family=\"Helvetica,sans-Serif\" font-size=\"14.00\" fill=\"#000000\">value = [1, 54]</text>\n",
       "<text text-anchor=\"middle\" x=\"128.1704\" y=\"-220.8\" font-family=\"Helvetica,sans-Serif\" font-size=\"14.00\" fill=\"#000000\">class = Y</text>\n",
       "</g>\n",
       "<!-- 4&#45;&gt;5 -->\n",
       "<g id=\"edge5\" class=\"edge\">\n",
       "<title>4&#45;&gt;5</title>\n",
       "<path fill=\"none\" stroke=\"#000000\" d=\"M158.3398,-327.7677C154.9426,-319.3485 151.3136,-310.3548 147.7925,-301.6286\"/>\n",
       "<polygon fill=\"#000000\" stroke=\"#000000\" points=\"151.0179,-300.2685 144.0302,-292.3046 144.5265,-302.8879 151.0179,-300.2685\"/>\n",
       "</g>\n",
       "<!-- 10 -->\n",
       "<g id=\"node11\" class=\"node\">\n",
       "<title>10</title>\n",
       "<path fill=\"#e58139\" stroke=\"#000000\" d=\"M294.2261,-285C294.2261,-285 222.1147,-285 222.1147,-285 216.1147,-285 210.1147,-279 210.1147,-273 210.1147,-273 210.1147,-233 210.1147,-233 210.1147,-227 216.1147,-221 222.1147,-221 222.1147,-221 294.2261,-221 294.2261,-221 300.2261,-221 306.2261,-227 306.2261,-233 306.2261,-233 306.2261,-273 306.2261,-273 306.2261,-279 300.2261,-285 294.2261,-285\"/>\n",
       "<text text-anchor=\"middle\" x=\"258.1704\" y=\"-269.8\" font-family=\"Helvetica,sans-Serif\" font-size=\"14.00\" fill=\"#000000\">gini = 0.0</text>\n",
       "<text text-anchor=\"middle\" x=\"258.1704\" y=\"-255.8\" font-family=\"Helvetica,sans-Serif\" font-size=\"14.00\" fill=\"#000000\">samples = 2</text>\n",
       "<text text-anchor=\"middle\" x=\"258.1704\" y=\"-241.8\" font-family=\"Helvetica,sans-Serif\" font-size=\"14.00\" fill=\"#000000\">value = [2, 0]</text>\n",
       "<text text-anchor=\"middle\" x=\"258.1704\" y=\"-227.8\" font-family=\"Helvetica,sans-Serif\" font-size=\"14.00\" fill=\"#000000\">class = N</text>\n",
       "</g>\n",
       "<!-- 4&#45;&gt;10 -->\n",
       "<g id=\"edge10\" class=\"edge\">\n",
       "<title>4&#45;&gt;10</title>\n",
       "<path fill=\"none\" stroke=\"#000000\" d=\"M203.0784,-327.7677C211.2471,-316.6817 220.1498,-304.5994 228.3698,-293.4436\"/>\n",
       "<polygon fill=\"#000000\" stroke=\"#000000\" points=\"231.3849,-295.252 234.4992,-285.1252 225.7495,-291.0996 231.3849,-295.252\"/>\n",
       "</g>\n",
       "<!-- 6 -->\n",
       "<g id=\"node7\" class=\"node\">\n",
       "<title>6</title>\n",
       "<path fill=\"#399de5\" stroke=\"#000000\" d=\"M103.5118,-171C103.5118,-171 22.829,-171 22.829,-171 16.829,-171 10.829,-165 10.829,-159 10.829,-159 10.829,-119 10.829,-119 10.829,-113 16.829,-107 22.829,-107 22.829,-107 103.5118,-107 103.5118,-107 109.5118,-107 115.5118,-113 115.5118,-119 115.5118,-119 115.5118,-159 115.5118,-159 115.5118,-165 109.5118,-171 103.5118,-171\"/>\n",
       "<text text-anchor=\"middle\" x=\"63.1704\" y=\"-155.8\" font-family=\"Helvetica,sans-Serif\" font-size=\"14.00\" fill=\"#000000\">gini = 0.0</text>\n",
       "<text text-anchor=\"middle\" x=\"63.1704\" y=\"-141.8\" font-family=\"Helvetica,sans-Serif\" font-size=\"14.00\" fill=\"#000000\">samples = 51</text>\n",
       "<text text-anchor=\"middle\" x=\"63.1704\" y=\"-127.8\" font-family=\"Helvetica,sans-Serif\" font-size=\"14.00\" fill=\"#000000\">value = [0, 51]</text>\n",
       "<text text-anchor=\"middle\" x=\"63.1704\" y=\"-113.8\" font-family=\"Helvetica,sans-Serif\" font-size=\"14.00\" fill=\"#000000\">class = Y</text>\n",
       "</g>\n",
       "<!-- 5&#45;&gt;6 -->\n",
       "<g id=\"edge6\" class=\"edge\">\n",
       "<title>5&#45;&gt;6</title>\n",
       "<path fill=\"none\" stroke=\"#000000\" d=\"M105.8011,-213.7677C99.6041,-202.8991 92.8611,-191.0729 86.6051,-180.1009\"/>\n",
       "<polygon fill=\"#000000\" stroke=\"#000000\" points=\"89.4811,-178.0787 81.4874,-171.1252 83.4001,-181.546 89.4811,-178.0787\"/>\n",
       "</g>\n",
       "<!-- 7 -->\n",
       "<g id=\"node8\" class=\"node\">\n",
       "<title>7</title>\n",
       "<path fill=\"#399de5\" fill-opacity=\"0.666667\" stroke=\"#000000\" d=\"M240.6948,-178C240.6948,-178 145.646,-178 145.646,-178 139.646,-178 133.646,-172 133.646,-166 133.646,-166 133.646,-112 133.646,-112 133.646,-106 139.646,-100 145.646,-100 145.646,-100 240.6948,-100 240.6948,-100 246.6948,-100 252.6948,-106 252.6948,-112 252.6948,-112 252.6948,-166 252.6948,-166 252.6948,-172 246.6948,-178 240.6948,-178\"/>\n",
       "<text text-anchor=\"middle\" x=\"193.1704\" y=\"-162.8\" font-family=\"Helvetica,sans-Serif\" font-size=\"14.00\" fill=\"#000000\">gender_F &lt;= 0.5</text>\n",
       "<text text-anchor=\"middle\" x=\"193.1704\" y=\"-148.8\" font-family=\"Helvetica,sans-Serif\" font-size=\"14.00\" fill=\"#000000\">gini = 0.375</text>\n",
       "<text text-anchor=\"middle\" x=\"193.1704\" y=\"-134.8\" font-family=\"Helvetica,sans-Serif\" font-size=\"14.00\" fill=\"#000000\">samples = 4</text>\n",
       "<text text-anchor=\"middle\" x=\"193.1704\" y=\"-120.8\" font-family=\"Helvetica,sans-Serif\" font-size=\"14.00\" fill=\"#000000\">value = [1, 3]</text>\n",
       "<text text-anchor=\"middle\" x=\"193.1704\" y=\"-106.8\" font-family=\"Helvetica,sans-Serif\" font-size=\"14.00\" fill=\"#000000\">class = Y</text>\n",
       "</g>\n",
       "<!-- 5&#45;&gt;7 -->\n",
       "<g id=\"edge7\" class=\"edge\">\n",
       "<title>5&#45;&gt;7</title>\n",
       "<path fill=\"none\" stroke=\"#000000\" d=\"M150.5397,-213.7677C155.4422,-205.1694 160.6865,-195.9718 165.7609,-187.072\"/>\n",
       "<polygon fill=\"#000000\" stroke=\"#000000\" points=\"168.8471,-188.7254 170.7599,-178.3046 162.7661,-185.2581 168.8471,-188.7254\"/>\n",
       "</g>\n",
       "<!-- 8 -->\n",
       "<g id=\"node9\" class=\"node\">\n",
       "<title>8</title>\n",
       "<path fill=\"#399de5\" stroke=\"#000000\" d=\"M172.2261,-64C172.2261,-64 100.1147,-64 100.1147,-64 94.1147,-64 88.1147,-58 88.1147,-52 88.1147,-52 88.1147,-12 88.1147,-12 88.1147,-6 94.1147,0 100.1147,0 100.1147,0 172.2261,0 172.2261,0 178.2261,0 184.2261,-6 184.2261,-12 184.2261,-12 184.2261,-52 184.2261,-52 184.2261,-58 178.2261,-64 172.2261,-64\"/>\n",
       "<text text-anchor=\"middle\" x=\"136.1704\" y=\"-48.8\" font-family=\"Helvetica,sans-Serif\" font-size=\"14.00\" fill=\"#000000\">gini = 0.0</text>\n",
       "<text text-anchor=\"middle\" x=\"136.1704\" y=\"-34.8\" font-family=\"Helvetica,sans-Serif\" font-size=\"14.00\" fill=\"#000000\">samples = 3</text>\n",
       "<text text-anchor=\"middle\" x=\"136.1704\" y=\"-20.8\" font-family=\"Helvetica,sans-Serif\" font-size=\"14.00\" fill=\"#000000\">value = [0, 3]</text>\n",
       "<text text-anchor=\"middle\" x=\"136.1704\" y=\"-6.8\" font-family=\"Helvetica,sans-Serif\" font-size=\"14.00\" fill=\"#000000\">class = Y</text>\n",
       "</g>\n",
       "<!-- 7&#45;&gt;8 -->\n",
       "<g id=\"edge8\" class=\"edge\">\n",
       "<title>7&#45;&gt;8</title>\n",
       "<path fill=\"none\" stroke=\"#000000\" d=\"M172.2694,-99.7647C167.6474,-91.0884 162.7378,-81.8721 158.077,-73.123\"/>\n",
       "<polygon fill=\"#000000\" stroke=\"#000000\" points=\"161.1234,-71.3971 153.3327,-64.2169 154.9453,-74.6883 161.1234,-71.3971\"/>\n",
       "</g>\n",
       "<!-- 9 -->\n",
       "<g id=\"node10\" class=\"node\">\n",
       "<title>9</title>\n",
       "<path fill=\"#e58139\" stroke=\"#000000\" d=\"M287.2261,-64C287.2261,-64 215.1147,-64 215.1147,-64 209.1147,-64 203.1147,-58 203.1147,-52 203.1147,-52 203.1147,-12 203.1147,-12 203.1147,-6 209.1147,0 215.1147,0 215.1147,0 287.2261,0 287.2261,0 293.2261,0 299.2261,-6 299.2261,-12 299.2261,-12 299.2261,-52 299.2261,-52 299.2261,-58 293.2261,-64 287.2261,-64\"/>\n",
       "<text text-anchor=\"middle\" x=\"251.1704\" y=\"-48.8\" font-family=\"Helvetica,sans-Serif\" font-size=\"14.00\" fill=\"#000000\">gini = 0.0</text>\n",
       "<text text-anchor=\"middle\" x=\"251.1704\" y=\"-34.8\" font-family=\"Helvetica,sans-Serif\" font-size=\"14.00\" fill=\"#000000\">samples = 1</text>\n",
       "<text text-anchor=\"middle\" x=\"251.1704\" y=\"-20.8\" font-family=\"Helvetica,sans-Serif\" font-size=\"14.00\" fill=\"#000000\">value = [1, 0]</text>\n",
       "<text text-anchor=\"middle\" x=\"251.1704\" y=\"-6.8\" font-family=\"Helvetica,sans-Serif\" font-size=\"14.00\" fill=\"#000000\">class = N</text>\n",
       "</g>\n",
       "<!-- 7&#45;&gt;9 -->\n",
       "<g id=\"edge9\" class=\"edge\">\n",
       "<title>7&#45;&gt;9</title>\n",
       "<path fill=\"none\" stroke=\"#000000\" d=\"M214.4381,-99.7647C219.1412,-91.0884 224.137,-81.8721 228.8794,-73.123\"/>\n",
       "<polygon fill=\"#000000\" stroke=\"#000000\" points=\"232.0186,-74.6763 233.7071,-64.2169 225.8645,-71.3404 232.0186,-74.6763\"/>\n",
       "</g>\n",
       "<!-- 13 -->\n",
       "<g id=\"node14\" class=\"node\">\n",
       "<title>13</title>\n",
       "<path fill=\"#399de5\" fill-opacity=\"0.984314\" stroke=\"#000000\" d=\"M504.9804,-520C504.9804,-520 401.3605,-520 401.3605,-520 395.3605,-520 389.3605,-514 389.3605,-508 389.3605,-508 389.3605,-454 389.3605,-454 389.3605,-448 395.3605,-442 401.3605,-442 401.3605,-442 504.9804,-442 504.9804,-442 510.9804,-442 516.9804,-448 516.9804,-454 516.9804,-454 516.9804,-508 516.9804,-508 516.9804,-514 510.9804,-520 504.9804,-520\"/>\n",
       "<text text-anchor=\"middle\" x=\"453.1704\" y=\"-504.8\" font-family=\"Helvetica,sans-Serif\" font-size=\"14.00\" fill=\"#000000\">distance &lt;= 8.047</text>\n",
       "<text text-anchor=\"middle\" x=\"453.1704\" y=\"-490.8\" font-family=\"Helvetica,sans-Serif\" font-size=\"14.00\" fill=\"#000000\">gini = 0.033</text>\n",
       "<text text-anchor=\"middle\" x=\"453.1704\" y=\"-476.8\" font-family=\"Helvetica,sans-Serif\" font-size=\"14.00\" fill=\"#000000\">samples = 177</text>\n",
       "<text text-anchor=\"middle\" x=\"453.1704\" y=\"-462.8\" font-family=\"Helvetica,sans-Serif\" font-size=\"14.00\" fill=\"#000000\">value = [3, 174]</text>\n",
       "<text text-anchor=\"middle\" x=\"453.1704\" y=\"-448.8\" font-family=\"Helvetica,sans-Serif\" font-size=\"14.00\" fill=\"#000000\">class = Y</text>\n",
       "</g>\n",
       "<!-- 12&#45;&gt;13 -->\n",
       "<g id=\"edge13\" class=\"edge\">\n",
       "<title>12&#45;&gt;13</title>\n",
       "<path fill=\"none\" stroke=\"#000000\" d=\"M455.138,-555.7677C454.9235,-547.6172 454.6948,-538.9283 454.4721,-530.4649\"/>\n",
       "<polygon fill=\"#000000\" stroke=\"#000000\" points=\"457.9667,-530.2091 454.2047,-520.3046 450.9691,-530.3933 457.9667,-530.2091\"/>\n",
       "</g>\n",
       "<!-- 18 -->\n",
       "<g id=\"node19\" class=\"node\">\n",
       "<title>18</title>\n",
       "<path fill=\"#e58139\" fill-opacity=\"0.215686\" stroke=\"#000000\" d=\"M679.2798,-520C679.2798,-520 547.061,-520 547.061,-520 541.061,-520 535.061,-514 535.061,-508 535.061,-508 535.061,-454 535.061,-454 535.061,-448 541.061,-442 547.061,-442 547.061,-442 679.2798,-442 679.2798,-442 685.2798,-442 691.2798,-448 691.2798,-454 691.2798,-454 691.2798,-508 691.2798,-508 691.2798,-514 685.2798,-520 679.2798,-520\"/>\n",
       "<text text-anchor=\"middle\" x=\"613.1704\" y=\"-504.8\" font-family=\"Helvetica,sans-Serif\" font-size=\"14.00\" fill=\"#000000\">spent_month &lt;= 140.5</text>\n",
       "<text text-anchor=\"middle\" x=\"613.1704\" y=\"-490.8\" font-family=\"Helvetica,sans-Serif\" font-size=\"14.00\" fill=\"#000000\">gini = 0.493</text>\n",
       "<text text-anchor=\"middle\" x=\"613.1704\" y=\"-476.8\" font-family=\"Helvetica,sans-Serif\" font-size=\"14.00\" fill=\"#000000\">samples = 41</text>\n",
       "<text text-anchor=\"middle\" x=\"613.1704\" y=\"-462.8\" font-family=\"Helvetica,sans-Serif\" font-size=\"14.00\" fill=\"#000000\">value = [23, 18]</text>\n",
       "<text text-anchor=\"middle\" x=\"613.1704\" y=\"-448.8\" font-family=\"Helvetica,sans-Serif\" font-size=\"14.00\" fill=\"#000000\">class = N</text>\n",
       "</g>\n",
       "<!-- 12&#45;&gt;18 -->\n",
       "<g id=\"edge18\" class=\"edge\">\n",
       "<title>12&#45;&gt;18</title>\n",
       "<path fill=\"none\" stroke=\"#000000\" d=\"M510.2009,-555.7677C523.3493,-546.2204 537.5154,-535.9342 551.0077,-526.1373\"/>\n",
       "<polygon fill=\"#000000\" stroke=\"#000000\" points=\"553.271,-528.8192 559.3064,-520.1115 549.1581,-523.1549 553.271,-528.8192\"/>\n",
       "</g>\n",
       "<!-- 14 -->\n",
       "<g id=\"node15\" class=\"node\">\n",
       "<title>14</title>\n",
       "<path fill=\"#399de5\" stroke=\"#000000\" d=\"M350.2974,-399C350.2974,-399 262.0434,-399 262.0434,-399 256.0434,-399 250.0434,-393 250.0434,-387 250.0434,-387 250.0434,-347 250.0434,-347 250.0434,-341 256.0434,-335 262.0434,-335 262.0434,-335 350.2974,-335 350.2974,-335 356.2974,-335 362.2974,-341 362.2974,-347 362.2974,-347 362.2974,-387 362.2974,-387 362.2974,-393 356.2974,-399 350.2974,-399\"/>\n",
       "<text text-anchor=\"middle\" x=\"306.1704\" y=\"-383.8\" font-family=\"Helvetica,sans-Serif\" font-size=\"14.00\" fill=\"#000000\">gini = 0.0</text>\n",
       "<text text-anchor=\"middle\" x=\"306.1704\" y=\"-369.8\" font-family=\"Helvetica,sans-Serif\" font-size=\"14.00\" fill=\"#000000\">samples = 165</text>\n",
       "<text text-anchor=\"middle\" x=\"306.1704\" y=\"-355.8\" font-family=\"Helvetica,sans-Serif\" font-size=\"14.00\" fill=\"#000000\">value = [0, 165]</text>\n",
       "<text text-anchor=\"middle\" x=\"306.1704\" y=\"-341.8\" font-family=\"Helvetica,sans-Serif\" font-size=\"14.00\" fill=\"#000000\">class = Y</text>\n",
       "</g>\n",
       "<!-- 13&#45;&gt;14 -->\n",
       "<g id=\"edge14\" class=\"edge\">\n",
       "<title>13&#45;&gt;14</title>\n",
       "<path fill=\"none\" stroke=\"#000000\" d=\"M402.5813,-441.7677C387.4454,-430.0296 370.8692,-417.1745 355.7958,-405.485\"/>\n",
       "<polygon fill=\"#000000\" stroke=\"#000000\" points=\"357.6421,-402.4877 347.595,-399.1252 353.3523,-408.0192 357.6421,-402.4877\"/>\n",
       "</g>\n",
       "<!-- 15 -->\n",
       "<g id=\"node16\" class=\"node\">\n",
       "<title>15</title>\n",
       "<path fill=\"#399de5\" fill-opacity=\"0.666667\" stroke=\"#000000\" d=\"M524.2798,-406C524.2798,-406 392.061,-406 392.061,-406 386.061,-406 380.061,-400 380.061,-394 380.061,-394 380.061,-340 380.061,-340 380.061,-334 386.061,-328 392.061,-328 392.061,-328 524.2798,-328 524.2798,-328 530.2798,-328 536.2798,-334 536.2798,-340 536.2798,-340 536.2798,-394 536.2798,-394 536.2798,-400 530.2798,-406 524.2798,-406\"/>\n",
       "<text text-anchor=\"middle\" x=\"458.1704\" y=\"-390.8\" font-family=\"Helvetica,sans-Serif\" font-size=\"14.00\" fill=\"#000000\">spent_month &lt;= 128.5</text>\n",
       "<text text-anchor=\"middle\" x=\"458.1704\" y=\"-376.8\" font-family=\"Helvetica,sans-Serif\" font-size=\"14.00\" fill=\"#000000\">gini = 0.375</text>\n",
       "<text text-anchor=\"middle\" x=\"458.1704\" y=\"-362.8\" font-family=\"Helvetica,sans-Serif\" font-size=\"14.00\" fill=\"#000000\">samples = 12</text>\n",
       "<text text-anchor=\"middle\" x=\"458.1704\" y=\"-348.8\" font-family=\"Helvetica,sans-Serif\" font-size=\"14.00\" fill=\"#000000\">value = [3, 9]</text>\n",
       "<text text-anchor=\"middle\" x=\"458.1704\" y=\"-334.8\" font-family=\"Helvetica,sans-Serif\" font-size=\"14.00\" fill=\"#000000\">class = Y</text>\n",
       "</g>\n",
       "<!-- 13&#45;&gt;15 -->\n",
       "<g id=\"edge15\" class=\"edge\">\n",
       "<title>13&#45;&gt;15</title>\n",
       "<path fill=\"none\" stroke=\"#000000\" d=\"M454.8911,-441.7677C455.2486,-433.6172 455.6297,-424.9283 456.0009,-416.4649\"/>\n",
       "<polygon fill=\"#000000\" stroke=\"#000000\" points=\"459.5049,-416.4484 456.4465,-406.3046 452.5116,-416.1416 459.5049,-416.4484\"/>\n",
       "</g>\n",
       "<!-- 16 -->\n",
       "<g id=\"node17\" class=\"node\">\n",
       "<title>16</title>\n",
       "<path fill=\"#e58139\" stroke=\"#000000\" d=\"M425.2261,-285C425.2261,-285 353.1147,-285 353.1147,-285 347.1147,-285 341.1147,-279 341.1147,-273 341.1147,-273 341.1147,-233 341.1147,-233 341.1147,-227 347.1147,-221 353.1147,-221 353.1147,-221 425.2261,-221 425.2261,-221 431.2261,-221 437.2261,-227 437.2261,-233 437.2261,-233 437.2261,-273 437.2261,-273 437.2261,-279 431.2261,-285 425.2261,-285\"/>\n",
       "<text text-anchor=\"middle\" x=\"389.1704\" y=\"-269.8\" font-family=\"Helvetica,sans-Serif\" font-size=\"14.00\" fill=\"#000000\">gini = 0.0</text>\n",
       "<text text-anchor=\"middle\" x=\"389.1704\" y=\"-255.8\" font-family=\"Helvetica,sans-Serif\" font-size=\"14.00\" fill=\"#000000\">samples = 3</text>\n",
       "<text text-anchor=\"middle\" x=\"389.1704\" y=\"-241.8\" font-family=\"Helvetica,sans-Serif\" font-size=\"14.00\" fill=\"#000000\">value = [3, 0]</text>\n",
       "<text text-anchor=\"middle\" x=\"389.1704\" y=\"-227.8\" font-family=\"Helvetica,sans-Serif\" font-size=\"14.00\" fill=\"#000000\">class = N</text>\n",
       "</g>\n",
       "<!-- 15&#45;&gt;16 -->\n",
       "<g id=\"edge16\" class=\"edge\">\n",
       "<title>15&#45;&gt;16</title>\n",
       "<path fill=\"none\" stroke=\"#000000\" d=\"M434.4245,-327.7677C427.7804,-316.7904 420.545,-304.8362 413.8482,-293.772\"/>\n",
       "<polygon fill=\"#000000\" stroke=\"#000000\" points=\"416.7869,-291.8679 408.6146,-285.1252 410.7984,-295.4925 416.7869,-291.8679\"/>\n",
       "</g>\n",
       "<!-- 17 -->\n",
       "<g id=\"node18\" class=\"node\">\n",
       "<title>17</title>\n",
       "<path fill=\"#399de5\" stroke=\"#000000\" d=\"M540.2261,-285C540.2261,-285 468.1147,-285 468.1147,-285 462.1147,-285 456.1147,-279 456.1147,-273 456.1147,-273 456.1147,-233 456.1147,-233 456.1147,-227 462.1147,-221 468.1147,-221 468.1147,-221 540.2261,-221 540.2261,-221 546.2261,-221 552.2261,-227 552.2261,-233 552.2261,-233 552.2261,-273 552.2261,-273 552.2261,-279 546.2261,-285 540.2261,-285\"/>\n",
       "<text text-anchor=\"middle\" x=\"504.1704\" y=\"-269.8\" font-family=\"Helvetica,sans-Serif\" font-size=\"14.00\" fill=\"#000000\">gini = 0.0</text>\n",
       "<text text-anchor=\"middle\" x=\"504.1704\" y=\"-255.8\" font-family=\"Helvetica,sans-Serif\" font-size=\"14.00\" fill=\"#000000\">samples = 9</text>\n",
       "<text text-anchor=\"middle\" x=\"504.1704\" y=\"-241.8\" font-family=\"Helvetica,sans-Serif\" font-size=\"14.00\" fill=\"#000000\">value = [0, 9]</text>\n",
       "<text text-anchor=\"middle\" x=\"504.1704\" y=\"-227.8\" font-family=\"Helvetica,sans-Serif\" font-size=\"14.00\" fill=\"#000000\">class = Y</text>\n",
       "</g>\n",
       "<!-- 15&#45;&gt;17 -->\n",
       "<g id=\"edge17\" class=\"edge\">\n",
       "<title>15&#45;&gt;17</title>\n",
       "<path fill=\"none\" stroke=\"#000000\" d=\"M474.001,-327.7677C478.3427,-317.0078 483.0632,-305.3093 487.4529,-294.4303\"/>\n",
       "<polygon fill=\"#000000\" stroke=\"#000000\" points=\"490.7113,-295.7084 491.2076,-285.1252 484.2199,-293.089 490.7113,-295.7084\"/>\n",
       "</g>\n",
       "<!-- 19 -->\n",
       "<g id=\"node20\" class=\"node\">\n",
       "<title>19</title>\n",
       "<path fill=\"#e58139\" stroke=\"#000000\" d=\"M649.5118,-399C649.5118,-399 568.829,-399 568.829,-399 562.829,-399 556.829,-393 556.829,-387 556.829,-387 556.829,-347 556.829,-347 556.829,-341 562.829,-335 568.829,-335 568.829,-335 649.5118,-335 649.5118,-335 655.5118,-335 661.5118,-341 661.5118,-347 661.5118,-347 661.5118,-387 661.5118,-387 661.5118,-393 655.5118,-399 649.5118,-399\"/>\n",
       "<text text-anchor=\"middle\" x=\"609.1704\" y=\"-383.8\" font-family=\"Helvetica,sans-Serif\" font-size=\"14.00\" fill=\"#000000\">gini = 0.0</text>\n",
       "<text text-anchor=\"middle\" x=\"609.1704\" y=\"-369.8\" font-family=\"Helvetica,sans-Serif\" font-size=\"14.00\" fill=\"#000000\">samples = 23</text>\n",
       "<text text-anchor=\"middle\" x=\"609.1704\" y=\"-355.8\" font-family=\"Helvetica,sans-Serif\" font-size=\"14.00\" fill=\"#000000\">value = [23, 0]</text>\n",
       "<text text-anchor=\"middle\" x=\"609.1704\" y=\"-341.8\" font-family=\"Helvetica,sans-Serif\" font-size=\"14.00\" fill=\"#000000\">class = N</text>\n",
       "</g>\n",
       "<!-- 18&#45;&gt;19 -->\n",
       "<g id=\"edge19\" class=\"edge\">\n",
       "<title>18&#45;&gt;19</title>\n",
       "<path fill=\"none\" stroke=\"#000000\" d=\"M611.7938,-441.7677C611.4277,-431.3338 611.0307,-420.0174 610.6589,-409.4215\"/>\n",
       "<polygon fill=\"#000000\" stroke=\"#000000\" points=\"614.1462,-408.9963 610.2976,-399.1252 607.1505,-409.2418 614.1462,-408.9963\"/>\n",
       "</g>\n",
       "<!-- 20 -->\n",
       "<g id=\"node21\" class=\"node\">\n",
       "<title>20</title>\n",
       "<path fill=\"#399de5\" stroke=\"#000000\" d=\"M771.5118,-399C771.5118,-399 690.829,-399 690.829,-399 684.829,-399 678.829,-393 678.829,-387 678.829,-387 678.829,-347 678.829,-347 678.829,-341 684.829,-335 690.829,-335 690.829,-335 771.5118,-335 771.5118,-335 777.5118,-335 783.5118,-341 783.5118,-347 783.5118,-347 783.5118,-387 783.5118,-387 783.5118,-393 777.5118,-399 771.5118,-399\"/>\n",
       "<text text-anchor=\"middle\" x=\"731.1704\" y=\"-383.8\" font-family=\"Helvetica,sans-Serif\" font-size=\"14.00\" fill=\"#000000\">gini = 0.0</text>\n",
       "<text text-anchor=\"middle\" x=\"731.1704\" y=\"-369.8\" font-family=\"Helvetica,sans-Serif\" font-size=\"14.00\" fill=\"#000000\">samples = 18</text>\n",
       "<text text-anchor=\"middle\" x=\"731.1704\" y=\"-355.8\" font-family=\"Helvetica,sans-Serif\" font-size=\"14.00\" fill=\"#000000\">value = [0, 18]</text>\n",
       "<text text-anchor=\"middle\" x=\"731.1704\" y=\"-341.8\" font-family=\"Helvetica,sans-Serif\" font-size=\"14.00\" fill=\"#000000\">class = Y</text>\n",
       "</g>\n",
       "<!-- 18&#45;&gt;20 -->\n",
       "<g id=\"edge20\" class=\"edge\">\n",
       "<title>18&#45;&gt;20</title>\n",
       "<path fill=\"none\" stroke=\"#000000\" d=\"M653.7793,-441.7677C665.7043,-430.247 678.7429,-417.6503 690.6616,-406.1356\"/>\n",
       "<polygon fill=\"#000000\" stroke=\"#000000\" points=\"693.1579,-408.5905 697.918,-399.1252 688.2942,-403.5562 693.1579,-408.5905\"/>\n",
       "</g>\n",
       "</g>\n",
       "</svg>\n"
      ],
      "text/plain": [
       "<graphviz.files.Source at 0x115c11518>"
      ]
     },
     "execution_count": 22,
     "metadata": {},
     "output_type": "execute_result"
    }
   ],
   "source": [
    "# convert the tree into a graph\n",
    "# class_names and feature_names add labels to the tree so it is more readable\n",
    "# filled and rounded are just for styling\n",
    "\n",
    "tree_graph = export_graphviz(model, out_file=None,\n",
    "                             filled=True, rounded=True,\n",
    "                             class_names=[\"N\",\"Y\"],\n",
    "                             feature_names=predictors.columns)\n",
    "\n",
    "# Actually display the graph\n",
    "\n",
    "graphviz.Source(tree_graph)"
   ]
  },
  {
   "cell_type": "markdown",
   "metadata": {},
   "source": [
    "### 9. Evaluating the model"
   ]
  },
  {
   "cell_type": "code",
   "execution_count": 23,
   "metadata": {},
   "outputs": [],
   "source": [
    "# Make predictions using the test data\n",
    "\n",
    "predictions = model.predict(X_test)"
   ]
  },
  {
   "cell_type": "code",
   "execution_count": 24,
   "metadata": {},
   "outputs": [],
   "source": [
    "# Put the predictions and the actual results into the same dataframe\n",
    "\n",
    "# Make a copy of y_test\n",
    "results = y_test.copy()\n",
    "\n",
    "# Add the matching set of predictions as a column\n",
    "results['predicted'] = predictions\n",
    "\n",
    "# rename the columns for clarity\n",
    "\n",
    "results.columns = [\"actual\",\"predicted\"]"
   ]
  },
  {
   "cell_type": "code",
   "execution_count": 25,
   "metadata": {},
   "outputs": [
    {
     "data": {
      "text/html": [
       "<div>\n",
       "<style scoped>\n",
       "    .dataframe tbody tr th:only-of-type {\n",
       "        vertical-align: middle;\n",
       "    }\n",
       "\n",
       "    .dataframe tbody tr th {\n",
       "        vertical-align: top;\n",
       "    }\n",
       "\n",
       "    .dataframe thead th {\n",
       "        text-align: right;\n",
       "    }\n",
       "</style>\n",
       "<table border=\"1\" class=\"dataframe\">\n",
       "  <thead>\n",
       "    <tr style=\"text-align: right;\">\n",
       "      <th></th>\n",
       "      <th>actual</th>\n",
       "      <th>predicted</th>\n",
       "    </tr>\n",
       "  </thead>\n",
       "  <tbody>\n",
       "    <tr>\n",
       "      <th>448</th>\n",
       "      <td>N</td>\n",
       "      <td>N</td>\n",
       "    </tr>\n",
       "    <tr>\n",
       "      <th>545</th>\n",
       "      <td>Y</td>\n",
       "      <td>Y</td>\n",
       "    </tr>\n",
       "    <tr>\n",
       "      <th>111</th>\n",
       "      <td>N</td>\n",
       "      <td>N</td>\n",
       "    </tr>\n",
       "    <tr>\n",
       "      <th>430</th>\n",
       "      <td>Y</td>\n",
       "      <td>Y</td>\n",
       "    </tr>\n",
       "    <tr>\n",
       "      <th>588</th>\n",
       "      <td>Y</td>\n",
       "      <td>Y</td>\n",
       "    </tr>\n",
       "  </tbody>\n",
       "</table>\n",
       "</div>"
      ],
      "text/plain": [
       "    actual predicted\n",
       "448      N         N\n",
       "545      Y         Y\n",
       "111      N         N\n",
       "430      Y         Y\n",
       "588      Y         Y"
      ]
     },
     "execution_count": 25,
     "metadata": {},
     "output_type": "execute_result"
    }
   ],
   "source": [
    "# Inspect the new data frame\n",
    "\n",
    "results.sample(5)"
   ]
  },
  {
   "cell_type": "code",
   "execution_count": 26,
   "metadata": {},
   "outputs": [
    {
     "data": {
      "text/plain": [
       "0.9578947368421052"
      ]
     },
     "execution_count": 26,
     "metadata": {},
     "output_type": "execute_result"
    }
   ],
   "source": [
    "# Get the accuracy score of the model\n",
    "\n",
    "accuracy_score(results['predicted'],results['actual'])"
   ]
  },
  {
   "cell_type": "code",
   "execution_count": 27,
   "metadata": {},
   "outputs": [
    {
     "data": {
      "text/html": [
       "<div>\n",
       "<style scoped>\n",
       "    .dataframe tbody tr th:only-of-type {\n",
       "        vertical-align: middle;\n",
       "    }\n",
       "\n",
       "    .dataframe tbody tr th {\n",
       "        vertical-align: top;\n",
       "    }\n",
       "\n",
       "    .dataframe thead th {\n",
       "        text-align: right;\n",
       "    }\n",
       "</style>\n",
       "<table border=\"1\" class=\"dataframe\">\n",
       "  <thead>\n",
       "    <tr style=\"text-align: right;\">\n",
       "      <th></th>\n",
       "      <th>N</th>\n",
       "      <th>Y</th>\n",
       "    </tr>\n",
       "  </thead>\n",
       "  <tbody>\n",
       "    <tr>\n",
       "      <th>N</th>\n",
       "      <td>36</td>\n",
       "      <td>3</td>\n",
       "    </tr>\n",
       "    <tr>\n",
       "      <th>Y</th>\n",
       "      <td>1</td>\n",
       "      <td>55</td>\n",
       "    </tr>\n",
       "  </tbody>\n",
       "</table>\n",
       "</div>"
      ],
      "text/plain": [
       "    N   Y\n",
       "N  36   3\n",
       "Y   1  55"
      ]
     },
     "execution_count": 27,
     "metadata": {},
     "output_type": "execute_result"
    }
   ],
   "source": [
    "# Get a confusion matrix, showing more detail\n",
    "\n",
    "# Convert the confusion matrix to a dataframe\n",
    "\n",
    "confusion_df = pd.DataFrame(confusion_matrix(results['actual'],results['predicted']),\n",
    "                            index=[\"N\",\"Y\"], columns=[\"N\",\"Y\"])\n",
    "\n",
    "# Display the confusion matrix\n",
    "\n",
    "confusion_df\n",
    "\n",
    "# x-axis is predicted, y-axis is actual\n",
    "# This means that the top left is the number of times N was both the actual and predicted value,\n",
    "# while the bottom left is the number of times Y was predicted but the actual was N."
   ]
  },
  {
   "cell_type": "markdown",
   "metadata": {},
   "source": [
    "This table below demonstrates the structure of a confusion matrix:\n",
    "\n",
    "| Predicted| N | Y |\n",
    "| --- | --- | --- |\n",
    "| **Actual** |\n",
    "| **N** | True Negative | False Positive |\n",
    "| **Y** | False Negative | True Positive |"
   ]
  },
  {
   "cell_type": "code",
   "execution_count": 28,
   "metadata": {},
   "outputs": [
    {
     "name": "stdout",
     "output_type": "stream",
     "text": [
      "              precision    recall  f1-score   support\n",
      "\n",
      "           N       0.97      0.92      0.95        39\n",
      "           Y       0.95      0.98      0.96        56\n",
      "\n",
      "   micro avg       0.96      0.96      0.96        95\n",
      "   macro avg       0.96      0.95      0.96        95\n",
      "weighted avg       0.96      0.96      0.96        95\n",
      "\n"
     ]
    }
   ],
   "source": [
    "# Create a classification report\n",
    "# It has to be printed so it is easily readable\n",
    "\n",
    "print(classification_report(results['actual'],results['predicted']))"
   ]
  },
  {
   "cell_type": "markdown",
   "metadata": {},
   "source": [
    "### 10. Improving the model"
   ]
  },
  {
   "cell_type": "markdown",
   "metadata": {},
   "source": [
    "The model created in section 8 is a very basic one, using only the default options. In order to increase the accuracy, reliability, and generalisability of the model, these parameters can be altered.\n",
    "\n",
    "It's worth experimenting with the parameters and seeing how they affect the result. "
   ]
  },
  {
   "cell_type": "markdown",
   "metadata": {},
   "source": [
    "### 11. Making predictions on unlabelled data"
   ]
  },
  {
   "cell_type": "code",
   "execution_count": 29,
   "metadata": {},
   "outputs": [],
   "source": [
    "# Drop the decision column from unlabelled\n",
    "\n",
    "unlabelled = unlabelled.drop('decision', axis=1)\n",
    "\n",
    "# Run the same one-hot encoding as for the labelled data\n",
    "\n",
    "unlabelled = pd.get_dummies(unlabelled)\n",
    "\n",
    "# Generate predictions for unlabelled and add them to the dataframe as a column\n",
    "\n",
    "unlabelled['prediction'] = model.predict(unlabelled)"
   ]
  },
  {
   "cell_type": "code",
   "execution_count": 30,
   "metadata": {},
   "outputs": [
    {
     "data": {
      "text/plain": [
       "Y    180\n",
       "N     48\n",
       "Name: prediction, dtype: int64"
      ]
     },
     "execution_count": 30,
     "metadata": {},
     "output_type": "execute_result"
    }
   ],
   "source": [
    "# Count the number of customers in unlabelled who are in each category (buy/not buy)\n",
    "\n",
    "unlabelled['prediction'].value_counts()"
   ]
  }
 ],
 "metadata": {
  "kernelspec": {
   "display_name": "Python 3",
   "language": "python",
   "name": "python3"
  },
  "language_info": {
   "codemirror_mode": {
    "name": "ipython",
    "version": 3
   },
   "file_extension": ".py",
   "mimetype": "text/x-python",
   "name": "python",
   "nbconvert_exporter": "python",
   "pygments_lexer": "ipython3",
   "version": "3.7.1"
  }
 },
 "nbformat": 4,
 "nbformat_minor": 2
}
