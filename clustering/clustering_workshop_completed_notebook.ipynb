{
 "cells": [
  {
   "cell_type": "markdown",
   "metadata": {},
   "source": [
    "# Clustering Workshop – Completed Notebook"
   ]
  },
  {
   "cell_type": "markdown",
   "metadata": {},
   "source": [
    "Use this notebook to take notes and complete the challenges in your clustering workshop."
   ]
  },
  {
   "cell_type": "markdown",
   "metadata": {},
   "source": [
    "In this workshop, we'll be looking at demographic data to identify different clusters of regions within major world cities. \n",
    "\n",
    "The goal is to identify naturally occurring groups within this demographic data. As a result, we should be able to better understand which parts of a city are similar and which are not.\n",
    "\n",
    "The figure below shows the result a result of similar analysis on demographic data for London. Parts of the city that are most similar to each other share the same colour.\n",
    "\n",
    "<img src=\"https://assets.decoded.com/managed/c6b02ff5-3899-40e5-8888-ad845beee77e_fxxqkyv_sev6lfd4.jpg\" alt=\"London map\" width=\"500\"/>\n"
   ]
  },
  {
   "cell_type": "markdown",
   "metadata": {},
   "source": [
    "## Import libraries"
   ]
  },
  {
   "cell_type": "code",
   "execution_count": 1,
   "metadata": {},
   "outputs": [],
   "source": [
    "# pandas for dataframe manipulation\n",
    "import pandas as pd\n",
    "\n",
    "# Seaborn and matplotlib for plotting results\n",
    "import seaborn as sns\n",
    "import matplotlib.pyplot as plt\n",
    "\n",
    "# import function to scale our data so that we can perform sensible clustering\n",
    "from sklearn.preprocessing import scale\n",
    "\n",
    "# KMeans to provide the implementation of our clustering algorithm\n",
    "from sklearn.cluster import KMeans"
   ]
  },
  {
   "cell_type": "markdown",
   "metadata": {},
   "source": [
    "## About the data"
   ]
  },
  {
   "cell_type": "markdown",
   "metadata": {},
   "source": [
    "For this workshop, we'll be using the dataset available at decd.co/da-resources in the clustering section. \n",
    "\n",
    "In this spreadsheet, you will find demographic data for three major world cities: London, Hong Kong, and New York. \n",
    "\n",
    "Each city is broken into several administrative districts. (London, for example, is made up of 33 boroughs, while Hong Kong is divided into 18 districts.) \n",
    "\n",
    "For each area in a city, you will find several different demographic features. These include things like population density, average salary, and average income."
   ]
  },
  {
   "cell_type": "markdown",
   "metadata": {},
   "source": [
    "## Sourcing the data"
   ]
  },
  {
   "cell_type": "markdown",
   "metadata": {},
   "source": [
    "Before continuing, take a moment to choose which of the three cities you'd like to study for the rest of this workshop."
   ]
  },
  {
   "cell_type": "markdown",
   "metadata": {},
   "source": [
    "> In this section, we load in pre-prepared data for this exercise for the city of London. This dataset includes demographic data for each borough in the city."
   ]
  },
  {
   "cell_type": "code",
   "execution_count": 2,
   "metadata": {},
   "outputs": [
    {
     "data": {
      "text/html": [
       "<div>\n",
       "<style scoped>\n",
       "    .dataframe tbody tr th:only-of-type {\n",
       "        vertical-align: middle;\n",
       "    }\n",
       "\n",
       "    .dataframe tbody tr th {\n",
       "        vertical-align: top;\n",
       "    }\n",
       "\n",
       "    .dataframe thead th {\n",
       "        text-align: right;\n",
       "    }\n",
       "</style>\n",
       "<table border=\"1\" class=\"dataframe\">\n",
       "  <thead>\n",
       "    <tr style=\"text-align: right;\">\n",
       "      <th></th>\n",
       "      <th>Borough</th>\n",
       "      <th>Mean age (2017)</th>\n",
       "      <th>Average income (£, 2015)</th>\n",
       "    </tr>\n",
       "  </thead>\n",
       "  <tbody>\n",
       "    <tr>\n",
       "      <th>0</th>\n",
       "      <td>Barking and Dagenham</td>\n",
       "      <td>32.9</td>\n",
       "      <td>33018</td>\n",
       "    </tr>\n",
       "    <tr>\n",
       "      <th>1</th>\n",
       "      <td>Barnet</td>\n",
       "      <td>37.3</td>\n",
       "      <td>30900</td>\n",
       "    </tr>\n",
       "    <tr>\n",
       "      <th>2</th>\n",
       "      <td>Bexley</td>\n",
       "      <td>39.0</td>\n",
       "      <td>29664</td>\n",
       "    </tr>\n",
       "    <tr>\n",
       "      <th>3</th>\n",
       "      <td>Brent</td>\n",
       "      <td>35.6</td>\n",
       "      <td>29987</td>\n",
       "    </tr>\n",
       "    <tr>\n",
       "      <th>4</th>\n",
       "      <td>Bromley</td>\n",
       "      <td>40.2</td>\n",
       "      <td>30444</td>\n",
       "    </tr>\n",
       "  </tbody>\n",
       "</table>\n",
       "</div>"
      ],
      "text/plain": [
       "                Borough  Mean age (2017)  Average income (£, 2015)\n",
       "0  Barking and Dagenham             32.9                     33018\n",
       "1                Barnet             37.3                     30900\n",
       "2                Bexley             39.0                     29664\n",
       "3                 Brent             35.6                     29987\n",
       "4               Bromley             40.2                     30444"
      ]
     },
     "execution_count": 2,
     "metadata": {},
     "output_type": "execute_result"
    }
   ],
   "source": [
    "# Challenge 1: Load the data for your chosen city into this notebook using pandas\n",
    "london_df = pd.read_csv('LDN_demographic_data.csv')\n",
    "# Challenge 2: Check your data has imported correclty using .head()\n",
    "london_df.head()\n",
    "# Challenge 3: Add a text block above this code block explaining this section's purpose and what this code does\n",
    "# See above"
   ]
  },
  {
   "cell_type": "markdown",
   "metadata": {},
   "source": [
    "## Exploring and transforming the data"
   ]
  },
  {
   "cell_type": "markdown",
   "metadata": {},
   "source": [
    "It's important to spend time understanding your data before doing your analysis. Take a few moments to look through the data you've imported using some of the functions built into `pandas`."
   ]
  },
  {
   "cell_type": "code",
   "execution_count": 3,
   "metadata": {},
   "outputs": [
    {
     "data": {
      "text/html": [
       "<div>\n",
       "<style scoped>\n",
       "    .dataframe tbody tr th:only-of-type {\n",
       "        vertical-align: middle;\n",
       "    }\n",
       "\n",
       "    .dataframe tbody tr th {\n",
       "        vertical-align: top;\n",
       "    }\n",
       "\n",
       "    .dataframe thead th {\n",
       "        text-align: right;\n",
       "    }\n",
       "</style>\n",
       "<table border=\"1\" class=\"dataframe\">\n",
       "  <thead>\n",
       "    <tr style=\"text-align: right;\">\n",
       "      <th></th>\n",
       "      <th>Borough</th>\n",
       "      <th>Mean age (2017)</th>\n",
       "      <th>Average income (£, 2015)</th>\n",
       "    </tr>\n",
       "  </thead>\n",
       "  <tbody>\n",
       "    <tr>\n",
       "      <th>0</th>\n",
       "      <td>Barking and Dagenham</td>\n",
       "      <td>32.9</td>\n",
       "      <td>33018</td>\n",
       "    </tr>\n",
       "    <tr>\n",
       "      <th>1</th>\n",
       "      <td>Barnet</td>\n",
       "      <td>37.3</td>\n",
       "      <td>30900</td>\n",
       "    </tr>\n",
       "    <tr>\n",
       "      <th>2</th>\n",
       "      <td>Bexley</td>\n",
       "      <td>39.0</td>\n",
       "      <td>29664</td>\n",
       "    </tr>\n",
       "    <tr>\n",
       "      <th>3</th>\n",
       "      <td>Brent</td>\n",
       "      <td>35.6</td>\n",
       "      <td>29987</td>\n",
       "    </tr>\n",
       "    <tr>\n",
       "      <th>4</th>\n",
       "      <td>Bromley</td>\n",
       "      <td>40.2</td>\n",
       "      <td>30444</td>\n",
       "    </tr>\n",
       "  </tbody>\n",
       "</table>\n",
       "</div>"
      ],
      "text/plain": [
       "                Borough  Mean age (2017)  Average income (£, 2015)\n",
       "0  Barking and Dagenham             32.9                     33018\n",
       "1                Barnet             37.3                     30900\n",
       "2                Bexley             39.0                     29664\n",
       "3                 Brent             35.6                     29987\n",
       "4               Bromley             40.2                     30444"
      ]
     },
     "execution_count": 3,
     "metadata": {},
     "output_type": "execute_result"
    }
   ],
   "source": [
    "# Challenge 3: Explore your data using the following functions: .head(), .tail(), .info(), and .dtypes\n",
    "london_df.head()"
   ]
  },
  {
   "cell_type": "code",
   "execution_count": 4,
   "metadata": {},
   "outputs": [
    {
     "data": {
      "text/html": [
       "<div>\n",
       "<style scoped>\n",
       "    .dataframe tbody tr th:only-of-type {\n",
       "        vertical-align: middle;\n",
       "    }\n",
       "\n",
       "    .dataframe tbody tr th {\n",
       "        vertical-align: top;\n",
       "    }\n",
       "\n",
       "    .dataframe thead th {\n",
       "        text-align: right;\n",
       "    }\n",
       "</style>\n",
       "<table border=\"1\" class=\"dataframe\">\n",
       "  <thead>\n",
       "    <tr style=\"text-align: right;\">\n",
       "      <th></th>\n",
       "      <th>Borough</th>\n",
       "      <th>Mean age (2017)</th>\n",
       "      <th>Average income (£, 2015)</th>\n",
       "    </tr>\n",
       "  </thead>\n",
       "  <tbody>\n",
       "    <tr>\n",
       "      <th>28</th>\n",
       "      <td>Sutton</td>\n",
       "      <td>38.9</td>\n",
       "      <td>27355</td>\n",
       "    </tr>\n",
       "    <tr>\n",
       "      <th>29</th>\n",
       "      <td>Tower Hamlets</td>\n",
       "      <td>31.4</td>\n",
       "      <td>46681</td>\n",
       "    </tr>\n",
       "    <tr>\n",
       "      <th>30</th>\n",
       "      <td>Waltham Forest</td>\n",
       "      <td>35.1</td>\n",
       "      <td>29352</td>\n",
       "    </tr>\n",
       "    <tr>\n",
       "      <th>31</th>\n",
       "      <td>Wandsworth</td>\n",
       "      <td>35.0</td>\n",
       "      <td>31968</td>\n",
       "    </tr>\n",
       "    <tr>\n",
       "      <th>32</th>\n",
       "      <td>Westminster</td>\n",
       "      <td>37.7</td>\n",
       "      <td>39392</td>\n",
       "    </tr>\n",
       "  </tbody>\n",
       "</table>\n",
       "</div>"
      ],
      "text/plain": [
       "           Borough  Mean age (2017)  Average income (£, 2015)\n",
       "28          Sutton             38.9                     27355\n",
       "29   Tower Hamlets             31.4                     46681\n",
       "30  Waltham Forest             35.1                     29352\n",
       "31      Wandsworth             35.0                     31968\n",
       "32     Westminster             37.7                     39392"
      ]
     },
     "execution_count": 4,
     "metadata": {},
     "output_type": "execute_result"
    }
   ],
   "source": [
    "london_df.tail()"
   ]
  },
  {
   "cell_type": "code",
   "execution_count": 5,
   "metadata": {},
   "outputs": [
    {
     "name": "stdout",
     "output_type": "stream",
     "text": [
      "<class 'pandas.core.frame.DataFrame'>\n",
      "RangeIndex: 33 entries, 0 to 32\n",
      "Data columns (total 3 columns):\n",
      "Borough                     33 non-null object\n",
      "Mean age (2017)             33 non-null float64\n",
      "Average income (£, 2015)    33 non-null int64\n",
      "dtypes: float64(1), int64(1), object(1)\n",
      "memory usage: 920.0+ bytes\n"
     ]
    }
   ],
   "source": [
    "london_df.info()"
   ]
  },
  {
   "cell_type": "code",
   "execution_count": 6,
   "metadata": {},
   "outputs": [
    {
     "data": {
      "text/plain": [
       "Borough                      object\n",
       "Mean age (2017)             float64\n",
       "Average income (£, 2015)      int64\n",
       "dtype: object"
      ]
     },
     "execution_count": 6,
     "metadata": {},
     "output_type": "execute_result"
    }
   ],
   "source": [
    "london_df.dtypes"
   ]
  },
  {
   "cell_type": "code",
   "execution_count": 7,
   "metadata": {},
   "outputs": [
    {
     "data": {
      "text/html": [
       "<div>\n",
       "<style scoped>\n",
       "    .dataframe tbody tr th:only-of-type {\n",
       "        vertical-align: middle;\n",
       "    }\n",
       "\n",
       "    .dataframe tbody tr th {\n",
       "        vertical-align: top;\n",
       "    }\n",
       "\n",
       "    .dataframe thead th {\n",
       "        text-align: right;\n",
       "    }\n",
       "</style>\n",
       "<table border=\"1\" class=\"dataframe\">\n",
       "  <thead>\n",
       "    <tr style=\"text-align: right;\">\n",
       "      <th></th>\n",
       "      <th>Mean age (2017)</th>\n",
       "      <th>Average income (£, 2015)</th>\n",
       "    </tr>\n",
       "  </thead>\n",
       "  <tbody>\n",
       "    <tr>\n",
       "      <th>count</th>\n",
       "      <td>33.000000</td>\n",
       "      <td>33.000000</td>\n",
       "    </tr>\n",
       "    <tr>\n",
       "      <th>mean</th>\n",
       "      <td>36.375758</td>\n",
       "      <td>32586.969697</td>\n",
       "    </tr>\n",
       "    <tr>\n",
       "      <th>std</th>\n",
       "      <td>2.487849</td>\n",
       "      <td>5554.108240</td>\n",
       "    </tr>\n",
       "    <tr>\n",
       "      <th>min</th>\n",
       "      <td>31.400000</td>\n",
       "      <td>26230.000000</td>\n",
       "    </tr>\n",
       "    <tr>\n",
       "      <th>25%</th>\n",
       "      <td>35.000000</td>\n",
       "      <td>29664.000000</td>\n",
       "    </tr>\n",
       "    <tr>\n",
       "      <th>50%</th>\n",
       "      <td>36.200000</td>\n",
       "      <td>30900.000000</td>\n",
       "    </tr>\n",
       "    <tr>\n",
       "      <th>75%</th>\n",
       "      <td>37.700000</td>\n",
       "      <td>33717.000000</td>\n",
       "    </tr>\n",
       "    <tr>\n",
       "      <th>max</th>\n",
       "      <td>43.200000</td>\n",
       "      <td>54034.000000</td>\n",
       "    </tr>\n",
       "  </tbody>\n",
       "</table>\n",
       "</div>"
      ],
      "text/plain": [
       "       Mean age (2017)  Average income (£, 2015)\n",
       "count        33.000000                 33.000000\n",
       "mean         36.375758              32586.969697\n",
       "std           2.487849               5554.108240\n",
       "min          31.400000              26230.000000\n",
       "25%          35.000000              29664.000000\n",
       "50%          36.200000              30900.000000\n",
       "75%          37.700000              33717.000000\n",
       "max          43.200000              54034.000000"
      ]
     },
     "execution_count": 7,
     "metadata": {},
     "output_type": "execute_result"
    }
   ],
   "source": [
    "# Challenge 4: Find another function you can use to explore your data online\n",
    "london_df.describe()"
   ]
  },
  {
   "cell_type": "code",
   "execution_count": 8,
   "metadata": {},
   "outputs": [
    {
     "data": {
      "text/plain": [
       "Index(['Borough', 'Mean age (2017)', 'Average income (£, 2015)'], dtype='object')"
      ]
     },
     "execution_count": 8,
     "metadata": {},
     "output_type": "execute_result"
    }
   ],
   "source": [
    "london_df.columns"
   ]
  },
  {
   "cell_type": "code",
   "execution_count": 9,
   "metadata": {},
   "outputs": [
    {
     "data": {
      "text/plain": [
       "(33, 3)"
      ]
     },
     "execution_count": 9,
     "metadata": {},
     "output_type": "execute_result"
    }
   ],
   "source": [
    "london_df.shape"
   ]
  },
  {
   "cell_type": "code",
   "execution_count": 10,
   "metadata": {},
   "outputs": [],
   "source": [
    "# Challenge 5: Add a text block beneath this code block describing what you've found in this data"
   ]
  },
  {
   "cell_type": "markdown",
   "metadata": {},
   "source": [
    "> From exploring our data, we can tell that we have two features for each borough: mean age and average income. The mean age is between 31.4 and 43.2, and the average income is between £26,230 and £54,034. There are 13 boroughs in total and no missing values. "
   ]
  },
  {
   "cell_type": "markdown",
   "metadata": {},
   "source": [
    "### Visualising the data"
   ]
  },
  {
   "cell_type": "code",
   "execution_count": 11,
   "metadata": {
    "scrolled": true
   },
   "outputs": [
    {
     "data": {
      "text/plain": [
       "<matplotlib.axes._subplots.AxesSubplot at 0x114ef1510>"
      ]
     },
     "execution_count": 11,
     "metadata": {},
     "output_type": "execute_result"
    },
    {
     "data": {
      "image/png": "[encoded data removed]",
      "text/plain": [
       "<Figure size 432x288 with 1 Axes>"
      ]
     },
     "metadata": {
      "needs_background": "light"
     },
     "output_type": "display_data"
    }
   ],
   "source": [
    "# Challenge 6: Import the seaborn library into this notebook\n",
    "# Challenge 7: Create a scatter plot of two variables in your dataset using seaborn (support resource below)\n",
    "sns.scatterplot(x = london_df['Mean age (2017)'], y = london_df['Average income (£, 2015)'])\n",
    "# Challenge 8: Add a text block beneath this code block describing what your visualisation shows"
   ]
  },
  {
   "cell_type": "markdown",
   "metadata": {},
   "source": [
    "This scatter plot shows two outliers. This may be important for us to know later. There doesn't seem to be any other correlation between the two variables."
   ]
  },
  {
   "cell_type": "code",
   "execution_count": 12,
   "metadata": {},
   "outputs": [
    {
     "data": {
      "text/plain": [
       "<matplotlib.axes._subplots.AxesSubplot at 0x118659850>"
      ]
     },
     "execution_count": 12,
     "metadata": {},
     "output_type": "execute_result"
    },
    {
     "data": {
      "image/png": "[encoded data removed]",
      "text/plain": [
       "<Figure size 432x288 with 1 Axes>"
      ]
     },
     "metadata": {
      "needs_background": "light"
     },
     "output_type": "display_data"
    }
   ],
   "source": [
    "# Challenge 9: (Optional) Try creating another visualisation using seaborn and describe what it shows\n",
    "sns.distplot(london_df['Mean age (2017)'])"
   ]
  },
  {
   "cell_type": "code",
   "execution_count": 13,
   "metadata": {},
   "outputs": [
    {
     "data": {
      "text/plain": [
       "<matplotlib.axes._subplots.AxesSubplot at 0x1187f2510>"
      ]
     },
     "execution_count": 13,
     "metadata": {},
     "output_type": "execute_result"
    },
    {
     "data": {
      "image/png": "[encoded data removed]",
      "text/plain": [
       "<Figure size 432x288 with 1 Axes>"
      ]
     },
     "metadata": {
      "needs_background": "light"
     },
     "output_type": "display_data"
    }
   ],
   "source": [
    "sns.distplot(london_df['Average income (£, 2015)'])"
   ]
  },
  {
   "cell_type": "markdown",
   "metadata": {},
   "source": [
    "(See [Seaborn's official scatterplot documentation](https://seaborn.pydata.org/generated/seaborn.scatterplot.html) for support on Challenge 7.)"
   ]
  },
  {
   "cell_type": "markdown",
   "metadata": {},
   "source": [
    "### Scaling the data"
   ]
  },
  {
   "cell_type": "markdown",
   "metadata": {},
   "source": [
    "Before running any clustering analysis, it is important to [_scale_ your data](https://medium.com/greyatom/why-how-and-when-to-scale-your-features-4b30ab09db5e).\n",
    "\n",
    "Scaling is trivial to do using the [Scale method](https://scikit-learn.org/stable/modules/generated/sklearn.preprocessing.scale.html) from [scikit-learn](https://scikit-learn.org/stable/index.html).\n",
    "\n",
    "> scikit-learn (or sklearn) is the library most commonly used for machine learning in Python. It also has great documentation. Check out its [resources for clustering](https://scikit-learn.org/stable/modules/clustering.html#k-means).\n",
    "\n",
    "from sklearn.preprocessing import scale"
   ]
  },
  {
   "cell_type": "code",
   "execution_count": 14,
   "metadata": {},
   "outputs": [],
   "source": [
    "# Challenge 10: Import the scale method from sklearn.preprocessing in your libraries section\n",
    "# Challenge 11: Uncomment and alter the code below to scale two features from your dataset"
   ]
  },
  {
   "cell_type": "code",
   "execution_count": 15,
   "metadata": {
    "scrolled": true
   },
   "outputs": [],
   "source": [
    "data_scaled = scale(london_df[['Mean age (2017)', 'Average income (£, 2015)']])"
   ]
  },
  {
   "cell_type": "code",
   "execution_count": 16,
   "metadata": {},
   "outputs": [
    {
     "data": {
      "text/plain": [
       "array([[-1.41875497,  0.07880893],\n",
       "       [ 0.37726266, -0.308443  ],\n",
       "       [ 1.07117856, -0.53443139],\n",
       "       [-0.31665325, -0.47537455],\n",
       "       [ 1.56100155, -0.39181736],\n",
       "       [ 0.00989541,  0.80138667],\n",
       "       [ 2.78555902,  3.92134278],\n",
       "       [ 0.25480691, -0.35817507],\n",
       "       [-0.07174175, -0.71854975],\n",
       "       [-0.03092317, -1.16229878],\n",
       "       [-0.56156474, -0.38212692],\n",
       "       [-1.33711781, -0.18667256],\n",
       "       [-0.27583466,  0.37756704],\n",
       "       [-0.52074616, -0.45983328],\n",
       "       [ 0.78544848, -1.06356599],\n",
       "       [ 1.60182013, -0.3649401 ],\n",
       "       [ 0.00989541,  0.01719236],\n",
       "       [-0.23501608,  0.20661304],\n",
       "       [-0.6432019 ,  0.74818067],\n",
       "       [ 1.1936343 , -0.19435178],\n",
       "       [ 0.29562549, -0.7225722 ],\n",
       "       [-0.76565765,  0.41413474],\n",
       "       [-0.56156474, -0.30259217],\n",
       "       [ 0.13235116, -0.46568411],\n",
       "       [-1.74530363, -0.67667974],\n",
       "       [-0.23501608, -0.63791797],\n",
       "       [ 0.98954139,  0.01335275],\n",
       "       [-0.80647623,  0.66754889],\n",
       "       [ 1.03035997, -0.95660547],\n",
       "       [-2.03103371,  2.57693131],\n",
       "       [-0.52074616, -0.591477  ],\n",
       "       [-0.56156474, -0.11317149],\n",
       "       [ 0.54053699,  1.24422151]])"
      ]
     },
     "execution_count": 16,
     "metadata": {},
     "output_type": "execute_result"
    }
   ],
   "source": [
    "data_scaled"
   ]
  },
  {
   "cell_type": "markdown",
   "metadata": {},
   "source": [
    "## Modelling with k-means"
   ]
  },
  {
   "cell_type": "markdown",
   "metadata": {},
   "source": [
    "To run the k-means algorithm, you can use the KMeans method from scikit-learn."
   ]
  },
  {
   "cell_type": "code",
   "execution_count": 17,
   "metadata": {},
   "outputs": [],
   "source": [
    "# Challenge 10: Familiarise yourself with the KMeans scikit-learn documentation at: \n",
    "# https://scikit-learn.org/stable/modules/generated/sklearn.cluster.KMeans.html\n",
    "# Challenge 11: Create the KMeans model object using the commented code below (choose a reasonable value for \n",
    "# n_clusters based on your visualisation above)"
   ]
  },
  {
   "cell_type": "code",
   "execution_count": 18,
   "metadata": {},
   "outputs": [],
   "source": [
    "model = KMeans(n_clusters = 6, random_state= 123)"
   ]
  },
  {
   "cell_type": "code",
   "execution_count": 19,
   "metadata": {},
   "outputs": [
    {
     "data": {
      "text/plain": [
       "KMeans(algorithm='auto', copy_x=True, init='k-means++', max_iter=300,\n",
       "       n_clusters=6, n_init=10, n_jobs=None, precompute_distances='auto',\n",
       "       random_state=123, tol=0.0001, verbose=0)"
      ]
     },
     "execution_count": 19,
     "metadata": {},
     "output_type": "execute_result"
    }
   ],
   "source": [
    "# Challenge 12: Fit the model using the code below\n",
    "model.fit(data_scaled)"
   ]
  },
  {
   "cell_type": "code",
   "execution_count": 20,
   "metadata": {},
   "outputs": [
    {
     "data": {
      "text/plain": [
       "array([5, 4, 0, 4, 0, 1, 2, 4, 4, 4, 4, 5, 1, 4, 0, 0, 4, 1, 1, 0, 4, 1,\n",
       "       4, 4, 5, 4, 0, 1, 0, 3, 4, 4, 1], dtype=int32)"
      ]
     },
     "execution_count": 20,
     "metadata": {},
     "output_type": "execute_result"
    }
   ],
   "source": [
    "# Challenge 13: Explore the labels in your model using the code below\n",
    "model.labels_"
   ]
  },
  {
   "cell_type": "code",
   "execution_count": 21,
   "metadata": {},
   "outputs": [],
   "source": [
    "# Challenge 14: Add the labels to your original dataframe using a version of the code below\n",
    "london_df[\"cluster\"] = model.labels_.astype(int)"
   ]
  },
  {
   "cell_type": "code",
   "execution_count": 22,
   "metadata": {},
   "outputs": [
    {
     "data": {
      "text/html": [
       "<div>\n",
       "<style scoped>\n",
       "    .dataframe tbody tr th:only-of-type {\n",
       "        vertical-align: middle;\n",
       "    }\n",
       "\n",
       "    .dataframe tbody tr th {\n",
       "        vertical-align: top;\n",
       "    }\n",
       "\n",
       "    .dataframe thead th {\n",
       "        text-align: right;\n",
       "    }\n",
       "</style>\n",
       "<table border=\"1\" class=\"dataframe\">\n",
       "  <thead>\n",
       "    <tr style=\"text-align: right;\">\n",
       "      <th></th>\n",
       "      <th>Borough</th>\n",
       "      <th>Mean age (2017)</th>\n",
       "      <th>Average income (£, 2015)</th>\n",
       "      <th>cluster</th>\n",
       "    </tr>\n",
       "  </thead>\n",
       "  <tbody>\n",
       "    <tr>\n",
       "      <th>0</th>\n",
       "      <td>Barking and Dagenham</td>\n",
       "      <td>32.9</td>\n",
       "      <td>33018</td>\n",
       "      <td>5</td>\n",
       "    </tr>\n",
       "    <tr>\n",
       "      <th>1</th>\n",
       "      <td>Barnet</td>\n",
       "      <td>37.3</td>\n",
       "      <td>30900</td>\n",
       "      <td>4</td>\n",
       "    </tr>\n",
       "    <tr>\n",
       "      <th>2</th>\n",
       "      <td>Bexley</td>\n",
       "      <td>39.0</td>\n",
       "      <td>29664</td>\n",
       "      <td>0</td>\n",
       "    </tr>\n",
       "    <tr>\n",
       "      <th>3</th>\n",
       "      <td>Brent</td>\n",
       "      <td>35.6</td>\n",
       "      <td>29987</td>\n",
       "      <td>4</td>\n",
       "    </tr>\n",
       "    <tr>\n",
       "      <th>4</th>\n",
       "      <td>Bromley</td>\n",
       "      <td>40.2</td>\n",
       "      <td>30444</td>\n",
       "      <td>0</td>\n",
       "    </tr>\n",
       "    <tr>\n",
       "      <th>5</th>\n",
       "      <td>Camden</td>\n",
       "      <td>36.4</td>\n",
       "      <td>36970</td>\n",
       "      <td>1</td>\n",
       "    </tr>\n",
       "    <tr>\n",
       "      <th>6</th>\n",
       "      <td>City of London</td>\n",
       "      <td>43.2</td>\n",
       "      <td>54034</td>\n",
       "      <td>2</td>\n",
       "    </tr>\n",
       "    <tr>\n",
       "      <th>7</th>\n",
       "      <td>Croydon</td>\n",
       "      <td>37.0</td>\n",
       "      <td>30628</td>\n",
       "      <td>4</td>\n",
       "    </tr>\n",
       "    <tr>\n",
       "      <th>8</th>\n",
       "      <td>Ealing</td>\n",
       "      <td>36.2</td>\n",
       "      <td>28657</td>\n",
       "      <td>4</td>\n",
       "    </tr>\n",
       "    <tr>\n",
       "      <th>9</th>\n",
       "      <td>Enfield</td>\n",
       "      <td>36.3</td>\n",
       "      <td>26230</td>\n",
       "      <td>4</td>\n",
       "    </tr>\n",
       "    <tr>\n",
       "      <th>10</th>\n",
       "      <td>Greenwich</td>\n",
       "      <td>35.0</td>\n",
       "      <td>30497</td>\n",
       "      <td>4</td>\n",
       "    </tr>\n",
       "    <tr>\n",
       "      <th>11</th>\n",
       "      <td>Hackney</td>\n",
       "      <td>33.1</td>\n",
       "      <td>31566</td>\n",
       "      <td>5</td>\n",
       "    </tr>\n",
       "    <tr>\n",
       "      <th>12</th>\n",
       "      <td>Hammersmith and Fulham</td>\n",
       "      <td>35.7</td>\n",
       "      <td>34652</td>\n",
       "      <td>1</td>\n",
       "    </tr>\n",
       "    <tr>\n",
       "      <th>13</th>\n",
       "      <td>Haringey</td>\n",
       "      <td>35.1</td>\n",
       "      <td>30072</td>\n",
       "      <td>4</td>\n",
       "    </tr>\n",
       "    <tr>\n",
       "      <th>14</th>\n",
       "      <td>Harrow</td>\n",
       "      <td>38.3</td>\n",
       "      <td>26770</td>\n",
       "      <td>0</td>\n",
       "    </tr>\n",
       "    <tr>\n",
       "      <th>15</th>\n",
       "      <td>Havering</td>\n",
       "      <td>40.3</td>\n",
       "      <td>30591</td>\n",
       "      <td>0</td>\n",
       "    </tr>\n",
       "    <tr>\n",
       "      <th>16</th>\n",
       "      <td>Hillingdon</td>\n",
       "      <td>36.4</td>\n",
       "      <td>32681</td>\n",
       "      <td>4</td>\n",
       "    </tr>\n",
       "    <tr>\n",
       "      <th>17</th>\n",
       "      <td>Hounslow</td>\n",
       "      <td>35.8</td>\n",
       "      <td>33717</td>\n",
       "      <td>1</td>\n",
       "    </tr>\n",
       "    <tr>\n",
       "      <th>18</th>\n",
       "      <td>Islington</td>\n",
       "      <td>34.8</td>\n",
       "      <td>36679</td>\n",
       "      <td>1</td>\n",
       "    </tr>\n",
       "    <tr>\n",
       "      <th>19</th>\n",
       "      <td>Kensington and Chelsea</td>\n",
       "      <td>39.3</td>\n",
       "      <td>31524</td>\n",
       "      <td>0</td>\n",
       "    </tr>\n",
       "    <tr>\n",
       "      <th>20</th>\n",
       "      <td>Kingston upon Thames</td>\n",
       "      <td>37.1</td>\n",
       "      <td>28635</td>\n",
       "      <td>4</td>\n",
       "    </tr>\n",
       "    <tr>\n",
       "      <th>21</th>\n",
       "      <td>Lambeth</td>\n",
       "      <td>34.5</td>\n",
       "      <td>34852</td>\n",
       "      <td>1</td>\n",
       "    </tr>\n",
       "    <tr>\n",
       "      <th>22</th>\n",
       "      <td>Lewisham</td>\n",
       "      <td>35.0</td>\n",
       "      <td>30932</td>\n",
       "      <td>4</td>\n",
       "    </tr>\n",
       "    <tr>\n",
       "      <th>23</th>\n",
       "      <td>Merton</td>\n",
       "      <td>36.7</td>\n",
       "      <td>30040</td>\n",
       "      <td>4</td>\n",
       "    </tr>\n",
       "    <tr>\n",
       "      <th>24</th>\n",
       "      <td>Newham</td>\n",
       "      <td>32.1</td>\n",
       "      <td>28886</td>\n",
       "      <td>5</td>\n",
       "    </tr>\n",
       "    <tr>\n",
       "      <th>25</th>\n",
       "      <td>Redbridge</td>\n",
       "      <td>35.8</td>\n",
       "      <td>29098</td>\n",
       "      <td>4</td>\n",
       "    </tr>\n",
       "    <tr>\n",
       "      <th>26</th>\n",
       "      <td>Richmond upon Thames</td>\n",
       "      <td>38.8</td>\n",
       "      <td>32660</td>\n",
       "      <td>0</td>\n",
       "    </tr>\n",
       "    <tr>\n",
       "      <th>27</th>\n",
       "      <td>Southwark</td>\n",
       "      <td>34.4</td>\n",
       "      <td>36238</td>\n",
       "      <td>1</td>\n",
       "    </tr>\n",
       "    <tr>\n",
       "      <th>28</th>\n",
       "      <td>Sutton</td>\n",
       "      <td>38.9</td>\n",
       "      <td>27355</td>\n",
       "      <td>0</td>\n",
       "    </tr>\n",
       "    <tr>\n",
       "      <th>29</th>\n",
       "      <td>Tower Hamlets</td>\n",
       "      <td>31.4</td>\n",
       "      <td>46681</td>\n",
       "      <td>3</td>\n",
       "    </tr>\n",
       "    <tr>\n",
       "      <th>30</th>\n",
       "      <td>Waltham Forest</td>\n",
       "      <td>35.1</td>\n",
       "      <td>29352</td>\n",
       "      <td>4</td>\n",
       "    </tr>\n",
       "    <tr>\n",
       "      <th>31</th>\n",
       "      <td>Wandsworth</td>\n",
       "      <td>35.0</td>\n",
       "      <td>31968</td>\n",
       "      <td>4</td>\n",
       "    </tr>\n",
       "    <tr>\n",
       "      <th>32</th>\n",
       "      <td>Westminster</td>\n",
       "      <td>37.7</td>\n",
       "      <td>39392</td>\n",
       "      <td>1</td>\n",
       "    </tr>\n",
       "  </tbody>\n",
       "</table>\n",
       "</div>"
      ],
      "text/plain": [
       "                   Borough  Mean age (2017)  Average income (£, 2015)  cluster\n",
       "0     Barking and Dagenham             32.9                     33018        5\n",
       "1                   Barnet             37.3                     30900        4\n",
       "2                   Bexley             39.0                     29664        0\n",
       "3                    Brent             35.6                     29987        4\n",
       "4                  Bromley             40.2                     30444        0\n",
       "5                   Camden             36.4                     36970        1\n",
       "6           City of London             43.2                     54034        2\n",
       "7                  Croydon             37.0                     30628        4\n",
       "8                   Ealing             36.2                     28657        4\n",
       "9                  Enfield             36.3                     26230        4\n",
       "10               Greenwich             35.0                     30497        4\n",
       "11                 Hackney             33.1                     31566        5\n",
       "12  Hammersmith and Fulham             35.7                     34652        1\n",
       "13                Haringey             35.1                     30072        4\n",
       "14                  Harrow             38.3                     26770        0\n",
       "15                Havering             40.3                     30591        0\n",
       "16              Hillingdon             36.4                     32681        4\n",
       "17                Hounslow             35.8                     33717        1\n",
       "18               Islington             34.8                     36679        1\n",
       "19  Kensington and Chelsea             39.3                     31524        0\n",
       "20    Kingston upon Thames             37.1                     28635        4\n",
       "21                 Lambeth             34.5                     34852        1\n",
       "22                Lewisham             35.0                     30932        4\n",
       "23                  Merton             36.7                     30040        4\n",
       "24                  Newham             32.1                     28886        5\n",
       "25               Redbridge             35.8                     29098        4\n",
       "26    Richmond upon Thames             38.8                     32660        0\n",
       "27               Southwark             34.4                     36238        1\n",
       "28                  Sutton             38.9                     27355        0\n",
       "29           Tower Hamlets             31.4                     46681        3\n",
       "30          Waltham Forest             35.1                     29352        4\n",
       "31              Wandsworth             35.0                     31968        4\n",
       "32             Westminster             37.7                     39392        1"
      ]
     },
     "execution_count": 22,
     "metadata": {},
     "output_type": "execute_result"
    }
   ],
   "source": [
    "# Challenge 15: View your original dataframe and notice how it has changed\n",
    "london_df"
   ]
  },
  {
   "cell_type": "code",
   "execution_count": 23,
   "metadata": {},
   "outputs": [
    {
     "data": {
      "text/plain": [
       "<matplotlib.axes._subplots.AxesSubplot at 0x11653e410>"
      ]
     },
     "execution_count": 23,
     "metadata": {},
     "output_type": "execute_result"
    },
    {
     "data": {
      "image/png": "[encoded data removed]",
      "text/plain": [
       "<Figure size 432x288 with 1 Axes>"
      ]
     },
     "metadata": {
      "needs_background": "light"
     },
     "output_type": "display_data"
    }
   ],
   "source": [
    "# Challenge 16: Copy your scatterplot from above and add hue = df['cluster'] to your list of arugments to visualise\n",
    "# your clusters\n",
    "sns.scatterplot(x = london_df['Mean age (2017)'], \n",
    "                y = london_df['Average income (£, 2015)'],\n",
    "                hue = london_df['cluster'],\n",
    "                palette = 'Dark2_r'\n",
    "               )"
   ]
  },
  {
   "cell_type": "markdown",
   "metadata": {},
   "source": [
    "## Evaluating the results\n",
    "\n",
    "There are two ways we can evaluate the results of our analysis:\n",
    "1. Statistical methods\n",
    "2. Domain knowledge\n",
    "\n",
    "Statistical methods can give us a numeric understanding about the quality of our clusters. Our domain knowledge can help to interpret whether there are other factors that may not necessarily be explained by the numbers."
   ]
  },
  {
   "cell_type": "markdown",
   "metadata": {},
   "source": [
    "### Within-cluster sum of squares\n",
    "A common statistical method to interpret our results is the within sum of squares method. This is simply the sum of the squared deviations from each observation and the cluster centroid.\n",
    "\n",
    "The idea is that, in general, a cluster that has a small sum of squares is more compact than a cluster that has a large sum of squares. Clusters that have higher values exhibit greater variability of the observations within the cluster."
   ]
  },
  {
   "cell_type": "code",
   "execution_count": 24,
   "metadata": {},
   "outputs": [
    {
     "data": {
      "text/plain": [
       "6.626725336602393"
      ]
     },
     "execution_count": 24,
     "metadata": {},
     "output_type": "execute_result"
    }
   ],
   "source": [
    "# Challenge 17: Use the .inertia_ attribute on your model to find the WSS value for your analysis\n",
    "model.inertia_\n",
    "# Challenge 18: Try using different values for k (n_clusters) in your algorithm above to see if you can reduce \n",
    "# this number"
   ]
  },
  {
   "cell_type": "markdown",
   "metadata": {},
   "source": [
    "### Elbow method\n",
    "You can use the within-cluster sum of squares to establish what the ideal number of clusters is.\n",
    "\n",
    "It's helpful to start your analysis by plotting this value for different values of _k_ on a graph. Often, you will see a kink (or elbow) in the chart. This is often the optimum value for k."
   ]
  },
  {
   "cell_type": "code",
   "execution_count": 25,
   "metadata": {},
   "outputs": [],
   "source": [
    "# Challenge 19: Run the code below to identify the optimum number of clusters for this dataset and your chosen features."
   ]
  },
  {
   "cell_type": "code",
   "execution_count": 26,
   "metadata": {},
   "outputs": [],
   "source": [
    "# Idea: peform k-means clustering for various k, and compute the WSS each time\n",
    "\n",
    "# create a list of the different values of k to test. Could also use: list(range(1,10))\n",
    "num_clusters = [1,2,3,4,5,6,7,8,9,10]\n",
    "\n",
    "# create a kmeans model for each value of k. Could use a regular for loop, but let's use a \"list comprehension\"!\n",
    "kmeans_list = [KMeans(n_clusters = i) for i in num_clusters]\n",
    "\n",
    "# For each value of k, fit the model with our data and use the \"inertia\" method of KMeans to compute the WSS\n",
    "scores = [kmeans_list[i-1].fit(data_scaled).inertia_ for i in num_clusters]\n",
    "\n",
    "# Optional \n",
    "# We can choose to normalise the scores with respect to the score for k=1 (the highest score)\n",
    "scores_normalised = scores/scores[0]"
   ]
  },
  {
   "cell_type": "code",
   "execution_count": 27,
   "metadata": {},
   "outputs": [
    {
     "data": {
      "text/plain": [
       "Text(0.5, 1.0, 'Elbow test')"
      ]
     },
     "execution_count": 27,
     "metadata": {},
     "output_type": "execute_result"
    },
    {
     "data": {
      "image/png": "[encoded data removed]",
      "text/plain": [
       "<Figure size 432x288 with 1 Axes>"
      ]
     },
     "metadata": {},
     "output_type": "display_data"
    }
   ],
   "source": [
    "# We can choose to set a grid\n",
    "sns.set_style('darkgrid')\n",
    "\n",
    "# Use the lineplot function from seaborn\n",
    "sns.lineplot(num_clusters, scores_normalised)\n",
    "\n",
    "# Add a title and axis labels\n",
    "plt.xlabel(\"Number of clusters k\")\n",
    "plt.ylabel(\"Score (normalised)\")\n",
    "plt.title(\"Elbow test\")"
   ]
  },
  {
   "cell_type": "markdown",
   "metadata": {},
   "source": [
    "## Conclusion"
   ]
  },
  {
   "cell_type": "markdown",
   "metadata": {},
   "source": [
    "Now that you have your results, it's important to summarise them in a way that people will easily understand."
   ]
  },
  {
   "cell_type": "code",
   "execution_count": 28,
   "metadata": {},
   "outputs": [],
   "source": [
    "# Challenge 20: Spend some time writing up a summary of your process and results. Write it as you would if you were\n",
    "# going to send it to a senior leadership team."
   ]
  },
  {
   "cell_type": "markdown",
   "metadata": {},
   "source": [
    "Another way that is helpful to share your results is with a compelling visualisation. The code below shows how you could create a visualisation for London. It is optional to complete."
   ]
  },
  {
   "cell_type": "code",
   "execution_count": 29,
   "metadata": {},
   "outputs": [],
   "source": [
    "# Optional: Tweak and run the following code to plot your clusters on a map.\n",
    "# You will need to download the relevant shapefiles from decd.co/da-resources \n",
    "# and run adjust the code as needed. The example below is for London.\n",
    "\n",
    "# Import the relevant libraries\n",
    "import matplotlib.pyplot as plt\n",
    "\n",
    "########################################################################################################\n",
    "### Make sure to install geopandas using conda install geopandas if it is not already on your device ###\n",
    "### You can do this via the terminal, cmd prompt, or conda prompt ######################################\n",
    "########################################################################################################\n",
    "import geopandas as gpd # Geo dataframes and plotting\n",
    "from shapely import wkt # Converts shape data stored as strings to geometry objects, so they can be plotted\n",
    "\n",
    "%matplotlib inline"
   ]
  },
  {
   "cell_type": "code",
   "execution_count": 30,
   "metadata": {},
   "outputs": [],
   "source": [
    "# Load shape data from a file\n",
    "\n",
    "map_df = pd.read_csv(\"LDN_MAP_DATA.csv\")\n",
    "\n",
    "# Convert the shapes (stored as strings) to geometry objects\n",
    "\n",
    "map_df[\"geometry\"] = map_df[\"geometry\"].apply(wkt.loads)\n",
    "\n",
    "# Convert the df to a GeoPandas df, so it can be plotted\n",
    "\n",
    "map_df = gpd.GeoDataFrame(map_df, geometry='geometry')"
   ]
  },
  {
   "cell_type": "code",
   "execution_count": 31,
   "metadata": {},
   "outputs": [
    {
     "data": {
      "text/html": [
       "<div>\n",
       "<style scoped>\n",
       "    .dataframe tbody tr th:only-of-type {\n",
       "        vertical-align: middle;\n",
       "    }\n",
       "\n",
       "    .dataframe tbody tr th {\n",
       "        vertical-align: top;\n",
       "    }\n",
       "\n",
       "    .dataframe thead th {\n",
       "        text-align: right;\n",
       "    }\n",
       "</style>\n",
       "<table border=\"1\" class=\"dataframe\">\n",
       "  <thead>\n",
       "    <tr style=\"text-align: right;\">\n",
       "      <th></th>\n",
       "      <th>HECTARES</th>\n",
       "      <th>geometry</th>\n",
       "      <th>Mean age (2017)</th>\n",
       "      <th>Average income (£, 2015)</th>\n",
       "      <th>cluster</th>\n",
       "    </tr>\n",
       "    <tr>\n",
       "      <th>NAME</th>\n",
       "      <th></th>\n",
       "      <th></th>\n",
       "      <th></th>\n",
       "      <th></th>\n",
       "      <th></th>\n",
       "    </tr>\n",
       "  </thead>\n",
       "  <tbody>\n",
       "    <tr>\n",
       "      <th>Kingston upon Thames</th>\n",
       "      <td>3726.117</td>\n",
       "      <td>POLYGON ((516401.600 160201.800, 516407.300 16...</td>\n",
       "      <td>37.1</td>\n",
       "      <td>28635</td>\n",
       "      <td>4</td>\n",
       "    </tr>\n",
       "    <tr>\n",
       "      <th>Croydon</th>\n",
       "      <td>8649.441</td>\n",
       "      <td>POLYGON ((535009.200 159504.700, 535005.500 15...</td>\n",
       "      <td>37.0</td>\n",
       "      <td>30628</td>\n",
       "      <td>4</td>\n",
       "    </tr>\n",
       "    <tr>\n",
       "      <th>Bromley</th>\n",
       "      <td>15013.487</td>\n",
       "      <td>POLYGON ((540373.600 157530.400, 540361.200 15...</td>\n",
       "      <td>40.2</td>\n",
       "      <td>30444</td>\n",
       "      <td>0</td>\n",
       "    </tr>\n",
       "    <tr>\n",
       "      <th>Hounslow</th>\n",
       "      <td>5658.541</td>\n",
       "      <td>POLYGON ((521975.800 178100.000, 521967.700 17...</td>\n",
       "      <td>35.8</td>\n",
       "      <td>33717</td>\n",
       "      <td>1</td>\n",
       "    </tr>\n",
       "    <tr>\n",
       "      <th>Ealing</th>\n",
       "      <td>5554.428</td>\n",
       "      <td>POLYGON ((510253.500 182881.600, 510249.900 18...</td>\n",
       "      <td>36.2</td>\n",
       "      <td>28657</td>\n",
       "      <td>4</td>\n",
       "    </tr>\n",
       "  </tbody>\n",
       "</table>\n",
       "</div>"
      ],
      "text/plain": [
       "                       HECTARES  \\\n",
       "NAME                              \n",
       "Kingston upon Thames   3726.117   \n",
       "Croydon                8649.441   \n",
       "Bromley               15013.487   \n",
       "Hounslow               5658.541   \n",
       "Ealing                 5554.428   \n",
       "\n",
       "                                                               geometry  \\\n",
       "NAME                                                                      \n",
       "Kingston upon Thames  POLYGON ((516401.600 160201.800, 516407.300 16...   \n",
       "Croydon               POLYGON ((535009.200 159504.700, 535005.500 15...   \n",
       "Bromley               POLYGON ((540373.600 157530.400, 540361.200 15...   \n",
       "Hounslow              POLYGON ((521975.800 178100.000, 521967.700 17...   \n",
       "Ealing                POLYGON ((510253.500 182881.600, 510249.900 18...   \n",
       "\n",
       "                      Mean age (2017)  Average income (£, 2015)  cluster  \n",
       "NAME                                                                      \n",
       "Kingston upon Thames             37.1                     28635        4  \n",
       "Croydon                          37.0                     30628        4  \n",
       "Bromley                          40.2                     30444        0  \n",
       "Hounslow                         35.8                     33717        1  \n",
       "Ealing                           36.2                     28657        4  "
      ]
     },
     "execution_count": 31,
     "metadata": {},
     "output_type": "execute_result"
    }
   ],
   "source": [
    "# Merge your existing dataset with the one you've just created\n",
    "merged = map_df.set_index('NAME').join(london_df.set_index('Borough'))\n",
    "merged.head()"
   ]
  },
  {
   "cell_type": "code",
   "execution_count": 32,
   "metadata": {},
   "outputs": [
    {
     "data": {
      "text/plain": [
       "(500648.735, 564876.965, 153596.64500000002, 203188.055)"
      ]
     },
     "execution_count": 32,
     "metadata": {},
     "output_type": "execute_result"
    },
    {
     "data": {
      "image/png": "[encoded data removed]",
      "text/plain": [
       "<Figure size 1440x864 with 1 Axes>"
      ]
     },
     "metadata": {
      "needs_background": "light"
     },
     "output_type": "display_data"
    }
   ],
   "source": [
    "# Set a variable that will call whatever column we want to visualise on the map\n",
    "variable = 'cluster'\n",
    "# Set the range for the choropleth\n",
    "vmin, vmax = 120, 220\n",
    "# Create a figure and axes for Matplotlib\n",
    "fig, ax = plt.subplots(1, figsize=(20, 12))\n",
    "# Plot the figure\n",
    "merged.plot(variable, cmap='rainbow', linewidth=0.8, ax=ax, edgecolor='0.8')\n",
    "# Turn off the axes\n",
    "ax.axis('off')\n"
   ]
  },
  {
   "cell_type": "code",
   "execution_count": 33,
   "metadata": {},
   "outputs": [],
   "source": [
    "# add a title\n",
    "ax.set_title('Similar boroughs in London', fontdict={'fontsize': '25', 'fontweight' : '3'})\n",
    "# create an annotation for the data source\n",
    "ax.annotate('Source: London Datastore',xy=(0.1, .08),  xycoords='figure fraction', horizontalalignment='left', verticalalignment='top', fontsize=12, color='#555555')\n",
    "\n",
    "# Save the figure as a .png file\n",
    "fig.savefig('london_clusters.png', dpi=300)"
   ]
  }
 ],
 "metadata": {
  "kernelspec": {
   "display_name": "Python 3",
   "language": "python",
   "name": "python3"
  },
  "language_info": {
   "codemirror_mode": {
    "name": "ipython",
    "version": 3
   },
   "file_extension": ".py",
   "mimetype": "text/x-python",
   "name": "python",
   "nbconvert_exporter": "python",
   "pygments_lexer": "ipython3",
   "version": "3.7.5"
  }
 },
 "nbformat": 4,
 "nbformat_minor": 2
}
